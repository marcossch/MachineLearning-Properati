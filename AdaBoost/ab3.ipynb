{
 "cells": [
  {
   "cell_type": "code",
   "execution_count": 1,
   "metadata": {},
   "outputs": [
    {
     "name": "stderr",
     "output_type": "stream",
     "text": [
      "/usr/local/lib/python2.7/dist-packages/sklearn/cross_validation.py:41: DeprecationWarning: This module was deprecated in version 0.18 in favor of the model_selection module into which all the refactored classes and functions are moved. Also note that the interface of the new CV iterators are different from that of this module. This module will be removed in 0.20.\n",
      "  \"This module will be removed in 0.20.\", DeprecationWarning)\n"
     ]
    }
   ],
   "source": [
    "import pandas as pd\n",
    "import numpy as np\n",
    "import cPickle as pickle\n",
    "\n",
    "from sklearn.metrics import mean_squared_error\n",
    "from sklearn.ensemble import AdaBoostRegressor\n",
    "from sklearn.model_selection import GridSearchCV\n",
    "from sklearn.cross_validation import train_test_split\n",
    "from sklearn.tree import DecisionTreeRegressor\n",
    "from sklearn.ensemble import GradientBoostingRegressor\n",
    "\n",
    "from sklearn.model_selection import GridSearchCV\n",
    "from sklearn.metrics import make_scorer"
   ]
  },
  {
   "cell_type": "code",
   "execution_count": 2,
   "metadata": {
    "collapsed": true
   },
   "outputs": [],
   "source": [
    "prop = pickle.load(open(\"../../datos/Data.p\",\"rb\"))"
   ]
  },
  {
   "cell_type": "markdown",
   "metadata": {},
   "source": [
    "# Nos quedamos con la parte del set de datos que nos importa"
   ]
  },
  {
   "cell_type": "code",
   "execution_count": 3,
   "metadata": {
    "scrolled": true
   },
   "outputs": [
    {
     "name": "stderr",
     "output_type": "stream",
     "text": [
      "/home/facundo/.local/lib/python2.7/site-packages/ipykernel_launcher.py:3: SettingWithCopyWarning: \n",
      "A value is trying to be set on a copy of a slice from a DataFrame\n",
      "\n",
      "See the caveats in the documentation: http://pandas.pydata.org/pandas-docs/stable/indexing.html#indexing-view-versus-copy\n",
      "  This is separate from the ipykernel package so we can avoid doing imports until\n"
     ]
    }
   ],
   "source": [
    "p = prop[['property_type','place_name','surface_total_in_m2','surface_covered_in_m2',\\\n",
    "          'price_usd_per_m2','latlon','Cant_ColeYUniv','Cant_LocalesGastronomicos',\n",
    "         'Cant_LugaresTuristicos','Cant_ParadasTransporte','price_aprox_usd']]\n",
    "p.dropna(inplace = True)"
   ]
  },
  {
   "cell_type": "markdown",
   "metadata": {},
   "source": [
    "# Separamos la Latitud-Longitud"
   ]
  },
  {
   "cell_type": "code",
   "execution_count": 4,
   "metadata": {},
   "outputs": [
    {
     "name": "stderr",
     "output_type": "stream",
     "text": [
      "/home/facundo/.local/lib/python2.7/site-packages/ipykernel_launcher.py:1: SettingWithCopyWarning: \n",
      "A value is trying to be set on a copy of a slice from a DataFrame.\n",
      "Try using .loc[row_indexer,col_indexer] = value instead\n",
      "\n",
      "See the caveats in the documentation: http://pandas.pydata.org/pandas-docs/stable/indexing.html#indexing-view-versus-copy\n",
      "  \"\"\"Entry point for launching an IPython kernel.\n"
     ]
    }
   ],
   "source": [
    "p['lat'] = p.apply(lambda row: row[5][0], axis=1)"
   ]
  },
  {
   "cell_type": "code",
   "execution_count": 5,
   "metadata": {},
   "outputs": [
    {
     "name": "stderr",
     "output_type": "stream",
     "text": [
      "/home/facundo/.local/lib/python2.7/site-packages/ipykernel_launcher.py:1: SettingWithCopyWarning: \n",
      "A value is trying to be set on a copy of a slice from a DataFrame.\n",
      "Try using .loc[row_indexer,col_indexer] = value instead\n",
      "\n",
      "See the caveats in the documentation: http://pandas.pydata.org/pandas-docs/stable/indexing.html#indexing-view-versus-copy\n",
      "  \"\"\"Entry point for launching an IPython kernel.\n"
     ]
    }
   ],
   "source": [
    "p['lon'] = p.apply(lambda row: row[5][1], axis=1)"
   ]
  },
  {
   "cell_type": "code",
   "execution_count": 6,
   "metadata": {
    "collapsed": true
   },
   "outputs": [],
   "source": [
    "p = p[['property_type','place_name','surface_total_in_m2','surface_covered_in_m2',\\\n",
    "          'price_usd_per_m2','lat','lon','Cant_ColeYUniv','Cant_LocalesGastronomicos',\n",
    "         'Cant_LugaresTuristicos','Cant_ParadasTransporte','price_aprox_usd']]"
   ]
  },
  {
   "cell_type": "markdown",
   "metadata": {},
   "source": [
    "# Asignamos un valor numerico al tipo de propiedad"
   ]
  },
  {
   "cell_type": "code",
   "execution_count": 7,
   "metadata": {
    "collapsed": true
   },
   "outputs": [],
   "source": [
    "def asignarPT( p ):\n",
    "    if p == 'apartment':\n",
    "        return 0\n",
    "    if p == 'house':\n",
    "        return 1\n",
    "    if p == 'store':\n",
    "        return 2\n",
    "    return 3"
   ]
  },
  {
   "cell_type": "code",
   "execution_count": 8,
   "metadata": {
    "collapsed": true
   },
   "outputs": [],
   "source": [
    "p['property_type'] = p.apply(lambda x: asignarPT(x[0]), axis = 1)"
   ]
  },
  {
   "cell_type": "markdown",
   "metadata": {},
   "source": [
    "# Asignamos un valor a los barrios"
   ]
  },
  {
   "cell_type": "code",
   "execution_count": 9,
   "metadata": {
    "collapsed": true
   },
   "outputs": [],
   "source": [
    "def asignarPV(name, dic):\n",
    "    return dic[name]"
   ]
  },
  {
   "cell_type": "code",
   "execution_count": 10,
   "metadata": {
    "collapsed": true
   },
   "outputs": [],
   "source": [
    "hoodGroups = p[[\"place_name\", \"price_usd_per_m2\"]]\n",
    "hoodGroups = hoodGroups.groupby(\"place_name\").agg([np.mean]).reset_index()\n",
    "hoodGroups = hoodGroups.sort_values(by=(\"price_usd_per_m2\", \"mean\"), ascending=False)"
   ]
  },
  {
   "cell_type": "code",
   "execution_count": 11,
   "metadata": {
    "collapsed": true
   },
   "outputs": [],
   "source": [
    "HGdics = {}\n",
    "precio_ant = 0\n",
    "val_ant = 0\n",
    "for row in hoodGroups.iterrows():\n",
    "    name = row[1][0]\n",
    "    price = row[1][1]\n",
    "    val = val_ant + (precio_ant/price)*10\n",
    "    HGdics[name] = val\n",
    "    precio_ant = price\n",
    "    val_ant = val"
   ]
  },
  {
   "cell_type": "code",
   "execution_count": 12,
   "metadata": {
    "collapsed": true
   },
   "outputs": [],
   "source": [
    "p[\"place_value\"] = p.apply(lambda x: asignarPV(x[1], HGdics), axis=1)"
   ]
  },
  {
   "cell_type": "code",
   "execution_count": 13,
   "metadata": {
    "collapsed": true
   },
   "outputs": [],
   "source": [
    "p = p[['property_type','surface_total_in_m2',\\\n",
    "          'lat','lon','Cant_LocalesGastronomicos',\n",
    "         'Cant_ParadasTransporte', 'place_value', 'price_aprox_usd']]"
   ]
  },
  {
   "cell_type": "markdown",
   "metadata": {},
   "source": [
    "# Separamos los datos"
   ]
  },
  {
   "cell_type": "code",
   "execution_count": 14,
   "metadata": {
    "collapsed": true
   },
   "outputs": [],
   "source": [
    "Xtrn, Xtest, Ytrn, Ytest = train_test_split(p[['property_type','surface_total_in_m2',\n",
    "        'place_value']],p[['price_aprox_usd']],test_size=0.2)"
   ]
  },
  {
   "cell_type": "markdown",
   "metadata": {},
   "source": [
    "\n",
    "# Intento hacer una pasada con algunos parametros random, estimador Gradient boosting"
   ]
  },
  {
   "cell_type": "code",
   "execution_count": 16,
   "metadata": {},
   "outputs": [],
   "source": [
    "gb11 = GradientBoostingRegressor(criterion='mse', loss= 'ls', min_samples_leaf=2, max_features = 'auto') \n",
    "\n",
    "gb12 = GradientBoostingRegressor(criterion='mse', loss= 'ls',min_samples_leaf=3, max_features = 'auto') "
   ]
  },
  {
   "cell_type": "code",
   "execution_count": 17,
   "metadata": {
    "collapsed": true
   },
   "outputs": [],
   "source": [
    "ada = AdaBoostRegressor(base_estimator = gb11)\n",
    "\n",
    "ada.fit(Xtrn, Ytrn['price_aprox_usd'])\n",
    "aux = Ytest.copy()\n",
    "aux['predict'] = ada.predict(Xtest)"
   ]
  },
  {
   "cell_type": "code",
   "execution_count": 18,
   "metadata": {},
   "outputs": [
    {
     "data": {
      "text/plain": [
       "101290922781.48845"
      ]
     },
     "execution_count": 18,
     "metadata": {},
     "output_type": "execute_result"
    }
   ],
   "source": [
    "error = mean_squared_error(Ytest['price_aprox_usd'] , aux['predict'])\n",
    "error"
   ]
  },
  {
   "cell_type": "code",
   "execution_count": 19,
   "metadata": {
    "collapsed": true
   },
   "outputs": [],
   "source": [
    "ada = AdaBoostRegressor(base_estimator = gb12)\n",
    "\n",
    "ada.fit(Xtrn, Ytrn['price_aprox_usd'])\n",
    "aux = Ytest.copy()\n",
    "aux['predict'] = ada.predict(Xtest)"
   ]
  },
  {
   "cell_type": "code",
   "execution_count": 20,
   "metadata": {
    "scrolled": true
   },
   "outputs": [
    {
     "data": {
      "text/plain": [
       "78093192294.942093"
      ]
     },
     "execution_count": 20,
     "metadata": {},
     "output_type": "execute_result"
    }
   ],
   "source": [
    "error = mean_squared_error(Ytest['price_aprox_usd'] , aux['predict'])\n",
    "error"
   ]
  },
  {
   "cell_type": "code",
   "execution_count": 23,
   "metadata": {
    "collapsed": true
   },
   "outputs": [],
   "source": [
    "gb21 = GradientBoostingRegressor(criterion='mse', loss= 'ls',min_samples_leaf=3,min_samples_split=4, max_features = 'auto') \n",
    "gb22 = GradientBoostingRegressor(criterion='mse', loss= 'ls',min_samples_leaf=3,min_samples_split=6, max_features = 'auto') \n",
    "gb23 = GradientBoostingRegressor(criterion='mse', loss= 'ls',min_samples_leaf=3,min_samples_split=8, max_features = 'auto') \n",
    "gb24 = GradientBoostingRegressor(criterion='mse', loss= 'ls',min_samples_leaf=3,min_samples_split=10, max_features = 'auto') "
   ]
  },
  {
   "cell_type": "code",
   "execution_count": 25,
   "metadata": {},
   "outputs": [
    {
     "data": {
      "text/plain": [
       "100032499528.2256"
      ]
     },
     "execution_count": 25,
     "metadata": {},
     "output_type": "execute_result"
    }
   ],
   "source": [
    "ada = AdaBoostRegressor(base_estimator = gb21)\n",
    "\n",
    "ada.fit(Xtrn, Ytrn['price_aprox_usd'])\n",
    "aux = Ytest.copy()\n",
    "aux['predict'] = ada.predict(Xtest)\n",
    "\n",
    "error = mean_squared_error(Ytest['price_aprox_usd'] , aux['predict'])\n",
    "error"
   ]
  },
  {
   "cell_type": "code",
   "execution_count": 26,
   "metadata": {},
   "outputs": [
    {
     "data": {
      "text/plain": [
       "94324662055.620743"
      ]
     },
     "execution_count": 26,
     "metadata": {},
     "output_type": "execute_result"
    }
   ],
   "source": [
    "ada = AdaBoostRegressor(base_estimator = gb22)\n",
    "\n",
    "ada.fit(Xtrn, Ytrn['price_aprox_usd'])\n",
    "aux = Ytest.copy()\n",
    "aux['predict'] = ada.predict(Xtest)\n",
    "\n",
    "error = mean_squared_error(Ytest['price_aprox_usd'] , aux['predict'])\n",
    "error"
   ]
  },
  {
   "cell_type": "code",
   "execution_count": 28,
   "metadata": {},
   "outputs": [
    {
     "data": {
      "text/plain": [
       "92511503712.689545"
      ]
     },
     "execution_count": 28,
     "metadata": {},
     "output_type": "execute_result"
    }
   ],
   "source": [
    "ada = AdaBoostRegressor(base_estimator = gb23)\n",
    "\n",
    "ada.fit(Xtrn, Ytrn['price_aprox_usd'])\n",
    "aux = Ytest.copy()\n",
    "aux['predict'] = ada.predict(Xtest)\n",
    "\n",
    "error = mean_squared_error(Ytest['price_aprox_usd'] , aux['predict'])\n",
    "error"
   ]
  },
  {
   "cell_type": "code",
   "execution_count": 29,
   "metadata": {},
   "outputs": [
    {
     "data": {
      "text/plain": [
       "97860966519.577118"
      ]
     },
     "execution_count": 29,
     "metadata": {},
     "output_type": "execute_result"
    }
   ],
   "source": [
    "ada = AdaBoostRegressor(base_estimator = gb24)\n",
    "\n",
    "ada.fit(Xtrn, Ytrn['price_aprox_usd'])\n",
    "aux = Ytest.copy()\n",
    "aux['predict'] = ada.predict(Xtest)\n",
    "\n",
    "error = mean_squared_error(Ytest['price_aprox_usd'] , aux['predict'])\n",
    "error"
   ]
  },
  {
   "cell_type": "code",
   "execution_count": 30,
   "metadata": {
    "collapsed": true
   },
   "outputs": [],
   "source": [
    "gb31 = GradientBoostingRegressor(n_estimators = 1,criterion='mse', loss= 'ls',min_samples_leaf=3,min_samples_split=8, max_features = 'auto') \n",
    "gb32 = GradientBoostingRegressor(n_estimators = 10,criterion='mse', loss= 'ls',min_samples_leaf=3,min_samples_split=8, max_features = 'auto') \n",
    "gb33 = GradientBoostingRegressor(n_estimators = 50,criterion='mse', loss= 'ls',min_samples_leaf=3,min_samples_split=8, max_features = 'auto') \n",
    "gb34 = GradientBoostingRegressor(n_estimators = 60,criterion='mse', loss= 'ls',min_samples_leaf=3,min_samples_split=8, max_features = 'auto') \n",
    "gb35 = GradientBoostingRegressor(n_estimators = 70,criterion='mse', loss= 'ls',min_samples_leaf=3,min_samples_split=8, max_features = 'auto') \n",
    "gb36 = GradientBoostingRegressor(n_estimators = 80,criterion='mse', loss= 'ls',min_samples_leaf=3,min_samples_split=8, max_features = 'auto') \n",
    "gb37 = GradientBoostingRegressor(n_estimators = 90,criterion='mse', loss= 'ls',min_samples_leaf=3,min_samples_split=8, max_features = 'auto') \n",
    "gb38 = GradientBoostingRegressor(n_estimators = 100,criterion='mse', loss= 'ls',min_samples_leaf=3,min_samples_split=8, max_features = 'auto') \n",
    "gb39 = GradientBoostingRegressor(n_estimators = 110,criterion='mse', loss= 'ls',min_samples_leaf=3,min_samples_split=8, max_features = 'auto') \n",
    "gb310 = GradientBoostingRegressor(n_estimators = 120,criterion='mse', loss= 'ls',min_samples_leaf=3,min_samples_split=8, max_features = 'auto') \n",
    "gb311 = GradientBoostingRegressor(n_estimators = 150,criterion='mse', loss= 'ls',min_samples_leaf=3,min_samples_split=8, max_features = 'auto') \n",
    "gb312 = GradientBoostingRegressor(n_estimators = 200,criterion='mse', loss= 'ls',min_samples_leaf=3,min_samples_split=8, max_features = 'auto') \n"
   ]
  },
  {
   "cell_type": "code",
   "execution_count": 31,
   "metadata": {},
   "outputs": [
    {
     "data": {
      "text/plain": [
       "136585848179.98843"
      ]
     },
     "execution_count": 31,
     "metadata": {},
     "output_type": "execute_result"
    }
   ],
   "source": [
    "ada = AdaBoostRegressor(base_estimator = gb31)\n",
    "\n",
    "ada.fit(Xtrn, Ytrn['price_aprox_usd'])\n",
    "aux = Ytest.copy()\n",
    "aux['predict'] = ada.predict(Xtest)\n",
    "\n",
    "error = mean_squared_error(Ytest['price_aprox_usd'] , aux['predict'])\n",
    "error"
   ]
  },
  {
   "cell_type": "code",
   "execution_count": 32,
   "metadata": {},
   "outputs": [
    {
     "data": {
      "text/plain": [
       "97031112934.142059"
      ]
     },
     "execution_count": 32,
     "metadata": {},
     "output_type": "execute_result"
    }
   ],
   "source": [
    "ada = AdaBoostRegressor(base_estimator = gb32)\n",
    "\n",
    "ada.fit(Xtrn, Ytrn['price_aprox_usd'])\n",
    "aux = Ytest.copy()\n",
    "aux['predict'] = ada.predict(Xtest)\n",
    "\n",
    "error = mean_squared_error(Ytest['price_aprox_usd'] , aux['predict'])\n",
    "error"
   ]
  },
  {
   "cell_type": "code",
   "execution_count": 33,
   "metadata": {},
   "outputs": [
    {
     "data": {
      "text/plain": [
       "78310836185.450775"
      ]
     },
     "execution_count": 33,
     "metadata": {},
     "output_type": "execute_result"
    }
   ],
   "source": [
    "ada = AdaBoostRegressor(base_estimator = gb33)\n",
    "\n",
    "ada.fit(Xtrn, Ytrn['price_aprox_usd'])\n",
    "aux = Ytest.copy()\n",
    "aux['predict'] = ada.predict(Xtest)\n",
    "\n",
    "error = mean_squared_error(Ytest['price_aprox_usd'] , aux['predict'])\n",
    "error"
   ]
  },
  {
   "cell_type": "code",
   "execution_count": 34,
   "metadata": {},
   "outputs": [
    {
     "data": {
      "text/plain": [
       "75737108139.042313"
      ]
     },
     "execution_count": 34,
     "metadata": {},
     "output_type": "execute_result"
    }
   ],
   "source": [
    "ada = AdaBoostRegressor(base_estimator = gb34)\n",
    "\n",
    "ada.fit(Xtrn, Ytrn['price_aprox_usd'])\n",
    "aux = Ytest.copy()\n",
    "aux['predict'] = ada.predict(Xtest)\n",
    "\n",
    "error = mean_squared_error(Ytest['price_aprox_usd'] , aux['predict'])\n",
    "error"
   ]
  },
  {
   "cell_type": "code",
   "execution_count": 35,
   "metadata": {},
   "outputs": [
    {
     "data": {
      "text/plain": [
       "75420487676.632812"
      ]
     },
     "execution_count": 35,
     "metadata": {},
     "output_type": "execute_result"
    }
   ],
   "source": [
    "ada = AdaBoostRegressor(base_estimator = gb35)\n",
    "\n",
    "ada.fit(Xtrn, Ytrn['price_aprox_usd'])\n",
    "aux = Ytest.copy()\n",
    "aux['predict'] = ada.predict(Xtest)\n",
    "\n",
    "error = mean_squared_error(Ytest['price_aprox_usd'] , aux['predict'])\n",
    "error"
   ]
  },
  {
   "cell_type": "code",
   "execution_count": 36,
   "metadata": {},
   "outputs": [
    {
     "data": {
      "text/plain": [
       "75754783879.762634"
      ]
     },
     "execution_count": 36,
     "metadata": {},
     "output_type": "execute_result"
    }
   ],
   "source": [
    "ada = AdaBoostRegressor(base_estimator = gb36)\n",
    "\n",
    "ada.fit(Xtrn, Ytrn['price_aprox_usd'])\n",
    "aux = Ytest.copy()\n",
    "aux['predict'] = ada.predict(Xtest)\n",
    "\n",
    "error = mean_squared_error(Ytest['price_aprox_usd'] , aux['predict'])\n",
    "error"
   ]
  },
  {
   "cell_type": "code",
   "execution_count": 37,
   "metadata": {},
   "outputs": [
    {
     "data": {
      "text/plain": [
       "88601780904.564911"
      ]
     },
     "execution_count": 37,
     "metadata": {},
     "output_type": "execute_result"
    }
   ],
   "source": [
    "ada = AdaBoostRegressor(base_estimator = gb37)\n",
    "\n",
    "ada.fit(Xtrn, Ytrn['price_aprox_usd'])\n",
    "aux = Ytest.copy()\n",
    "aux['predict'] = ada.predict(Xtest)\n",
    "\n",
    "error = mean_squared_error(Ytest['price_aprox_usd'] , aux['predict'])\n",
    "error"
   ]
  },
  {
   "cell_type": "code",
   "execution_count": 38,
   "metadata": {},
   "outputs": [
    {
     "data": {
      "text/plain": [
       "100433291320.55852"
      ]
     },
     "execution_count": 38,
     "metadata": {},
     "output_type": "execute_result"
    }
   ],
   "source": [
    "ada = AdaBoostRegressor(base_estimator = gb38)\n",
    "\n",
    "ada.fit(Xtrn, Ytrn['price_aprox_usd'])\n",
    "aux = Ytest.copy()\n",
    "aux['predict'] = ada.predict(Xtest)\n",
    "\n",
    "error = mean_squared_error(Ytest['price_aprox_usd'] , aux['predict'])\n",
    "error"
   ]
  },
  {
   "cell_type": "code",
   "execution_count": 39,
   "metadata": {},
   "outputs": [
    {
     "data": {
      "text/plain": [
       "72046384201.303406"
      ]
     },
     "execution_count": 39,
     "metadata": {},
     "output_type": "execute_result"
    }
   ],
   "source": [
    "ada = AdaBoostRegressor(base_estimator = gb39)\n",
    "\n",
    "ada.fit(Xtrn, Ytrn['price_aprox_usd'])\n",
    "aux = Ytest.copy()\n",
    "aux['predict'] = ada.predict(Xtest)\n",
    "\n",
    "error = mean_squared_error(Ytest['price_aprox_usd'] , aux['predict'])\n",
    "error"
   ]
  },
  {
   "cell_type": "code",
   "execution_count": 40,
   "metadata": {},
   "outputs": [
    {
     "data": {
      "text/plain": [
       "78964124431.029755"
      ]
     },
     "execution_count": 40,
     "metadata": {},
     "output_type": "execute_result"
    }
   ],
   "source": [
    "ada = AdaBoostRegressor(base_estimator = gb310)\n",
    "\n",
    "ada.fit(Xtrn, Ytrn['price_aprox_usd'])\n",
    "aux = Ytest.copy()\n",
    "aux['predict'] = ada.predict(Xtest)\n",
    "\n",
    "error = mean_squared_error(Ytest['price_aprox_usd'] , aux['predict'])\n",
    "error"
   ]
  },
  {
   "cell_type": "code",
   "execution_count": 41,
   "metadata": {},
   "outputs": [
    {
     "data": {
      "text/plain": [
       "80483213560.756699"
      ]
     },
     "execution_count": 41,
     "metadata": {},
     "output_type": "execute_result"
    }
   ],
   "source": [
    "ada = AdaBoostRegressor(base_estimator = gb311)\n",
    "\n",
    "ada.fit(Xtrn, Ytrn['price_aprox_usd'])\n",
    "aux = Ytest.copy()\n",
    "aux['predict'] = ada.predict(Xtest)\n",
    "\n",
    "error = mean_squared_error(Ytest['price_aprox_usd'] , aux['predict'])\n",
    "error"
   ]
  },
  {
   "cell_type": "code",
   "execution_count": 42,
   "metadata": {},
   "outputs": [
    {
     "data": {
      "text/plain": [
       "106857306604.834"
      ]
     },
     "execution_count": 42,
     "metadata": {},
     "output_type": "execute_result"
    }
   ],
   "source": [
    "ada = AdaBoostRegressor(base_estimator = gb312)\n",
    "\n",
    "ada.fit(Xtrn, Ytrn['price_aprox_usd'])\n",
    "aux = Ytest.copy()\n",
    "aux['predict'] = ada.predict(Xtest)\n",
    "\n",
    "error = mean_squared_error(Ytest['price_aprox_usd'] , aux['predict'])\n",
    "error"
   ]
  },
  {
   "cell_type": "markdown",
   "metadata": {},
   "source": [
    "Elijo GradientBoostingRegressor(n_estimators = 110,criterion='mse', loss= 'ls',min_samples_leaf=3,min_samples_split=8, max_features = 'auto')"
   ]
  },
  {
   "cell_type": "markdown",
   "metadata": {},
   "source": [
    "# Hago algo similar con Decision Tree"
   ]
  },
  {
   "cell_type": "code",
   "execution_count": 47,
   "metadata": {},
   "outputs": [
    {
     "data": {
      "text/plain": [
       "72722002058.188278"
      ]
     },
     "execution_count": 47,
     "metadata": {},
     "output_type": "execute_result"
    }
   ],
   "source": [
    "dt = DecisionTreeRegressor(criterion='mse',min_samples_leaf=3,min_samples_split=8, max_features = 'auto')\n",
    "ada = AdaBoostRegressor(base_estimator = dt)\n",
    "\n",
    "ada.fit(Xtrn, Ytrn['price_aprox_usd'])\n",
    "aux = Ytest.copy()\n",
    "aux['predict'] = ada.predict(Xtest)\n",
    "\n",
    "error = mean_squared_error(Ytest['price_aprox_usd'] , aux['predict'])\n",
    "error"
   ]
  },
  {
   "cell_type": "code",
   "execution_count": 48,
   "metadata": {},
   "outputs": [
    {
     "data": {
      "text/plain": [
       "79291494515.168686"
      ]
     },
     "execution_count": 48,
     "metadata": {},
     "output_type": "execute_result"
    }
   ],
   "source": [
    "dt = DecisionTreeRegressor(criterion='mse',min_samples_leaf=3,min_samples_split=10, max_features = 'auto')\n",
    "ada = AdaBoostRegressor(base_estimator = dt)\n",
    "\n",
    "ada.fit(Xtrn, Ytrn['price_aprox_usd'])\n",
    "aux = Ytest.copy()\n",
    "aux['predict'] = ada.predict(Xtest)\n",
    "\n",
    "error = mean_squared_error(Ytest['price_aprox_usd'] , aux['predict'])\n",
    "error"
   ]
  },
  {
   "cell_type": "code",
   "execution_count": 49,
   "metadata": {},
   "outputs": [
    {
     "data": {
      "text/plain": [
       "76266063213.419785"
      ]
     },
     "execution_count": 49,
     "metadata": {},
     "output_type": "execute_result"
    }
   ],
   "source": [
    "dt = DecisionTreeRegressor(criterion='mse',min_samples_leaf=3,min_samples_split=6, max_features = 'auto')\n",
    "ada = AdaBoostRegressor(base_estimator = dt)\n",
    "\n",
    "ada.fit(Xtrn, Ytrn['price_aprox_usd'])\n",
    "aux = Ytest.copy()\n",
    "aux['predict'] = ada.predict(Xtest)\n",
    "\n",
    "error = mean_squared_error(Ytest['price_aprox_usd'] , aux['predict'])\n",
    "error"
   ]
  },
  {
   "cell_type": "code",
   "execution_count": 50,
   "metadata": {},
   "outputs": [
    {
     "data": {
      "text/plain": [
       "77107453609.063004"
      ]
     },
     "execution_count": 50,
     "metadata": {},
     "output_type": "execute_result"
    }
   ],
   "source": [
    "dt = DecisionTreeRegressor(criterion='mse',min_samples_leaf=2,min_samples_split=8, max_features = 'auto')\n",
    "ada = AdaBoostRegressor(base_estimator = dt)\n",
    "\n",
    "ada.fit(Xtrn, Ytrn['price_aprox_usd'])\n",
    "aux = Ytest.copy()\n",
    "aux['predict'] = ada.predict(Xtest)\n",
    "\n",
    "error = mean_squared_error(Ytest['price_aprox_usd'] , aux['predict'])\n",
    "error"
   ]
  }
 ],
 "metadata": {
  "kernelspec": {
   "display_name": "Python 2",
   "language": "python",
   "name": "python2"
  },
  "language_info": {
   "codemirror_mode": {
    "name": "ipython",
    "version": 2
   },
   "file_extension": ".py",
   "mimetype": "text/x-python",
   "name": "python",
   "nbconvert_exporter": "python",
   "pygments_lexer": "ipython2",
   "version": "2.7.14"
  }
 },
 "nbformat": 4,
 "nbformat_minor": 2
}
