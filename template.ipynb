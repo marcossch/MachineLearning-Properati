{
 "cells": [
  {
   "cell_type": "code",
   "execution_count": 1,
   "metadata": {
    "collapsed": true
   },
   "outputs": [],
   "source": [
    "import pandas as pd\n",
    "import numpy as np\n",
    "from sklearn import neighbors\n",
    "import cPickle as pickle"
   ]
  },
  {
   "cell_type": "code",
   "execution_count": 2,
   "metadata": {
    "collapsed": true
   },
   "outputs": [],
   "source": [
    "prop = pickle.load(open(\"../datos/Data.p\",\"rb\"))"
   ]
  },
  {
   "cell_type": "code",
   "execution_count": 3,
   "metadata": {
    "collapsed": true
   },
   "outputs": [],
   "source": [
    "#a = prop[['rooms','ambientes']]\n",
    "#a.info()\n",
    "#a['result'] = a.apply(lambda x: x[0] if (np.isnan(x[1])) else (x[1]+1), axis = 1  )"
   ]
  },
  {
   "cell_type": "markdown",
   "metadata": {},
   "source": [
    "# ACOMODAMOS LOS DATOS"
   ]
  },
  {
   "cell_type": "code",
   "execution_count": 4,
   "metadata": {
    "scrolled": true
   },
   "outputs": [
    {
     "name": "stderr",
     "output_type": "stream",
     "text": [
      "/home/facundo/.local/lib/python2.7/site-packages/ipykernel_launcher.py:3: SettingWithCopyWarning: \n",
      "A value is trying to be set on a copy of a slice from a DataFrame\n",
      "\n",
      "See the caveats in the documentation: http://pandas.pydata.org/pandas-docs/stable/indexing.html#indexing-view-versus-copy\n",
      "  This is separate from the ipykernel package so we can avoid doing imports until\n"
     ]
    }
   ],
   "source": [
    "p = prop[['property_type','place_name','surface_total_in_m2','surface_covered_in_m2',\\\n",
    "          'price_usd_per_m2','latlon','Cant_ColeYUniv','Cant_LocalesGastronomicos',\n",
    "         'Cant_LugaresTuristicos']]\n",
    "p.dropna(inplace = True)\n",
    "#p.info()"
   ]
  },
  {
   "cell_type": "code",
   "execution_count": 5,
   "metadata": {},
   "outputs": [
    {
     "name": "stderr",
     "output_type": "stream",
     "text": [
      "/home/facundo/.local/lib/python2.7/site-packages/ipykernel_launcher.py:1: SettingWithCopyWarning: \n",
      "A value is trying to be set on a copy of a slice from a DataFrame.\n",
      "Try using .loc[row_indexer,col_indexer] = value instead\n",
      "\n",
      "See the caveats in the documentation: http://pandas.pydata.org/pandas-docs/stable/indexing.html#indexing-view-versus-copy\n",
      "  \"\"\"Entry point for launching an IPython kernel.\n"
     ]
    }
   ],
   "source": [
    "p['lat'] = p.apply(lambda row: row[5][0], axis=1)"
   ]
  },
  {
   "cell_type": "code",
   "execution_count": 6,
   "metadata": {},
   "outputs": [
    {
     "name": "stderr",
     "output_type": "stream",
     "text": [
      "/home/facundo/.local/lib/python2.7/site-packages/ipykernel_launcher.py:1: SettingWithCopyWarning: \n",
      "A value is trying to be set on a copy of a slice from a DataFrame.\n",
      "Try using .loc[row_indexer,col_indexer] = value instead\n",
      "\n",
      "See the caveats in the documentation: http://pandas.pydata.org/pandas-docs/stable/indexing.html#indexing-view-versus-copy\n",
      "  \"\"\"Entry point for launching an IPython kernel.\n"
     ]
    }
   ],
   "source": [
    "p['lon'] = p.apply(lambda row: row[5][1], axis=1)"
   ]
  },
  {
   "cell_type": "code",
   "execution_count": 7,
   "metadata": {
    "collapsed": true
   },
   "outputs": [],
   "source": [
    "p = p[['property_type','surface_total_in_m2','surface_covered_in_m2',\\\n",
    "          'price_usd_per_m2','lat','lon','Cant_ColeYUniv','Cant_LocalesGastronomicos',\n",
    "         'Cant_LugaresTuristicos']]\n",
    "#Faltaria el place name"
   ]
  },
  {
   "cell_type": "code",
   "execution_count": 8,
   "metadata": {
    "collapsed": true
   },
   "outputs": [],
   "source": [
    "def asignarPT( p ):\n",
    "    if p == 'apartment':\n",
    "        return 0\n",
    "    if p == 'house':\n",
    "        return 1\n",
    "    if p == 'store':\n",
    "        return 2\n",
    "    return 3"
   ]
  },
  {
   "cell_type": "code",
   "execution_count": 9,
   "metadata": {
    "collapsed": true
   },
   "outputs": [],
   "source": [
    "p['property_type'] = p.apply(lambda x: asignarPT(x[0]), axis = 1)"
   ]
  },
  {
   "cell_type": "code",
   "execution_count": 10,
   "metadata": {
    "collapsed": true
   },
   "outputs": [],
   "source": [
    "datosEntrenamiento = p[['property_type','surface_total_in_m2','surface_covered_in_m2',\\\n",
    "                  'lat','lon','Cant_ColeYUniv','Cant_LocalesGastronomicos',\\\n",
    "                   'Cant_LugaresTuristicos']].head(1000)\n",
    "resultadosEntrenamiento = p[['price_usd_per_m2']].head(1000)\n",
    "\n",
    "pruebas = p[['property_type','surface_total_in_m2','surface_covered_in_m2',\\\n",
    "                  'lat','lon','Cant_ColeYUniv','Cant_LocalesGastronomicos',\\\n",
    "                   'Cant_LugaresTuristicos']].head(1000)"
   ]
  },
  {
   "cell_type": "code",
   "execution_count": 11,
   "metadata": {},
   "outputs": [
    {
     "name": "stdout",
     "output_type": "stream",
     "text": [
      "<class 'pandas.core.frame.DataFrame'>\n",
      "Int64Index: 1000 entries, 0 to 1053\n",
      "Data columns (total 8 columns):\n",
      "property_type                1000 non-null int64\n",
      "surface_total_in_m2          1000 non-null float64\n",
      "surface_covered_in_m2        1000 non-null float64\n",
      "lat                          1000 non-null float64\n",
      "lon                          1000 non-null float64\n",
      "Cant_ColeYUniv               1000 non-null int64\n",
      "Cant_LocalesGastronomicos    1000 non-null int64\n",
      "Cant_LugaresTuristicos       1000 non-null int64\n",
      "dtypes: float64(4), int64(4)\n",
      "memory usage: 70.3 KB\n"
     ]
    }
   ],
   "source": [
    "datosEntrenamiento.info()"
   ]
  },
  {
   "cell_type": "code",
   "execution_count": 12,
   "metadata": {},
   "outputs": [
    {
     "data": {
      "text/plain": [
       "KNeighborsRegressor(algorithm='auto', leaf_size=30, metric='minkowski',\n",
       "          metric_params=None, n_jobs=1, n_neighbors=5, p=2,\n",
       "          weights='uniform')"
      ]
     },
     "execution_count": 12,
     "metadata": {},
     "output_type": "execute_result"
    }
   ],
   "source": [
    "#Aca en realidad va el for de acuerdo a la variacion de parametros\n",
    "knn = neighbors.KNeighborsRegressor()\n",
    "#alg = #inicializar la instancia del algoritmo\n",
    "#knn = neighbors.KNeighborsRegressor(n_neighbors  = 2, algorithm='kd_tree', weights = 'uniform')\n",
    "knn.fit(datosEntrenamiento, resultadosEntrenamiento)\n"
   ]
  },
  {
   "cell_type": "code",
   "execution_count": 145,
   "metadata": {},
   "outputs": [
    {
     "name": "stdout",
     "output_type": "stream",
     "text": [
      "<class 'pandas.core.frame.DataFrame'>\n",
      "Int64Index: 1000 entries, 0 to 1053\n",
      "Data columns (total 8 columns):\n",
      "property_type                1000 non-null int64\n",
      "surface_total_in_m2          1000 non-null float64\n",
      "surface_covered_in_m2        1000 non-null float64\n",
      "lat                          1000 non-null float64\n",
      "lon                          1000 non-null float64\n",
      "Cant_ColeYUniv               1000 non-null int64\n",
      "Cant_LocalesGastronomicos    1000 non-null int64\n",
      "Cant_LugaresTuristicos       1000 non-null int64\n",
      "dtypes: float64(4), int64(4)\n",
      "memory usage: 70.3 KB\n"
     ]
    }
   ],
   "source": [
    "pruebas.info()"
   ]
  },
  {
   "cell_type": "code",
   "execution_count": 13,
   "metadata": {},
   "outputs": [
    {
     "data": {
      "text/plain": [
       "array([[ 471.00894378]])"
      ]
     },
     "execution_count": 13,
     "metadata": {},
     "output_type": "execute_result"
    }
   ],
   "source": [
    "knn.predict(datosEntrenamiento.head(1))\n",
    "#pruebas['resultado'] = pruebas.apply(lambda x: knn.predict(x)[0],axis = 1)"
   ]
  },
  {
   "cell_type": "code",
   "execution_count": 154,
   "metadata": {},
   "outputs": [
    {
     "data": {
      "text/html": [
       "<div>\n",
       "<style>\n",
       "    .dataframe thead tr:only-child th {\n",
       "        text-align: right;\n",
       "    }\n",
       "\n",
       "    .dataframe thead th {\n",
       "        text-align: left;\n",
       "    }\n",
       "\n",
       "    .dataframe tbody tr th {\n",
       "        vertical-align: top;\n",
       "    }\n",
       "</style>\n",
       "<table border=\"1\" class=\"dataframe\">\n",
       "  <thead>\n",
       "    <tr style=\"text-align: right;\">\n",
       "      <th></th>\n",
       "      <th>price_usd_per_m2</th>\n",
       "    </tr>\n",
       "  </thead>\n",
       "  <tbody>\n",
       "    <tr>\n",
       "      <th>0</th>\n",
       "      <td>360.36036</td>\n",
       "    </tr>\n",
       "  </tbody>\n",
       "</table>\n",
       "</div>"
      ],
      "text/plain": [
       "   price_usd_per_m2\n",
       "0         360.36036"
      ]
     },
     "execution_count": 154,
     "metadata": {},
     "output_type": "execute_result"
    }
   ],
   "source": [
    "resultadosEntrenamiento.head(1)"
   ]
  }
 ],
 "metadata": {
  "kernelspec": {
   "display_name": "Python 2",
   "language": "python",
   "name": "python2"
  },
  "language_info": {
   "codemirror_mode": {
    "name": "ipython",
    "version": 2
   },
   "file_extension": ".py",
   "mimetype": "text/x-python",
   "name": "python",
   "nbconvert_exporter": "python",
   "pygments_lexer": "ipython2",
   "version": "2.7.14"
  }
 },
 "nbformat": 4,
 "nbformat_minor": 2
}
