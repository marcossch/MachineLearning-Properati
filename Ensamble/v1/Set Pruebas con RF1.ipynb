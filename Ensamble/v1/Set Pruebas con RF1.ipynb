{
 "cells": [
  {
   "cell_type": "code",
   "execution_count": 1,
   "metadata": {
    "collapsed": true
   },
   "outputs": [],
   "source": [
    "import pandas as pd\n",
    "import numpy as np\n",
    "import cPickle as pickle"
   ]
  },
  {
   "cell_type": "code",
   "execution_count": 2,
   "metadata": {},
   "outputs": [
    {
     "name": "stderr",
     "output_type": "stream",
     "text": [
      "/usr/local/lib/python2.7/dist-packages/sklearn/cross_validation.py:41: DeprecationWarning: This module was deprecated in version 0.18 in favor of the model_selection module into which all the refactored classes and functions are moved. Also note that the interface of the new CV iterators are different from that of this module. This module will be removed in 0.20.\n",
      "  \"This module will be removed in 0.20.\", DeprecationWarning)\n"
     ]
    }
   ],
   "source": [
    "import matplotlib.pyplot as plt\n",
    "from sklearn.metrics import mean_squared_error\n",
    "from sklearn.cross_validation import train_test_split\n",
    "from sklearn.ensemble import RandomForestRegressor"
   ]
  },
  {
   "cell_type": "markdown",
   "metadata": {},
   "source": [
    "# Se carga el set de entrenamiento"
   ]
  },
  {
   "cell_type": "code",
   "execution_count": 4,
   "metadata": {
    "collapsed": true
   },
   "outputs": [],
   "source": [
    "prop = pickle.load(open(\"../../datos/Data.p\",\"rb\"))"
   ]
  },
  {
   "cell_type": "code",
   "execution_count": 5,
   "metadata": {
    "collapsed": true
   },
   "outputs": [],
   "source": [
    "proper = pickle.load(open(\"../../datos/propiedadesPruebaConColTransGas.p\", \"rb\"))"
   ]
  },
  {
   "cell_type": "code",
   "execution_count": 6,
   "metadata": {
    "collapsed": true
   },
   "outputs": [],
   "source": [
    "propTOT = pd.merge(prop, proper, how=\"outer\")"
   ]
  },
  {
   "cell_type": "code",
   "execution_count": 7,
   "metadata": {
    "collapsed": true
   },
   "outputs": [],
   "source": [
    "#cortamos por precios\n",
    "propTOT = propTOT[(propTOT['price_usd_per_m2']>150) & (propTOT['price_usd_per_m2']<8000)]"
   ]
  },
  {
   "cell_type": "code",
   "execution_count": null,
   "metadata": {
    "collapsed": true
   },
   "outputs": [],
   "source": [
    "#completo las superficies totales con las cubiertas\n",
    "propTOT['surface_total_in_m2'] = propTOT.apply(lambda row: row[17] if(np.all(pd.isnull(row[16]))) else row[16], axis=1)"
   ]
  },
  {
   "cell_type": "code",
   "execution_count": null,
   "metadata": {
    "collapsed": true
   },
   "outputs": [],
   "source": [
    "#se formatea lat y lon\n",
    "p = propTOT[['property_type','place_name','surface_total_in_m2',\\\n",
    "          'price_usd_per_m2','latlon','Cant_ColeYUniv','Cant_LocalesGastronomicos',\n",
    "         'Cant_ParadasTransporte']]\n",
    "p.dropna(inplace = True)\n",
    "\n",
    "p['lat'] = p.apply(lambda row: row[4][0], axis=1)\n",
    "\n",
    "p['lon'] = p.apply(lambda row: row[4][1], axis=1)\n",
    "\n",
    "p = p[['property_type','place_name','surface_total_in_m2',\\\n",
    "          'price_usd_per_m2','lat','lon','Cant_ColeYUniv','Cant_LocalesGastronomicos',\n",
    "         'Cant_ParadasTransporte']]"
   ]
  },
  {
   "cell_type": "markdown",
   "metadata": {},
   "source": [
    "### Se le asigna un valor numerico al tipo de propiedad"
   ]
  },
  {
   "cell_type": "code",
   "execution_count": 13,
   "metadata": {
    "collapsed": true
   },
   "outputs": [],
   "source": [
    "def asignarPT( p ):\n",
    "    if p == 'apartment':\n",
    "        return 0\n",
    "    if p == 'house':\n",
    "        return 1\n",
    "    if p == 'store':\n",
    "        return 2\n",
    "    return 3"
   ]
  },
  {
   "cell_type": "code",
   "execution_count": 14,
   "metadata": {
    "collapsed": true
   },
   "outputs": [],
   "source": [
    "p['property_type'] = p.apply(lambda x: asignarPT(x[0]), axis = 1)"
   ]
  },
  {
   "cell_type": "markdown",
   "metadata": {},
   "source": [
    "### Se le asigna un valor a los barrios segun el analisis de grupos hecho en el tp1"
   ]
  },
  {
   "cell_type": "code",
   "execution_count": 15,
   "metadata": {
    "collapsed": true
   },
   "outputs": [],
   "source": [
    "def asignarPV(name, dic):\n",
    "    return dic[name]   "
   ]
  },
  {
   "cell_type": "code",
   "execution_count": 16,
   "metadata": {
    "collapsed": true
   },
   "outputs": [],
   "source": [
    "hoodGroups = p[[\"place_name\", \"price_usd_per_m2\"]]\n",
    "hoodGroups = hoodGroups.groupby(\"place_name\").agg([np.mean]).reset_index()\n",
    "hoodGroups = hoodGroups.sort_values(by=(\"price_usd_per_m2\", \"mean\"), ascending=False)"
   ]
  },
  {
   "cell_type": "code",
   "execution_count": 17,
   "metadata": {
    "collapsed": true
   },
   "outputs": [],
   "source": [
    "HGdics = {}\n",
    "precio_ant = 0\n",
    "val_ant = 0\n",
    "for row in hoodGroups.iterrows():\n",
    "    name = row[1][0]\n",
    "    price = row[1][1]\n",
    "    val = val_ant + (precio_ant/price)*10\n",
    "    HGdics[name] = val\n",
    "    precio_ant = price\n",
    "    val_ant = val"
   ]
  },
  {
   "cell_type": "code",
   "execution_count": 18,
   "metadata": {
    "collapsed": true
   },
   "outputs": [],
   "source": [
    "p[\"place_value\"] = p.apply(lambda x: asignarPV(x[1], HGdics), axis=1)"
   ]
  },
  {
   "cell_type": "code",
   "execution_count": 19,
   "metadata": {
    "collapsed": true
   },
   "outputs": [],
   "source": [
    "pEnt = p[['property_type','surface_total_in_m2',\\\n",
    "          'price_usd_per_m2','lat','lon','Cant_ColeYUniv','Cant_LocalesGastronomicos',\n",
    "         'Cant_ParadasTransporte', 'place_value']]"
   ]
  },
  {
   "cell_type": "code",
   "execution_count": 20,
   "metadata": {},
   "outputs": [
    {
     "data": {
      "text/plain": [
       "77492"
      ]
     },
     "execution_count": 20,
     "metadata": {},
     "output_type": "execute_result"
    }
   ],
   "source": [
    "len(pEnt)"
   ]
  },
  {
   "cell_type": "markdown",
   "metadata": {},
   "source": [
    "# Se carga el set de Prueba"
   ]
  },
  {
   "cell_type": "code",
   "execution_count": 21,
   "metadata": {
    "collapsed": true
   },
   "outputs": [],
   "source": [
    "proper = pickle.load(open(\"porpiedadesPruebaConColTransGas.p\", \"rb\"))"
   ]
  },
  {
   "cell_type": "code",
   "execution_count": 22,
   "metadata": {},
   "outputs": [
    {
     "data": {
      "text/plain": [
       "14166"
      ]
     },
     "execution_count": 22,
     "metadata": {},
     "output_type": "execute_result"
    }
   ],
   "source": [
    "len(proper)"
   ]
  },
  {
   "cell_type": "code",
   "execution_count": 23,
   "metadata": {},
   "outputs": [
    {
     "name": "stderr",
     "output_type": "stream",
     "text": [
      "/usr/local/lib/python2.7/dist-packages/ipykernel_launcher.py:5: SettingWithCopyWarning: \n",
      "A value is trying to be set on a copy of a slice from a DataFrame.\n",
      "Try using .loc[row_indexer,col_indexer] = value instead\n",
      "\n",
      "See the caveats in the documentation: http://pandas.pydata.org/pandas-docs/stable/indexing.html#indexing-view-versus-copy\n",
      "  \"\"\"\n",
      "/usr/local/lib/python2.7/dist-packages/ipykernel_launcher.py:7: SettingWithCopyWarning: \n",
      "A value is trying to be set on a copy of a slice from a DataFrame.\n",
      "Try using .loc[row_indexer,col_indexer] = value instead\n",
      "\n",
      "See the caveats in the documentation: http://pandas.pydata.org/pandas-docs/stable/indexing.html#indexing-view-versus-copy\n",
      "  import sys\n"
     ]
    }
   ],
   "source": [
    "#se formatea lat y lon\n",
    "p = proper[['property_type','place_name','surface_total_in_m2','surface_covered_in_m2',\\\n",
    "          'latlon','Cant_ColeYUniv','Cant_LocalesGastronomicos',\n",
    "         'Cant_ParadasTransporte']]\n",
    "\n",
    "p['lat'] = p.apply(lambda row: row[4][0] if(np.all(pd.notnull(row[5]))) else row[5], axis=1)\n",
    "\n",
    "p['lon'] = p.apply(lambda row: row[4][1] if(np.all(pd.notnull(row[5]))) else row[5], axis=1)\n",
    "\n",
    "p = p[['property_type','place_name','surface_total_in_m2','surface_covered_in_m2',\\\n",
    "          'lat','lon','Cant_ColeYUniv','Cant_LocalesGastronomicos',\n",
    "         'Cant_ParadasTransporte']]"
   ]
  },
  {
   "cell_type": "code",
   "execution_count": 24,
   "metadata": {
    "collapsed": true
   },
   "outputs": [],
   "source": [
    "p['property_type'] = p.apply(lambda x: asignarPT(x[0]), axis = 1)"
   ]
  },
  {
   "cell_type": "code",
   "execution_count": 25,
   "metadata": {},
   "outputs": [
    {
     "data": {
      "text/plain": [
       "{' Country Maschwitz Club': 2686.926583591594,\n",
       " ' los alamos': 1223.155562884655,\n",
       " 'Abasto': 691.0196765958824,\n",
       " 'Abril Club de Campo': 4093.402187612541,\n",
       " 'Acacias Blancas': 3318.9518010064007,\n",
       " 'Acassuso': 751.333799018616,\n",
       " 'Adrogu\\xc3\\xa9': 1614.3465205401174,\n",
       " 'Aeropuerto Internacional Ezeiza': 2396.0349238804647,\n",
       " 'Agronom\\xc3\\xada': 590.3756834347769,\n",
       " 'Albanueva Barrio Cerrado': 228.5512379584443,\n",
       " 'Aldo Bonzi': 3580.117344108276,\n",
       " 'Alejandro Korn': 3429.364364962655,\n",
       " 'Alejandro Peti\\xc3\\xb3n': 3761.3212422003116,\n",
       " 'Almagro': 469.9637057632352,\n",
       " 'Almirante Brown': 1945.1723673074127,\n",
       " 'Altamira': 821.5656244679294,\n",
       " 'Altos de Hudson II': 721.3018504717331,\n",
       " 'Altos de Manzanares 1 y 2': 1834.983296938517,\n",
       " 'Altos de Matheu': 3288.815428986968,\n",
       " 'Altos del Golf': 3409.2692309743475,\n",
       " 'Altos del Pilar': 459.8924596950678,\n",
       " 'Armenia Country Club': 2195.565466521068,\n",
       " 'Avellaneda': 1423.885780458288,\n",
       " 'Bah\\xc3\\xada del Sol': 309.0817065650197,\n",
       " 'Balvanera': 811.4678581170713,\n",
       " 'Banfield': 1102.6807543265634,\n",
       " 'Barbarita, Barrio Cerrado': 1213.1236842163787,\n",
       " 'Barracas': 891.8228737609785,\n",
       " 'Barrancas de San Jose': 1243.2565130679984,\n",
       " 'Barrancas de Santa Mar\\xc3\\xada': 982.0995088532076,\n",
       " 'Barrio Acacias': 2827.253360523024,\n",
       " 'Barrio Alamo Alto': 4742.287270908179,\n",
       " 'Barrio Araucarias': 620.589454207135,\n",
       " 'Barrio Barrancas del Lago': 3640.542403831899,\n",
       " 'Barrio Cabos del Lago': 570.3078185665368,\n",
       " 'Barrio Cerrado \"Ayres Plaza\"': 1363.5824117966863,\n",
       " 'Barrio Cerrado \"Buen Retiro\"': 4548.183576244114,\n",
       " 'Barrio Cerrado \"Buenos Aires Village\"': 871.7104194813533,\n",
       " 'Barrio Cerrado \"El Casco de Moreno\"': 4304.841994643135,\n",
       " 'Barrio Cerrado \"Isla del Sol\"': 4143.615449056199,\n",
       " 'Barrio Cerrado \"La Candelaria\"': 1092.653828940884,\n",
       " 'Barrio Cerrado \"La Cautiva del Pilar\"': 2355.943835887798,\n",
       " 'Barrio Cerrado \"La Damasia\"': 1082.6338197058526,\n",
       " 'Barrio Cerrado \"La Delfina\"': 1704.7408849924377,\n",
       " 'Barrio Cerrado \"La Montura\"': 2285.766039976893,\n",
       " 'Barrio Cerrado \"La Otilia\"': 2075.477283328887,\n",
       " 'Barrio Cerrado \"La Tranquera\"': 1634.3584737543488,\n",
       " 'Barrio Cerrado \"Las Mar\\xc3\\xadas\"': 1052.5188696646728,\n",
       " 'Barrio Cerrado \"Los Alcanfores\"': 2385.9816217437256,\n",
       " 'Barrio Cerrado \"Los Ceibos\"': 941.9733157815191,\n",
       " 'Barrio Cerrado \"Los Fresnos\"': 4670.618928274402,\n",
       " 'Barrio Cerrado \"Los Omb\\xc3\\xbaes de Hudson\"': 1273.361213311069,\n",
       " 'Barrio Cerrado \"Los Potrillos\"': 3690.9111399373282,\n",
       " 'Barrio Cerrado \"Los Senderos\"': 1794.876125017666,\n",
       " 'Barrio Cerrado \"Roble Joven\"': 3459.6476917647456,\n",
       " 'Barrio Cerrado \"Soles de Pilar\"': 3027.9806829970166,\n",
       " 'Barrio Cerrado \"SpringDale\"': 1433.8889766612242,\n",
       " 'Barrio Cerrado \"Tres Horquetas\"': 3048.165298203719,\n",
       " 'Barrio Cerrado \"Villa Rosa\"': 4691.252646018024,\n",
       " 'Barrio Cerrado El Casco de Alvarez': 4365.999689578307,\n",
       " 'Barrio Cerrado El Lucero': 1824.9707904179577,\n",
       " 'Barrio Cerrado Fincas de Maschwitz': 4507.853922987404,\n",
       " 'Barrio Cerrado Lagos del Norte': 600.4704967680756,\n",
       " 'Barrio Cerrado Las Casuarinas': 2476.377658811754,\n",
       " 'Barrio Cerrado Malib\\xc3\\xba': 771.3431844668129,\n",
       " 'Barrio El Golf': 319.1157132482026,\n",
       " 'Barrio El Moro': 3098.213367798668,\n",
       " 'Barrio La Alameda': 1172.913666711785,\n",
       " 'Barrio La Casualidad': 2526.508661188274,\n",
       " 'Barrio La Cuesta': 1875.0071118821381,\n",
       " 'Barrio La Deseada': 2646.8121748501503,\n",
       " 'Barrio La Isla': 146.87261261135788,\n",
       " 'Barrio Lagos del Golf 2': 972.0660044942317,\n",
       " 'Barrio Las Glorietas': 962.0562744137592,\n",
       " 'Barrio Los Alisos': 429.73944979611935,\n",
       " 'Barrio Los Castores': 379.50659875077196,\n",
       " 'Barrio Los Lagos': 861.6605092358517,\n",
       " 'Barrio Los Tilos': 1233.173035220124,\n",
       " 'Barrio Marinas': 1112.6962622232143,\n",
       " 'Barrio Melazzi': 3359.050978520632,\n",
       " 'Barrio Norte': 136.851914331562,\n",
       " 'Barrio Parque Almirante Ir\\xc3\\xadzar': 2105.498754374326,\n",
       " 'Barrio Parque General San Martin': 3238.671169817469,\n",
       " 'Barrio Parque San Martin': 1754.8074426054868,\n",
       " 'Barrio Privado \"Ayres de Pilar\"': 4386.351816700722,\n",
       " 'Barrio Privado \"Lomas de F\\xc3\\xa1tima\"': 3068.1842030374805,\n",
       " 'Barrio Privado El Recodo  S.A.': 2516.4692472743977,\n",
       " 'Barrio Privado El Resuello': 4752.312727978302,\n",
       " 'Barrio Privado El Rodal': 4538.175854236392,\n",
       " 'Barrio Privado La Campi\\xc3\\xb1a': 4823.9441333033,\n",
       " 'Barrio Privado Santa Rita': 1915.061987474422,\n",
       " 'Barrio San Agustin': 2245.665890716924,\n",
       " 'Barrio San Eduardo - Pilar del Este': 4701.484252380224,\n",
       " 'Barrio San Gabriel': 1965.2778470228764,\n",
       " 'Barrio San Mat\\xc3\\xadas': 3348.9795650968704,\n",
       " 'Barrio San Rafael': 1514.0594661063012,\n",
       " 'Barrio Santa Clara': 1453.91523690669,\n",
       " 'Barrio Santa Teresa': 1664.5584551502927,\n",
       " 'Barrio Vistas': 1313.467273227951,\n",
       " 'Barrio cerrado Camino Real': 3902.251168303244,\n",
       " 'Barrio cerrado La Cascada': 2546.529569151335,\n",
       " 'Barrio cerrado Santa Ana': 1624.3501521471405,\n",
       " 'BarrioPortezuelo': 288.95329594755066,\n",
       " 'Beccar': 1253.2726481176962,\n",
       " 'Belgrano': 106.42935998996262,\n",
       " 'Bella Vista': 3489.805419253678,\n",
       " 'Bel\\xc3\\xa9n de Escobar': 3771.4091473141116,\n",
       " 'Benavidez': 4062.9654289081527,\n",
       " 'Benavidez Greens': 2025.4253104619258,\n",
       " 'Berazategui': 1494.02404064197,\n",
       " 'Berazategui Oeste': 3791.5620884402897,\n",
       " 'Bermudas Country Club': 1784.8574615215027,\n",
       " 'Bernal': 1393.7087688089416,\n",
       " 'Billinghurst': 3972.6311377821717,\n",
       " 'Boat Center Barrio Cerrado': 2125.5158797102713,\n",
       " 'Boca': 1403.8437844252164,\n",
       " 'Boca Rat\\xc3\\xb3n': 4083.1857626097926,\n",
       " 'Boedo': 560.3068965433717,\n",
       " 'Bosques': 4855.46960861364,\n",
       " 'Boulogne Sur Mer': 3308.9398366033524,\n",
       " 'Brickland': 4568.459915156447,\n",
       " 'Bs.As. G.B.A. Zona Norte': 2486.4229343371267,\n",
       " 'Bs.As. G.B.A. Zona Oeste': 3419.273501771861,\n",
       " 'Bs.As. G.B.A. Zona Sur': 3128.316819365963,\n",
       " 'Burzaco': 3872.113258305781,\n",
       " 'Caballito': 299.01562355877616,\n",
       " 'Campo Grande Country Club': 2225.6313437903095,\n",
       " 'Campos de \\xc3\\x81lvarez': 2375.963400600081,\n",
       " 'Canning': 1193.0718382273344,\n",
       " 'Capital Federal': 1463.9673643783735,\n",
       " 'Carapachay': 1975.2972417545996,\n",
       " 'Carlos Spegazzini': 3821.8934496745237,\n",
       " 'Caseros': 2045.4479587204157,\n",
       " 'Castelar': 1654.551115597238,\n",
       " 'Catalinas': 731.3079657732707,\n",
       " 'Ca\\xc3\\xb1uelas': 3781.5061267652522,\n",
       " 'Centro / Microcentro': 409.6809207126914,\n",
       " 'Chacarita': 490.06576121737197,\n",
       " 'Chacras de La Trinidad': 1995.302944606199,\n",
       " 'City Bell': 1564.201064001186,\n",
       " 'Ciudad Evita': 3852.0330951267106,\n",
       " 'Ciudad Jard\\xc3\\xadn Lomas del Palomar': 1854.9856897570733,\n",
       " 'Ciudadela': 2365.9514899170013,\n",
       " 'Claypole': 3982.6323534034823,\n",
       " 'Club El Carmen - Sector casas': 2576.680978304466,\n",
       " 'Club de Campo Aranzazu': 4446.732420166074,\n",
       " 'Coghlan': 258.67589217250145,\n",
       " 'Colegiales': 238.5793868219135,\n",
       " 'Complejo de Barrios Privados La Magdalena': 4773.486926643541,\n",
       " 'Congreso': 881.7443423852118,\n",
       " 'Constituci\\xc3\\xb3n': 1072.617970632382,\n",
       " 'Country Banco Provincia': 2165.530270833646,\n",
       " 'Country Club Aranjuez': 3328.961421874351,\n",
       " 'Country Club Las lajas': 4528.162934339752,\n",
       " 'Country El Venado': 3268.694172354801,\n",
       " 'Country Farm Club': 992.1542897529542,\n",
       " 'Country Golf El Sosiego': 4487.076276298043,\n",
       " 'Country Maschwitz Privado': 3369.0587971289197,\n",
       " 'Country Nuevo Quilmes': 329.1368114112631,\n",
       " 'Country Saint Thomas': 3138.329427362327,\n",
       " 'Country San Jorge Village': 1443.9126819201974,\n",
       " 'Cruce Castelar': 339.16149860165666,\n",
       " 'Crucecita': 2005.3436214745332,\n",
       " 'Cuartel V': 4629.986198574944,\n",
       " 'Del Viso': 2666.908625123989,\n",
       " 'Delta': 4793.670253120985,\n",
       " 'Derqui': 670.8700329166544,\n",
       " 'Dique Luj\\xc3\\xa1n': 1724.7808492159315,\n",
       " 'Dock Sud': 3660.755347553929,\n",
       " 'Domselaar': 4396.617126254913,\n",
       " 'Don Bosco': 2987.7701395944023,\n",
       " 'Don Orione': 4325.0838911107385,\n",
       " 'Don Torcuato': 3600.153451435425,\n",
       " 'Echeverr\\xc3\\xada del Lago': 4042.745826482346,\n",
       " 'El Canton Barrio Puerto': 4204.098673689614,\n",
       " 'El Casco de Leloir': 1303.4356514316232,\n",
       " 'El Cazador': 4193.925148701007,\n",
       " 'El Centauro': 4183.913745611013,\n",
       " 'El Encuentro': 1182.996644129124,\n",
       " 'El Jag\\xc3\\xbcel': 4865.506779352277,\n",
       " 'El Nacional Club de Campo': 1985.2974911445258,\n",
       " 'El Palomar': 2877.502605333238,\n",
       " 'El Para\\xc3\\xadso de Guernica Country Club': 4813.867859198617,\n",
       " 'El Pato': 3711.0058854818067,\n",
       " 'El Pato Country Club': 4762.450492260803,\n",
       " 'El Peligro': 4711.936252380224,\n",
       " 'El Pilar': 3168.413196067018,\n",
       " 'El Portal': 4294.841994643135,\n",
       " 'El Roc\\xc3\\xado': 2777.164313574415,\n",
       " 'El Talar': 3479.765560775173,\n",
       " 'El Talar de Pacheco': 1122.7022495773767,\n",
       " 'Enyoi': 86.19184767687065,\n",
       " 'Escobar': 2676.924355879751,\n",
       " 'Estancias del Pilar': 1885.0091903460677,\n",
       " 'Esteban Echeverr\\xc3\\xada': 1865.0002779643435,\n",
       " 'Etcheverry': 4783.56535801609,\n",
       " 'Ex La Ponderosa': 3922.3741648758414,\n",
       " 'Ezeiza': 2185.553405446777,\n",
       " 'Ezpeleta': 3530.0349212285464,\n",
       " 'Fincas de Hudson': 1012.266946861945,\n",
       " 'Fincas de Iraola': 921.8446183786104,\n",
       " 'Fincas de Iraola II': 1714.7540207332083,\n",
       " 'Fincas del Lago': 1905.0421572434534,\n",
       " 'Florencio Varela': 2315.8092921629172,\n",
       " 'Flores': 701.0601001199756,\n",
       " 'Floresta': 1032.4717044308748,\n",
       " 'Florida': 711.1452235074074,\n",
       " 'Florida Oeste': 1844.9839361675092,\n",
       " 'Francisco Alvarez': 4123.592794468276,\n",
       " 'F\\xc3\\xa1tima': 4284.826436835403,\n",
       " 'Galapagos Country Club': 2977.720513346906,\n",
       " 'Gar\\xc3\\xadn': 3912.254619724063,\n",
       " 'General Pacheco': 2145.5233078662995,\n",
       " 'General Rodr\\xc3\\xadguez': 3007.910666598803,\n",
       " 'General San Mart\\xc3\\xadn': 2065.4729081928285,\n",
       " 'Gerli': 2857.3127811322893,\n",
       " 'Glew': 3198.597185251884,\n",
       " 'Golf Club Argentino': 1674.565679927609,\n",
       " \"Golfer's Country Club\": 3379.140231352809,\n",
       " 'Gonz\\xc3\\xa1lez Cat\\xc3\\xa1n': 4335.299960819613,\n",
       " 'Gorina': 4876.056229901727,\n",
       " 'Grand Bell': 2807.203895697224,\n",
       " 'Grand Bourg': 3831.9532075785555,\n",
       " 'GreenVille Polo & Resort': 369.50164870938687,\n",
       " 'Gregorio de Laferrere': 3550.081627006522,\n",
       " 'Guernica': 3842.0260892439364,\n",
       " 'Guillermo Hudson': 660.8619645893555,\n",
       " 'Gutierrez': 2737.05426964984,\n",
       " 'Hacoaj Barrio Cerrado': 640.8523655065088,\n",
       " 'Haedo': 1594.28302992116,\n",
       " 'Haras Mar\\xc3\\xada Elena': 4406.67018678342,\n",
       " 'Haras Mar\\xc3\\xada Victoria': 4254.650027391166,\n",
       " 'Haras San Pablo': 3700.9123285510805,\n",
       " 'Haras Santa Maria': 2787.1718261527244,\n",
       " 'Haras del Pilar - El Establo': 2175.547818654109,\n",
       " 'Haras del Pilar - La Caballeriza': 2847.309288872379,\n",
       " 'Haras del Pilar - Las Praderas 1 y 2': 1684.5767838254671,\n",
       " 'Haras del Sur I': 4274.766899300562,\n",
       " 'Highland Park Country Club': 2747.071771403611,\n",
       " 'Hindu Club': 4466.900585514424,\n",
       " 'Hurlingham': 3650.5746577641385,\n",
       " 'Ingeniero Adolfo Sourdeaux': 4497.71933676575,\n",
       " 'Ingeniero Juan Allan': 4578.6260420662065,\n",
       " 'Ingeniero Pablo Nogu\\xc3\\xa9s': 4416.704143631685,\n",
       " 'Isidro Casanova': 3188.563445242611,\n",
       " 'Islas': 3118.315561470314,\n",
       " 'Islas del Canal': 156.8770743646554,\n",
       " 'Ituzaing\\xc3\\xb3': 3208.6009361688075,\n",
       " 'Jose Leon Suarez': 3078.2064013023396,\n",
       " 'Jose Marmol': 1584.2803942859166,\n",
       " 'Jos\\xc3\\xa9 C Paz': 4022.661774879033,\n",
       " 'La Ang\\xc3\\xa9lica': 2566.670597983387,\n",
       " 'La Arboleda de Maschwitz': 4640.025300823421,\n",
       " 'La Candelaria de Maschwitz': 4224.405106450792,\n",
       " 'La Cesarina': 4214.206932159834,\n",
       " 'La Comarca': 1644.3612537433473,\n",
       " 'La Lonja': 3560.0946358696588,\n",
       " 'La Lucila': 198.0057259734108,\n",
       " 'La Madrugada': 2305.808444965045,\n",
       " 'La Martinica': 2215.617487262468,\n",
       " 'La Matanza': 1744.798512421592,\n",
       " 'La Peregrina': 2506.443230969499,\n",
       " 'La Pilarica': 2436.180677351692,\n",
       " 'La Plata': 1333.4873153197186,\n",
       " 'La Reja': 4153.77868713822,\n",
       " 'La Tablada': 3741.086249387732,\n",
       " 'La Uni\\xc3\\xb3n': 3801.563604857131,\n",
       " 'La horqueta de Echeverr\\xc3\\xada': 3258.6854291854024,\n",
       " 'Laguna del Sol': 911.836222331566,\n",
       " 'Lan\\xc3\\xbas': 2325.8941749067285,\n",
       " 'Lan\\xc3\\xbas Este': 2466.3678131056395,\n",
       " 'Lan\\xc3\\xbas Oeste': 1814.9204572641765,\n",
       " 'Las Ca\\xc3\\xb1itas': 35.10147798725054,\n",
       " 'Las Golondrinas': 1413.8800835683774,\n",
       " 'Libertad': 4558.253173518048,\n",
       " 'Liniers': 931.9667537248177,\n",
       " 'Lisandro Olmos': 4234.462719619516,\n",
       " 'Llavallol': 3228.629154687638,\n",
       " 'Loma Hermosa': 3952.481756159509,\n",
       " 'Loma Verde': 2335.9070954329395,\n",
       " 'Lomas de Benavidez': 2696.9962555211596,\n",
       " 'Lomas de Zamora': 1152.9000225109478,\n",
       " 'Lomas del Mirador': 2626.802889059191,\n",
       " 'Longchamps': 4012.6565335198247,\n",
       " 'Los Angeles Village': 2656.8926901480568,\n",
       " 'Los Horneros CC': 4650.150300823421,\n",
       " 'Los Hornos': 3620.481778088539,\n",
       " 'Los Lagartos Country Club': 2707.0198591144035,\n",
       " 'Los Pilares - Barrio Privado': 2767.1015962290003,\n",
       " 'Los Ping\\xc3\\xbcinos Country Club': 4588.797968093396,\n",
       " 'Los Polvorines': 3590.1243474433886,\n",
       " 'Los Robles de Maschwitz': 2937.5782921744476,\n",
       " 'Los Sauces Country Club': 1734.7932643251374,\n",
       " 'Los Tres Coniles': 2917.547244200439,\n",
       " 'Luis Guill\\xc3\\xb3n': 4103.406087428995,\n",
       " 'Malvinas Argentinas': 4002.653482927823,\n",
       " 'Manuel Alberti': 3540.0578024448323,\n",
       " 'Manuel B Gonnet': 3278.7139691194216,\n",
       " 'Manzanares': 3449.626402627714,\n",
       " 'Manzone': 45.35591520544912,\n",
       " 'Mapuche Country Club': 2406.046657073306,\n",
       " 'Maquinista Savio': 3680.8791161296635,\n",
       " 'Marcos Paz': 4355.690295843677,\n",
       " 'Mariano Acosta': 4680.716215678934,\n",
       " 'Marinas Golf Barrio Cerrado': 520.2560344733101,\n",
       " 'Martindale Country Club': 831.5710727553153,\n",
       " 'Mart\\xc3\\xadn Coronado': 2456.2931734437625,\n",
       " 'Mart\\xc3\\xadnez': 610.5388355407072,\n",
       " 'Maschwitz': 3862.0453586979197,\n",
       " 'Mataderos': 1504.0435224841374,\n",
       " 'Matheu': 3751.188534169348,\n",
       " 'Mayling Club de Campo': 1373.6254891641358,\n",
       " 'Medal Country Club': 3248.6735562200893,\n",
       " 'Melchor Romero': 4518.088794363476,\n",
       " 'Merlo': 3389.213561445126,\n",
       " 'Ministro Rivadavia': 4264.720667922453,\n",
       " 'Miraflores Country Club': 2446.223948430161,\n",
       " 'Monserrat': 580.3284666680695,\n",
       " 'Monte Castro': 851.6319251768397,\n",
       " 'Monte Chingolo': 3811.8661780687285,\n",
       " 'Monte Grande': 2887.5308889195567,\n",
       " 'Moreno': 2636.806886594255,\n",
       " 'Mor\\xc3\\xb3n': 1764.8123801647735,\n",
       " 'Munro': 1283.3934907743342,\n",
       " 'Mu\\xc3\\xb1iz': 1955.2596815156517,\n",
       " 'M\\xc3\\xa1ximo Paz': 4803.848488415102,\n",
       " 'Nordelta': 349.1633963778603,\n",
       " 'Nu\\xc3\\xb1ez': 116.59675261740728,\n",
       " 'Olivos': 208.31209069952507,\n",
       " 'Olivos Golf Club': 2616.7629435239874,\n",
       " 'Once': 761.3353169016582,\n",
       " 'Pablo Podest\\xc3\\xa1': 4244.624576061259,\n",
       " 'Pacheco Golf Club': 399.67045055836905,\n",
       " 'Palermo': 65.9345987658461,\n",
       " 'Palermo Chico': 12.649454617069695,\n",
       " 'Palermo Hollywood': 96.41485532077712,\n",
       " 'Palermo Soho': 76.12122005134371,\n",
       " 'Palermo Viejo': 177.10963215313703,\n",
       " 'Parque Avellaneda': 1694.6354436384715,\n",
       " 'Parque Centenario': 439.85683270597843,\n",
       " 'Parque Chacabuco': 952.0438515769812,\n",
       " 'Parque Chas': 781.400585881316,\n",
       " 'Parque Leloir': 4163.864660732321,\n",
       " 'Parque Patricios': 901.8341492708224,\n",
       " 'Paso del Rey': 3942.4583467306725,\n",
       " 'Paternal': 791.4261202316882,\n",
       " 'Pereyra': 2055.454960236083,\n",
       " 'Pilar': 1554.1760284991194,\n",
       " 'Pilar Golf Country Club': 126.80756541233396,\n",
       " 'Pilar Green Park': 1544.144481229365,\n",
       " 'Pilar Village': 2757.085896173181,\n",
       " 'Pilar del Lago': 2416.0859736810053,\n",
       " 'Pi\\xc3\\xb1eiro': 3038.118316885437,\n",
       " 'Platanos': 2997.8691366610133,\n",
       " 'Pompeya': 2727.0368688362846,\n",
       " 'Pontevedra': 4845.276468784347,\n",
       " 'Prados del Oeste': 3088.2087849126906,\n",
       " 'Presidente Per\\xc3\\xb3n': 3962.5915753467993,\n",
       " 'Puerto Madero': 0.0,\n",
       " 'QBay Yacht': 218.35013943123627,\n",
       " 'Quilmes': 1022.4376795258747,\n",
       " 'Rafael Calzada': 3178.5116248055433,\n",
       " 'Rafael Castillo': 3610.184342646953,\n",
       " 'Ramos Mej\\xc3\\xada': 1293.4001078272684,\n",
       " 'Ranelagh': 3469.6882574671818,\n",
       " 'Recoleta': 55.74705727285625,\n",
       " 'Remedios de Escalada': 2085.492937273212,\n",
       " 'Retiro': 167.0402894994448,\n",
       " 'Ricardo Rojas': 3439.621036522055,\n",
       " 'Rincon': 500.1216499936987,\n",
       " 'Rincon Del Arca': 540.2828239095898,\n",
       " 'Rinc\\xc3\\xb3n de Milberg': 1474.014921708714,\n",
       " 'Rinc\\xc3\\xb3n de la Costa': 4032.6768527778286,\n",
       " 'Ringuelet': 3992.641084971929,\n",
       " 'Saavedra': 359.4056320063892,\n",
       " 'Saint Matthews': 2717.0284337997073,\n",
       " 'San Alberto': 4598.914343541546,\n",
       " 'San Andres': 2596.686969398739,\n",
       " 'San Antonio De Padua': 3058.167817273058,\n",
       " 'San Carlos': 2867.4674985390693,\n",
       " 'San Cristobal': 680.98590556212,\n",
       " 'San Diego Country Club': 4609.156220740578,\n",
       " 'San Eliseo Country, Golf, Hotel & Spa': 2967.6516763049103,\n",
       " 'San Fernando': 1132.7753066599114,\n",
       " 'San Francisco Club de Campo': 2947.6046127963486,\n",
       " 'San Francisco Solano': 3731.0597477165325,\n",
       " 'San Isidro': 630.6462705529939,\n",
       " 'San Isidro Chico': 23.20286909964299,\n",
       " 'San Jose': 4052.908007990517,\n",
       " 'San Jos\\xc3\\xa9': 3892.202519654595,\n",
       " 'San Juan': 1895.035801515316,\n",
       " 'San Justo': 2155.529157527988,\n",
       " 'San Lorenzo': 4345.381916618698,\n",
       " 'San Mart\\xc3\\xadn': 3158.399390340271,\n",
       " 'San Miguel': 2265.6984888831994,\n",
       " 'San Miguel Oeste': 3630.5155127553553,\n",
       " 'San Miguel de Ghiso': 3570.1108493336174,\n",
       " 'San Nicol\\xc3\\xa1s': 479.9788190556184,\n",
       " 'San Telmo': 389.6527926294086,\n",
       " 'San Vicente': 2817.226348634638,\n",
       " 'Santa Barbara Barrio Cerrado': 278.8154869699531,\n",
       " 'Santa Isabel': 3882.2009676791918,\n",
       " 'Santa Juana': 1062.5652164476608,\n",
       " 'Santa Mar\\xc3\\xada de los Olivos': 3108.2835730545835,\n",
       " 'Santa-Catalina': 1323.473723578036,\n",
       " 'Santos Lugares': 1804.9043467795332,\n",
       " 'Santos Tesei': 4619.656220740578,\n",
       " 'Sarandi': 2015.4098686356194,\n",
       " 'Septiembre': 1484.0188772837575,\n",
       " 'Solar del Bosque': 3932.3894323037584,\n",
       " 'Solares del Talar': 2115.508426501407,\n",
       " 'St. Patrick Country': 1935.11181937276,\n",
       " 'S\\xc3\\xa1enz Pe\\xc3\\xb1a': 1142.8931603514736,\n",
       " 'Talar del Lago 1': 1524.0864724093394,\n",
       " 'Talar del lago 2': 1203.0853292964,\n",
       " 'Tapiales': 2205.6073920387603,\n",
       " 'Temperley': 1574.243247994525,\n",
       " 'Terravista Barrio Privado': 4660.607817163291,\n",
       " 'Tigre': 1002.2002903468937,\n",
       " 'Tolosa': 3399.2249781469773,\n",
       " 'Tortuguitas': 4477.026806961341,\n",
       " 'Tres de Febrero': 2907.5388476610024,\n",
       " 'Tribunales': 550.2904452967639,\n",
       " 'Trist\\xc3\\xa1n Su\\xc3\\xa1rez': 4073.0637183905606,\n",
       " 'Troncos del Talar': 3509.986023204128,\n",
       " 'Trujui': 4721.999764155711,\n",
       " 'Turdera': 2556.57733613398,\n",
       " 'Uribelarrea': 4834.621585274988,\n",
       " 'Valent\\xc3\\xadn Alsina': 2927.5754854219263,\n",
       " 'Velez Sarsfield': 1383.6719592755703,\n",
       " 'Versalles': 1343.492569135336,\n",
       " 'Vicente Casares': 3520.0308084441463,\n",
       " 'Vicente L\\xc3\\xb3pez': 187.18490564504341,\n",
       " 'Victoria': 741.3118356096123,\n",
       " 'Villa Adelina': 2586.6863510532953,\n",
       " 'Villa Ariza': 3499.962735766687,\n",
       " 'Villa Astolfi': 4436.728593879485,\n",
       " 'Villa Ayacucho': 4456.858559839582,\n",
       " 'Villa Ballester': 2035.4293707705867,\n",
       " 'Villa Bertha': 2345.9173593066703,\n",
       " 'Villa Bonich': 2095.4942239591996,\n",
       " 'Villa Bosch': 2295.7925289380983,\n",
       " 'Villa Brown': 4133.609334869634,\n",
       " 'Villa Celina': 2797.180126301228,\n",
       " 'Villa Crespo': 248.6230203065848,\n",
       " 'Villa Devoto': 530.2778183880408,\n",
       " 'Villa Dominico': 2275.702283492228,\n",
       " 'Villa Elisa': 2426.1564211253935,\n",
       " 'Villa Elvira': 1162.9026351284265,\n",
       " 'Villa Espa\\xc3\\xb1a': 1604.2917835474582,\n",
       " 'Villa Fiorito': 4732.142047181893,\n",
       " 'Villa General Mitre': 1042.4805352571047,\n",
       " 'Villa Libertad': 3670.8517417379726,\n",
       " 'Villa Lugano': 2496.432869185466,\n",
       " 'Villa Luro': 650.859297370089,\n",
       " 'Villa Luzuriaga': 2255.6741455386828,\n",
       " 'Villa Lynch': 3148.330980132587,\n",
       " 'Villa Madero': 2536.5254836799872,\n",
       " 'Villa Maipu': 2957.646589962681,\n",
       " 'Villa Martelli': 1925.0694446836171,\n",
       " 'Villa Monteagudo': 3721.0404534197182,\n",
       " 'Villa Ortuzar': 449.8620518501107,\n",
       " 'Villa Pacheco': 2837.2903773458415,\n",
       " 'Villa Pueyrred\\xc3\\xb3n': 801.462660705365,\n",
       " 'Villa Raffo': 2135.5199737493467,\n",
       " 'Villa Real': 1353.5392276768296,\n",
       " 'Villa Riachuelo': 2606.690408774427,\n",
       " 'Villa Rosa': 1534.1418943870337,\n",
       " 'Villa Santa Rita': 841.5926138633628,\n",
       " 'Villa Sarmiento': 1774.8302593978717,\n",
       " 'Villa Soldati': 3298.8365462845336,\n",
       " 'Villa Tesei': 4113.472010323579,\n",
       " 'Villa Udaondo': 4173.910448770495,\n",
       " 'Villa Urquiza': 268.7594808463566,\n",
       " 'Villa Vatteone': 3017.9477229238064,\n",
       " 'Villa de Mayo': 2897.5369043016135,\n",
       " 'Villa del Parque': 510.1247176150052,\n",
       " 'Village Golf & Tennis Country Club': 2235.6438097412183,\n",
       " 'Virrey del Pino': 4376.000190032653,\n",
       " 'Virreyes': 3338.9694005414717,\n",
       " 'Wilde': 1263.3195354928455,\n",
       " 'William Morris': 3218.6011557991037,\n",
       " 'Zeballos': 4426.716245316257,\n",
       " 'Zelaya': 4315.002911717849,\n",
       " 'coordenadas 34.255511': 419.7208996113941}"
      ]
     },
     "execution_count": 25,
     "metadata": {},
     "output_type": "execute_result"
    }
   ],
   "source": [
    "HGdics"
   ]
  },
  {
   "cell_type": "code",
   "execution_count": 26,
   "metadata": {
    "collapsed": true
   },
   "outputs": [],
   "source": [
    "def asignarPVsegunEnt(name):\n",
    "    if(HGdics.has_key(name)):\n",
    "        return HGdics[name]\n",
    "    return np.nan"
   ]
  },
  {
   "cell_type": "code",
   "execution_count": 27,
   "metadata": {
    "collapsed": true
   },
   "outputs": [],
   "source": [
    "#hay que armar los hoodGropus segun los resultados del set de Entrenamiento\n",
    "p[\"place_value\"] = p.apply(lambda x: asignarPVsegunEnt(x[1]), axis=1)"
   ]
  },
  {
   "cell_type": "code",
   "execution_count": 28,
   "metadata": {
    "collapsed": true
   },
   "outputs": [],
   "source": [
    "#completo las superficies totales con las cubiertas\n",
    "p['surface_total_in_m2'] = p.apply(lambda row: row[3] if(np.all(pd.isnull(row[2]))) else row[2], axis=1)"
   ]
  },
  {
   "cell_type": "code",
   "execution_count": 29,
   "metadata": {
    "collapsed": true
   },
   "outputs": [],
   "source": [
    "pPru = p[['property_type','surface_total_in_m2',\\\n",
    "        'lat','lon','Cant_ColeYUniv','Cant_LocalesGastronomicos',\n",
    "         'Cant_ParadasTransporte', 'place_value']]"
   ]
  },
  {
   "cell_type": "markdown",
   "metadata": {},
   "source": [
    "# PRUEBA Random Forest Regresivo"
   ]
  },
  {
   "cell_type": "code",
   "execution_count": 30,
   "metadata": {
    "collapsed": true
   },
   "outputs": [],
   "source": [
    "Xtrn, Xtest, Ytrn, Ytest = train_test_split(pEnt[['property_type','surface_total_in_m2',\n",
    "        'lat','lon','Cant_ColeYUniv','Cant_LocalesGastronomicos','Cant_ParadasTransporte',\n",
    "        'place_value']],pEnt[['price_usd_per_m2']],test_size=0.0)"
   ]
  },
  {
   "cell_type": "code",
   "execution_count": 31,
   "metadata": {},
   "outputs": [
    {
     "data": {
      "text/plain": [
       "RandomForestRegressor(bootstrap=True, criterion='mse', max_depth=None,\n",
       "           max_features='auto', max_leaf_nodes=None,\n",
       "           min_impurity_decrease=0.0, min_impurity_split=None,\n",
       "           min_samples_leaf=1, min_samples_split=4,\n",
       "           min_weight_fraction_leaf=0.0, n_estimators=10, n_jobs=1,\n",
       "           oob_score=False, random_state=None, verbose=0, warm_start=False)"
      ]
     },
     "execution_count": 31,
     "metadata": {},
     "output_type": "execute_result"
    }
   ],
   "source": [
    "#definir el modelo a probar\n",
    "model = RandomForestRegressor(n_estimators=10, max_features='auto', min_samples_leaf=1, min_samples_split=4, bootstrap=True)\n",
    "n = 10\n",
    "\n",
    "#fit model on training dataset\n",
    "model.fit(Xtrn, Ytrn['price_usd_per_m2'])"
   ]
  },
  {
   "cell_type": "code",
   "execution_count": 31,
   "metadata": {},
   "outputs": [
    {
     "name": "stdout",
     "output_type": "stream",
     "text": [
      "<class 'pandas.core.frame.DataFrame'>\n",
      "RangeIndex: 14166 entries, 0 to 14165\n",
      "Data columns (total 8 columns):\n",
      "property_type                14166 non-null int64\n",
      "surface_total_in_m2          13392 non-null float64\n",
      "lat                          12586 non-null float64\n",
      "lon                          12586 non-null float64\n",
      "Cant_ColeYUniv               12586 non-null float64\n",
      "Cant_LocalesGastronomicos    12586 non-null float64\n",
      "Cant_ParadasTransporte       12586 non-null float64\n",
      "place_value                  14157 non-null float64\n",
      "dtypes: float64(7), int64(1)\n",
      "memory usage: 885.4 KB\n"
     ]
    }
   ],
   "source": [
    "pPru.info()"
   ]
  },
  {
   "cell_type": "code",
   "execution_count": 33,
   "metadata": {
    "collapsed": true
   },
   "outputs": [],
   "source": [
    "from sklearn.preprocessing import Imputer\n",
    "#hay que llenar el resto de los valores nan\n",
    "\n",
    "# Create our imputer to replace missing values with the mean e.g.\n",
    "imp = Imputer(missing_values=np.nan, strategy='mean', axis=0)\n",
    "imp = imp.fit(Xtrn)\n",
    "\n",
    "pPru_imp = imp.transform(pPru)"
   ]
  },
  {
   "cell_type": "code",
   "execution_count": 34,
   "metadata": {},
   "outputs": [
    {
     "name": "stderr",
     "output_type": "stream",
     "text": [
      "/usr/local/lib/python2.7/dist-packages/ipykernel_launcher.py:1: SettingWithCopyWarning: \n",
      "A value is trying to be set on a copy of a slice from a DataFrame.\n",
      "Try using .loc[row_indexer,col_indexer] = value instead\n",
      "\n",
      "See the caveats in the documentation: http://pandas.pydata.org/pandas-docs/stable/indexing.html#indexing-view-versus-copy\n",
      "  \"\"\"Entry point for launching an IPython kernel.\n"
     ]
    }
   ],
   "source": [
    "pPru['price_usd_per_m2'] = model.predict(pPru_imp)"
   ]
  },
  {
   "cell_type": "code",
   "execution_count": 35,
   "metadata": {},
   "outputs": [
    {
     "name": "stdout",
     "output_type": "stream",
     "text": [
      "<class 'pandas.core.frame.DataFrame'>\n",
      "RangeIndex: 14166 entries, 0 to 14165\n",
      "Data columns (total 9 columns):\n",
      "property_type                14166 non-null int64\n",
      "surface_total_in_m2          13392 non-null float64\n",
      "lat                          12586 non-null float64\n",
      "lon                          12586 non-null float64\n",
      "Cant_ColeYUniv               12586 non-null float64\n",
      "Cant_LocalesGastronomicos    12586 non-null float64\n",
      "Cant_ParadasTransporte       12586 non-null float64\n",
      "place_value                  14156 non-null float64\n",
      "price_usd_per_m2             14166 non-null float64\n",
      "dtypes: float64(8), int64(1)\n",
      "memory usage: 996.1 KB\n"
     ]
    }
   ],
   "source": [
    "pPru.info()"
   ]
  },
  {
   "cell_type": "code",
   "execution_count": 36,
   "metadata": {
    "collapsed": true
   },
   "outputs": [],
   "source": [
    "pPru['price_usd'] = pPru.apply(lambda row: row[8]*206.87862809 if(np.all(pd.isnull(row[1]))) else row[1]*row[8], axis=1)"
   ]
  },
  {
   "cell_type": "code",
   "execution_count": 37,
   "metadata": {
    "collapsed": true
   },
   "outputs": [],
   "source": [
    "result = pd.DataFrame()"
   ]
  },
  {
   "cell_type": "code",
   "execution_count": 38,
   "metadata": {
    "collapsed": true
   },
   "outputs": [],
   "source": [
    "result[\"id\"] = proper[\"id\"]"
   ]
  },
  {
   "cell_type": "code",
   "execution_count": 39,
   "metadata": {
    "collapsed": true
   },
   "outputs": [],
   "source": [
    "result[\"price_usd\"] = pPru['price_usd']"
   ]
  },
  {
   "cell_type": "code",
   "execution_count": 40,
   "metadata": {},
   "outputs": [
    {
     "data": {
      "text/html": [
       "<div>\n",
       "<style>\n",
       "    .dataframe thead tr:only-child th {\n",
       "        text-align: right;\n",
       "    }\n",
       "\n",
       "    .dataframe thead th {\n",
       "        text-align: left;\n",
       "    }\n",
       "\n",
       "    .dataframe tbody tr th {\n",
       "        vertical-align: top;\n",
       "    }\n",
       "</style>\n",
       "<table border=\"1\" class=\"dataframe\">\n",
       "  <thead>\n",
       "    <tr style=\"text-align: right;\">\n",
       "      <th></th>\n",
       "      <th>id</th>\n",
       "      <th>price_usd</th>\n",
       "    </tr>\n",
       "  </thead>\n",
       "  <tbody>\n",
       "    <tr>\n",
       "      <th>0</th>\n",
       "      <td>2316505</td>\n",
       "      <td>205542.281082</td>\n",
       "    </tr>\n",
       "    <tr>\n",
       "      <th>1</th>\n",
       "      <td>2320880</td>\n",
       "      <td>213346.722214</td>\n",
       "    </tr>\n",
       "    <tr>\n",
       "      <th>2</th>\n",
       "      <td>2321742</td>\n",
       "      <td>221229.082068</td>\n",
       "    </tr>\n",
       "    <tr>\n",
       "      <th>3</th>\n",
       "      <td>2276796</td>\n",
       "      <td>94887.418245</td>\n",
       "    </tr>\n",
       "    <tr>\n",
       "      <th>4</th>\n",
       "      <td>2330364</td>\n",
       "      <td>65717.389440</td>\n",
       "    </tr>\n",
       "  </tbody>\n",
       "</table>\n",
       "</div>"
      ],
      "text/plain": [
       "        id      price_usd\n",
       "0  2316505  205542.281082\n",
       "1  2320880  213346.722214\n",
       "2  2321742  221229.082068\n",
       "3  2276796   94887.418245\n",
       "4  2330364   65717.389440"
      ]
     },
     "execution_count": 40,
     "metadata": {},
     "output_type": "execute_result"
    }
   ],
   "source": [
    "result.head()"
   ]
  },
  {
   "cell_type": "code",
   "execution_count": 41,
   "metadata": {
    "collapsed": true
   },
   "outputs": [],
   "source": [
    "result.to_csv(index=False, path_or_buf=\"results2PhiAlpha.csv\")"
   ]
  },
  {
   "cell_type": "code",
   "execution_count": 42,
   "metadata": {
    "collapsed": true
   },
   "outputs": [],
   "source": [
    "result[\"real_price_usd\"] = proper['price_aprox_usd']"
   ]
  }
 ],
 "metadata": {
  "kernelspec": {
   "display_name": "Python 2",
   "language": "python",
   "name": "python2"
  },
  "language_info": {
   "codemirror_mode": {
    "name": "ipython",
    "version": 2
   },
   "file_extension": ".py",
   "mimetype": "text/x-python",
   "name": "python",
   "nbconvert_exporter": "python",
   "pygments_lexer": "ipython2",
   "version": "2.7.14"
  }
 },
 "nbformat": 4,
 "nbformat_minor": 2
}
