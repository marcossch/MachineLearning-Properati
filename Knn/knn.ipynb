{
 "cells": [
  {
   "cell_type": "code",
   "execution_count": 1,
   "metadata": {},
   "outputs": [
    {
     "name": "stderr",
     "output_type": "stream",
     "text": [
      "/usr/local/lib/python2.7/dist-packages/sklearn/cross_validation.py:41: DeprecationWarning: This module was deprecated in version 0.18 in favor of the model_selection module into which all the refactored classes and functions are moved. Also note that the interface of the new CV iterators are different from that of this module. This module will be removed in 0.20.\n",
      "  \"This module will be removed in 0.20.\", DeprecationWarning)\n"
     ]
    }
   ],
   "source": [
    "import pandas as pd\n",
    "import numpy as np\n",
    "import cPickle as pickle\n",
    "\n",
    "from sklearn import neighbors\n",
    "from sklearn.metrics import mean_squared_error\n",
    "from sklearn.cross_validation import train_test_split\n",
    "from sklearn.model_selection import GridSearchCV"
   ]
  },
  {
   "cell_type": "code",
   "execution_count": 2,
   "metadata": {
    "collapsed": true
   },
   "outputs": [],
   "source": [
    "prop = pickle.load(open(\"../../datos/Data.p\",\"rb\"))"
   ]
  },
  {
   "cell_type": "markdown",
   "metadata": {},
   "source": [
    "# Nos quedamos con la parte del set de datos que nos importa"
   ]
  },
  {
   "cell_type": "code",
   "execution_count": 3,
   "metadata": {
    "scrolled": true
   },
   "outputs": [
    {
     "name": "stderr",
     "output_type": "stream",
     "text": [
      "/home/facundo/.local/lib/python2.7/site-packages/ipykernel_launcher.py:3: SettingWithCopyWarning: \n",
      "A value is trying to be set on a copy of a slice from a DataFrame\n",
      "\n",
      "See the caveats in the documentation: http://pandas.pydata.org/pandas-docs/stable/indexing.html#indexing-view-versus-copy\n",
      "  This is separate from the ipykernel package so we can avoid doing imports until\n"
     ]
    }
   ],
   "source": [
    "p = prop[['property_type','place_name','surface_total_in_m2','surface_covered_in_m2',\\\n",
    "          'price_usd_per_m2','latlon','Cant_ColeYUniv','Cant_LocalesGastronomicos',\n",
    "         'Cant_LugaresTuristicos']]\n",
    "p.dropna(inplace = True)"
   ]
  },
  {
   "cell_type": "markdown",
   "metadata": {},
   "source": [
    "# Separamos la Latitud-Longitud"
   ]
  },
  {
   "cell_type": "code",
   "execution_count": 4,
   "metadata": {},
   "outputs": [
    {
     "name": "stderr",
     "output_type": "stream",
     "text": [
      "/home/facundo/.local/lib/python2.7/site-packages/ipykernel_launcher.py:1: SettingWithCopyWarning: \n",
      "A value is trying to be set on a copy of a slice from a DataFrame.\n",
      "Try using .loc[row_indexer,col_indexer] = value instead\n",
      "\n",
      "See the caveats in the documentation: http://pandas.pydata.org/pandas-docs/stable/indexing.html#indexing-view-versus-copy\n",
      "  \"\"\"Entry point for launching an IPython kernel.\n"
     ]
    }
   ],
   "source": [
    "p['lat'] = p.apply(lambda row: row[5][0], axis=1)"
   ]
  },
  {
   "cell_type": "code",
   "execution_count": 5,
   "metadata": {},
   "outputs": [
    {
     "name": "stderr",
     "output_type": "stream",
     "text": [
      "/home/facundo/.local/lib/python2.7/site-packages/ipykernel_launcher.py:1: SettingWithCopyWarning: \n",
      "A value is trying to be set on a copy of a slice from a DataFrame.\n",
      "Try using .loc[row_indexer,col_indexer] = value instead\n",
      "\n",
      "See the caveats in the documentation: http://pandas.pydata.org/pandas-docs/stable/indexing.html#indexing-view-versus-copy\n",
      "  \"\"\"Entry point for launching an IPython kernel.\n"
     ]
    }
   ],
   "source": [
    "p['lon'] = p.apply(lambda row: row[5][1], axis=1)"
   ]
  },
  {
   "cell_type": "code",
   "execution_count": 6,
   "metadata": {
    "collapsed": true
   },
   "outputs": [],
   "source": [
    "p = p[['property_type','place_name','surface_total_in_m2','surface_covered_in_m2',\\\n",
    "          'price_usd_per_m2','lat','lon','Cant_ColeYUniv','Cant_LocalesGastronomicos',\n",
    "         'Cant_LugaresTuristicos']]"
   ]
  },
  {
   "cell_type": "markdown",
   "metadata": {},
   "source": [
    "# Asignamos un valor numerico al tipo de propiedad"
   ]
  },
  {
   "cell_type": "code",
   "execution_count": 7,
   "metadata": {
    "collapsed": true
   },
   "outputs": [],
   "source": [
    "def asignarPT( p ):\n",
    "    if p == 'apartment':\n",
    "        return 0\n",
    "    if p == 'house':\n",
    "        return 1\n",
    "    if p == 'store':\n",
    "        return 2\n",
    "    return 3"
   ]
  },
  {
   "cell_type": "code",
   "execution_count": 8,
   "metadata": {
    "collapsed": true
   },
   "outputs": [],
   "source": [
    "p['property_type'] = p.apply(lambda x: asignarPT(x[0]), axis = 1)"
   ]
  },
  {
   "cell_type": "markdown",
   "metadata": {},
   "source": [
    "# Asignamos un valor a los barrios"
   ]
  },
  {
   "cell_type": "code",
   "execution_count": 9,
   "metadata": {
    "collapsed": true
   },
   "outputs": [],
   "source": [
    "def asignarPV(name, dic):\n",
    "    return dic[name]"
   ]
  },
  {
   "cell_type": "code",
   "execution_count": 10,
   "metadata": {
    "collapsed": true
   },
   "outputs": [],
   "source": [
    "hoodGroups = p[[\"place_name\", \"price_usd_per_m2\"]]\n",
    "hoodGroups = hoodGroups.groupby(\"place_name\").agg([np.mean]).reset_index()\n",
    "hoodGroups = hoodGroups.sort_values(by=(\"price_usd_per_m2\", \"mean\"), ascending=False)"
   ]
  },
  {
   "cell_type": "code",
   "execution_count": 11,
   "metadata": {
    "collapsed": true
   },
   "outputs": [],
   "source": [
    "HGdics = {}\n",
    "precio_ant = 0\n",
    "val_ant = 0\n",
    "for row in hoodGroups.iterrows():\n",
    "    name = row[1][0]\n",
    "    price = row[1][1]\n",
    "    val = val_ant + (precio_ant/price)*10\n",
    "    HGdics[name] = val\n",
    "    precio_ant = price\n",
    "    val_ant = val"
   ]
  },
  {
   "cell_type": "code",
   "execution_count": 12,
   "metadata": {
    "collapsed": true
   },
   "outputs": [],
   "source": [
    "p[\"place_value\"] = p.apply(lambda x: asignarPV(x[1], HGdics), axis=1)"
   ]
  },
  {
   "cell_type": "code",
   "execution_count": 13,
   "metadata": {
    "collapsed": true
   },
   "outputs": [],
   "source": [
    "p = p[['property_type','surface_total_in_m2','surface_covered_in_m2',\\\n",
    "          'price_usd_per_m2','lat','lon','Cant_ColeYUniv','Cant_LocalesGastronomicos',\n",
    "         'Cant_LugaresTuristicos', 'place_value']]"
   ]
  },
  {
   "cell_type": "markdown",
   "metadata": {},
   "source": [
    "# Separamos los datos"
   ]
  },
  {
   "cell_type": "code",
   "execution_count": 14,
   "metadata": {
    "collapsed": true
   },
   "outputs": [],
   "source": [
    "Xtrn, Xtest, Ytrn, Ytest = train_test_split(p[['property_type','surface_total_in_m2','surface_covered_in_m2',\n",
    "        'lat','lon','Cant_ColeYUniv','Cant_LocalesGastronomicos','Cant_LugaresTuristicos',\n",
    "        'place_value']],p[['price_usd_per_m2']],test_size=0.2)"
   ]
  },
  {
   "cell_type": "code",
   "execution_count": 15,
   "metadata": {
    "collapsed": true
   },
   "outputs": [],
   "source": [
    "columnas = ['surface_total_in_m2','surface_covered_in_m2',\\\n",
    "        'Cant_ColeYUniv','Cant_LocalesGastronomicos',\\\n",
    "        'Cant_LugaresTuristicos']"
   ]
  },
  {
   "cell_type": "markdown",
   "metadata": {},
   "source": [
    "# Intentamos aproximar un poco los parametros"
   ]
  },
  {
   "cell_type": "code",
   "execution_count": 16,
   "metadata": {
    "collapsed": true
   },
   "outputs": [],
   "source": [
    "#Parametros modificables de knn\n",
    "lista_distancias = [1,2] #1 es manhattan, 2 euclidea\n",
    "lista_vecinos = [x for x in xrange(1,10)]\n",
    "lista_algoritmos = ['auto', 'ball_tree', 'kd_tree']"
   ]
  },
  {
   "cell_type": "code",
   "execution_count": 17,
   "metadata": {
    "collapsed": true
   },
   "outputs": [],
   "source": [
    "aux = Ytest.copy()"
   ]
  },
  {
   "cell_type": "code",
   "execution_count": 18,
   "metadata": {},
   "outputs": [],
   "source": [
    "res = []\n",
    "for k in lista_vecinos:\n",
    "    for d in lista_distancias:\n",
    "        for a in lista_algoritmos:\n",
    "            aux = Ytest.copy()\n",
    "            #Inicializo la instancia del algoritmo\n",
    "            knn = neighbors.KNeighborsRegressor(n_neighbors = k, p = d, algorithm = a)\n",
    "            knn.fit(Xtrn, Ytrn['price_usd_per_m2'])\n",
    "            aux['predict'] = knn.predict(Xtest)\n",
    "\n",
    "            error = mean_squared_error(Ytest['price_usd_per_m2'] , aux['predict'])\n",
    "\n",
    "            res.append( (error, k, d, a) )"
   ]
  },
  {
   "cell_type": "code",
   "execution_count": 19,
   "metadata": {},
   "outputs": [],
   "source": [
    "r = sorted(res, key=lambda x: x[0])"
   ]
  },
  {
   "cell_type": "code",
   "execution_count": 20,
   "metadata": {},
   "outputs": [
    {
     "data": {
      "text/plain": [
       "[(2299834.5070826081, 6, 2, 'ball_tree'),\n",
       " (2307109.634610658, 6, 2, 'auto'),\n",
       " (2307109.634610658, 6, 2, 'kd_tree'),\n",
       " (2361943.5971206012, 9, 2, 'ball_tree'),\n",
       " (2363295.075004037, 7, 2, 'auto'),\n",
       " (2363295.075004037, 7, 2, 'kd_tree'),\n",
       " (2368018.8626786331, 7, 2, 'ball_tree'),\n",
       " (2373290.8836572524, 9, 2, 'auto'),\n",
       " (2373290.8836572524, 9, 2, 'kd_tree'),\n",
       " (2382174.762903797, 4, 2, 'auto'),\n",
       " (2382174.762903797, 4, 2, 'kd_tree'),\n",
       " (2382969.415200315, 8, 2, 'ball_tree'),\n",
       " (2385498.8054157249, 8, 2, 'auto'),\n",
       " (2385498.8054157249, 8, 2, 'kd_tree'),\n",
       " (2386834.7957841023, 5, 2, 'ball_tree'),\n",
       " (2387107.0924589806, 5, 2, 'auto'),\n",
       " (2387107.0924589806, 5, 2, 'kd_tree'),\n",
       " (2399036.0819214834, 4, 2, 'ball_tree'),\n",
       " (2437656.4514541905, 3, 2, 'ball_tree'),\n",
       " (2440705.4293426722, 3, 2, 'auto'),\n",
       " (2440705.4293426722, 3, 2, 'kd_tree'),\n",
       " (2609357.3506056569, 2, 2, 'ball_tree'),\n",
       " (2609719.4981135312, 2, 2, 'auto'),\n",
       " (2609719.4981135312, 2, 2, 'kd_tree'),\n",
       " (3315239.9984260169, 1, 2, 'auto'),\n",
       " (3315239.9984260169, 1, 2, 'kd_tree'),\n",
       " (3328264.8299265546, 1, 2, 'ball_tree'),\n",
       " (3407314.480778412, 1, 1, 'ball_tree'),\n",
       " (3412845.8044259357, 1, 1, 'auto'),\n",
       " (3412845.8044259357, 1, 1, 'kd_tree'),\n",
       " (5430583.3939737678, 9, 1, 'ball_tree'),\n",
       " (5434198.1086720238, 9, 1, 'auto'),\n",
       " (5434198.1086720238, 9, 1, 'kd_tree'),\n",
       " (6253495.652832414, 8, 1, 'auto'),\n",
       " (6253495.652832414, 8, 1, 'kd_tree'),\n",
       " (6273406.7750620237, 8, 1, 'ball_tree'),\n",
       " (7398654.6537948316, 7, 1, 'auto'),\n",
       " (7398654.6537948316, 7, 1, 'kd_tree'),\n",
       " (7418429.7941035759, 7, 1, 'ball_tree'),\n",
       " (9116188.9899838697, 6, 1, 'auto'),\n",
       " (9116188.9899838697, 6, 1, 'kd_tree'),\n",
       " (9138629.4641896132, 6, 1, 'ball_tree'),\n",
       " (9732727.8596556429, 4, 1, 'auto'),\n",
       " (9732727.8596556429, 4, 1, 'kd_tree'),\n",
       " (9744653.8601943441, 4, 1, 'ball_tree'),\n",
       " (11996594.474697217, 5, 1, 'auto'),\n",
       " (11996594.474697217, 5, 1, 'kd_tree'),\n",
       " (12021876.584370747, 5, 1, 'ball_tree'),\n",
       " (15662163.17848634, 3, 1, 'auto'),\n",
       " (15662163.17848634, 3, 1, 'kd_tree'),\n",
       " (15673017.846235497, 3, 1, 'ball_tree'),\n",
       " (32261269.937586397, 2, 1, 'auto'),\n",
       " (32261269.937586397, 2, 1, 'kd_tree'),\n",
       " (32292362.699826695, 2, 1, 'ball_tree')]"
      ]
     },
     "execution_count": 20,
     "metadata": {},
     "output_type": "execute_result"
    }
   ],
   "source": [
    "#aca podemos ver una busqueda aproximada de los parametros.\n",
    "r"
   ]
  },
  {
   "cell_type": "markdown",
   "metadata": {},
   "source": [
    "# Vamos a hacer lo mismo con greed search"
   ]
  },
  {
   "cell_type": "code",
   "execution_count": 40,
   "metadata": {},
   "outputs": [],
   "source": [
    "aux = pickle.load(open(\"../../datos/Data.p\",\"rb\"))\n",
    "\n",
    "aux = aux[['surface_total_in_m2',\\\n",
    "          'price_usd_per_m2','Cant_ColeYUniv','Cant_LocalesGastronomicos',\n",
    "         'Cant_LugaresTuristicos']]\n",
    "\n",
    "aux.dropna(inplace= True)\n",
    "\n",
    "busqP = aux[['surface_total_in_m2',\\\n",
    "          'Cant_ColeYUniv','Cant_LocalesGastronomicos',\n",
    "         'Cant_LugaresTuristicos']]\n",
    "\n",
    "resP = aux[['price_usd_per_m2']]"
   ]
  },
  {
   "cell_type": "code",
   "execution_count": 31,
   "metadata": {},
   "outputs": [],
   "source": [
    "param = {'n_neighbors': [x for x in xrange(1,30)], 'p':[lista_distancias]}\n",
    "knn2 = neighbors.KNeighborsRegressor()"
   ]
  },
  {
   "cell_type": "code",
   "execution_count": 37,
   "metadata": {},
   "outputs": [],
   "source": [
    "gs = GridSearchCV( estimator=knn2, param_grid=param )"
   ]
  },
  {
   "cell_type": "code",
   "execution_count": null,
   "metadata": {
    "collapsed": true
   },
   "outputs": [],
   "source": [
    "gs.fit(busqP, resP )"
   ]
  },
  {
   "cell_type": "code",
   "execution_count": null,
   "metadata": {
    "collapsed": true
   },
   "outputs": [],
   "source": []
  }
 ],
 "metadata": {
  "kernelspec": {
   "display_name": "Python 2",
   "language": "python",
   "name": "python2"
  },
  "language_info": {
   "codemirror_mode": {
    "name": "ipython",
    "version": 2
   },
   "file_extension": ".py",
   "mimetype": "text/x-python",
   "name": "python",
   "nbconvert_exporter": "python",
   "pygments_lexer": "ipython2",
   "version": "2.7.14"
  }
 },
 "nbformat": 4,
 "nbformat_minor": 2
}
