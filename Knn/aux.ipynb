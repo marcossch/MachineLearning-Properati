{
 "cells": [
  {
   "cell_type": "code",
   "execution_count": 1,
   "metadata": {
    "collapsed": true
   },
   "outputs": [],
   "source": [
    "import pandas as pd\n",
    "import numpy as np\n",
    "from sklearn import neighbors\n",
    "import cPickle as pickle"
   ]
  },
  {
   "cell_type": "code",
   "execution_count": 2,
   "metadata": {
    "collapsed": true
   },
   "outputs": [],
   "source": [
    "prop = pickle.load(open(\"../../datos/Data.p\",\"rb\"))"
   ]
  },
  {
   "cell_type": "code",
   "execution_count": 3,
   "metadata": {
    "scrolled": true
   },
   "outputs": [
    {
     "name": "stderr",
     "output_type": "stream",
     "text": [
      "/home/facundo/.local/lib/python2.7/site-packages/ipykernel_launcher.py:3: SettingWithCopyWarning: \n",
      "A value is trying to be set on a copy of a slice from a DataFrame\n",
      "\n",
      "See the caveats in the documentation: http://pandas.pydata.org/pandas-docs/stable/indexing.html#indexing-view-versus-copy\n",
      "  This is separate from the ipykernel package so we can avoid doing imports until\n"
     ]
    }
   ],
   "source": [
    "p = prop[['surface_total_in_m2','surface_covered_in_m2',\\\n",
    "          'price_usd_per_m2','Cant_ColeYUniv','Cant_LocalesGastronomicos',\n",
    "         'Cant_LugaresTuristicos']]\n",
    "p.dropna(inplace = True)"
   ]
  },
  {
   "cell_type": "markdown",
   "metadata": {},
   "source": [
    "# Pruebo primero entrenando con el 80% y dejo el 20% para probar"
   ]
  },
  {
   "cell_type": "code",
   "execution_count": null,
   "metadata": {},
   "outputs": [],
   "source": [
    "#Esta inicializacion del set no se porque no es lo mismoo!!!\n",
    "#pERO\n",
    "\n",
    "columnas = ['surface_total_in_m2','surface_covered_in_m2',\\\n",
    "            'Cant_ColeYUniv','Cant_LocalesGastronomicos','Cant_LugaresTuristicos']\n",
    "columnas_precio = columnas + ['price_usd_per_m2']\n",
    "set_entrenamiento = p.loc[:,columnas_precio]\n",
    "pruebas = p.loc[:,columnas_precio].head(20000)\n",
    "\n",
    "datosEntrenamiento = set_entrenamiento.loc[:,columnas]\n",
    "resultadosEntrenamiento = set_entrenamiento.loc[:,'price_usd_per_m2']"
   ]
  },
  {
   "cell_type": "code",
   "execution_count": 4,
   "metadata": {
    "collapsed": true
   },
   "outputs": [],
   "source": [
    "datosEntrenamiento = p[['surface_total_in_m2','surface_covered_in_m2',\\\n",
    "                  'Cant_ColeYUniv','Cant_LocalesGastronomicos',\\\n",
    "                   'Cant_LugaresTuristicos']].head(54822)\n",
    "\n",
    "resultadosEntrenamiento = p[['price_usd_per_m2']].head(54822)\n",
    "\n",
    "pruebas = p[['surface_total_in_m2','surface_covered_in_m2',\\\n",
    "                  'Cant_ColeYUniv','Cant_LocalesGastronomicos',\\\n",
    "                   'Cant_LugaresTuristicos']].tail(13706)"
   ]
  },
  {
   "cell_type": "code",
   "execution_count": 5,
   "metadata": {},
   "outputs": [
    {
     "data": {
      "text/plain": [
       "KNeighborsRegressor(algorithm='auto', leaf_size=30, metric='minkowski',\n",
       "          metric_params=None, n_jobs=1, n_neighbors=5, p=2,\n",
       "          weights='uniform')"
      ]
     },
     "execution_count": 5,
     "metadata": {},
     "output_type": "execute_result"
    }
   ],
   "source": [
    "#Inicializo la instancia del algoritmo\n",
    "knn = neighbors.KNeighborsRegressor()\n",
    "knn.fit(datosEntrenamiento, resultadosEntrenamiento)"
   ]
  },
  {
   "cell_type": "code",
   "execution_count": 7,
   "metadata": {
    "collapsed": true
   },
   "outputs": [],
   "source": [
    "columnas = ['surface_total_in_m2','surface_covered_in_m2',\\\n",
    "        'Cant_ColeYUniv','Cant_LocalesGastronomicos',\\\n",
    "        'Cant_LugaresTuristicos']"
   ]
  },
  {
   "cell_type": "code",
   "execution_count": 8,
   "metadata": {},
   "outputs": [],
   "source": [
    "pruebas.loc[:,'resultado'] = pruebas.loc[:,columnas].apply(lambda x: knn.predict([x])[0],axis = 1)"
   ]
  },
  {
   "cell_type": "code",
   "execution_count": 9,
   "metadata": {},
   "outputs": [
    {
     "data": {
      "text/html": [
       "<div>\n",
       "<style>\n",
       "    .dataframe thead tr:only-child th {\n",
       "        text-align: right;\n",
       "    }\n",
       "\n",
       "    .dataframe thead th {\n",
       "        text-align: left;\n",
       "    }\n",
       "\n",
       "    .dataframe tbody tr th {\n",
       "        vertical-align: top;\n",
       "    }\n",
       "</style>\n",
       "<table border=\"1\" class=\"dataframe\">\n",
       "  <thead>\n",
       "    <tr style=\"text-align: right;\">\n",
       "      <th></th>\n",
       "      <th>surface_total_in_m2</th>\n",
       "      <th>surface_covered_in_m2</th>\n",
       "      <th>Cant_ColeYUniv</th>\n",
       "      <th>Cant_LocalesGastronomicos</th>\n",
       "      <th>Cant_LugaresTuristicos</th>\n",
       "      <th>resultado</th>\n",
       "    </tr>\n",
       "  </thead>\n",
       "  <tbody>\n",
       "    <tr>\n",
       "      <th>57784</th>\n",
       "      <td>112.0</td>\n",
       "      <td>104.0</td>\n",
       "      <td>17</td>\n",
       "      <td>160</td>\n",
       "      <td>5</td>\n",
       "      <td>NaN</td>\n",
       "    </tr>\n",
       "    <tr>\n",
       "      <th>57785</th>\n",
       "      <td>120.0</td>\n",
       "      <td>120.0</td>\n",
       "      <td>53</td>\n",
       "      <td>199</td>\n",
       "      <td>20</td>\n",
       "      <td>NaN</td>\n",
       "    </tr>\n",
       "    <tr>\n",
       "      <th>57786</th>\n",
       "      <td>22.0</td>\n",
       "      <td>22.0</td>\n",
       "      <td>31</td>\n",
       "      <td>109</td>\n",
       "      <td>7</td>\n",
       "      <td>NaN</td>\n",
       "    </tr>\n",
       "    <tr>\n",
       "      <th>57787</th>\n",
       "      <td>214.0</td>\n",
       "      <td>200.0</td>\n",
       "      <td>4</td>\n",
       "      <td>39</td>\n",
       "      <td>3</td>\n",
       "      <td>NaN</td>\n",
       "    </tr>\n",
       "    <tr>\n",
       "      <th>57788</th>\n",
       "      <td>263.0</td>\n",
       "      <td>263.0</td>\n",
       "      <td>5</td>\n",
       "      <td>11</td>\n",
       "      <td>0</td>\n",
       "      <td>NaN</td>\n",
       "    </tr>\n",
       "    <tr>\n",
       "      <th>57790</th>\n",
       "      <td>43.0</td>\n",
       "      <td>36.0</td>\n",
       "      <td>11</td>\n",
       "      <td>44</td>\n",
       "      <td>4</td>\n",
       "      <td>NaN</td>\n",
       "    </tr>\n",
       "    <tr>\n",
       "      <th>57791</th>\n",
       "      <td>50.0</td>\n",
       "      <td>50.0</td>\n",
       "      <td>8</td>\n",
       "      <td>56</td>\n",
       "      <td>8</td>\n",
       "      <td>NaN</td>\n",
       "    </tr>\n",
       "    <tr>\n",
       "      <th>57792</th>\n",
       "      <td>155.0</td>\n",
       "      <td>135.0</td>\n",
       "      <td>0</td>\n",
       "      <td>9</td>\n",
       "      <td>0</td>\n",
       "      <td>NaN</td>\n",
       "    </tr>\n",
       "    <tr>\n",
       "      <th>57793</th>\n",
       "      <td>450.0</td>\n",
       "      <td>450.0</td>\n",
       "      <td>2</td>\n",
       "      <td>12</td>\n",
       "      <td>2</td>\n",
       "      <td>NaN</td>\n",
       "    </tr>\n",
       "    <tr>\n",
       "      <th>57794</th>\n",
       "      <td>72.0</td>\n",
       "      <td>67.0</td>\n",
       "      <td>40</td>\n",
       "      <td>200</td>\n",
       "      <td>46</td>\n",
       "      <td>NaN</td>\n",
       "    </tr>\n",
       "  </tbody>\n",
       "</table>\n",
       "</div>"
      ],
      "text/plain": [
       "       surface_total_in_m2  surface_covered_in_m2  Cant_ColeYUniv  \\\n",
       "57784                112.0                  104.0              17   \n",
       "57785                120.0                  120.0              53   \n",
       "57786                 22.0                   22.0              31   \n",
       "57787                214.0                  200.0               4   \n",
       "57788                263.0                  263.0               5   \n",
       "57790                 43.0                   36.0              11   \n",
       "57791                 50.0                   50.0               8   \n",
       "57792                155.0                  135.0               0   \n",
       "57793                450.0                  450.0               2   \n",
       "57794                 72.0                   67.0              40   \n",
       "\n",
       "       Cant_LocalesGastronomicos  Cant_LugaresTuristicos  resultado  \n",
       "57784                        160                       5        NaN  \n",
       "57785                        199                      20        NaN  \n",
       "57786                        109                       7        NaN  \n",
       "57787                         39                       3        NaN  \n",
       "57788                         11                       0        NaN  \n",
       "57790                         44                       4        NaN  \n",
       "57791                         56                       8        NaN  \n",
       "57792                          9                       0        NaN  \n",
       "57793                         12                       2        NaN  \n",
       "57794                        200                      46        NaN  "
      ]
     },
     "execution_count": 9,
     "metadata": {},
     "output_type": "execute_result"
    }
   ],
   "source": [
    "pruebas.head(10)"
   ]
  }
 ],
 "metadata": {
  "kernelspec": {
   "display_name": "Python 2",
   "language": "python",
   "name": "python2"
  },
  "language_info": {
   "codemirror_mode": {
    "name": "ipython",
    "version": 2
   },
   "file_extension": ".py",
   "mimetype": "text/x-python",
   "name": "python",
   "nbconvert_exporter": "python",
   "pygments_lexer": "ipython2",
   "version": "2.7.14"
  }
 },
 "nbformat": 4,
 "nbformat_minor": 2
}
