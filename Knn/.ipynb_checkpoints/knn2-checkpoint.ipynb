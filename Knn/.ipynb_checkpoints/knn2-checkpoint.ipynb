{
 "cells": [
  {
   "cell_type": "code",
   "execution_count": 4,
   "metadata": {
    "collapsed": true
   },
   "outputs": [],
   "source": [
    "import pandas as pd\n",
    "import numpy as np\n",
    "from sklearn.metrics import mean_squared_error\n",
    "from sklearn.neighbors import KNeighborsRegressor\n",
    "from sklearn.preprocessing import StandardScaler \n",
    "from sklearn.model_selection import GridSearchCV\n",
    "from sklearn.externals import joblib\n",
    "import time\n",
    "from sklearn.decomposition import TruncatedSVD\n",
    "from sklearn.model_selection import train_test_split\n",
    "import cPickle as pickle\n",
    "\n",
    "import warnings\n",
    "warnings.simplefilter(\"ignore\", category=DeprecationWarning)"
   ]
  },
  {
   "cell_type": "code",
   "execution_count": 5,
   "metadata": {},
   "outputs": [],
   "source": [
    "#propiedades = pd.read_csv('/home/mati/Desktop/set_datos_propiedades.csv')\n",
    "propiedades = pickle.load(open(\"../../datos/Data.p\",\"rb\"))"
   ]
  },
  {
   "cell_type": "code",
   "execution_count": 6,
   "metadata": {
    "collapsed": true
   },
   "outputs": [],
   "source": [
    "propiedades = propiedades.loc[(propiedades.price_usd_per_m2.notnull()) & (propiedades.surface_total_in_m2.notnull()),\\\n",
    "                             ['surface_total_in_m2','surface_covered_in_m2',\\\n",
    "                              'price_usd_per_m2','Cant_ColeYUniv','Cant_LocalesGastronomicos',\n",
    "                            'Cant_LugaresTuristicos']]"
   ]
  },
  {
   "cell_type": "markdown",
   "metadata": {},
   "source": [
    "# KNN"
   ]
  },
  {
   "cell_type": "code",
   "execution_count": 7,
   "metadata": {
    "collapsed": true
   },
   "outputs": [],
   "source": [
    "columnas = ['surface_total_in_m2','surface_covered_in_m2',\\\n",
    "            'Cant_ColeYUniv','Cant_LocalesGastronomicos','Cant_LugaresTuristicos']\n",
    "columnas_precio = columnas + ['price_usd_per_m2']"
   ]
  },
  {
   "cell_type": "code",
   "execution_count": 8,
   "metadata": {
    "collapsed": true
   },
   "outputs": [],
   "source": [
    "set_entrenamiento = propiedades.loc[:,columnas_precio]\n",
    "set_pruebas = propiedades.loc[:,columnas_precio].head(20000)\n",
    "\n",
    "set_entrenamiento_datos = set_entrenamiento.loc[:,columnas]\n",
    "set_entrenamiento_resultado = set_entrenamiento.loc[:,'price_usd_per_m2']"
   ]
  },
  {
   "cell_type": "code",
   "execution_count": null,
   "metadata": {
    "collapsed": true
   },
   "outputs": [],
   "source": []
  },
  {
   "cell_type": "code",
   "execution_count": 9,
   "metadata": {},
   "outputs": [
    {
     "ename": "ValueError",
     "evalue": "Input contains NaN, infinity or a value too large for dtype('float64').",
     "output_type": "error",
     "traceback": [
      "\u001b[0;31m---------------------------------------------------------------------------\u001b[0m",
      "\u001b[0;31mValueError\u001b[0m                                Traceback (most recent call last)",
      "\u001b[0;32m<ipython-input-9-7f0a2945c545>\u001b[0m in \u001b[0;36m<module>\u001b[0;34m()\u001b[0m\n\u001b[1;32m      1\u001b[0m \u001b[0mknn\u001b[0m \u001b[0;34m=\u001b[0m \u001b[0mKNeighborsRegressor\u001b[0m\u001b[0;34m(\u001b[0m\u001b[0;34m)\u001b[0m\u001b[0;34m\u001b[0m\u001b[0m\n\u001b[0;32m----> 2\u001b[0;31m \u001b[0mknn\u001b[0m\u001b[0;34m.\u001b[0m\u001b[0mfit\u001b[0m\u001b[0;34m(\u001b[0m\u001b[0mset_entrenamiento_datos\u001b[0m\u001b[0;34m,\u001b[0m\u001b[0mset_entrenamiento_resultado\u001b[0m\u001b[0;34m)\u001b[0m\u001b[0;34m\u001b[0m\u001b[0m\n\u001b[0m\u001b[1;32m      3\u001b[0m \u001b[0mset_pruebas\u001b[0m\u001b[0;34m.\u001b[0m\u001b[0mloc\u001b[0m\u001b[0;34m[\u001b[0m\u001b[0;34m:\u001b[0m\u001b[0;34m,\u001b[0m\u001b[0;34m'resultado'\u001b[0m\u001b[0;34m]\u001b[0m \u001b[0;34m=\u001b[0m \u001b[0mset_pruebas\u001b[0m\u001b[0;34m.\u001b[0m\u001b[0mloc\u001b[0m\u001b[0;34m[\u001b[0m\u001b[0;34m:\u001b[0m\u001b[0;34m,\u001b[0m\u001b[0mcolumnas\u001b[0m\u001b[0;34m]\u001b[0m\u001b[0;34m.\u001b[0m\u001b[0mapply\u001b[0m\u001b[0;34m(\u001b[0m\u001b[0;32mlambda\u001b[0m \u001b[0mx\u001b[0m\u001b[0;34m:\u001b[0m \u001b[0mknn\u001b[0m\u001b[0;34m.\u001b[0m\u001b[0mpredict\u001b[0m\u001b[0;34m(\u001b[0m\u001b[0mx\u001b[0m\u001b[0;34m)\u001b[0m\u001b[0;34m[\u001b[0m\u001b[0;36m0\u001b[0m\u001b[0;34m]\u001b[0m\u001b[0;34m,\u001b[0m\u001b[0maxis\u001b[0m \u001b[0;34m=\u001b[0m \u001b[0;36m1\u001b[0m\u001b[0;34m)\u001b[0m\u001b[0;34m\u001b[0m\u001b[0m\n\u001b[1;32m      4\u001b[0m \u001b[0mprecision\u001b[0m \u001b[0;34m=\u001b[0m \u001b[0mknn\u001b[0m\u001b[0;34m.\u001b[0m\u001b[0mscore\u001b[0m\u001b[0;34m(\u001b[0m\u001b[0mset_pruebas\u001b[0m\u001b[0;34m.\u001b[0m\u001b[0mloc\u001b[0m\u001b[0;34m[\u001b[0m\u001b[0;34m:\u001b[0m\u001b[0;34m,\u001b[0m\u001b[0mcolumnas\u001b[0m\u001b[0;34m]\u001b[0m\u001b[0;34m,\u001b[0m\u001b[0mset_pruebas\u001b[0m\u001b[0;34m.\u001b[0m\u001b[0mprice_usd_per_m2\u001b[0m\u001b[0;34m)\u001b[0m \u001b[0;34m*\u001b[0m \u001b[0;36m100\u001b[0m\u001b[0;34m\u001b[0m\u001b[0m\n\u001b[1;32m      5\u001b[0m \u001b[0merror\u001b[0m \u001b[0;34m=\u001b[0m \u001b[0mmean_squared_error\u001b[0m\u001b[0;34m(\u001b[0m\u001b[0mset_pruebas\u001b[0m\u001b[0;34m.\u001b[0m\u001b[0mprice_usd_per_m2\u001b[0m\u001b[0;34m,\u001b[0m\u001b[0mset_pruebas\u001b[0m\u001b[0;34m.\u001b[0m\u001b[0mresultado\u001b[0m\u001b[0;34m)\u001b[0m\u001b[0;34m\u001b[0m\u001b[0m\n",
      "\u001b[0;32m/usr/local/lib/python2.7/dist-packages/sklearn/neighbors/base.pyc\u001b[0m in \u001b[0;36mfit\u001b[0;34m(self, X, y)\u001b[0m\n\u001b[1;32m    743\u001b[0m         \"\"\"\n\u001b[1;32m    744\u001b[0m         \u001b[0;32mif\u001b[0m \u001b[0;32mnot\u001b[0m \u001b[0misinstance\u001b[0m\u001b[0;34m(\u001b[0m\u001b[0mX\u001b[0m\u001b[0;34m,\u001b[0m \u001b[0;34m(\u001b[0m\u001b[0mKDTree\u001b[0m\u001b[0;34m,\u001b[0m \u001b[0mBallTree\u001b[0m\u001b[0;34m)\u001b[0m\u001b[0;34m)\u001b[0m\u001b[0;34m:\u001b[0m\u001b[0;34m\u001b[0m\u001b[0m\n\u001b[0;32m--> 745\u001b[0;31m             \u001b[0mX\u001b[0m\u001b[0;34m,\u001b[0m \u001b[0my\u001b[0m \u001b[0;34m=\u001b[0m \u001b[0mcheck_X_y\u001b[0m\u001b[0;34m(\u001b[0m\u001b[0mX\u001b[0m\u001b[0;34m,\u001b[0m \u001b[0my\u001b[0m\u001b[0;34m,\u001b[0m \u001b[0;34m\"csr\"\u001b[0m\u001b[0;34m,\u001b[0m \u001b[0mmulti_output\u001b[0m\u001b[0;34m=\u001b[0m\u001b[0mTrue\u001b[0m\u001b[0;34m)\u001b[0m\u001b[0;34m\u001b[0m\u001b[0m\n\u001b[0m\u001b[1;32m    746\u001b[0m         \u001b[0mself\u001b[0m\u001b[0;34m.\u001b[0m\u001b[0m_y\u001b[0m \u001b[0;34m=\u001b[0m \u001b[0my\u001b[0m\u001b[0;34m\u001b[0m\u001b[0m\n\u001b[1;32m    747\u001b[0m         \u001b[0;32mreturn\u001b[0m \u001b[0mself\u001b[0m\u001b[0;34m.\u001b[0m\u001b[0m_fit\u001b[0m\u001b[0;34m(\u001b[0m\u001b[0mX\u001b[0m\u001b[0;34m)\u001b[0m\u001b[0;34m\u001b[0m\u001b[0m\n",
      "\u001b[0;32m/usr/local/lib/python2.7/dist-packages/sklearn/utils/validation.pyc\u001b[0m in \u001b[0;36mcheck_X_y\u001b[0;34m(X, y, accept_sparse, dtype, order, copy, force_all_finite, ensure_2d, allow_nd, multi_output, ensure_min_samples, ensure_min_features, y_numeric, warn_on_dtype, estimator)\u001b[0m\n\u001b[1;32m    571\u001b[0m     X = check_array(X, accept_sparse, dtype, order, copy, force_all_finite,\n\u001b[1;32m    572\u001b[0m                     \u001b[0mensure_2d\u001b[0m\u001b[0;34m,\u001b[0m \u001b[0mallow_nd\u001b[0m\u001b[0;34m,\u001b[0m \u001b[0mensure_min_samples\u001b[0m\u001b[0;34m,\u001b[0m\u001b[0;34m\u001b[0m\u001b[0m\n\u001b[0;32m--> 573\u001b[0;31m                     ensure_min_features, warn_on_dtype, estimator)\n\u001b[0m\u001b[1;32m    574\u001b[0m     \u001b[0;32mif\u001b[0m \u001b[0mmulti_output\u001b[0m\u001b[0;34m:\u001b[0m\u001b[0;34m\u001b[0m\u001b[0m\n\u001b[1;32m    575\u001b[0m         y = check_array(y, 'csr', force_all_finite=True, ensure_2d=False,\n",
      "\u001b[0;32m/usr/local/lib/python2.7/dist-packages/sklearn/utils/validation.pyc\u001b[0m in \u001b[0;36mcheck_array\u001b[0;34m(array, accept_sparse, dtype, order, copy, force_all_finite, ensure_2d, allow_nd, ensure_min_samples, ensure_min_features, warn_on_dtype, estimator)\u001b[0m\n\u001b[1;32m    451\u001b[0m                              % (array.ndim, estimator_name))\n\u001b[1;32m    452\u001b[0m         \u001b[0;32mif\u001b[0m \u001b[0mforce_all_finite\u001b[0m\u001b[0;34m:\u001b[0m\u001b[0;34m\u001b[0m\u001b[0m\n\u001b[0;32m--> 453\u001b[0;31m             \u001b[0m_assert_all_finite\u001b[0m\u001b[0;34m(\u001b[0m\u001b[0marray\u001b[0m\u001b[0;34m)\u001b[0m\u001b[0;34m\u001b[0m\u001b[0m\n\u001b[0m\u001b[1;32m    454\u001b[0m \u001b[0;34m\u001b[0m\u001b[0m\n\u001b[1;32m    455\u001b[0m     \u001b[0mshape_repr\u001b[0m \u001b[0;34m=\u001b[0m \u001b[0m_shape_repr\u001b[0m\u001b[0;34m(\u001b[0m\u001b[0marray\u001b[0m\u001b[0;34m.\u001b[0m\u001b[0mshape\u001b[0m\u001b[0;34m)\u001b[0m\u001b[0;34m\u001b[0m\u001b[0m\n",
      "\u001b[0;32m/usr/local/lib/python2.7/dist-packages/sklearn/utils/validation.pyc\u001b[0m in \u001b[0;36m_assert_all_finite\u001b[0;34m(X)\u001b[0m\n\u001b[1;32m     42\u001b[0m             and not np.isfinite(X).all()):\n\u001b[1;32m     43\u001b[0m         raise ValueError(\"Input contains NaN, infinity\"\n\u001b[0;32m---> 44\u001b[0;31m                          \" or a value too large for %r.\" % X.dtype)\n\u001b[0m\u001b[1;32m     45\u001b[0m \u001b[0;34m\u001b[0m\u001b[0m\n\u001b[1;32m     46\u001b[0m \u001b[0;34m\u001b[0m\u001b[0m\n",
      "\u001b[0;31mValueError\u001b[0m: Input contains NaN, infinity or a value too large for dtype('float64')."
     ]
    }
   ],
   "source": [
    "knn = KNeighborsRegressor()\n",
    "knn.fit(set_entrenamiento_datos,set_entrenamiento_resultado)\n",
    "set_pruebas.loc[:,'resultado'] = set_pruebas.loc[:,columnas].apply(lambda x: knn.predict(x)[0],axis = 1)\n",
    "precision = knn.score(set_pruebas.loc[:,columnas],set_pruebas.price_usd_per_m2) * 100\n",
    "error = mean_squared_error(set_pruebas.price_usd_per_m2,set_pruebas.resultado)\n",
    "print(\"Precision = {:.2f} % , error = {}\".format(precision, error))"
   ]
  },
  {
   "cell_type": "markdown",
   "metadata": {},
   "source": [
    "### Ahora que tenemos una intuicion, probamos variando los parametros"
   ]
  },
  {
   "cell_type": "code",
   "execution_count": 8,
   "metadata": {
    "collapsed": true
   },
   "outputs": [],
   "source": [
    "columnas = ['superficie','place_name_encoded','property_type_encoded','seguridad','gimnasio', 'aire', 'pileta', 'cochera']\n",
    "columnas_precio = columnas + ['price_aprox_usd']"
   ]
  },
  {
   "cell_type": "code",
   "execution_count": 9,
   "metadata": {
    "collapsed": true
   },
   "outputs": [],
   "source": [
    "set_entrenamiento = propiedades.loc[(propiedades.Year >= 2016) &((propiedades.Year < 2017) | (propiedades.Month < 6))\\\n",
    "                                    ,columnas_precio]\n",
    "set_pruebas = propiedades.loc[(propiedades.Year == 2017) & (propiedades.Month == 6),columnas_precio].head(20000)\n",
    "\n",
    "set_entrenamiento_datos = set_entrenamiento.loc[:,columnas]\n",
    "set_entrenamiento_resultado = set_entrenamiento.loc[:,'price_aprox_usd']\n",
    "\n",
    "res = []"
   ]
  },
  {
   "cell_type": "code",
   "execution_count": 14,
   "metadata": {
    "collapsed": true
   },
   "outputs": [
    {
     "name": "stdout",
     "output_type": "stream",
     "text": [
      "1  -  1\n",
      "1  -  2\n",
      "2  -  1\n",
      "2  -  2\n",
      "3  -  1\n",
      "3  -  2\n",
      "4  -  1\n",
      "4  -  2\n",
      "6  -  1\n",
      "6  -  2\n",
      "7  -  1\n",
      "7  -  2\n",
      "8  -  1\n",
      "8  -  2\n",
      "9  -  1\n",
      "9  -  2\n"
     ]
    }
   ],
   "source": [
    "lista_k = [1,2,3,4,6,7,8,9]\n",
    "lista_dist = [1,2]\n",
    "\n",
    "for k in lista_k:\n",
    "    for d in lista_dist:\n",
    "        knn = KNeighborsRegressor(n_neighbors = k, p = d)\n",
    "        knn.fit(set_entrenamiento_datos,set_entrenamiento_resultado)\n",
    "        set_pruebas.loc[:,'resultado'] = set_pruebas.loc[:,columnas].apply(lambda x: knn.predict(x)[0],axis = 1)\n",
    "        precision = knn.score(set_pruebas.loc[:,columnas],set_pruebas.price_aprox_usd) * 100\n",
    "        error = mean_squared_error(set_pruebas.price_aprox_usd,set_pruebas.resultado)\n",
    "        res.append((k,d,precision,error))\n",
    "        print(k,' - ',d)"
   ]
  },
  {
   "cell_type": "code",
   "execution_count": 15,
   "metadata": {},
   "outputs": [
    {
     "name": "stdout",
     "output_type": "stream",
     "text": [
      "k = 5, dist = 1, precision = 67.74 % , error = 44503444653.57036\n",
      "k = 5, dist = 2, precision = 66.47 % , error = 46257434434.250084\n",
      "k = 5, dist = 3, precision = 66.06 % , error = 46820485517.495285\n",
      "k = 5, dist = 4, precision = 66.03 % , error = 46867165037.71839\n",
      "k = 5, dist = 5, precision = 66.08 % , error = 46801194633.71839\n",
      "k = 5, dist = 10, precision = 66.06 % , error = 46821186305.59339\n",
      "k = 5, dist = 20, precision = 66.09 % , error = 46788773386.83274\n",
      "k = 5, dist = 50, precision = 66.03 % , error = 46866233647.49688\n",
      "k = 10, dist = 1, precision = 62.22 % , error = 52115549467.72854\n",
      "k = 10, dist = 2, precision = 60.77 % , error = 54118163984.20072\n",
      "k = 10, dist = 3, precision = 60.70 % , error = 54223673067.69754\n",
      "k = 10, dist = 4, precision = 60.67 % , error = 54266007937.41873\n",
      "k = 10, dist = 5, precision = 60.71 % , error = 54204845526.91873\n",
      "k = 10, dist = 10, precision = 60.70 % , error = 54219505276.91873\n",
      "k = 10, dist = 20, precision = 60.76 % , error = 54139068474.28264\n",
      "k = 10, dist = 50, precision = 60.81 % , error = 54064900121.874146\n",
      "k = 15, dist = 1, precision = 60.26 % , error = 54830463081.72175\n",
      "k = 15, dist = 2, precision = 59.15 % , error = 56350054801.518364\n",
      "k = 15, dist = 3, precision = 58.96 % , error = 56622730744.15658\n",
      "k = 15, dist = 4, precision = 58.96 % , error = 56624590819.011536\n",
      "k = 15, dist = 5, precision = 58.88 % , error = 56729568014.99695\n",
      "k = 15, dist = 10, precision = 58.72 % , error = 56950398206.77534\n",
      "k = 15, dist = 20, precision = 58.68 % , error = 57003551236.73665\n",
      "k = 15, dist = 50, precision = 59.41 % , error = 55995669275.61871\n",
      "k = 20, dist = 1, precision = 58.40 % , error = 57390496728.52445\n",
      "k = 20, dist = 2, precision = 57.11 % , error = 59167967257.95553\n",
      "k = 20, dist = 3, precision = 56.92 % , error = 59437766973.65288\n",
      "k = 20, dist = 4, precision = 56.89 % , error = 59476418485.9719\n",
      "k = 20, dist = 5, precision = 56.83 % , error = 59558307790.0197\n",
      "k = 20, dist = 10, precision = 56.92 % , error = 59428854501.89475\n",
      "k = 20, dist = 20, precision = 57.00 % , error = 59322118379.87235\n",
      "k = 20, dist = 50, precision = 57.73 % , error = 58311637807.778015\n",
      "k = 30, dist = 1, precision = 55.18 % , error = 61828407495.413635\n",
      "k = 30, dist = 2, precision = 54.29 % , error = 63060034256.89425\n",
      "k = 30, dist = 3, precision = 54.59 % , error = 62643972862.36188\n",
      "k = 30, dist = 4, precision = 54.55 % , error = 62705964117.98927\n",
      "k = 30, dist = 5, precision = 54.58 % , error = 62665085746.282776\n",
      "k = 30, dist = 10, precision = 54.71 % , error = 62480630399.495834\n",
      "k = 30, dist = 20, precision = 54.73 % , error = 62457859648.30823\n",
      "k = 30, dist = 50, precision = 54.87 % , error = 62263663311.222534\n",
      "k = 50, dist = 1, precision = 51.68 % , error = 66667319227.68705\n",
      "k = 50, dist = 2, precision = 50.81 % , error = 67865198581.24818\n",
      "k = 50, dist = 3, precision = 50.59 % , error = 68172531547.53078\n",
      "k = 50, dist = 4, precision = 50.73 % , error = 67966784020.28624\n",
      "k = 50, dist = 5, precision = 50.79 % , error = 67883317360.396286\n",
      "k = 50, dist = 10, precision = 50.85 % , error = 67811546541.45361\n",
      "k = 50, dist = 20, precision = 50.84 % , error = 67826614117.15461\n",
      "k = 50, dist = 50, precision = 50.70 % , error = 68020446326.34722\n",
      "k = 100, dist = 1, precision = 47.09 % , error = 72999938512.90819\n",
      "k = 100, dist = 2, precision = 45.52 % , error = 75164929592.92178\n",
      "k = 100, dist = 3, precision = 45.40 % , error = 75320124462.04501\n",
      "k = 100, dist = 4, precision = 45.47 % , error = 75234507071.08823\n",
      "k = 100, dist = 5, precision = 45.47 % , error = 75230330580.93706\n",
      "k = 100, dist = 10, precision = 45.70 % , error = 74919192590.90262\n",
      "k = 100, dist = 20, precision = 45.83 % , error = 74734004231.76364\n",
      "k = 100, dist = 50, precision = 45.72 % , error = 74885356792.39821\n",
      "k = 500, dist = 1, precision = 42.51 % , error = 79309003074.84215\n",
      "k = 500, dist = 2, precision = 40.58 % , error = 81970664760.43083\n",
      "k = 500, dist = 3, precision = 40.32 % , error = 82334250902.71698\n",
      "k = 500, dist = 4, precision = 40.24 % , error = 82444729375.96683\n",
      "k = 500, dist = 5, precision = 40.22 % , error = 82470623897.07622\n",
      "k = 500, dist = 10, precision = 40.23 % , error = 82456230908.5415\n",
      "k = 500, dist = 20, precision = 40.15 % , error = 82563319447.52554\n",
      "k = 500, dist = 50, precision = 40.04 % , error = 82714649827.24174\n",
      "k = 1, dist = 1, precision = 87.78 % , error = 16865005472.822279\n",
      "k = 1, dist = 2, precision = 87.78 % , error = 16858607479.777966\n",
      "k = 2, dist = 1, precision = 80.14 % , error = 27401292829.79977\n",
      "k = 2, dist = 2, precision = 79.83 % , error = 27824785871.441715\n",
      "k = 3, dist = 1, precision = 74.05 % , error = 35798360226.68778\n",
      "k = 3, dist = 2, precision = 73.43 % , error = 36660321159.79214\n",
      "k = 4, dist = 1, precision = 70.53 % , error = 40660456232.22827\n",
      "k = 4, dist = 2, precision = 69.46 % , error = 42134796488.69684\n",
      "k = 6, dist = 1, precision = 65.61 % , error = 47443729858.22121\n",
      "k = 6, dist = 2, precision = 64.11 % , error = 49508577450.341965\n",
      "k = 7, dist = 1, precision = 63.51 % , error = 50340715386.21348\n",
      "k = 7, dist = 2, precision = 61.91 % , error = 52555844333.65924\n",
      "k = 8, dist = 1, precision = 62.86 % , error = 51238207602.051414\n",
      "k = 8, dist = 2, precision = 61.07 % , error = 53714578093.288925\n",
      "k = 9, dist = 1, precision = 62.06 % , error = 52344719848.48733\n",
      "k = 9, dist = 2, precision = 60.26 % , error = 54830561013.02275\n"
     ]
    }
   ],
   "source": [
    "for r in res:\n",
    "    print (\"k = {}, dist = {}, precision = {:.2f} % , error = {}\".format(r[0],r[1],r[2],r[3]))"
   ]
  },
  {
   "cell_type": "code",
   "execution_count": 16,
   "metadata": {},
   "outputs": [
    {
     "name": "stdout",
     "output_type": "stream",
     "text": [
      "Mayor precision = k = 1, dist = 2, precision = 87.78 % , error = 16858607479.777966\n",
      "Menor error = k = 1, dist = 2, precision = 87.78 % , error = 16858607479.777966\n"
     ]
    }
   ],
   "source": [
    "min_error = float('inf')\n",
    "max_precision = 0\n",
    "tupla_min_error = ()\n",
    "tupla_max_precision = ()\n",
    "for r in res:\n",
    "    if r[3] < min_error:\n",
    "        min_error = r[3]\n",
    "        tupla_min_error = r\n",
    "    if r[2] > max_precision:\n",
    "        max_precision = r[2]\n",
    "        tupla_max_precision = r\n",
    "        \n",
    "print(\"Mayor precision = k = {}, dist = {}, precision = {:.2f} % , error = {}\".\\\n",
    "              format(tupla_max_precision[0],tupla_max_precision[1],tupla_max_precision[2],tupla_max_precision[3]))\n",
    "print(\"Menor error = k = {}, dist = {}, precision = {:.2f} % , error = {}\".\\\n",
    "              format(tupla_min_error[0],tupla_min_error[1],tupla_min_error[2],tupla_min_error[3]))"
   ]
  },
  {
   "cell_type": "markdown",
   "metadata": {},
   "source": [
    "# Elegimos k = 1  y dist = 1"
   ]
  },
  {
   "cell_type": "code",
   "execution_count": 52,
   "metadata": {
    "collapsed": true
   },
   "outputs": [],
   "source": [
    "#Probamos varias combinaciones de columnas, la de mejor resultado fue esta\n",
    "\n",
    "columnas = ['superficie','place_name_encoded','property_type_encoded','seguridad','gimnasio','aire','pileta','cochera']\n",
    "columnas_precio = columnas + ['price_aprox_usd']"
   ]
  },
  {
   "cell_type": "code",
   "execution_count": 53,
   "metadata": {
    "collapsed": true
   },
   "outputs": [],
   "source": [
    "set_entrenamiento = propiedades.loc[(propiedades.Year >= 2016) &((propiedades.Year < 2017) | (propiedades.Month < 6))\\\n",
    "                                    ,columnas_precio]\n",
    "set_pruebas = propiedades.loc[(propiedades.Year == 2017) & (propiedades.Month == 6),columnas_precio].head(20000)\n",
    "\n",
    "set_entrenamiento_datos = set_entrenamiento.loc[:,columnas]\n",
    "set_entrenamiento_resultado = set_entrenamiento.loc[:,'price_aprox_usd']"
   ]
  },
  {
   "cell_type": "code",
   "execution_count": 54,
   "metadata": {
    "collapsed": true
   },
   "outputs": [],
   "source": [
    "k = 1\n",
    "d = 1"
   ]
  },
  {
   "cell_type": "code",
   "execution_count": 55,
   "metadata": {},
   "outputs": [
    {
     "name": "stdout",
     "output_type": "stream",
     "text": [
      "Precision = 87.78 % , error = 16865005472.822279\n"
     ]
    }
   ],
   "source": [
    "knn = KNeighborsRegressor(n_neighbors = k, p = d)\n",
    "knn.fit(set_entrenamiento_datos,set_entrenamiento_resultado)\n",
    "set_pruebas.loc[:,'resultado'] = set_pruebas.loc[:,columnas].apply(lambda x: knn.predict(x)[0],axis = 1)\n",
    "precision = knn.score(set_pruebas.loc[:,columnas],set_pruebas.price_aprox_usd) * 100\n",
    "error = mean_squared_error(set_pruebas.price_aprox_usd,set_pruebas.resultado)\n",
    "print(\"Precision = {:.2f} % , error = {}\".format(precision, error))"
   ]
  },
  {
   "cell_type": "markdown",
   "metadata": {},
   "source": [
    "# Calculamos los verdaderos datos"
   ]
  },
  {
   "cell_type": "code",
   "execution_count": 56,
   "metadata": {
    "collapsed": true
   },
   "outputs": [],
   "source": [
    "analizar = pd.read_csv('/home/mati/Desktop/properati_dataset_modificado.csv')"
   ]
  },
  {
   "cell_type": "code",
   "execution_count": 57,
   "metadata": {
    "collapsed": true
   },
   "outputs": [],
   "source": [
    "analizar.loc[:,'price_usd'] = analizar.loc[:,columnas].apply(lambda x: knn.predict(x)[0],axis = 1)"
   ]
  },
  {
   "cell_type": "code",
   "execution_count": 58,
   "metadata": {
    "collapsed": true
   },
   "outputs": [],
   "source": [
    "resultado = analizar.loc[:,['id','price_usd']]"
   ]
  },
  {
   "cell_type": "code",
   "execution_count": 59,
   "metadata": {
    "collapsed": true
   },
   "outputs": [],
   "source": [
    "resultado.to_csv('KNN_resultados.csv', index = False)"
   ]
  },
  {
   "cell_type": "markdown",
   "metadata": {},
   "source": [
    "# Utilizando standard scaler"
   ]
  },
  {
   "cell_type": "code",
   "execution_count": 4,
   "metadata": {
    "collapsed": true
   },
   "outputs": [],
   "source": [
    "columnas = ['superficie','place_name_encoded','property_type_encoded','seguridad','gimnasio', 'aire', 'pileta', 'cochera']\n",
    "columnas_precio = columnas + ['price_aprox_usd']"
   ]
  },
  {
   "cell_type": "code",
   "execution_count": 5,
   "metadata": {
    "collapsed": true
   },
   "outputs": [],
   "source": [
    "set_entrenamiento = propiedades.loc[(propiedades.Year >= 2016) &((propiedades.Year < 2017) | (propiedades.Month < 6))\\\n",
    "                                    ,columnas_precio]\n",
    "set_pruebas = propiedades.loc[(propiedades.Year == 2017) & (propiedades.Month == 6),columnas_precio].head(20000)\n",
    "\n",
    "set_entrenamiento_datos = set_entrenamiento.loc[:,columnas]\n",
    "set_entrenamiento_resultado = set_entrenamiento.loc[:,'price_aprox_usd']"
   ]
  },
  {
   "cell_type": "code",
   "execution_count": 7,
   "metadata": {},
   "outputs": [
    {
     "data": {
      "text/plain": [
       "StandardScaler(copy=True, with_mean=True, with_std=True)"
      ]
     },
     "execution_count": 7,
     "metadata": {},
     "output_type": "execute_result"
    }
   ],
   "source": [
    "scaler = StandardScaler()  \n",
    "scaler.fit(set_entrenamiento_datos)"
   ]
  },
  {
   "cell_type": "code",
   "execution_count": 9,
   "metadata": {},
   "outputs": [
    {
     "name": "stdout",
     "output_type": "stream",
     "text": [
      "Precision = 87.76 % , error = 16880708784.0\n"
     ]
    }
   ],
   "source": [
    "knn = KNeighborsRegressor(n_neighbors = 1, p = 1)\n",
    "knn.fit(scaler.transform(set_entrenamiento_datos),set_entrenamiento_resultado)\n",
    "set_pruebas.loc[:,'resultado'] = set_pruebas.loc[:,columnas].apply(lambda x: knn.predict(scaler.transform([x]))[0],axis = 1)\n",
    "precision = knn.score(scaler.transform(set_pruebas.loc[:,columnas]),set_pruebas.price_aprox_usd) * 100\n",
    "error = mean_squared_error(set_pruebas.price_aprox_usd,set_pruebas.resultado)\n",
    "print(\"Precision = {:.2f} % , error = {}\".format(precision, error))"
   ]
  },
  {
   "cell_type": "code",
   "execution_count": 10,
   "metadata": {
    "collapsed": true
   },
   "outputs": [],
   "source": [
    "analizar = pd.read_csv('/home/agustin/Escritorio/escritorio/fiuba/Organizacion de datos/datos para el tp2/properati_dataset_modificado.csv')"
   ]
  },
  {
   "cell_type": "code",
   "execution_count": 11,
   "metadata": {
    "collapsed": true
   },
   "outputs": [],
   "source": [
    "analizar.loc[:,'price_usd'] = analizar.loc[:,columnas].apply(lambda x: knn.predict(scaler.transform([x]))[0],axis = 1)"
   ]
  },
  {
   "cell_type": "code",
   "execution_count": 12,
   "metadata": {},
   "outputs": [
    {
     "data": {
      "text/plain": [
       "count    1.416600e+04\n",
       "mean     2.275825e+05\n",
       "std      2.618315e+05\n",
       "min      5.005030e+03\n",
       "25%      9.652500e+04\n",
       "50%      1.459000e+05\n",
       "75%      2.600000e+05\n",
       "max      5.800000e+06\n",
       "Name: price_usd, dtype: float64"
      ]
     },
     "execution_count": 12,
     "metadata": {},
     "output_type": "execute_result"
    }
   ],
   "source": [
    "analizar.price_usd.describe()"
   ]
  },
  {
   "cell_type": "code",
   "execution_count": 13,
   "metadata": {
    "collapsed": true
   },
   "outputs": [],
   "source": [
    "resultado = analizar.loc[:,['id','price_usd']]"
   ]
  },
  {
   "cell_type": "code",
   "execution_count": 14,
   "metadata": {
    "collapsed": true
   },
   "outputs": [],
   "source": [
    "resultado.to_csv('resultados/KNN_standard_scaler_resultados.csv', index = False)"
   ]
  },
  {
   "cell_type": "markdown",
   "metadata": {},
   "source": [
    "# Ahora uso lat y lon en lugar de place name"
   ]
  },
  {
   "cell_type": "code",
   "execution_count": 2,
   "metadata": {
    "collapsed": true
   },
   "outputs": [],
   "source": [
    "propiedades = pd.read_csv('/home/mati/Desktop/set_datos_propiedades.csv')"
   ]
  },
  {
   "cell_type": "code",
   "execution_count": 3,
   "metadata": {
    "collapsed": true
   },
   "outputs": [],
   "source": [
    "propiedades = propiedades.loc[(propiedades.price_aprox_usd.notnull()) & (propiedades.superficie.notnull())\\\n",
    "                              & (propiedades.lat.notnull()) & (propiedades.lon.notnull()),\\\n",
    "                             ['lat', 'lon', 'property_type_encoded','price_aprox_usd','superficie',\\\n",
    "                             'Year','Month','seguridad','aire','gimnasio','cochera','pileta']]"
   ]
  },
  {
   "cell_type": "code",
   "execution_count": 4,
   "metadata": {
    "collapsed": true
   },
   "outputs": [],
   "source": [
    "columnas = ['superficie','lat', 'lon','property_type_encoded','seguridad','gimnasio', 'aire', 'pileta', 'cochera']\n",
    "columnas_precio = columnas + ['price_aprox_usd']"
   ]
  },
  {
   "cell_type": "code",
   "execution_count": 5,
   "metadata": {
    "collapsed": true
   },
   "outputs": [],
   "source": [
    "set_entrenamiento = propiedades.loc[(propiedades.Year >= 2016) &((propiedades.Year < 2017) | (propiedades.Month < 6))\\\n",
    "                                    ,columnas_precio]\n",
    "set_pruebas = propiedades.loc[(propiedades.Year == 2017) & (propiedades.Month == 6),columnas_precio].head(20000)\n",
    "\n",
    "set_entrenamiento_datos = set_entrenamiento.loc[:,columnas]\n",
    "set_entrenamiento_resultado = set_entrenamiento.loc[:,'price_aprox_usd']"
   ]
  },
  {
   "cell_type": "code",
   "execution_count": 6,
   "metadata": {},
   "outputs": [
    {
     "name": "stdout",
     "output_type": "stream",
     "text": [
      "Precision = 75.80 % , error = 28024909874.83337\n"
     ]
    }
   ],
   "source": [
    "knn = KNeighborsRegressor()\n",
    "knn.fit(set_entrenamiento_datos,set_entrenamiento_resultado)\n",
    "set_pruebas.loc[:,'resultado'] = set_pruebas.loc[:,columnas].apply(lambda x: knn.predict(x)[0],axis = 1)\n",
    "precision = knn.score(set_pruebas.loc[:,columnas],set_pruebas.price_aprox_usd) * 100\n",
    "error = mean_squared_error(set_pruebas.price_aprox_usd,set_pruebas.resultado)\n",
    "print(\"Precision = {:.2f} % , error = {}\".format(precision, error))"
   ]
  },
  {
   "cell_type": "code",
   "execution_count": 7,
   "metadata": {
    "collapsed": true
   },
   "outputs": [],
   "source": [
    "res = []"
   ]
  },
  {
   "cell_type": "code",
   "execution_count": 8,
   "metadata": {
    "collapsed": true
   },
   "outputs": [
    {
     "name": "stdout",
     "output_type": "stream",
     "text": [
      "1  -  1\n",
      "1  -  2\n",
      "1  -  3\n",
      "1  -  30\n",
      "2  -  1\n",
      "2  -  2\n",
      "2  -  3\n",
      "2  -  30\n",
      "3  -  1\n",
      "3  -  2\n",
      "3  -  3\n",
      "3  -  30\n",
      "4  -  1\n",
      "4  -  2\n",
      "4  -  3\n",
      "4  -  30\n",
      "6  -  1\n",
      "6  -  2\n",
      "6  -  3\n",
      "6  -  30\n",
      "7  -  1\n",
      "7  -  2\n",
      "7  -  3\n",
      "7  -  30\n",
      "8  -  1\n",
      "8  -  2\n",
      "8  -  3\n",
      "8  -  30\n",
      "9  -  1\n",
      "9  -  2\n",
      "9  -  3\n",
      "9  -  30\n",
      "10  -  1\n",
      "10  -  2\n",
      "10  -  3\n",
      "10  -  30\n",
      "20  -  1\n",
      "20  -  2\n",
      "20  -  3\n",
      "20  -  30\n",
      "30  -  1\n",
      "30  -  2\n",
      "30  -  3\n",
      "30  -  30\n",
      "50  -  1\n",
      "50  -  2\n",
      "50  -  3\n",
      "50  -  30\n",
      "100  -  1\n",
      "100  -  2\n",
      "100  -  3\n",
      "100  -  30\n"
     ]
    }
   ],
   "source": [
    "lista_k = [1,2,3,4,6,7,8,9,10,20,30,50,100]\n",
    "lista_dist = [1,2,3,30]\n",
    "\n",
    "for k in lista_k:\n",
    "    for d in lista_dist:\n",
    "        knn = KNeighborsRegressor(n_neighbors = k, p = d)\n",
    "        knn.fit(set_entrenamiento_datos,set_entrenamiento_resultado)\n",
    "        set_pruebas.loc[:,'resultado'] = set_pruebas.loc[:,columnas].apply(lambda x: knn.predict(x)[0],axis = 1)\n",
    "        precision = knn.score(set_pruebas.loc[:,columnas],set_pruebas.price_aprox_usd) * 100\n",
    "        error = mean_squared_error(set_pruebas.price_aprox_usd,set_pruebas.resultado)\n",
    "        res.append((k,d,precision,error))\n",
    "        print(k,' - ',d)"
   ]
  },
  {
   "cell_type": "code",
   "execution_count": 9,
   "metadata": {},
   "outputs": [
    {
     "name": "stdout",
     "output_type": "stream",
     "text": [
      "k = 1, dist = 1, precision = 97.46 % , error = 2941056207.548492\n",
      "k = 1, dist = 2, precision = 96.99 % , error = 3487607112.906904\n",
      "k = 1, dist = 3, precision = 96.99 % , error = 3487240629.3464584\n",
      "k = 1, dist = 30, precision = 96.57 % , error = 3969315224.422367\n",
      "k = 2, dist = 1, precision = 87.79 % , error = 14138083682.573963\n",
      "k = 2, dist = 2, precision = 87.37 % , error = 14620230850.039059\n",
      "k = 2, dist = 3, precision = 87.29 % , error = 14711338500.938713\n",
      "k = 2, dist = 30, precision = 87.03 % , error = 15020235388.52279\n",
      "k = 3, dist = 1, precision = 82.82 % , error = 19886139472.03235\n",
      "k = 3, dist = 2, precision = 82.49 % , error = 20268813210.69347\n",
      "k = 3, dist = 3, precision = 82.38 % , error = 20405921651.98053\n",
      "k = 3, dist = 30, precision = 81.86 % , error = 21000861693.281067\n",
      "k = 4, dist = 1, precision = 78.81 % , error = 24528951834.158386\n",
      "k = 4, dist = 2, precision = 78.53 % , error = 24853818722.2917\n",
      "k = 4, dist = 3, precision = 78.38 % , error = 25032399105.134636\n",
      "k = 4, dist = 30, precision = 77.80 % , error = 25698756045.521645\n",
      "k = 6, dist = 1, precision = 73.71 % , error = 30441735900.524563\n",
      "k = 6, dist = 2, precision = 73.32 % , error = 30888799345.68841\n",
      "k = 6, dist = 3, precision = 73.15 % , error = 31085253651.868546\n",
      "k = 6, dist = 30, precision = 72.69 % , error = 31620794193.91733\n",
      "k = 7, dist = 1, precision = 71.69 % , error = 32781189287.675594\n",
      "k = 7, dist = 2, precision = 71.32 % , error = 33210378271.73123\n",
      "k = 7, dist = 3, precision = 71.20 % , error = 33346564188.360912\n",
      "k = 7, dist = 30, precision = 71.07 % , error = 33494323234.80086\n",
      "k = 8, dist = 1, precision = 70.85 % , error = 33754678452.261612\n",
      "k = 8, dist = 2, precision = 70.44 % , error = 34223036978.983814\n",
      "k = 8, dist = 3, precision = 70.40 % , error = 34270173853.372414\n",
      "k = 8, dist = 30, precision = 70.10 % , error = 34620566311.108185\n",
      "k = 9, dist = 1, precision = 68.74 % , error = 36193906761.24544\n",
      "k = 9, dist = 2, precision = 68.39 % , error = 36598810466.7687\n",
      "k = 9, dist = 3, precision = 68.31 % , error = 36692375003.979454\n",
      "k = 9, dist = 30, precision = 68.18 % , error = 36842295500.52443\n",
      "k = 10, dist = 1, precision = 67.89 % , error = 37175649704.25879\n",
      "k = 10, dist = 2, precision = 67.63 % , error = 37475615307.822266\n",
      "k = 10, dist = 3, precision = 67.50 % , error = 37624869204.584274\n",
      "k = 10, dist = 30, precision = 67.49 % , error = 37642252305.76015\n",
      "k = 20, dist = 1, precision = 57.09 % , error = 49681710384.94135\n",
      "k = 20, dist = 2, precision = 57.37 % , error = 49359380928.98647\n",
      "k = 20, dist = 3, precision = 57.19 % , error = 49570118262.06563\n",
      "k = 20, dist = 30, precision = 57.15 % , error = 49612138826.314606\n",
      "k = 30, dist = 1, precision = 53.08 % , error = 54320113329.417534\n",
      "k = 30, dist = 2, precision = 53.07 % , error = 54335186332.75978\n",
      "k = 30, dist = 3, precision = 52.87 % , error = 54564110472.44506\n",
      "k = 30, dist = 30, precision = 53.12 % , error = 54285224280.46473\n",
      "k = 50, dist = 1, precision = 49.57 % , error = 58384275679.24639\n",
      "k = 50, dist = 2, precision = 49.34 % , error = 58651862498.083015\n",
      "k = 50, dist = 3, precision = 49.09 % , error = 58941884486.4445\n",
      "k = 50, dist = 30, precision = 48.49 % , error = 59634513434.08751\n",
      "k = 100, dist = 1, precision = 46.68 % , error = 61740515961.586685\n",
      "k = 100, dist = 2, precision = 45.73 % , error = 62839427859.39054\n",
      "k = 100, dist = 3, precision = 45.64 % , error = 62945412318.61323\n",
      "k = 100, dist = 30, precision = 44.52 % , error = 64238356973.32566\n"
     ]
    }
   ],
   "source": [
    "for r in res:\n",
    "    print (\"k = {}, dist = {}, precision = {:.2f} % , error = {}\".format(r[0],r[1],r[2],r[3]))"
   ]
  },
  {
   "cell_type": "code",
   "execution_count": 10,
   "metadata": {},
   "outputs": [
    {
     "name": "stdout",
     "output_type": "stream",
     "text": [
      "Mayor precision = k = 1, dist = 1, precision = 97.46 % , error = 2941056207.548492\n",
      "Menor error = k = 1, dist = 1, precision = 97.46 % , error = 2941056207.548492\n"
     ]
    }
   ],
   "source": [
    "min_error = float('inf')\n",
    "max_precision = 0\n",
    "tupla_min_error = ()\n",
    "tupla_max_precision = ()\n",
    "for r in res:\n",
    "    if r[3] < min_error:\n",
    "        min_error = r[3]\n",
    "        tupla_min_error = r\n",
    "    if r[2] > max_precision:\n",
    "        max_precision = r[2]\n",
    "        tupla_max_precision = r\n",
    "        \n",
    "print(\"Mayor precision = k = {}, dist = {}, precision = {:.2f} % , error = {}\".\\\n",
    "              format(tupla_max_precision[0],tupla_max_precision[1],tupla_max_precision[2],tupla_max_precision[3]))\n",
    "print(\"Menor error = k = {}, dist = {}, precision = {:.2f} % , error = {}\".\\\n",
    "              format(tupla_min_error[0],tupla_min_error[1],tupla_min_error[2],tupla_min_error[3]))"
   ]
  },
  {
   "cell_type": "markdown",
   "metadata": {},
   "source": [
    "# Elegimos k = 1  dist = 1"
   ]
  },
  {
   "cell_type": "code",
   "execution_count": 39,
   "metadata": {
    "collapsed": true
   },
   "outputs": [],
   "source": [
    "#Probamos distintas combinaciones de columnas, esta es la que dio mejores resultados\n",
    "\n",
    "columnas = ['superficie','lat', 'lon','property_type_encoded','gimnasio', 'aire', 'pileta', 'cochera']\n",
    "columnas_precio = columnas + ['price_aprox_usd']"
   ]
  },
  {
   "cell_type": "code",
   "execution_count": 40,
   "metadata": {
    "collapsed": true
   },
   "outputs": [],
   "source": [
    "set_entrenamiento = propiedades.loc[(propiedades.Year >= 2016) &((propiedades.Year < 2017) | (propiedades.Month < 6))\\\n",
    "                                    ,columnas_precio]\n",
    "set_pruebas = propiedades.loc[(propiedades.Year == 2017) & (propiedades.Month == 6),columnas_precio].head(20000)\n",
    "\n",
    "set_entrenamiento_datos = set_entrenamiento.loc[:,columnas]\n",
    "set_entrenamiento_resultado = set_entrenamiento.loc[:,'price_aprox_usd']"
   ]
  },
  {
   "cell_type": "code",
   "execution_count": 41,
   "metadata": {
    "collapsed": true
   },
   "outputs": [],
   "source": [
    "k = 1\n",
    "d = 1     "
   ]
  },
  {
   "cell_type": "code",
   "execution_count": 42,
   "metadata": {},
   "outputs": [
    {
     "name": "stdout",
     "output_type": "stream",
     "text": [
      "Precision = 97.54 % , error = 2853986652.665258\n"
     ]
    }
   ],
   "source": [
    "knn = KNeighborsRegressor(n_neighbors = k, p = d)\n",
    "knn.fit(set_entrenamiento_datos,set_entrenamiento_resultado)\n",
    "set_pruebas.loc[:,'resultado'] = set_pruebas.loc[:,columnas].apply(lambda x: knn.predict(x)[0],axis = 1)\n",
    "precision = knn.score(set_pruebas.loc[:,columnas],set_pruebas.price_aprox_usd) * 100\n",
    "error = mean_squared_error(set_pruebas.price_aprox_usd,set_pruebas.resultado)\n",
    "print(\"Precision = {:.2f} % , error = {}\".format(precision, error))"
   ]
  },
  {
   "cell_type": "markdown",
   "metadata": {},
   "source": [
    "# Calculamos los verdaderos datos"
   ]
  },
  {
   "cell_type": "code",
   "execution_count": 43,
   "metadata": {
    "collapsed": true
   },
   "outputs": [],
   "source": [
    "analizar = pd.read_csv('/home/mati/Desktop/properati_dataset_modificado.csv')"
   ]
  },
  {
   "cell_type": "code",
   "execution_count": 44,
   "metadata": {
    "collapsed": true
   },
   "outputs": [],
   "source": [
    "analizar.loc[:,'price_usd'] = analizar.loc[:,columnas].apply(lambda x: knn.predict(x)[0],axis = 1)"
   ]
  },
  {
   "cell_type": "code",
   "execution_count": 45,
   "metadata": {
    "collapsed": true
   },
   "outputs": [],
   "source": [
    "resultado = analizar.loc[:,['id','price_usd']]"
   ]
  },
  {
   "cell_type": "code",
   "execution_count": 46,
   "metadata": {
    "collapsed": true
   },
   "outputs": [],
   "source": [
    "resultado.to_csv('resultados/KNN_2.csv', index = False)"
   ]
  },
  {
   "cell_type": "markdown",
   "metadata": {},
   "source": [
    "# Utilizando standard scaler"
   ]
  },
  {
   "cell_type": "code",
   "execution_count": 50,
   "metadata": {},
   "outputs": [
    {
     "data": {
      "text/plain": [
       "StandardScaler(copy=True, with_mean=True, with_std=True)"
      ]
     },
     "execution_count": 50,
     "metadata": {},
     "output_type": "execute_result"
    }
   ],
   "source": [
    "scaler = StandardScaler()  \n",
    "scaler.fit(set_entrenamiento_datos)"
   ]
  },
  {
   "cell_type": "code",
   "execution_count": 51,
   "metadata": {},
   "outputs": [
    {
     "name": "stdout",
     "output_type": "stream",
     "text": [
      "Precision = 96.61 % , error = 3927713227.278155\n"
     ]
    }
   ],
   "source": [
    "knn = KNeighborsRegressor(n_neighbors = k, p = d)\n",
    "knn.fit(scaler.transform(set_entrenamiento_datos),set_entrenamiento_resultado)\n",
    "set_pruebas.loc[:,'resultado'] = set_pruebas.loc[:,columnas].apply(lambda x: knn.predict(scaler.transform([x]))[0],axis = 1)\n",
    "precision = knn.score(scaler.transform(set_pruebas.loc[:,columnas]),set_pruebas.price_aprox_usd) * 100\n",
    "error = mean_squared_error(set_pruebas.price_aprox_usd,set_pruebas.resultado)\n",
    "print(\"Precision = {:.2f} % , error = {}\".format(precision, error))"
   ]
  },
  {
   "cell_type": "code",
   "execution_count": 52,
   "metadata": {
    "collapsed": true
   },
   "outputs": [],
   "source": [
    "analizar.loc[:,'price_usd'] = analizar.loc[:,columnas].apply(lambda x: knn.predict(scaler.transform([x]))[0],axis = 1)"
   ]
  },
  {
   "cell_type": "code",
   "execution_count": 53,
   "metadata": {
    "collapsed": true
   },
   "outputs": [],
   "source": [
    "resultado = analizar.loc[:,['id','price_usd']]"
   ]
  },
  {
   "cell_type": "code",
   "execution_count": 54,
   "metadata": {
    "collapsed": true
   },
   "outputs": [],
   "source": [
    "resultado.to_csv('resultados/KNN_standard_scaler_2.csv', index = False)"
   ]
  },
  {
   "cell_type": "markdown",
   "metadata": {},
   "source": [
    "# Utilizando menos datos con standard scaler"
   ]
  },
  {
   "cell_type": "code",
   "execution_count": 4,
   "metadata": {
    "collapsed": true
   },
   "outputs": [],
   "source": [
    "columnas = ['superficie','lat', 'lon','property_type_encoded','seguridad','gimnasio', 'aire', 'pileta', 'cochera']\n",
    "columnas_precio = columnas + ['price_aprox_usd']"
   ]
  },
  {
   "cell_type": "code",
   "execution_count": 7,
   "metadata": {
    "collapsed": true
   },
   "outputs": [],
   "source": [
    "sup_min = 10\n",
    "sup_max = 150\n",
    "\n",
    "lat_min = -35\n",
    "lat_max = -34\n",
    "\n",
    "lon_min = -59\n",
    "lon_max = -58\n",
    "\n",
    "precio_min = 5000\n",
    "precio_max = 1000000\n",
    "\n",
    "propiedades = propiedades.loc[(propiedades.price_aprox_usd.notnull()) & (propiedades.superficie.notnull())\\\n",
    "                              & (propiedades.lat.notnull()) & (propiedades.lon.notnull()) & (propiedades.Year >=2016)\\\n",
    "                        & (propiedades.price_aprox_usd <= precio_max) & (propiedades.price_aprox_usd >= precio_min) &\\\n",
    "                         (propiedades.superficie <= sup_max) & (propiedades.superficie >= sup_min) &\\\n",
    "                      (propiedades.lat <= lat_max) & (propiedades.lat >= lat_min) &\\\n",
    "                       (propiedades.lon <= lon_max) & (propiedades.lon >= lon_min),:]\n",
    "\n",
    "prop = propiedades.loc[(propiedades.Year >= 2016), :]"
   ]
  },
  {
   "cell_type": "code",
   "execution_count": 8,
   "metadata": {
    "collapsed": true
   },
   "outputs": [],
   "source": [
    "set_entrenamiento = prop.loc[(prop.Year >= 2016) &((prop.Year < 2017) | (prop.Month < 6))\\\n",
    "                                    ,columnas_precio]\n",
    "set_pruebas = prop.loc[(prop.Year == 2017) & (prop.Month == 6),columnas_precio].head(20000)\n",
    "\n",
    "set_entrenamiento_datos = set_entrenamiento.loc[:,columnas]\n",
    "set_entrenamiento_resultado = set_entrenamiento.loc[:,'price_aprox_usd']"
   ]
  },
  {
   "cell_type": "code",
   "execution_count": 9,
   "metadata": {},
   "outputs": [
    {
     "data": {
      "text/plain": [
       "StandardScaler(copy=True, with_mean=True, with_std=True)"
      ]
     },
     "execution_count": 9,
     "metadata": {},
     "output_type": "execute_result"
    }
   ],
   "source": [
    "scaler = StandardScaler()  \n",
    "scaler.fit(set_entrenamiento_datos)"
   ]
  },
  {
   "cell_type": "code",
   "execution_count": 17,
   "metadata": {},
   "outputs": [
    {
     "name": "stdout",
     "output_type": "stream",
     "text": [
      "Precision = 91.59 % , error = 1170403487.5\n"
     ]
    }
   ],
   "source": [
    "knn = KNeighborsRegressor()\n",
    "knn.fit(scaler.transform(set_entrenamiento_datos),set_entrenamiento_resultado)\n",
    "set_pruebas.loc[:,'resultado'] = set_pruebas.loc[:,columnas].apply(lambda x: knn.predict(scaler.transform([x]))[0],axis = 1)\n",
    "precision = knn.score(scaler.transform(set_pruebas.loc[:,columnas]),set_pruebas.price_aprox_usd) * 100\n",
    "error = mean_squared_error(set_pruebas.price_aprox_usd,set_pruebas.resultado)\n",
    "print(\"Precision = {:.2f} % , error = {}\".format(precision, error))"
   ]
  },
  {
   "cell_type": "code",
   "execution_count": 19,
   "metadata": {
    "collapsed": true
   },
   "outputs": [],
   "source": [
    "res = []"
   ]
  },
  {
   "cell_type": "code",
   "execution_count": 20,
   "metadata": {},
   "outputs": [
    {
     "name": "stdout",
     "output_type": "stream",
     "text": [
      "(1, ' - ', 1)\n",
      "(1, ' - ', 2)\n",
      "(1, ' - ', 3)\n",
      "(1, ' - ', 30)\n",
      "(2, ' - ', 1)\n",
      "(2, ' - ', 2)\n",
      "(2, ' - ', 3)\n",
      "(2, ' - ', 30)\n",
      "(3, ' - ', 1)\n",
      "(3, ' - ', 2)\n",
      "(3, ' - ', 3)\n",
      "(3, ' - ', 30)\n",
      "(4, ' - ', 1)\n",
      "(4, ' - ', 2)\n",
      "(4, ' - ', 3)\n",
      "(4, ' - ', 30)\n",
      "(6, ' - ', 1)\n",
      "(6, ' - ', 2)\n",
      "(6, ' - ', 3)\n",
      "(6, ' - ', 30)\n",
      "(7, ' - ', 1)\n",
      "(7, ' - ', 2)\n",
      "(7, ' - ', 3)\n",
      "(7, ' - ', 30)\n",
      "(8, ' - ', 1)\n",
      "(8, ' - ', 2)\n",
      "(8, ' - ', 3)\n",
      "(8, ' - ', 30)\n",
      "(9, ' - ', 1)\n",
      "(9, ' - ', 2)\n",
      "(9, ' - ', 3)\n",
      "(9, ' - ', 30)\n",
      "(10, ' - ', 1)\n",
      "(10, ' - ', 2)\n",
      "(10, ' - ', 3)\n",
      "(10, ' - ', 30)\n",
      "(20, ' - ', 1)\n",
      "(20, ' - ', 2)\n",
      "(20, ' - ', 3)\n",
      "(20, ' - ', 30)\n",
      "(30, ' - ', 1)\n",
      "(30, ' - ', 2)\n",
      "(30, ' - ', 3)\n",
      "(30, ' - ', 30)\n",
      "(50, ' - ', 1)\n",
      "(50, ' - ', 2)\n",
      "(50, ' - ', 3)\n",
      "(50, ' - ', 30)\n",
      "(100, ' - ', 1)\n",
      "(100, ' - ', 2)\n",
      "(100, ' - ', 3)\n",
      "(100, ' - ', 30)\n"
     ]
    }
   ],
   "source": [
    "lista_k = [1,2,3,4,6,7,8,9,10,20,30,50,100]\n",
    "lista_dist = [1,2,3,30]\n",
    "\n",
    "for k in lista_k:\n",
    "    for d in lista_dist:\n",
    "        knn = KNeighborsRegressor(n_neighbors = k, p = d)\n",
    "        knn.fit(scaler.transform(set_entrenamiento_datos),set_entrenamiento_resultado)\n",
    "        set_pruebas.loc[:,'resultado'] = set_pruebas.loc[:,columnas].apply(lambda x: knn.predict(scaler.transform([x]))[0],axis = 1)\n",
    "        precision = knn.score(scaler.transform(set_pruebas.loc[:,columnas]),set_pruebas.price_aprox_usd) * 100\n",
    "        error = mean_squared_error(set_pruebas.price_aprox_usd,set_pruebas.resultado)\n",
    "        res.append((k,d,precision,error))\n",
    "        print(k,' - ',d)"
   ]
  },
  {
   "cell_type": "code",
   "execution_count": 21,
   "metadata": {},
   "outputs": [
    {
     "name": "stdout",
     "output_type": "stream",
     "text": [
      "k = 1, dist = 1, precision = 93.83 % , error = 858238111.445\n",
      "k = 1, dist = 2, precision = 93.89 % , error = 850330710.907\n",
      "k = 1, dist = 3, precision = 93.92 % , error = 846009376.656\n",
      "k = 1, dist = 30, precision = 93.84 % , error = 857951564.252\n",
      "k = 2, dist = 1, precision = 93.47 % , error = 908610908.115\n",
      "k = 2, dist = 2, precision = 93.41 % , error = 917452635.158\n",
      "k = 2, dist = 3, precision = 93.45 % , error = 912076396.174\n",
      "k = 2, dist = 30, precision = 93.34 % , error = 926645301.72\n",
      "k = 3, dist = 1, precision = 92.82 % , error = 999587167.629\n",
      "k = 3, dist = 2, precision = 92.76 % , error = 1008021945.67\n",
      "k = 3, dist = 3, precision = 92.81 % , error = 1001498438.51\n",
      "k = 3, dist = 30, precision = 92.69 % , error = 1017510720.24\n",
      "k = 4, dist = 1, precision = 92.02 % , error = 1111383153.31\n",
      "k = 4, dist = 2, precision = 91.97 % , error = 1118344924.38\n",
      "k = 4, dist = 3, precision = 92.01 % , error = 1112899347.5\n",
      "k = 4, dist = 30, precision = 91.89 % , error = 1128623444.21\n",
      "k = 6, dist = 1, precision = 91.34 % , error = 1205121793.09\n",
      "k = 6, dist = 2, precision = 91.32 % , error = 1208925905.74\n",
      "k = 6, dist = 3, precision = 91.34 % , error = 1205866154.93\n",
      "k = 6, dist = 30, precision = 91.27 % , error = 1215373016.22\n",
      "k = 7, dist = 1, precision = 91.13 % , error = 1235231580.75\n",
      "k = 7, dist = 2, precision = 91.12 % , error = 1235637662.44\n",
      "k = 7, dist = 3, precision = 91.12 % , error = 1235826172.03\n",
      "k = 7, dist = 30, precision = 91.03 % , error = 1248509479.35\n",
      "k = 8, dist = 1, precision = 90.86 % , error = 1272248396.73\n",
      "k = 8, dist = 2, precision = 90.90 % , error = 1267369021.2\n",
      "k = 8, dist = 3, precision = 90.86 % , error = 1272150673.45\n",
      "k = 8, dist = 30, precision = 90.81 % , error = 1279511777.98\n",
      "k = 9, dist = 1, precision = 90.35 % , error = 1343559695.14\n",
      "k = 9, dist = 2, precision = 90.44 % , error = 1331308424.3\n",
      "k = 9, dist = 3, precision = 90.44 % , error = 1331190928.44\n",
      "k = 9, dist = 30, precision = 90.36 % , error = 1342115712.8\n",
      "k = 10, dist = 1, precision = 89.62 % , error = 1445108728.88\n",
      "k = 10, dist = 2, precision = 89.65 % , error = 1440936281.78\n",
      "k = 10, dist = 3, precision = 89.69 % , error = 1435201601.35\n",
      "k = 10, dist = 30, precision = 89.57 % , error = 1451411303.03\n",
      "k = 20, dist = 1, precision = 83.48 % , error = 2299495735.81\n",
      "k = 20, dist = 2, precision = 83.42 % , error = 2308280608.24\n",
      "k = 20, dist = 3, precision = 83.41 % , error = 2308878806.31\n",
      "k = 20, dist = 30, precision = 83.28 % , error = 2327489624.99\n",
      "k = 30, dist = 1, precision = 80.69 % , error = 2687791637.75\n",
      "k = 30, dist = 2, precision = 80.27 % , error = 2746442454.78\n",
      "k = 30, dist = 3, precision = 80.20 % , error = 2756757055.69\n",
      "k = 30, dist = 30, precision = 80.00 % , error = 2783628069.04\n",
      "k = 50, dist = 1, precision = 77.31 % , error = 3158660534.86\n",
      "k = 50, dist = 2, precision = 76.62 % , error = 3254319607.66\n",
      "k = 50, dist = 3, precision = 76.53 % , error = 3267134813.04\n",
      "k = 50, dist = 30, precision = 76.36 % , error = 3291051564.39\n",
      "k = 100, dist = 1, precision = 73.54 % , error = 3683142895.41\n",
      "k = 100, dist = 2, precision = 72.91 % , error = 3770859270.45\n",
      "k = 100, dist = 3, precision = 72.59 % , error = 3815449588.04\n",
      "k = 100, dist = 30, precision = 72.25 % , error = 3863193064.04\n"
     ]
    }
   ],
   "source": [
    "for r in res:\n",
    "    print (\"k = {}, dist = {}, precision = {:.2f} % , error = {}\".format(r[0],r[1],r[2],r[3]))"
   ]
  },
  {
   "cell_type": "code",
   "execution_count": 22,
   "metadata": {
    "scrolled": true
   },
   "outputs": [
    {
     "name": "stdout",
     "output_type": "stream",
     "text": [
      "Mayor precision = k = 1, dist = 3, precision = 93.92 % , error = 846009376.656\n",
      "Menor error = k = 1, dist = 3, precision = 93.92 % , error = 846009376.656\n"
     ]
    }
   ],
   "source": [
    "min_error = float('inf')\n",
    "max_precision = 0\n",
    "tupla_min_error = ()\n",
    "tupla_max_precision = ()\n",
    "for r in res:\n",
    "    if r[3] < min_error:\n",
    "        min_error = r[3]\n",
    "        tupla_min_error = r\n",
    "    if r[2] > max_precision:\n",
    "        max_precision = r[2]\n",
    "        tupla_max_precision = r\n",
    "        \n",
    "print(\"Mayor precision = k = {}, dist = {}, precision = {:.2f} % , error = {}\".\\\n",
    "              format(tupla_max_precision[0],tupla_max_precision[1],tupla_max_precision[2],tupla_max_precision[3]))\n",
    "print(\"Menor error = k = {}, dist = {}, precision = {:.2f} % , error = {}\".\\\n",
    "              format(tupla_min_error[0],tupla_min_error[1],tupla_min_error[2],tupla_min_error[3]))"
   ]
  },
  {
   "cell_type": "markdown",
   "metadata": {},
   "source": [
    "### Tomamos n_neighbors = 1, p = 3"
   ]
  },
  {
   "cell_type": "code",
   "execution_count": 23,
   "metadata": {},
   "outputs": [
    {
     "name": "stdout",
     "output_type": "stream",
     "text": [
      "Precision = 93.92 % , error = 846009376.656\n"
     ]
    }
   ],
   "source": [
    "k = 1\n",
    "d = 3\n",
    "knn = KNeighborsRegressor(n_neighbors = k, p = d)\n",
    "knn.fit(scaler.transform(set_entrenamiento_datos),set_entrenamiento_resultado)\n",
    "set_pruebas.loc[:,'resultado'] = set_pruebas.loc[:,columnas].apply(lambda x: knn.predict(scaler.transform([x]))[0],axis = 1)\n",
    "precision = knn.score(scaler.transform(set_pruebas.loc[:,columnas]),set_pruebas.price_aprox_usd) * 100\n",
    "error = mean_squared_error(set_pruebas.price_aprox_usd,set_pruebas.resultado)\n",
    "print(\"Precision = {:.2f} % , error = {}\".format(precision, error))"
   ]
  },
  {
   "cell_type": "code",
   "execution_count": 24,
   "metadata": {
    "collapsed": true
   },
   "outputs": [],
   "source": [
    "analizar = pd.read_csv('../properati_dataset_modificado.csv')"
   ]
  },
  {
   "cell_type": "code",
   "execution_count": 25,
   "metadata": {
    "collapsed": true
   },
   "outputs": [],
   "source": [
    "analizar.loc[:,'price_usd'] = analizar.loc[:,columnas].apply(lambda x: knn.predict(scaler.transform([x]))[0],axis = 1)"
   ]
  },
  {
   "cell_type": "code",
   "execution_count": 26,
   "metadata": {},
   "outputs": [
    {
     "data": {
      "text/plain": [
       "count      14166.000000\n",
       "mean      181572.150351\n",
       "std       130112.720287\n",
       "min         5005.030000\n",
       "25%        95000.000000\n",
       "50%       145553.000000\n",
       "75%       220000.000000\n",
       "max      1000000.000000\n",
       "Name: price_usd, dtype: float64"
      ]
     },
     "execution_count": 26,
     "metadata": {},
     "output_type": "execute_result"
    }
   ],
   "source": [
    "analizar.price_usd.describe()"
   ]
  },
  {
   "cell_type": "code",
   "execution_count": 27,
   "metadata": {
    "collapsed": true
   },
   "outputs": [],
   "source": [
    "resultado = analizar.loc[:,['id','price_usd']]"
   ]
  },
  {
   "cell_type": "code",
   "execution_count": 28,
   "metadata": {
    "collapsed": true
   },
   "outputs": [],
   "source": [
    "resultado.to_csv('resultados/KNN_menos_datos_standard_scaler.csv', index = False)"
   ]
  },
  {
   "cell_type": "markdown",
   "metadata": {},
   "source": [
    "# Usando Grid Search y Cross Validation"
   ]
  },
  {
   "cell_type": "code",
   "execution_count": 2,
   "metadata": {
    "collapsed": true
   },
   "outputs": [],
   "source": [
    "propiedades = pd.read_csv('/home/mati/Desktop/set_datos_propiedades.csv')\n",
    "\n",
    "propiedades = propiedades.loc[(propiedades.price_aprox_usd.notnull()) & (propiedades.superficie.notnull())\\\n",
    "                              & (propiedades.lat.notnull()) & (propiedades.lon.notnull()) & (propiedades.Year >=2016)]\n",
    "\n",
    "columnas = ['superficie','lat', 'lon','property_type_encoded','seguridad','gimnasio', 'aire', 'pileta', 'cochera']\n",
    "columnas_precio = columnas + ['price_aprox_usd']\n",
    "\n",
    "set_entrenamiento_datos = propiedades.loc[:,columnas]\n",
    "set_entrenamiento_resultado = propiedades.loc[:,'price_aprox_usd']"
   ]
  },
  {
   "cell_type": "code",
   "execution_count": 3,
   "metadata": {
    "collapsed": true
   },
   "outputs": [],
   "source": [
    "# Parametros\n",
    "\n",
    "lista_k = [2,3,10,15,20,30,50]\n",
    "lista_dist = [1,2,5]\n",
    "\n",
    "parametros = {\"n_neighbors\" : lista_k, \"p\" : lista_dist}\n",
    "\n",
    "iteraciones_cross_validation = 10\n",
    "knn = KNeighborsRegressor()"
   ]
  },
  {
   "cell_type": "code",
   "execution_count": 4,
   "metadata": {},
   "outputs": [
    {
     "name": "stdout",
     "output_type": "stream",
     "text": [
      "Tiempo: 20:52:00 --- 07:53:16 \n",
      " Precision: 86.96 \n",
      " Parametros = {'n_neighbors': 2, 'p': 2}\n"
     ]
    }
   ],
   "source": [
    "inicio = time.strftime(\"%X\")\n",
    "\n",
    "grid = GridSearchCV( estimator = knn, param_grid = parametros, n_jobs = 2, cv = iteraciones_cross_validation)\n",
    "\n",
    "grid.fit(set_entrenamiento_datos, set_entrenamiento_resultado)\n",
    "\n",
    "score = grid.best_score_ * 100\n",
    "mejores_parametros = grid.best_params_\n",
    "fin = time.strftime(\"%X\")\n",
    "\n",
    "print(\"Tiempo: {} --- {} \\n Precision: {:.2f} \\n Parametros = {}\".format(inicio,fin,score,mejores_parametros))"
   ]
  },
  {
   "cell_type": "code",
   "execution_count": 5,
   "metadata": {
    "collapsed": true
   },
   "outputs": [],
   "source": [
    "analizar = pd.read_csv(\"/home/mati/Desktop/properati_dataset_modificado.csv\")\n",
    "\n",
    "analizar.loc[:,'price_usd'] = analizar.loc[:,columnas].apply(lambda x: grid.predict(x)[0],axis = 1)\n",
    "\n",
    "resultado = analizar.loc[:,['id','price_usd']]\n",
    "\n",
    "resultado.to_csv('resultados/KNN_GridSearch.csv', index = False)"
   ]
  },
  {
   "cell_type": "code",
   "execution_count": 6,
   "metadata": {},
   "outputs": [
    {
     "data": {
      "text/plain": [
       "['algoritmos/knn.pkl']"
      ]
     },
     "execution_count": 6,
     "metadata": {},
     "output_type": "execute_result"
    }
   ],
   "source": [
    "joblib.dump(grid, 'algoritmos/knn.pkl')"
   ]
  },
  {
   "cell_type": "markdown",
   "metadata": {},
   "source": [
    "## Haciendo Bagging"
   ]
  },
  {
   "cell_type": "code",
   "execution_count": 2,
   "metadata": {
    "collapsed": true
   },
   "outputs": [],
   "source": [
    "propiedades = pd.read_csv('/home/mati/Desktop/set_datos_propiedades.csv')\n",
    "\n",
    "propiedades = propiedades.loc[(propiedades.price_aprox_usd.notnull()) & (propiedades.superficie.notnull())\\\n",
    "                              & (propiedades.lat.notnull()) & (propiedades.lon.notnull()) & (propiedades.Year >=2016)]\n",
    "\n",
    "columnas = ['superficie','lat', 'lon','property_type_encoded','seguridad','gimnasio', 'aire', 'pileta', 'cochera']\n",
    "columnas_precio = columnas + ['price_aprox_usd']\n",
    "\n",
    "set_pruebas = analizar = pd.read_csv(\"/home/mati/Desktop/properati_dataset_modificado.csv\")\n",
    "set_pruebas.loc[:,'price_usd'] = 0.0"
   ]
  },
  {
   "cell_type": "code",
   "execution_count": 3,
   "metadata": {
    "collapsed": true
   },
   "outputs": [],
   "source": [
    "cant = 10\n",
    "\n",
    "for i in range(cant):\n",
    "    datos = propiedades.sample(frac = 0.4)\n",
    "    set_entrenamiento_datos = datos.loc[:,columnas]\n",
    "    set_entrenamiento_resultado = datos.loc[:,'price_aprox_usd']\n",
    "    \n",
    "    knn = KNeighborsRegressor(n_neighbors = 2, p = 2)\n",
    "    \n",
    "    knn.fit(set_entrenamiento_datos,set_entrenamiento_resultado)\n",
    "    set_pruebas.loc[:,'res'] = set_pruebas.loc[:,columnas].apply(lambda x: knn.predict(x)[0],axis = 1)\n",
    "    set_pruebas.loc[:,'price_usd'] = set_pruebas.loc[:,'price_usd'] + set_pruebas.loc[:,'res']"
   ]
  },
  {
   "cell_type": "code",
   "execution_count": 4,
   "metadata": {
    "collapsed": true
   },
   "outputs": [],
   "source": [
    "set_pruebas.loc[:,'price_usd'] = set_pruebas.loc[:,'price_usd'] / cant\n",
    "\n",
    "resultado = set_pruebas.loc[:,['id','price_usd']]\n",
    "\n",
    "resultado.to_csv('resultados/KNN_Cross_Validation.csv', index = False)"
   ]
  },
  {
   "cell_type": "markdown",
   "metadata": {},
   "source": [
    "# Aplicando SVD con 2 dimensiones"
   ]
  },
  {
   "cell_type": "code",
   "execution_count": 132,
   "metadata": {
    "collapsed": true
   },
   "outputs": [],
   "source": [
    "columnas = ['superficie','lat', 'lon','property_type_encoded','seguridad','gimnasio', 'aire', 'pileta', 'cochera']\n",
    "columnas_precio = columnas + ['price_aprox_usd']"
   ]
  },
  {
   "cell_type": "code",
   "execution_count": 133,
   "metadata": {
    "collapsed": true
   },
   "outputs": [],
   "source": [
    "sup_min = 10\n",
    "sup_max = 150\n",
    "\n",
    "lat_min = -35\n",
    "lat_max = -34\n",
    "\n",
    "lon_min = -59\n",
    "lon_max = -58\n",
    "\n",
    "precio_min = 5000\n",
    "precio_max = 1000000\n",
    "\n",
    "propiedades = propiedades.loc[(propiedades.price_aprox_usd.notnull()) & (propiedades.superficie.notnull())\\\n",
    "                              & (propiedades.lat.notnull()) & (propiedades.lon.notnull()) & (propiedades.Year >=2016)\\\n",
    "                        & (propiedades.price_aprox_usd <= precio_max) & (propiedades.price_aprox_usd >= precio_min) &\\\n",
    "                         (propiedades.superficie <= sup_max) & (propiedades.superficie >= sup_min) &\\\n",
    "                      (propiedades.lat <= lat_max) & (propiedades.lat >= lat_min) &\\\n",
    "                       (propiedades.lon <= lon_max) & (propiedades.lon >= lon_min),:]\n",
    "\n",
    "prop = propiedades.loc[(propiedades.Year >= 2016), :]"
   ]
  },
  {
   "cell_type": "code",
   "execution_count": 134,
   "metadata": {
    "collapsed": true
   },
   "outputs": [],
   "source": [
    "set_entrenamiento = prop.loc[(prop.Year >= 2016) &((prop.Year < 2017) | (prop.Month < 6))\\\n",
    "                                    ,columnas_precio]\n",
    "set_pruebas = prop.loc[(prop.Year == 2017) & (prop.Month == 6),columnas_precio].head(20000)\n",
    "\n",
    "set_entrenamiento_datos = set_entrenamiento.loc[:,columnas]\n",
    "set_entrenamiento_resultado = set_entrenamiento.loc[:,'price_aprox_usd']"
   ]
  },
  {
   "cell_type": "code",
   "execution_count": 135,
   "metadata": {
    "collapsed": true
   },
   "outputs": [],
   "source": [
    "svd = TruncatedSVD()\n",
    "resultado = svd.fit_transform(set_entrenamiento_datos)\n",
    "resultado = pd.DataFrame(resultado)\n",
    "pruebas = svd.transform(set_pruebas.loc[:,columnas])\n",
    "pruebas = pd.DataFrame(pruebas)"
   ]
  },
  {
   "cell_type": "code",
   "execution_count": 136,
   "metadata": {},
   "outputs": [
    {
     "name": "stdout",
     "output_type": "stream",
     "text": [
      "Precision = 87.91 % , error = 1683404749.08\n"
     ]
    }
   ],
   "source": [
    "knn = KNeighborsRegressor()\n",
    "knn.fit(resultado,set_entrenamiento_resultado)\n",
    "pruebas.loc[:,'resultado'] = pruebas.loc[:, [0, 1]].apply(lambda x: knn.predict([x])[0],axis = 1)\n",
    "precision = knn.score(pruebas.loc[:,[0,1]],set_pruebas.price_aprox_usd) * 100\n",
    "error = mean_squared_error(set_pruebas.price_aprox_usd, pruebas.resultado)\n",
    "print(\"Precision = {:.2f} % , error = {}\".format(precision, error))"
   ]
  },
  {
   "cell_type": "code",
   "execution_count": 137,
   "metadata": {
    "collapsed": true
   },
   "outputs": [],
   "source": [
    "res = []"
   ]
  },
  {
   "cell_type": "code",
   "execution_count": 138,
   "metadata": {
    "collapsed": true
   },
   "outputs": [
    {
     "name": "stdout",
     "output_type": "stream",
     "text": [
      "(1, ' - ', 1)\n",
      "(1, ' - ', 2)\n",
      "(1, ' - ', 3)\n",
      "(1, ' - ', 30)\n",
      "(2, ' - ', 1)\n",
      "(2, ' - ', 2)\n",
      "(2, ' - ', 3)\n",
      "(2, ' - ', 30)\n",
      "(3, ' - ', 1)\n",
      "(3, ' - ', 2)\n",
      "(3, ' - ', 3)\n",
      "(3, ' - ', 30)\n",
      "(4, ' - ', 1)\n",
      "(4, ' - ', 2)\n",
      "(4, ' - ', 3)\n",
      "(4, ' - ', 30)\n",
      "(6, ' - ', 1)\n",
      "(6, ' - ', 2)\n",
      "(6, ' - ', 3)\n",
      "(6, ' - ', 30)\n",
      "(7, ' - ', 1)\n",
      "(7, ' - ', 2)\n",
      "(7, ' - ', 3)\n",
      "(7, ' - ', 30)\n",
      "(8, ' - ', 1)\n",
      "(8, ' - ', 2)\n",
      "(8, ' - ', 3)\n",
      "(8, ' - ', 30)\n",
      "(9, ' - ', 1)\n",
      "(9, ' - ', 2)\n",
      "(9, ' - ', 3)\n",
      "(9, ' - ', 30)\n",
      "(10, ' - ', 1)\n",
      "(10, ' - ', 2)\n",
      "(10, ' - ', 3)\n",
      "(10, ' - ', 30)\n",
      "(20, ' - ', 1)\n",
      "(20, ' - ', 2)\n",
      "(20, ' - ', 3)\n",
      "(20, ' - ', 30)\n",
      "(30, ' - ', 1)\n",
      "(30, ' - ', 2)\n",
      "(30, ' - ', 3)\n",
      "(30, ' - ', 30)\n",
      "(50, ' - ', 1)\n",
      "(50, ' - ', 2)\n",
      "(50, ' - ', 3)\n",
      "(50, ' - ', 30)\n",
      "(100, ' - ', 1)\n",
      "(100, ' - ', 2)\n",
      "(100, ' - ', 3)\n",
      "(100, ' - ', 30)\n"
     ]
    }
   ],
   "source": [
    "lista_k = [1,2,3,4,6,7,8,9,10,20,30,50,100]\n",
    "lista_dist = [1,2,3,30]\n",
    "\n",
    "for k in lista_k:\n",
    "    for d in lista_dist:\n",
    "        knn = KNeighborsRegressor(n_neighbors = k, p = d)\n",
    "        knn.fit(resultado,set_entrenamiento_resultado)\n",
    "        pruebas.loc[:,'resultado'] = pruebas.loc[:, [0, 1]].apply(lambda x: knn.predict([x])[0],axis = 1)\n",
    "        precision = knn.score(pruebas.loc[:,[0,1]],set_pruebas.price_aprox_usd) * 100\n",
    "        error = mean_squared_error(set_pruebas.price_aprox_usd, pruebas.resultado)\n",
    "        res.append((k,d,precision,error))\n",
    "        print(k,' - ',d)"
   ]
  },
  {
   "cell_type": "code",
   "execution_count": 139,
   "metadata": {},
   "outputs": [
    {
     "name": "stdout",
     "output_type": "stream",
     "text": [
      "k = 1, dist = 1, precision = 95.53 % , error = 622421576.45\n",
      "k = 1, dist = 2, precision = 95.55 % , error = 620071340.731\n",
      "k = 1, dist = 3, precision = 95.83 % , error = 580581640.29\n",
      "k = 1, dist = 30, precision = 95.91 % , error = 569871249.911\n",
      "k = 2, dist = 1, precision = 92.78 % , error = 1005364374.28\n",
      "k = 2, dist = 2, precision = 92.87 % , error = 992785455.886\n",
      "k = 2, dist = 3, precision = 93.17 % , error = 950969420.64\n",
      "k = 2, dist = 30, precision = 93.15 % , error = 953000115.572\n",
      "k = 3, dist = 1, precision = 90.64 % , error = 1303314282.9\n",
      "k = 3, dist = 2, precision = 90.79 % , error = 1281410189.57\n",
      "k = 3, dist = 3, precision = 91.14 % , error = 1233832455.47\n",
      "k = 3, dist = 30, precision = 91.03 % , error = 1248565902.48\n",
      "k = 4, dist = 1, precision = 88.95 % , error = 1538472888.14\n",
      "k = 4, dist = 2, precision = 89.11 % , error = 1515777686.79\n",
      "k = 4, dist = 3, precision = 89.51 % , error = 1459691791.2\n",
      "k = 4, dist = 30, precision = 89.36 % , error = 1481027866.98\n",
      "k = 6, dist = 1, precision = 87.10 % , error = 1795821484.64\n",
      "k = 6, dist = 2, precision = 87.22 % , error = 1779083023.48\n",
      "k = 6, dist = 3, precision = 87.65 % , error = 1718774665.88\n",
      "k = 6, dist = 30, precision = 87.57 % , error = 1729615588.75\n",
      "k = 7, dist = 1, precision = 86.50 % , error = 1879760233.1\n",
      "k = 7, dist = 2, precision = 86.64 % , error = 1859975687.41\n",
      "k = 7, dist = 3, precision = 86.99 % , error = 1810436911.02\n",
      "k = 7, dist = 30, precision = 86.97 % , error = 1813723418.94\n",
      "k = 8, dist = 1, precision = 85.92 % , error = 1960211958.86\n",
      "k = 8, dist = 2, precision = 86.11 % , error = 1933002513.31\n",
      "k = 8, dist = 3, precision = 86.42 % , error = 1891014611.02\n",
      "k = 8, dist = 30, precision = 86.47 % , error = 1883098243.91\n",
      "k = 9, dist = 1, precision = 84.89 % , error = 2103854118.91\n",
      "k = 9, dist = 2, precision = 85.25 % , error = 2053813128.06\n",
      "k = 9, dist = 3, precision = 85.50 % , error = 2018142481.38\n",
      "k = 9, dist = 30, precision = 85.63 % , error = 2000043608.43\n",
      "k = 10, dist = 1, precision = 83.64 % , error = 2277283131.93\n",
      "k = 10, dist = 2, precision = 84.06 % , error = 2218543312.73\n",
      "k = 10, dist = 3, precision = 84.27 % , error = 2189820070.89\n",
      "k = 10, dist = 30, precision = 84.50 % , error = 2157796113.15\n",
      "k = 20, dist = 1, precision = 73.65 % , error = 3667468734.29\n",
      "k = 20, dist = 2, precision = 74.33 % , error = 3572773345.87\n",
      "k = 20, dist = 3, precision = 74.45 % , error = 3555952796.52\n",
      "k = 20, dist = 30, precision = 74.49 % , error = 3550297469.71\n",
      "k = 30, dist = 1, precision = 68.11 % , error = 4439673941.68\n",
      "k = 30, dist = 2, precision = 68.89 % , error = 4330179326.85\n",
      "k = 30, dist = 3, precision = 69.05 % , error = 4308734846.1\n",
      "k = 30, dist = 30, precision = 69.21 % , error = 4285507396.12\n",
      "k = 50, dist = 1, precision = 62.29 % , error = 5249645505.33\n",
      "k = 50, dist = 2, precision = 62.71 % , error = 5190502459.22\n",
      "k = 50, dist = 3, precision = 62.92 % , error = 5162198470.25\n",
      "k = 50, dist = 30, precision = 63.42 % , error = 5091664748.44\n",
      "k = 100, dist = 1, precision = 55.91 % , error = 6137951566.59\n",
      "k = 100, dist = 2, precision = 56.22 % , error = 6093461699.52\n",
      "k = 100, dist = 3, precision = 56.44 % , error = 6063020802.47\n",
      "k = 100, dist = 30, precision = 57.05 % , error = 5978145742.21\n"
     ]
    }
   ],
   "source": [
    "for r in res:\n",
    "    print (\"k = {}, dist = {}, precision = {:.2f} % , error = {}\".format(r[0],r[1],r[2],r[3]))"
   ]
  },
  {
   "cell_type": "code",
   "execution_count": 140,
   "metadata": {
    "scrolled": true
   },
   "outputs": [
    {
     "name": "stdout",
     "output_type": "stream",
     "text": [
      "Mayor precision = k = 1, dist = 30, precision = 95.91 % , error = 569871249.911\n",
      "Menor error = k = 1, dist = 30, precision = 95.91 % , error = 569871249.911\n"
     ]
    }
   ],
   "source": [
    "min_error = float('inf')\n",
    "max_precision = 0\n",
    "tupla_min_error = ()\n",
    "tupla_max_precision = ()\n",
    "for r in res:\n",
    "    if r[3] < min_error:\n",
    "        min_error = r[3]\n",
    "        tupla_min_error = r\n",
    "    if r[2] > max_precision:\n",
    "        max_precision = r[2]\n",
    "        tupla_max_precision = r\n",
    "        \n",
    "print(\"Mayor precision = k = {}, dist = {}, precision = {:.2f} % , error = {}\".\\\n",
    "              format(tupla_max_precision[0],tupla_max_precision[1],tupla_max_precision[2],tupla_max_precision[3]))\n",
    "print(\"Menor error = k = {}, dist = {}, precision = {:.2f} % , error = {}\".\\\n",
    "              format(tupla_min_error[0],tupla_min_error[1],tupla_min_error[2],tupla_min_error[3]))"
   ]
  },
  {
   "cell_type": "markdown",
   "metadata": {},
   "source": [
    "### Para k = 1 se vio un aumento en la precision al aumentar d, por lo que pruebo aumentando mas éste parámetro dejando fijo k"
   ]
  },
  {
   "cell_type": "code",
   "execution_count": 156,
   "metadata": {
    "collapsed": true
   },
   "outputs": [
    {
     "name": "stdout",
     "output_type": "stream",
     "text": [
      "(1, ' - ', 30)\n",
      "(1, ' - ', 31)\n",
      "(1, ' - ', 32)\n",
      "(1, ' - ', 33)\n",
      "(1, ' - ', 34)\n",
      "(1, ' - ', 35)\n",
      "(1, ' - ', 36)\n",
      "(1, ' - ', 37)\n",
      "(1, ' - ', 38)\n",
      "(1, ' - ', 39)\n",
      "(1, ' - ', 40)\n",
      "(1, ' - ', 41)\n",
      "(1, ' - ', 42)\n",
      "(1, ' - ', 43)\n",
      "(1, ' - ', 44)\n",
      "(1, ' - ', 45)\n",
      "(1, ' - ', 46)\n",
      "(1, ' - ', 47)\n",
      "(1, ' - ', 48)\n",
      "(1, ' - ', 49)\n",
      "(1, ' - ', 50)\n",
      "(1, ' - ', 51)\n",
      "(1, ' - ', 52)\n",
      "(1, ' - ', 53)\n",
      "(1, ' - ', 54)\n",
      "(1, ' - ', 55)\n",
      "(1, ' - ', 56)\n",
      "(1, ' - ', 57)\n",
      "(1, ' - ', 58)\n",
      "(1, ' - ', 59)\n",
      "(1, ' - ', 60)\n",
      "(1, ' - ', 61)\n",
      "(1, ' - ', 62)\n",
      "(1, ' - ', 63)\n",
      "(1, ' - ', 64)\n",
      "(1, ' - ', 65)\n",
      "(1, ' - ', 66)\n",
      "(1, ' - ', 67)\n",
      "(1, ' - ', 68)\n",
      "(1, ' - ', 69)\n",
      "(1, ' - ', 70)\n",
      "(1, ' - ', 71)\n",
      "(1, ' - ', 72)\n",
      "(1, ' - ', 73)\n",
      "(1, ' - ', 74)\n",
      "(1, ' - ', 75)\n",
      "(1, ' - ', 76)\n",
      "(1, ' - ', 77)\n",
      "(1, ' - ', 78)\n",
      "(1, ' - ', 79)\n",
      "(1, ' - ', 80)\n",
      "(1, ' - ', 81)\n",
      "(1, ' - ', 82)\n",
      "(1, ' - ', 83)\n",
      "(1, ' - ', 84)\n",
      "(1, ' - ', 85)\n",
      "(1, ' - ', 86)\n",
      "(1, ' - ', 87)\n",
      "(1, ' - ', 88)\n",
      "(1, ' - ', 89)\n"
     ]
    }
   ],
   "source": [
    "k = 1\n",
    "\n",
    "for d in range(30, 90):\n",
    "    knn = KNeighborsRegressor(n_neighbors = k, p = d)\n",
    "    knn.fit(resultado,set_entrenamiento_resultado)\n",
    "    pruebas.loc[:,'resultado'] = pruebas.loc[:, [0, 1]].apply(lambda x: knn.predict([x])[0],axis = 1)\n",
    "    precision = knn.score(pruebas.loc[:,[0,1]],set_pruebas.price_aprox_usd) * 100\n",
    "    error = mean_squared_error(set_pruebas.price_aprox_usd, pruebas.resultado)\n",
    "    res.append((k,d,precision,error))\n",
    "    print(k,' - ',d)"
   ]
  },
  {
   "cell_type": "code",
   "execution_count": 157,
   "metadata": {},
   "outputs": [
    {
     "name": "stdout",
     "output_type": "stream",
     "text": [
      "k = 1, dist = 30, precision = 95.91 % , error = 569871249.911\n",
      "k = 1, dist = 31, precision = 95.91 % , error = 569871249.911\n",
      "k = 1, dist = 32, precision = 95.91 % , error = 569871249.911\n",
      "k = 1, dist = 33, precision = 95.91 % , error = 569871249.911\n",
      "k = 1, dist = 34, precision = 95.91 % , error = 569871249.911\n",
      "k = 1, dist = 35, precision = 95.91 % , error = 569871249.911\n",
      "k = 1, dist = 36, precision = 95.91 % , error = 569871249.911\n",
      "k = 1, dist = 37, precision = 95.91 % , error = 569871249.911\n",
      "k = 1, dist = 38, precision = 95.91 % , error = 569871249.911\n",
      "k = 1, dist = 39, precision = 95.91 % , error = 569871249.911\n",
      "k = 1, dist = 40, precision = 95.91 % , error = 569871249.911\n",
      "k = 1, dist = 41, precision = 95.91 % , error = 569871249.911\n",
      "k = 1, dist = 42, precision = 95.91 % , error = 569872499.911\n",
      "k = 1, dist = 43, precision = 95.91 % , error = 569872499.911\n",
      "k = 1, dist = 44, precision = 95.90 % , error = 570477499.911\n",
      "k = 1, dist = 45, precision = 95.90 % , error = 570428316.531\n",
      "k = 1, dist = 46, precision = 95.90 % , error = 570428316.531\n",
      "k = 1, dist = 47, precision = 95.90 % , error = 570544307.409\n",
      "k = 1, dist = 48, precision = 95.90 % , error = 570545203.018\n",
      "k = 1, dist = 49, precision = 95.90 % , error = 570554994.774\n",
      "k = 1, dist = 50, precision = 95.90 % , error = 570690010.238\n",
      "k = 1, dist = 51, precision = 95.90 % , error = 570839498.952\n",
      "k = 1, dist = 52, precision = 95.90 % , error = 570834850.353\n",
      "k = 1, dist = 53, precision = 95.90 % , error = 570938319.095\n",
      "k = 1, dist = 54, precision = 95.90 % , error = 570938769.095\n",
      "k = 1, dist = 55, precision = 95.90 % , error = 571161466.079\n",
      "k = 1, dist = 56, precision = 95.93 % , error = 567109131.282\n",
      "k = 1, dist = 57, precision = 95.92 % , error = 568090809.2\n",
      "k = 1, dist = 58, precision = 95.92 % , error = 568112304.608\n",
      "k = 1, dist = 59, precision = 95.92 % , error = 568226017.151\n",
      "k = 1, dist = 60, precision = 95.91 % , error = 568831112.606\n",
      "k = 1, dist = 61, precision = 95.91 % , error = 569114566.832\n",
      "k = 1, dist = 62, precision = 95.91 % , error = 569194278.66\n",
      "k = 1, dist = 63, precision = 95.90 % , error = 570566131.858\n",
      "k = 1, dist = 64, precision = 95.90 % , error = 571399195.149\n",
      "k = 1, dist = 65, precision = 95.86 % , error = 576234104.773\n",
      "k = 1, dist = 66, precision = 95.86 % , error = 576609932.808\n",
      "k = 1, dist = 67, precision = 95.82 % , error = 582402593.337\n",
      "k = 1, dist = 68, precision = 95.81 % , error = 583819490.661\n",
      "k = 1, dist = 69, precision = 95.78 % , error = 587979072.108\n",
      "k = 1, dist = 70, precision = 95.73 % , error = 594817724.936\n",
      "k = 1, dist = 71, precision = 95.68 % , error = 601285611.553\n",
      "k = 1, dist = 72, precision = 95.55 % , error = 619224734.17\n",
      "k = 1, dist = 73, precision = 95.43 % , error = 635802712.559\n",
      "k = 1, dist = 74, precision = 95.67 % , error = 603288896.295\n",
      "k = 1, dist = 75, precision = 95.43 % , error = 635835104.526\n",
      "k = 1, dist = 76, precision = 95.24 % , error = 662251701.491\n",
      "k = 1, dist = 77, precision = 95.01 % , error = 695234275.617\n",
      "k = 1, dist = 78, precision = 94.69 % , error = 739467881.525\n",
      "k = 1, dist = 79, precision = 94.25 % , error = 800705789.876\n",
      "k = 1, dist = 80, precision = 93.82 % , error = 860245580.117\n",
      "k = 1, dist = 81, precision = 93.32 % , error = 929185774.312\n",
      "k = 1, dist = 82, precision = 93.14 % , error = 955545754.449\n",
      "k = 1, dist = 83, precision = 92.67 % , error = 1019644586.79\n",
      "k = 1, dist = 84, precision = 92.36 % , error = 1063562620.66\n",
      "k = 1, dist = 85, precision = 91.04 % , error = 1246917067.0\n",
      "k = 1, dist = 86, precision = 90.60 % , error = 1308394667.57\n",
      "k = 1, dist = 87, precision = 89.76 % , error = 1425284544.67\n",
      "k = 1, dist = 88, precision = 88.71 % , error = 1571798898.17\n",
      "k = 1, dist = 89, precision = 88.68 % , error = 1576393368.67\n"
     ]
    }
   ],
   "source": [
    "for r in res[52:]:\n",
    "    print (\"k = {}, dist = {}, precision = {:.2f} % , error = {}\".format(r[0],r[1],r[2],r[3]))"
   ]
  },
  {
   "cell_type": "code",
   "execution_count": 158,
   "metadata": {
    "scrolled": true
   },
   "outputs": [
    {
     "name": "stdout",
     "output_type": "stream",
     "text": [
      "Mayor precision = k = 1, dist = 56, precision = 95.93 % , error = 567109131.282\n",
      "Menor error = k = 1, dist = 56, precision = 95.93 % , error = 567109131.282\n"
     ]
    }
   ],
   "source": [
    "min_error = float('inf')\n",
    "max_precision = 0\n",
    "tupla_min_error = ()\n",
    "tupla_max_precision = ()\n",
    "for r in res:\n",
    "    if r[3] < min_error:\n",
    "        min_error = r[3]\n",
    "        tupla_min_error = r\n",
    "    if r[2] > max_precision:\n",
    "        max_precision = r[2]\n",
    "        tupla_max_precision = r\n",
    "        \n",
    "print(\"Mayor precision = k = {}, dist = {}, precision = {:.2f} % , error = {}\".\\\n",
    "              format(tupla_max_precision[0],tupla_max_precision[1],tupla_max_precision[2],tupla_max_precision[3]))\n",
    "print(\"Menor error = k = {}, dist = {}, precision = {:.2f} % , error = {}\".\\\n",
    "              format(tupla_min_error[0],tupla_min_error[1],tupla_min_error[2],tupla_min_error[3]))"
   ]
  },
  {
   "cell_type": "code",
   "execution_count": 164,
   "metadata": {
    "collapsed": true
   },
   "outputs": [],
   "source": [
    "analizar = pd.read_csv('../properati_dataset_modificado.csv')"
   ]
  },
  {
   "cell_type": "code",
   "execution_count": 165,
   "metadata": {
    "collapsed": true
   },
   "outputs": [],
   "source": [
    "columnas = ['superficie','lat', 'lon','property_type_encoded','seguridad','gimnasio', 'aire', 'pileta', 'cochera']"
   ]
  },
  {
   "cell_type": "code",
   "execution_count": 160,
   "metadata": {},
   "outputs": [
    {
     "name": "stdout",
     "output_type": "stream",
     "text": [
      "Precision = 95.93 % , error = 567109131.282\n"
     ]
    }
   ],
   "source": [
    "knn = KNeighborsRegressor(n_neighbors = 1, p = 56)\n",
    "knn.fit(resultado,set_entrenamiento_resultado)\n",
    "pruebas.loc[:,'resultado'] = pruebas.loc[:, [0, 1]].apply(lambda x: knn.predict([x])[0],axis = 1)\n",
    "precision = knn.score(pruebas.loc[:,[0,1]],set_pruebas.price_aprox_usd) * 100\n",
    "error = mean_squared_error(set_pruebas.price_aprox_usd, pruebas.resultado)\n",
    "print(\"Precision = {:.2f} % , error = {}\".format(precision, error))"
   ]
  },
  {
   "cell_type": "code",
   "execution_count": 166,
   "metadata": {
    "collapsed": true
   },
   "outputs": [],
   "source": [
    "analizar.loc[:,'price_usd'] = analizar.loc[:,columnas].apply(lambda x: knn.predict(svd.transform([x]))[0],axis = 1)"
   ]
  },
  {
   "cell_type": "code",
   "execution_count": 167,
   "metadata": {},
   "outputs": [
    {
     "data": {
      "text/plain": [
       "count     14166.000000\n",
       "mean     142072.122898\n",
       "std       96574.849915\n",
       "min        5000.000000\n",
       "25%       95000.000000\n",
       "50%      100000.000000\n",
       "75%      163000.000000\n",
       "max      993850.000000\n",
       "Name: price_usd, dtype: float64"
      ]
     },
     "execution_count": 167,
     "metadata": {},
     "output_type": "execute_result"
    }
   ],
   "source": [
    "analizar.price_usd.describe()"
   ]
  },
  {
   "cell_type": "code",
   "execution_count": 168,
   "metadata": {
    "collapsed": true
   },
   "outputs": [],
   "source": [
    "resultado = analizar.loc[:,['id','price_usd']]"
   ]
  },
  {
   "cell_type": "code",
   "execution_count": 169,
   "metadata": {
    "collapsed": true
   },
   "outputs": [],
   "source": [
    "resultado.to_csv('resultados/KNN_menos_datos_svd_2_dim.csv', index = False)"
   ]
  },
  {
   "cell_type": "markdown",
   "metadata": {},
   "source": [
    "# Agregando el resultado obtenido de la SVD al Dataframe"
   ]
  },
  {
   "cell_type": "code",
   "execution_count": 97,
   "metadata": {
    "collapsed": true
   },
   "outputs": [],
   "source": [
    "columnas = ['superficie','lat', 'lon','property_type_encoded','seguridad','gimnasio', 'aire', 'pileta', 'cochera']\n",
    "columnas_precio = columnas + ['price_aprox_usd']"
   ]
  },
  {
   "cell_type": "code",
   "execution_count": 98,
   "metadata": {
    "collapsed": true
   },
   "outputs": [],
   "source": [
    "sup_min = 10\n",
    "sup_max = 150\n",
    "\n",
    "lat_min = -35\n",
    "lat_max = -34\n",
    "\n",
    "lon_min = -59\n",
    "lon_max = -58\n",
    "\n",
    "precio_min = 5000\n",
    "precio_max = 1000000\n",
    "\n",
    "propiedades = propiedades.loc[(propiedades.price_aprox_usd.notnull()) & (propiedades.superficie.notnull())\\\n",
    "                              & (propiedades.lat.notnull()) & (propiedades.lon.notnull()) & (propiedades.Year >=2016)\\\n",
    "                        & (propiedades.price_aprox_usd <= precio_max) & (propiedades.price_aprox_usd >= precio_min) &\\\n",
    "                         (propiedades.superficie <= sup_max) & (propiedades.superficie >= sup_min) &\\\n",
    "                      (propiedades.lat <= lat_max) & (propiedades.lat >= lat_min) &\\\n",
    "                       (propiedades.lon <= lon_max) & (propiedades.lon >= lon_min),:]\n",
    "\n",
    "prop = propiedades.loc[(propiedades.Year >= 2016), :]"
   ]
  },
  {
   "cell_type": "code",
   "execution_count": 99,
   "metadata": {
    "collapsed": true
   },
   "outputs": [],
   "source": [
    "set_entrenamiento = prop.loc[(prop.Year >= 2016) &((prop.Year < 2017) | (prop.Month < 6))\\\n",
    "                                    ,columnas_precio]\n",
    "set_pruebas = prop.loc[(prop.Year == 2017) & (prop.Month == 6),columnas_precio].head(20000)\n",
    "\n",
    "set_entrenamiento_datos = set_entrenamiento.loc[:,columnas]\n",
    "set_entrenamiento_resultado = set_entrenamiento.loc[:,'price_aprox_usd']"
   ]
  },
  {
   "cell_type": "code",
   "execution_count": 100,
   "metadata": {
    "collapsed": true
   },
   "outputs": [],
   "source": [
    "svd = TruncatedSVD()\n",
    "resultado = svd.fit_transform(set_entrenamiento_datos)\n",
    "resultado = pd.DataFrame(resultado)\n",
    "pruebas = svd.transform(set_pruebas.loc[:,columnas])\n",
    "pruebas = pd.DataFrame(pruebas)"
   ]
  },
  {
   "cell_type": "code",
   "execution_count": 101,
   "metadata": {},
   "outputs": [
    {
     "data": {
      "text/plain": [
       "count    334935.000000\n",
       "mean         95.098990\n",
       "std          24.394078\n",
       "min          52.920358\n",
       "25%          75.951302\n",
       "50%          88.599928\n",
       "75%         110.070518\n",
       "max         157.152840\n",
       "Name: SVD 1, dtype: float64"
      ]
     },
     "execution_count": 101,
     "metadata": {},
     "output_type": "execute_result"
    }
   ],
   "source": [
    "set_entrenamiento_datos.reset_index(drop = True, inplace = True)\n",
    "set_entrenamiento_datos.loc[:,'SVD 1'] = resultado.loc[:,0]\n",
    "set_entrenamiento_datos.loc[:,'SVD 2'] = resultado.loc[:,1]\n",
    "set_entrenamiento_datos['SVD 1'].describe()"
   ]
  },
  {
   "cell_type": "code",
   "execution_count": 102,
   "metadata": {},
   "outputs": [
    {
     "data": {
      "text/plain": [
       "count    20000.000000\n",
       "mean        96.581427\n",
       "std         24.831401\n",
       "min         52.920358\n",
       "25%         76.701836\n",
       "50%         90.073607\n",
       "75%        112.379512\n",
       "max        157.152840\n",
       "Name: SVD 1, dtype: float64"
      ]
     },
     "execution_count": 102,
     "metadata": {},
     "output_type": "execute_result"
    }
   ],
   "source": [
    "set_pruebas.reset_index(drop = True, inplace = True)\n",
    "set_pruebas.loc[:,'SVD 1'] = pruebas.loc[:,0]\n",
    "set_pruebas.loc[:,'SVD 2'] = pruebas.loc[:,1]\n",
    "set_pruebas['SVD 1'].describe()"
   ]
  },
  {
   "cell_type": "code",
   "execution_count": 104,
   "metadata": {
    "collapsed": true
   },
   "outputs": [],
   "source": [
    "columnas = columnas + ['SVD 1', 'SVD 2']"
   ]
  },
  {
   "cell_type": "code",
   "execution_count": 107,
   "metadata": {},
   "outputs": [
    {
     "name": "stdout",
     "output_type": "stream",
     "text": [
      "Precision = 96.26 % , error = 520094622.611\n"
     ]
    }
   ],
   "source": [
    "k = 1\n",
    "d = 3\n",
    "knn = KNeighborsRegressor(n_neighbors = k, p = d)\n",
    "knn.fit(set_entrenamiento_datos, set_entrenamiento_resultado)\n",
    "set_pruebas.loc[:,'resultado'] = set_pruebas.loc[:,columnas].apply(lambda x: knn.predict([x])[0],axis = 1)\n",
    "precision = knn.score(set_pruebas.loc[:,columnas],set_pruebas.price_aprox_usd) * 100\n",
    "error = mean_squared_error(set_pruebas.price_aprox_usd, set_pruebas.resultado)\n",
    "print(\"Precision = {:.2f} % , error = {}\".format(precision, error))"
   ]
  },
  {
   "cell_type": "code",
   "execution_count": 114,
   "metadata": {
    "collapsed": true
   },
   "outputs": [],
   "source": [
    "res = []"
   ]
  },
  {
   "cell_type": "code",
   "execution_count": 115,
   "metadata": {},
   "outputs": [
    {
     "name": "stdout",
     "output_type": "stream",
     "text": [
      "(1, ' - ', 1)\n",
      "(1, ' - ', 2)\n",
      "(1, ' - ', 3)\n",
      "(1, ' - ', 30)\n",
      "(2, ' - ', 1)\n",
      "(2, ' - ', 2)\n",
      "(2, ' - ', 3)\n",
      "(2, ' - ', 30)\n",
      "(3, ' - ', 1)\n",
      "(3, ' - ', 2)\n",
      "(3, ' - ', 3)\n",
      "(3, ' - ', 30)\n",
      "(4, ' - ', 1)\n",
      "(4, ' - ', 2)\n",
      "(4, ' - ', 3)\n",
      "(4, ' - ', 30)\n",
      "(6, ' - ', 1)\n",
      "(6, ' - ', 2)\n",
      "(6, ' - ', 3)\n",
      "(6, ' - ', 30)\n",
      "(7, ' - ', 1)\n",
      "(7, ' - ', 2)\n",
      "(7, ' - ', 3)\n",
      "(7, ' - ', 30)\n",
      "(8, ' - ', 1)\n",
      "(8, ' - ', 2)\n",
      "(8, ' - ', 3)\n",
      "(8, ' - ', 30)\n",
      "(9, ' - ', 1)\n",
      "(9, ' - ', 2)\n",
      "(9, ' - ', 3)\n",
      "(9, ' - ', 30)\n",
      "(10, ' - ', 1)\n",
      "(10, ' - ', 2)\n",
      "(10, ' - ', 3)\n",
      "(10, ' - ', 30)\n",
      "(20, ' - ', 1)\n",
      "(20, ' - ', 2)\n",
      "(20, ' - ', 3)\n",
      "(20, ' - ', 30)\n",
      "(30, ' - ', 1)\n",
      "(30, ' - ', 2)\n",
      "(30, ' - ', 3)\n",
      "(30, ' - ', 30)\n",
      "(50, ' - ', 1)\n",
      "(50, ' - ', 2)\n",
      "(50, ' - ', 3)\n",
      "(50, ' - ', 30)\n",
      "(100, ' - ', 1)\n",
      "(100, ' - ', 2)\n",
      "(100, ' - ', 3)\n",
      "(100, ' - ', 30)\n"
     ]
    }
   ],
   "source": [
    "lista_k = [1,2,3,4,6,7,8,9,10,20,30,50,100]\n",
    "lista_dist = [1,2,3,30]\n",
    "\n",
    "for k in lista_k:\n",
    "    for d in lista_dist:\n",
    "        knn = KNeighborsRegressor(n_neighbors = k, p = d)\n",
    "        knn.fit(set_entrenamiento_datos, set_entrenamiento_resultado)\n",
    "        set_pruebas.loc[:,'resultado'] = set_pruebas.loc[:,columnas].apply(lambda x: knn.predict([x])[0],axis = 1)\n",
    "        precision = knn.score(set_pruebas.loc[:,columnas],set_pruebas.price_aprox_usd) * 100\n",
    "        error = mean_squared_error(set_pruebas.price_aprox_usd, set_pruebas.resultado)\n",
    "        res.append((k,d,precision,error))\n",
    "        print(k,' - ',d)"
   ]
  },
  {
   "cell_type": "code",
   "execution_count": 116,
   "metadata": {},
   "outputs": [
    {
     "name": "stdout",
     "output_type": "stream",
     "text": [
      "k = 1, dist = 1, precision = 96.32 % , error = 511712285.882\n",
      "k = 1, dist = 2, precision = 96.28 % , error = 517932497.434\n",
      "k = 1, dist = 3, precision = 96.26 % , error = 520094622.611\n",
      "k = 1, dist = 30, precision = 96.12 % , error = 540162586.664\n",
      "k = 2, dist = 1, precision = 94.11 % , error = 820489995.038\n",
      "k = 2, dist = 2, precision = 94.03 % , error = 830468506.588\n",
      "k = 2, dist = 3, precision = 93.98 % , error = 837299788.88\n",
      "k = 2, dist = 30, precision = 93.77 % , error = 867874369.866\n",
      "k = 3, dist = 1, precision = 93.00 % , error = 973993964.358\n",
      "k = 3, dist = 2, precision = 92.84 % , error = 996183927.05\n",
      "k = 3, dist = 3, precision = 92.77 % , error = 1006855998.11\n",
      "k = 3, dist = 30, precision = 92.56 % , error = 1036183575.25\n",
      "k = 4, dist = 1, precision = 91.97 % , error = 1117257012.75\n",
      "k = 4, dist = 2, precision = 91.79 % , error = 1142507152.85\n",
      "k = 4, dist = 3, precision = 91.70 % , error = 1154970262.69\n",
      "k = 4, dist = 30, precision = 91.55 % , error = 1176637335.62\n",
      "k = 6, dist = 1, precision = 91.06 % , error = 1244447221.77\n",
      "k = 6, dist = 2, precision = 90.81 % , error = 1278951438.27\n",
      "k = 6, dist = 3, precision = 90.67 % , error = 1298770626.08\n",
      "k = 6, dist = 30, precision = 90.61 % , error = 1307322159.03\n",
      "k = 7, dist = 1, precision = 90.80 % , error = 1280950470.73\n",
      "k = 7, dist = 2, precision = 90.56 % , error = 1313436612.49\n",
      "k = 7, dist = 3, precision = 90.39 % , error = 1338009097.43\n",
      "k = 7, dist = 30, precision = 90.36 % , error = 1341355331.7\n",
      "k = 8, dist = 1, precision = 90.41 % , error = 1335215968.63\n",
      "k = 8, dist = 2, precision = 90.17 % , error = 1368141160.92\n",
      "k = 8, dist = 3, precision = 89.97 % , error = 1396755401.03\n",
      "k = 8, dist = 30, precision = 89.98 % , error = 1395063918.64\n",
      "k = 9, dist = 1, precision = 89.73 % , error = 1430081437.97\n",
      "k = 9, dist = 2, precision = 89.50 % , error = 1462190474.23\n",
      "k = 9, dist = 3, precision = 89.36 % , error = 1480893156.39\n",
      "k = 9, dist = 30, precision = 89.29 % , error = 1491313170.39\n",
      "k = 10, dist = 1, precision = 88.70 % , error = 1572323657.86\n",
      "k = 10, dist = 2, precision = 88.53 % , error = 1596236586.09\n",
      "k = 10, dist = 3, precision = 88.41 % , error = 1613138839.61\n",
      "k = 10, dist = 30, precision = 88.29 % , error = 1630324583.91\n",
      "k = 20, dist = 1, precision = 80.27 % , error = 2745711271.42\n",
      "k = 20, dist = 2, precision = 80.31 % , error = 2741238040.48\n",
      "k = 20, dist = 3, precision = 80.29 % , error = 2744008980.05\n",
      "k = 20, dist = 30, precision = 80.02 % , error = 2780765724.47\n",
      "k = 30, dist = 1, precision = 75.78 % , error = 3372083193.99\n",
      "k = 30, dist = 2, precision = 75.78 % , error = 3371739173.77\n",
      "k = 30, dist = 3, precision = 75.66 % , error = 3387521949.41\n",
      "k = 30, dist = 30, precision = 75.35 % , error = 3431098631.81\n",
      "k = 50, dist = 1, precision = 70.93 % , error = 4046527919.89\n",
      "k = 50, dist = 2, precision = 71.03 % , error = 4033264017.1\n",
      "k = 50, dist = 3, precision = 70.90 % , error = 4051205816.39\n",
      "k = 50, dist = 30, precision = 70.19 % , error = 4149269943.77\n",
      "k = 100, dist = 1, precision = 64.86 % , error = 4892015957.98\n",
      "k = 100, dist = 2, precision = 64.95 % , error = 4879255738.96\n",
      "k = 100, dist = 3, precision = 64.91 % , error = 4884317694.05\n",
      "k = 100, dist = 30, precision = 63.82 % , error = 5036879754.28\n"
     ]
    }
   ],
   "source": [
    "for r in res:\n",
    "    print (\"k = {}, dist = {}, precision = {:.2f} % , error = {}\".format(r[0],r[1],r[2],r[3]))"
   ]
  },
  {
   "cell_type": "code",
   "execution_count": 117,
   "metadata": {
    "scrolled": true
   },
   "outputs": [
    {
     "name": "stdout",
     "output_type": "stream",
     "text": [
      "Mayor precision = k = 1, dist = 1, precision = 96.32 % , error = 511712285.882\n",
      "Menor error = k = 1, dist = 1, precision = 96.32 % , error = 511712285.882\n"
     ]
    }
   ],
   "source": [
    "min_error = float('inf')\n",
    "max_precision = 0\n",
    "tupla_min_error = ()\n",
    "tupla_max_precision = ()\n",
    "for r in res:\n",
    "    if r[3] < min_error:\n",
    "        min_error = r[3]\n",
    "        tupla_min_error = r\n",
    "    if r[2] > max_precision:\n",
    "        max_precision = r[2]\n",
    "        tupla_max_precision = r\n",
    "        \n",
    "print(\"Mayor precision = k = {}, dist = {}, precision = {:.2f} % , error = {}\".\\\n",
    "              format(tupla_max_precision[0],tupla_max_precision[1],tupla_max_precision[2],tupla_max_precision[3]))\n",
    "print(\"Menor error = k = {}, dist = {}, precision = {:.2f} % , error = {}\".\\\n",
    "              format(tupla_min_error[0],tupla_min_error[1],tupla_min_error[2],tupla_min_error[3]))"
   ]
  },
  {
   "cell_type": "code",
   "execution_count": 119,
   "metadata": {},
   "outputs": [
    {
     "name": "stdout",
     "output_type": "stream",
     "text": [
      "Precision = 96.32 % , error = 511712285.882\n"
     ]
    }
   ],
   "source": [
    "k = 1\n",
    "d = 1\n",
    "knn = KNeighborsRegressor(n_neighbors = k, p = d)\n",
    "knn.fit(set_entrenamiento_datos, set_entrenamiento_resultado)\n",
    "set_pruebas.loc[:,'resultado'] = set_pruebas.loc[:,columnas].apply(lambda x: knn.predict([x])[0],axis = 1)\n",
    "precision = knn.score(set_pruebas.loc[:,columnas],set_pruebas.price_aprox_usd) * 100\n",
    "error = mean_squared_error(set_pruebas.price_aprox_usd, set_pruebas.resultado)\n",
    "print(\"Precision = {:.2f} % , error = {}\".format(precision, error))"
   ]
  },
  {
   "cell_type": "code",
   "execution_count": 122,
   "metadata": {
    "collapsed": true
   },
   "outputs": [],
   "source": [
    "analizar = pd.read_csv('../properati_dataset_modificado.csv')"
   ]
  },
  {
   "cell_type": "code",
   "execution_count": 123,
   "metadata": {
    "collapsed": true
   },
   "outputs": [],
   "source": [
    "columnas = ['superficie','lat', 'lon','property_type_encoded','seguridad','gimnasio', 'aire', 'pileta', 'cochera']\n",
    "analisis = svd.transform(analizar.loc[:,columnas])\n",
    "analisis = pd.DataFrame(analisis)"
   ]
  },
  {
   "cell_type": "code",
   "execution_count": 126,
   "metadata": {},
   "outputs": [
    {
     "data": {
      "text/plain": [
       "count    1.416600e+04\n",
       "mean     3.301517e+02\n",
       "std      2.023766e+04\n",
       "min      4.621164e+01\n",
       "25%      8.041788e+01\n",
       "50%      1.004089e+02\n",
       "75%      1.568249e+02\n",
       "max      2.405964e+06\n",
       "Name: SVD 1, dtype: float64"
      ]
     },
     "execution_count": 126,
     "metadata": {},
     "output_type": "execute_result"
    }
   ],
   "source": [
    "analizar.loc[:,'SVD 1'] = analisis.loc[:,0]\n",
    "analizar.loc[:,'SVD 2'] = analisis.loc[:,1]\n",
    "analizar['SVD 1'].describe()"
   ]
  },
  {
   "cell_type": "code",
   "execution_count": 128,
   "metadata": {
    "collapsed": true
   },
   "outputs": [],
   "source": [
    "columnas += ['SVD 1', 'SVD 2']\n",
    "analizar.loc[:,'price_usd'] = analizar.loc[:,columnas].apply(lambda x: knn.predict([x])[0],axis = 1)"
   ]
  },
  {
   "cell_type": "code",
   "execution_count": 129,
   "metadata": {},
   "outputs": [
    {
     "data": {
      "text/plain": [
       "count     14166.000000\n",
       "mean     183118.200040\n",
       "std      128130.105052\n",
       "min        5005.030000\n",
       "25%       97000.000000\n",
       "50%      145200.000000\n",
       "75%      230000.000000\n",
       "max      995000.000000\n",
       "Name: price_usd, dtype: float64"
      ]
     },
     "execution_count": 129,
     "metadata": {},
     "output_type": "execute_result"
    }
   ],
   "source": [
    "analizar.price_usd.describe()"
   ]
  },
  {
   "cell_type": "code",
   "execution_count": 130,
   "metadata": {
    "collapsed": true
   },
   "outputs": [],
   "source": [
    "resultado = analizar.loc[:,['id','price_usd']]"
   ]
  },
  {
   "cell_type": "code",
   "execution_count": 131,
   "metadata": {
    "collapsed": true
   },
   "outputs": [],
   "source": [
    "resultado.to_csv('resultados/KNN_menos_datos_svd_agregada.csv', index = False)"
   ]
  },
  {
   "cell_type": "markdown",
   "metadata": {},
   "source": [
    "# Usando SVD con varias dimensiones"
   ]
  },
  {
   "cell_type": "code",
   "execution_count": 4,
   "metadata": {
    "collapsed": true
   },
   "outputs": [],
   "source": [
    "propiedades = pd.read_csv('../../set_datos_propiedades.csv')\n",
    "\n",
    "sup_min = 10\n",
    "sup_max = 150\n",
    "\n",
    "lat_min = -35\n",
    "lat_max = -34\n",
    "\n",
    "lon_min = -59\n",
    "lon_max = -58\n",
    "\n",
    "precio_min = 5000\n",
    "precio_max = 1000000\n",
    "\n",
    "propiedades = propiedades.loc[(propiedades.price_aprox_usd.notnull()) & (propiedades.superficie.notnull())\\\n",
    "                              & (propiedades.lat.notnull()) & (propiedades.lon.notnull()) & (propiedades.Year >=2016)\\\n",
    "                        & (propiedades.price_aprox_usd <= precio_max) & (propiedades.price_aprox_usd >= precio_min) &\\\n",
    "                         (propiedades.superficie <= sup_max) & (propiedades.superficie >= sup_min) &\\\n",
    "                      (propiedades.lat <= lat_max) & (propiedades.lat >= lat_min) &\\\n",
    "                       (propiedades.lon <= lon_max) & (propiedades.lon >= lon_min),:]\n",
    "\n",
    "columnas = ['superficie','lat', 'lon','property_type_encoded','seguridad','gimnasio', 'aire', 'pileta', 'cochera']\n",
    "columnas_precio = columnas + ['price_aprox_usd']"
   ]
  },
  {
   "cell_type": "code",
   "execution_count": 6,
   "metadata": {},
   "outputs": [
    {
     "name": "stdout",
     "output_type": "stream",
     "text": [
      "Dim = 2, Precision = 87.22, error = 1636671068.8585553, digitos = 10\n",
      "Dim = 3, Precision = 89.20, error = 1382834304.523065, digitos = 10\n",
      "Dim = 4, Precision = 89.00, error = 1408665027.2200787, digitos = 10\n",
      "Dim = 5, Precision = 89.22, error = 1380509813.606435, digitos = 10\n",
      "Dim = 6, Precision = 89.46, error = 1349541396.355328, digitos = 10\n",
      "Dim = 7, Precision = 89.33, error = 1365945527.8907104, digitos = 10\n",
      "Dim = 8, Precision = 88.91, error = 1420367773.4655209, digitos = 10\n"
     ]
    }
   ],
   "source": [
    "X = propiedades.loc[:,columnas]\n",
    "y = propiedades.loc[:,'price_aprox_usd']\n",
    "X_train, X_test, y_train, y_test = train_test_split(X, y, test_size=0.2)\n",
    "\n",
    "for i in range(2,len(columnas)):\n",
    "    svd = TruncatedSVD(n_components = i)\n",
    "    datos = svd.fit_transform(X_train)\n",
    "    test = svd.transform(X_test)\n",
    "    \n",
    "    knn = KNeighborsRegressor()\n",
    "    knn.fit(datos,y_train)\n",
    "    precision = knn.score(test,y_test) * 100\n",
    "    error = mean_squared_error(knn.predict(test),y_test)\n",
    "    \n",
    "    print(\"Dim = {}, Precision = {:.2f}, error = {}, digitos = {}\".\\\n",
    "                  format(i,precision,error,len(str(int(round(error,0))))))"
   ]
  },
  {
   "cell_type": "code",
   "execution_count": 21,
   "metadata": {
    "collapsed": true
   },
   "outputs": [],
   "source": [
    "set_pruebas = analizar = pd.read_csv(\"../properati_dataset_modificado.csv\")\n",
    "\n",
    "svd = TruncatedSVD(n_components = 6)\n",
    "datos = svd.fit_transform(propiedades.loc[:,columnas])\n",
    "test = svd.transform(set_pruebas.loc[:,columnas])\n",
    "\n",
    "knn = KNeighborsRegressor()\n",
    "knn.fit(datos,propiedades.loc[:,'price_aprox_usd'])\n",
    "set_pruebas.loc[:,'price_usd'] = knn.predict(test)\n",
    "\n",
    "resultado = set_pruebas.loc[:,['id','price_usd']]\n",
    "resultado.to_csv('resultados/KNN_SVD.csv', index = False)"
   ]
  },
  {
   "cell_type": "markdown",
   "metadata": {},
   "source": [
    "# Usando SVD y Standard Scaler"
   ]
  },
  {
   "cell_type": "code",
   "execution_count": 7,
   "metadata": {},
   "outputs": [
    {
     "name": "stdout",
     "output_type": "stream",
     "text": [
      "Dim = 2, Precision = 87.37, error = 1587434626.6573637, digitos = 10\n",
      "Dim = 3, Precision = 89.77, error = 1285832588.5659857, digitos = 10\n",
      "Dim = 4, Precision = 89.74, error = 1289306033.18615, digitos = 10\n",
      "Dim = 5, Precision = 90.21, error = 1230643476.4871707, digitos = 10\n",
      "Dim = 6, Precision = 90.03, error = 1252428633.5726023, digitos = 10\n",
      "Dim = 7, Precision = 90.12, error = 1242006550.0182428, digitos = 10\n",
      "Dim = 8, Precision = 90.02, error = 1254034001.7866542, digitos = 10\n"
     ]
    }
   ],
   "source": [
    "X = propiedades.loc[:,columnas]\n",
    "y = propiedades.loc[:,'price_aprox_usd']\n",
    "X_train, X_test, y_train, y_test = train_test_split(X, y, test_size=0.2)\n",
    "\n",
    "for i in range(2,len(columnas)):\n",
    "    svd = TruncatedSVD(n_components = i)\n",
    "    scaler = StandardScaler()\n",
    "    datos = svd.fit_transform(X_train)\n",
    "    datos = scaler.fit_transform(datos)\n",
    "    test = svd.transform(X_test)\n",
    "    test = scaler.transform(test)\n",
    "    \n",
    "    knn = KNeighborsRegressor()\n",
    "    knn.fit(datos,y_train)\n",
    "    precision = knn.score(test,y_test) * 100\n",
    "    error = mean_squared_error(knn.predict(test),y_test)\n",
    "    \n",
    "    print(\"Dim = {}, Precision = {:.2f}, error = {}, digitos = {}\".\\\n",
    "                  format(i,precision,error,len(str(int(round(error,0))))))"
   ]
  },
  {
   "cell_type": "code",
   "execution_count": 22,
   "metadata": {
    "collapsed": true
   },
   "outputs": [],
   "source": [
    "set_pruebas = analizar = pd.read_csv(\"../properati_dataset_modificado.csv\")\n",
    "\n",
    "svd = TruncatedSVD(n_components = 5)\n",
    "datos = svd.fit_transform(propiedades.loc[:,columnas])\n",
    "test = svd.transform(set_pruebas.loc[:,columnas])\n",
    "scaler = StandardScaler()\n",
    "datos = scaler.fit_transform(datos)\n",
    "test = scaler.transform(test)\n",
    "\n",
    "knn = KNeighborsRegressor()\n",
    "knn.fit(datos,propiedades.loc[:,'price_aprox_usd'])\n",
    "set_pruebas.loc[:,'price_usd'] = knn.predict(test)\n",
    "\n",
    "resultado = set_pruebas.loc[:,['id','price_usd']]\n",
    "resultado.to_csv('resultados/KNN_SVD_standardScaler.csv', index = False)"
   ]
  }
 ],
 "metadata": {
  "kernelspec": {
   "display_name": "Python 2",
   "language": "python",
   "name": "python2"
  },
  "language_info": {
   "codemirror_mode": {
    "name": "ipython",
    "version": 2
   },
   "file_extension": ".py",
   "mimetype": "text/x-python",
   "name": "python",
   "nbconvert_exporter": "python",
   "pygments_lexer": "ipython2",
   "version": "2.7.14"
  }
 },
 "nbformat": 4,
 "nbformat_minor": 2
}
