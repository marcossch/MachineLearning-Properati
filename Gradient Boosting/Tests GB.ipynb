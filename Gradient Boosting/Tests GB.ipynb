{
 "cells": [
  {
   "cell_type": "code",
   "execution_count": 1,
   "metadata": {},
   "outputs": [],
   "source": [
    "import pandas as pd\n",
    "import numpy as np\n",
    "import cPickle as pickle"
   ]
  },
  {
   "cell_type": "code",
   "execution_count": 2,
   "metadata": {},
   "outputs": [
    {
     "name": "stderr",
     "output_type": "stream",
     "text": [
      "/usr/local/lib/python2.7/dist-packages/sklearn/cross_validation.py:41: DeprecationWarning: This module was deprecated in version 0.18 in favor of the model_selection module into which all the refactored classes and functions are moved. Also note that the interface of the new CV iterators are different from that of this module. This module will be removed in 0.20.\n",
      "  \"This module will be removed in 0.20.\", DeprecationWarning)\n"
     ]
    }
   ],
   "source": [
    "import matplotlib.pyplot as plt\n",
    "from sklearn.metrics import mean_squared_error\n",
    "from sklearn.cross_validation import train_test_split\n",
    "from sklearn.ensemble import GradientBoostingRegressor"
   ]
  },
  {
   "cell_type": "markdown",
   "metadata": {},
   "source": [
    "# Se carga el set de entrenamiento"
   ]
  },
  {
   "cell_type": "code",
   "execution_count": 3,
   "metadata": {},
   "outputs": [],
   "source": [
    "prop = pickle.load(open(\"../../Data.p\",\"rb\"))"
   ]
  },
  {
   "cell_type": "code",
   "execution_count": 4,
   "metadata": {},
   "outputs": [
    {
     "name": "stdout",
     "output_type": "stream",
     "text": [
      "<class 'pandas.core.frame.DataFrame'>\n",
      "Int64Index: 72474 entries, 0 to 72473\n",
      "Data columns (total 35 columns):\n",
      "id                            72474 non-null object\n",
      "created_on                    72474 non-null object\n",
      "operation                     72474 non-null object\n",
      "property_type                 72474 non-null object\n",
      "place_name                    72446 non-null object\n",
      "place_with_parent_names       72474 non-null object\n",
      "country_name                  72474 non-null object\n",
      "state_name                    72474 non-null object\n",
      "geonames_id                   62030 non-null float64\n",
      "lat-lon                       48174 non-null object\n",
      "lat                           48174 non-null float64\n",
      "lon                           48174 non-null float64\n",
      "price                         72474 non-null float64\n",
      "currency                      72473 non-null object\n",
      "price_aprox_local_currency    72474 non-null float64\n",
      "price_aprox_usd               72474 non-null float64\n",
      "surface_total_in_m2           72474 non-null float64\n",
      "surface_covered_in_m2         68556 non-null float64\n",
      "price_usd_per_m2              72474 non-null float64\n",
      "price_per_m2                  68553 non-null float64\n",
      "floor                         5990 non-null float64\n",
      "expenses                      10809 non-null float64\n",
      "properati_url                 72474 non-null object\n",
      "description                   72473 non-null object\n",
      "title                         72474 non-null object\n",
      "image_thumbnail               71446 non-null object\n",
      "latlon                        72474 non-null object\n",
      "Cant_ColeYUniv                72474 non-null int64\n",
      "Cant_EspaciosVerdes           72474 non-null int64\n",
      "Cant_LocalesGastronomicos     72474 non-null int64\n",
      "Cant_ParadasTransporte        72474 non-null int64\n",
      "Cant_LugaresTuristicos        72474 non-null int64\n",
      "rooms                         49570 non-null float64\n",
      "ambientes                     38316 non-null float64\n",
      "banios                        27926 non-null float64\n",
      "dtypes: float64(15), int64(5), object(15)\n",
      "memory usage: 19.9+ MB\n"
     ]
    }
   ],
   "source": [
    "prop.info()"
   ]
  },
  {
   "cell_type": "code",
   "execution_count": 5,
   "metadata": {},
   "outputs": [],
   "source": [
    "proper = pickle.load(open(\"../../test_data_full.p\", \"rb\"))\n",
    "#completo las superficies totales con las cubiertas\n",
    "propTOT['surface_total_in_m2'] = proper.apply(lambda row: row[12] if(np.all(pd.isnull(row[11]))) else row[11], axis=1)\n",
    "#cortamos por precios\n",
    "propTOT = propTOT[(propTOT['price_usd_per_m2']<8000)]"
   ]
  },
  {
   "cell_type": "markdown",
   "metadata": {},
   "source": [
    "## Division del set de Entrenamiento"
   ]
  },
  {
   "cell_type": "code",
   "execution_count": 6,
   "metadata": {},
   "outputs": [
    {
     "name": "stderr",
     "output_type": "stream",
     "text": [
      "/home/rodrigoderosa/.local/lib/python2.7/site-packages/ipykernel_launcher.py:4: SettingWithCopyWarning: \n",
      "A value is trying to be set on a copy of a slice from a DataFrame\n",
      "\n",
      "See the caveats in the documentation: http://pandas.pydata.org/pandas-docs/stable/indexing.html#indexing-view-versus-copy\n",
      "  after removing the cwd from sys.path.\n",
      "/home/rodrigoderosa/.local/lib/python2.7/site-packages/ipykernel_launcher.py:6: SettingWithCopyWarning: \n",
      "A value is trying to be set on a copy of a slice from a DataFrame.\n",
      "Try using .loc[row_indexer,col_indexer] = value instead\n",
      "\n",
      "See the caveats in the documentation: http://pandas.pydata.org/pandas-docs/stable/indexing.html#indexing-view-versus-copy\n",
      "  \n",
      "/home/rodrigoderosa/.local/lib/python2.7/site-packages/ipykernel_launcher.py:8: SettingWithCopyWarning: \n",
      "A value is trying to be set on a copy of a slice from a DataFrame.\n",
      "Try using .loc[row_indexer,col_indexer] = value instead\n",
      "\n",
      "See the caveats in the documentation: http://pandas.pydata.org/pandas-docs/stable/indexing.html#indexing-view-versus-copy\n",
      "  \n"
     ]
    }
   ],
   "source": [
    "#se formatea lat y lon\n",
    "p = propTOT[['property_type','place_name','surface_total_in_m2',\\\n",
    "          'price_usd_per_m2','latlon','Cant_ColeYUniv','Cant_LocalesGastronomicos',\n",
    "         'Cant_ParadasTransporte', 'price_aprox_usd']]\n",
    "p.dropna(inplace = True)\n",
    "\n",
    "p['lat'] = p.apply(lambda row: row[4][0], axis=1)\n",
    "\n",
    "p['lon'] = p.apply(lambda row: row[4][1], axis=1)\n",
    "\n",
    "p = p[['property_type','place_name','surface_total_in_m2',\\\n",
    "          'price_usd_per_m2','lat','lon','Cant_ColeYUniv','Cant_LocalesGastronomicos',\n",
    "         'Cant_ParadasTransporte', 'price_aprox_usd']]"
   ]
  },
  {
   "cell_type": "markdown",
   "metadata": {},
   "source": [
    "### Se le asigna un valor numerico al tipo de propiedad"
   ]
  },
  {
   "cell_type": "code",
   "execution_count": 7,
   "metadata": {},
   "outputs": [],
   "source": [
    "def asignarPT( p ):\n",
    "    if p == 'apartment':\n",
    "        return 3\n",
    "    if p == 'house':\n",
    "        return 2.25\n",
    "    if p == 'store':\n",
    "        return 6.5\n",
    "    return 2.5"
   ]
  },
  {
   "cell_type": "code",
   "execution_count": 8,
   "metadata": {},
   "outputs": [],
   "source": [
    "p['property_type'] = p.apply(lambda x: asignarPT(x[0]), axis = 1)"
   ]
  },
  {
   "cell_type": "markdown",
   "metadata": {},
   "source": [
    "### Se le asigna un valor a los barrios segun el analisis de grupos hecho en el tp1"
   ]
  },
  {
   "cell_type": "code",
   "execution_count": 9,
   "metadata": {},
   "outputs": [],
   "source": [
    "def asignarPV(name, dic):\n",
    "    return dic[name]   "
   ]
  },
  {
   "cell_type": "code",
   "execution_count": 10,
   "metadata": {},
   "outputs": [],
   "source": [
    "hoodGroups = p[[\"place_name\", \"price_usd_per_m2\"]]\n",
    "hoodGroups = hoodGroups.groupby(\"place_name\").agg([np.mean]).reset_index()\n",
    "hoodGroups = hoodGroups.sort_values(by=(\"price_usd_per_m2\", \"mean\"), ascending=False)"
   ]
  },
  {
   "cell_type": "code",
   "execution_count": 11,
   "metadata": {},
   "outputs": [],
   "source": [
    "HGdics = {}\n",
    "precio_ant = 0\n",
    "val_ant = 0\n",
    "for row in hoodGroups.iterrows():\n",
    "    name = row[1][0]\n",
    "    price = row[1][1]\n",
    "    val = val_ant + (precio_ant/price)\n",
    "    HGdics[name] = val\n",
    "    precio_ant = price\n",
    "    val_ant = val"
   ]
  },
  {
   "cell_type": "code",
   "execution_count": 12,
   "metadata": {},
   "outputs": [],
   "source": [
    "p[\"place_value\"] = p.apply(lambda x: asignarPV(x[1], HGdics), axis=1)"
   ]
  },
  {
   "cell_type": "code",
   "execution_count": 13,
   "metadata": {},
   "outputs": [],
   "source": [
    "pEnt = p[['property_type','surface_total_in_m2',\\\n",
    "          'lat','lon','Cant_LocalesGastronomicos',\n",
    "         'Cant_ParadasTransporte', 'place_value', 'price_aprox_usd']]"
   ]
  },
  {
   "cell_type": "code",
   "execution_count": 14,
   "metadata": {},
   "outputs": [
    {
     "name": "stderr",
     "output_type": "stream",
     "text": [
      "/home/rodrigoderosa/.local/lib/python2.7/site-packages/ipykernel_launcher.py:1: SettingWithCopyWarning: \n",
      "A value is trying to be set on a copy of a slice from a DataFrame\n",
      "\n",
      "See the caveats in the documentation: http://pandas.pydata.org/pandas-docs/stable/indexing.html#indexing-view-versus-copy\n",
      "  \"\"\"Entry point for launching an IPython kernel.\n"
     ]
    }
   ],
   "source": [
    "pEnt.dropna(inplace=True)"
   ]
  },
  {
   "cell_type": "markdown",
   "metadata": {},
   "source": [
    "# Se carga el set de Prueba"
   ]
  },
  {
   "cell_type": "code",
   "execution_count": 15,
   "metadata": {},
   "outputs": [
    {
     "name": "stderr",
     "output_type": "stream",
     "text": [
      "/home/rodrigoderosa/.local/lib/python2.7/site-packages/ipykernel_launcher.py:7: SettingWithCopyWarning: \n",
      "A value is trying to be set on a copy of a slice from a DataFrame.\n",
      "Try using .loc[row_indexer,col_indexer] = value instead\n",
      "\n",
      "See the caveats in the documentation: http://pandas.pydata.org/pandas-docs/stable/indexing.html#indexing-view-versus-copy\n",
      "  import sys\n",
      "/home/rodrigoderosa/.local/lib/python2.7/site-packages/ipykernel_launcher.py:9: SettingWithCopyWarning: \n",
      "A value is trying to be set on a copy of a slice from a DataFrame.\n",
      "Try using .loc[row_indexer,col_indexer] = value instead\n",
      "\n",
      "See the caveats in the documentation: http://pandas.pydata.org/pandas-docs/stable/indexing.html#indexing-view-versus-copy\n",
      "  if __name__ == '__main__':\n"
     ]
    }
   ],
   "source": [
    "proper = pickle.load(open(\"../../test_data_full.p\", \"rb\"))\n",
    "\n",
    "#se formatea lat y lon\n",
    "p = proper[['property_type','place_name','surface_total_in_m2','surface_covered_in_m2',\\\n",
    "          'latlon','Cant_ColeYUniv','Cant_LocalesGastronomicos',\n",
    "         'Cant_ParadasTransporte']]\n",
    "\n",
    "p['lat'] = p.apply(lambda row: row[4][0] if(np.all(pd.notnull(row[5]))) else row[5], axis=1)\n",
    "\n",
    "p['lon'] = p.apply(lambda row: row[4][1] if(np.all(pd.notnull(row[5]))) else row[5], axis=1)\n",
    "\n",
    "p = p[['property_type','place_name','surface_total_in_m2','surface_covered_in_m2',\\\n",
    "          'lat','lon','Cant_ColeYUniv','Cant_LocalesGastronomicos',\n",
    "         'Cant_ParadasTransporte']]\n",
    "\n",
    "p['property_type'] = p.apply(lambda x: asignarPT(x[0]), axis = 1)\n",
    "\n",
    "def asignarPVsegunEnt(name):\n",
    "    if(HGdics.has_key(name)):\n",
    "        return HGdics[name]\n",
    "    return np.nan\n",
    "\n",
    "#hay que armar los hoodGropus segun los resultados del set de Entrenamiento\n",
    "p[\"place_value\"] = p.apply(lambda x: asignarPVsegunEnt(x[1]), axis=1)\n",
    "\n",
    "#completo las superficies totales con las cubiertas\n",
    "p['surface_total_in_m2'] = p.apply(lambda row: row[3] if(np.all(pd.isnull(row[2]))) else row[2], axis=1)\n",
    "\n",
    "pPru = p[['property_type','surface_total_in_m2',\\\n",
    "        'lat','lon','Cant_ColeYUniv','Cant_LocalesGastronomicos',\n",
    "         'Cant_ParadasTransporte', 'place_value']]"
   ]
  },
  {
   "cell_type": "code",
   "execution_count": 16,
   "metadata": {},
   "outputs": [],
   "source": [
    "#split del dataset para entrenamiento y pruebas, 80% y 20% respectivamente\n",
    "Xtrn, Xtest, Ytrn, Ytest = train_test_split(pEnt[['property_type','surface_total_in_m2',\n",
    "        'place_value']],pEnt[['price_aprox_usd']],test_size=0.0)"
   ]
  },
  {
   "cell_type": "code",
   "execution_count": 17,
   "metadata": {},
   "outputs": [
    {
     "data": {
      "text/plain": [
       "GradientBoostingRegressor(alpha=0.95, criterion='friedman_mse', init=None,\n",
       "             learning_rate=0.241, loss='huber', max_depth=5,\n",
       "             max_features=None, max_leaf_nodes=None,\n",
       "             min_impurity_decrease=0.0, min_impurity_split=None,\n",
       "             min_samples_leaf=1, min_samples_split=2,\n",
       "             min_weight_fraction_leaf=0.0, n_estimators=5000,\n",
       "             presort='auto', random_state=None, subsample=1.0, verbose=0,\n",
       "             warm_start=False)"
      ]
     },
     "execution_count": 17,
     "metadata": {},
     "output_type": "execute_result"
    }
   ],
   "source": [
    "#definir el modelo a probar\n",
    "model = GradientBoostingRegressor(loss = 'ls', n_estimators = 5000, max_depth = 5, learning_rate = 0.241)\n",
    "\n",
    "#fit model on training dataset\n",
    "model.fit(Xtrn, Ytrn['price_aprox_usd'])"
   ]
  },
  {
   "cell_type": "code",
   "execution_count": 18,
   "metadata": {},
   "outputs": [
    {
     "name": "stdout",
     "output_type": "stream",
     "text": [
      "<class 'pandas.core.frame.DataFrame'>\n",
      "RangeIndex: 14166 entries, 0 to 14165\n",
      "Data columns (total 9 columns):\n",
      "property_type                14166 non-null float64\n",
      "surface_total_in_m2          13392 non-null float64\n",
      "lat                          12586 non-null float64\n",
      "lon                          12586 non-null float64\n",
      "Cant_ColeYUniv               12586 non-null float64\n",
      "Cant_LocalesGastronomicos    12586 non-null float64\n",
      "Cant_ParadasTransporte       12586 non-null float64\n",
      "place_value                  14157 non-null float64\n",
      "price_aprox_usd              8686 non-null float64\n",
      "dtypes: float64(9)\n",
      "memory usage: 996.1 KB\n"
     ]
    }
   ],
   "source": [
    "pPru.info()"
   ]
  },
  {
   "cell_type": "code",
   "execution_count": 19,
   "metadata": {},
   "outputs": [],
   "source": [
    "from sklearn.preprocessing import Imputer\n",
    "#hay que llenar el resto de los valores nan\n",
    "\n",
    "# Create our imputer to replace missing values with the mean e.g.\n",
    "imp = Imputer(missing_values=np.nan, strategy='most_frequent', axis=1)\n",
    "imp = imp.fit(Xtrn)\n",
    "\n",
    "pPru_imp = imp.transform(pPru[['property_type','surface_total_in_m2',\n",
    "        'place_value']])"
   ]
  },
  {
   "cell_type": "code",
   "execution_count": 20,
   "metadata": {},
   "outputs": [
    {
     "name": "stderr",
     "output_type": "stream",
     "text": [
      "/home/rodrigoderosa/.local/lib/python2.7/site-packages/ipykernel_launcher.py:1: SettingWithCopyWarning: \n",
      "A value is trying to be set on a copy of a slice from a DataFrame.\n",
      "Try using .loc[row_indexer,col_indexer] = value instead\n",
      "\n",
      "See the caveats in the documentation: http://pandas.pydata.org/pandas-docs/stable/indexing.html#indexing-view-versus-copy\n",
      "  \"\"\"Entry point for launching an IPython kernel.\n"
     ]
    }
   ],
   "source": [
    "pPru['price_usd'] = model.predict(pPru_imp)"
   ]
  },
  {
   "cell_type": "code",
   "execution_count": 21,
   "metadata": {},
   "outputs": [],
   "source": [
    "result = pd.DataFrame()"
   ]
  },
  {
   "cell_type": "code",
   "execution_count": 22,
   "metadata": {},
   "outputs": [],
   "source": [
    "result[\"id\"] = proper[\"id\"]"
   ]
  },
  {
   "cell_type": "code",
   "execution_count": 23,
   "metadata": {},
   "outputs": [],
   "source": [
    "result[\"price_usd\"] = pPru['price_usd']"
   ]
  },
  {
   "cell_type": "code",
   "execution_count": 24,
   "metadata": {},
   "outputs": [
    {
     "data": {
      "text/html": [
       "<div>\n",
       "<style>\n",
       "    .dataframe thead tr:only-child th {\n",
       "        text-align: right;\n",
       "    }\n",
       "\n",
       "    .dataframe thead th {\n",
       "        text-align: left;\n",
       "    }\n",
       "\n",
       "    .dataframe tbody tr th {\n",
       "        vertical-align: top;\n",
       "    }\n",
       "</style>\n",
       "<table border=\"1\" class=\"dataframe\">\n",
       "  <thead>\n",
       "    <tr style=\"text-align: right;\">\n",
       "      <th></th>\n",
       "      <th>id</th>\n",
       "      <th>price_usd</th>\n",
       "    </tr>\n",
       "  </thead>\n",
       "  <tbody>\n",
       "    <tr>\n",
       "      <th>0</th>\n",
       "      <td>2316505</td>\n",
       "      <td>36001.483813</td>\n",
       "    </tr>\n",
       "    <tr>\n",
       "      <th>1</th>\n",
       "      <td>2320880</td>\n",
       "      <td>207634.398555</td>\n",
       "    </tr>\n",
       "    <tr>\n",
       "      <th>2</th>\n",
       "      <td>2321742</td>\n",
       "      <td>216766.411405</td>\n",
       "    </tr>\n",
       "    <tr>\n",
       "      <th>3</th>\n",
       "      <td>2276796</td>\n",
       "      <td>49497.665096</td>\n",
       "    </tr>\n",
       "    <tr>\n",
       "      <th>4</th>\n",
       "      <td>2330364</td>\n",
       "      <td>73197.822474</td>\n",
       "    </tr>\n",
       "  </tbody>\n",
       "</table>\n",
       "</div>"
      ],
      "text/plain": [
       "        id      price_usd\n",
       "0  2316505   36001.483813\n",
       "1  2320880  207634.398555\n",
       "2  2321742  216766.411405\n",
       "3  2276796   49497.665096\n",
       "4  2330364   73197.822474"
      ]
     },
     "execution_count": 24,
     "metadata": {},
     "output_type": "execute_result"
    }
   ],
   "source": [
    "result.head()"
   ]
  },
  {
   "cell_type": "code",
   "execution_count": 25,
   "metadata": {},
   "outputs": [],
   "source": [
    "result.to_csv(index=False, path_or_buf=\"resultsGBPhiAlpha.csv\")"
   ]
  },
  {
   "cell_type": "code",
   "execution_count": 26,
   "metadata": {},
   "outputs": [],
   "source": [
    "#para ver mas o menos que tan lejos quedo\n",
    "result[\"real_price_usd\"] = proper['price_aprox_usd']"
   ]
  },
  {
   "cell_type": "code",
   "execution_count": 27,
   "metadata": {},
   "outputs": [
    {
     "data": {
      "text/html": [
       "<div>\n",
       "<style>\n",
       "    .dataframe thead tr:only-child th {\n",
       "        text-align: right;\n",
       "    }\n",
       "\n",
       "    .dataframe thead th {\n",
       "        text-align: left;\n",
       "    }\n",
       "\n",
       "    .dataframe tbody tr th {\n",
       "        vertical-align: top;\n",
       "    }\n",
       "</style>\n",
       "<table border=\"1\" class=\"dataframe\">\n",
       "  <thead>\n",
       "    <tr style=\"text-align: right;\">\n",
       "      <th></th>\n",
       "      <th>id</th>\n",
       "      <th>price_usd</th>\n",
       "      <th>real_price_usd</th>\n",
       "    </tr>\n",
       "  </thead>\n",
       "  <tbody>\n",
       "    <tr>\n",
       "      <th>0</th>\n",
       "      <td>2316505</td>\n",
       "      <td>36001.483813</td>\n",
       "      <td>11111.00</td>\n",
       "    </tr>\n",
       "    <tr>\n",
       "      <th>1</th>\n",
       "      <td>2320880</td>\n",
       "      <td>207634.398555</td>\n",
       "      <td>11111.00</td>\n",
       "    </tr>\n",
       "    <tr>\n",
       "      <th>2</th>\n",
       "      <td>2321742</td>\n",
       "      <td>216766.411405</td>\n",
       "      <td>12554.74</td>\n",
       "    </tr>\n",
       "    <tr>\n",
       "      <th>3</th>\n",
       "      <td>2276796</td>\n",
       "      <td>49497.665096</td>\n",
       "      <td>13000.00</td>\n",
       "    </tr>\n",
       "    <tr>\n",
       "      <th>4</th>\n",
       "      <td>2330364</td>\n",
       "      <td>73197.822474</td>\n",
       "      <td>13000.00</td>\n",
       "    </tr>\n",
       "  </tbody>\n",
       "</table>\n",
       "</div>"
      ],
      "text/plain": [
       "        id      price_usd  real_price_usd\n",
       "0  2316505   36001.483813        11111.00\n",
       "1  2320880  207634.398555        11111.00\n",
       "2  2321742  216766.411405        12554.74\n",
       "3  2276796   49497.665096        13000.00\n",
       "4  2330364   73197.822474        13000.00"
      ]
     },
     "execution_count": 27,
     "metadata": {},
     "output_type": "execute_result"
    }
   ],
   "source": [
    "result.head()"
   ]
  },
  {
   "cell_type": "code",
   "execution_count": 28,
   "metadata": {},
   "outputs": [
    {
     "data": {
      "text/plain": [
       "array([ 0.05747421,  0.59823291,  0.34429288])"
      ]
     },
     "execution_count": 28,
     "metadata": {},
     "output_type": "execute_result"
    }
   ],
   "source": [
    "model.feature_importances_"
   ]
  }
 ],
 "metadata": {
  "kernelspec": {
   "display_name": "Python 2",
   "language": "python",
   "name": "python2"
  },
  "language_info": {
   "codemirror_mode": {
    "name": "ipython",
    "version": 2
   },
   "file_extension": ".py",
   "mimetype": "text/x-python",
   "name": "python",
   "nbconvert_exporter": "python",
   "pygments_lexer": "ipython2",
   "version": "2.7.14"
  }
 },
 "nbformat": 4,
 "nbformat_minor": 2
}
