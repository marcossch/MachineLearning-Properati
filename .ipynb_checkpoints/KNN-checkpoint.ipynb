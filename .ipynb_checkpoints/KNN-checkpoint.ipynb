{
 "cells": [
  {
   "cell_type": "code",
   "execution_count": 1,
   "metadata": {
    "collapsed": true
   },
   "outputs": [],
   "source": [
    "import pandas as pd\n",
    "import numpy as np\n",
    "from sklearn.metrics import mean_squared_error\n",
    "from sklearn.neighbors import KNeighborsRegressor\n",
    "from sklearn.preprocessing import StandardScaler \n",
    "from sklearn.model_selection import GridSearchCV\n",
    "from sklearn.externals import joblib\n",
    "import time\n",
    "\n",
    "import warnings\n",
    "warnings.simplefilter(\"ignore\", category=DeprecationWarning)"
   ]
  },
  {
   "cell_type": "code",
   "execution_count": 2,
   "metadata": {
    "collapsed": true
   },
   "outputs": [],
   "source": [
    "#propiedades = pd.read_csv('/home/mati/Desktop/set_datos_propiedades.csv')\n",
    "propiedades = pd.read_csv('/home/agustin/Escritorio/escritorio/fiuba/Organizacion de datos/datos para el tp2/set_datos_propiedades.csv')"
   ]
  },
  {
   "cell_type": "code",
   "execution_count": 3,
   "metadata": {
    "collapsed": true
   },
   "outputs": [],
   "source": [
    "propiedades = propiedades.loc[(propiedades.price_aprox_usd.notnull()) & (propiedades.superficie.notnull()),\\\n",
    "                             ['place_name_encoded', 'property_type_encoded','price_aprox_usd','superficie',\\\n",
    "                             'Year','Month','seguridad','aire','gimnasio','cochera','pileta']]"
   ]
  },
  {
   "cell_type": "code",
   "execution_count": 4,
   "metadata": {},
   "outputs": [
    {
     "name": "stdout",
     "output_type": "stream",
     "text": [
      "<class 'pandas.core.frame.DataFrame'>\n",
      "Int64Index: 1132495 entries, 0 to 1413024\n",
      "Data columns (total 11 columns):\n",
      "place_name_encoded       1132495 non-null int64\n",
      "property_type_encoded    1132495 non-null int64\n",
      "price_aprox_usd          1132495 non-null float64\n",
      "superficie               1132495 non-null float64\n",
      "Year                     1132495 non-null int64\n",
      "Month                    1132495 non-null int64\n",
      "seguridad                1132495 non-null bool\n",
      "aire                     1132495 non-null bool\n",
      "gimnasio                 1132495 non-null bool\n",
      "cochera                  1132495 non-null bool\n",
      "pileta                   1132495 non-null bool\n",
      "dtypes: bool(5), float64(2), int64(4)\n",
      "memory usage: 65.9 MB\n"
     ]
    }
   ],
   "source": [
    "propiedades.info()"
   ]
  },
  {
   "cell_type": "markdown",
   "metadata": {},
   "source": [
    "# KNN"
   ]
  },
  {
   "cell_type": "code",
   "execution_count": 5,
   "metadata": {
    "collapsed": true
   },
   "outputs": [],
   "source": [
    "columnas = ['superficie','place_name_encoded','property_type_encoded','seguridad','gimnasio', 'aire', 'pileta', 'cochera']\n",
    "columnas_precio = columnas + ['price_aprox_usd']"
   ]
  },
  {
   "cell_type": "code",
   "execution_count": 6,
   "metadata": {
    "collapsed": true
   },
   "outputs": [],
   "source": [
    "set_entrenamiento = propiedades.loc[(propiedades.Year >= 2016) &((propiedades.Year < 2017) | (propiedades.Month < 6))\\\n",
    "                                    ,columnas_precio]\n",
    "set_pruebas = propiedades.loc[(propiedades.Year == 2017) & (propiedades.Month == 6),columnas_precio].head(20000)\n",
    "\n",
    "set_entrenamiento_datos = set_entrenamiento.loc[:,columnas]\n",
    "set_entrenamiento_resultado = set_entrenamiento.loc[:,'price_aprox_usd']"
   ]
  },
  {
   "cell_type": "code",
   "execution_count": 7,
   "metadata": {},
   "outputs": [
    {
     "name": "stdout",
     "output_type": "stream",
     "text": [
      "Precision = 66.47 % , error = 46257434434.250084\n"
     ]
    }
   ],
   "source": [
    "knn = KNeighborsRegressor()\n",
    "knn.fit(set_entrenamiento_datos,set_entrenamiento_resultado)\n",
    "set_pruebas.loc[:,'resultado'] = set_pruebas.loc[:,columnas].apply(lambda x: knn.predict(x)[0],axis = 1)\n",
    "precision = knn.score(set_pruebas.loc[:,columnas],set_pruebas.price_aprox_usd) * 100\n",
    "error = mean_squared_error(set_pruebas.price_aprox_usd,set_pruebas.resultado)\n",
    "print(\"Precision = {:.2f} % , error = {}\".format(precision, error))"
   ]
  },
  {
   "cell_type": "markdown",
   "metadata": {},
   "source": [
    "### Ahora que tenemos una intuicion, probamos variando los parametros"
   ]
  },
  {
   "cell_type": "code",
   "execution_count": 8,
   "metadata": {
    "collapsed": true
   },
   "outputs": [],
   "source": [
    "columnas = ['superficie','place_name_encoded','property_type_encoded','seguridad','gimnasio', 'aire', 'pileta', 'cochera']\n",
    "columnas_precio = columnas + ['price_aprox_usd']"
   ]
  },
  {
   "cell_type": "code",
   "execution_count": 9,
   "metadata": {
    "collapsed": true
   },
   "outputs": [],
   "source": [
    "set_entrenamiento = propiedades.loc[(propiedades.Year >= 2016) &((propiedades.Year < 2017) | (propiedades.Month < 6))\\\n",
    "                                    ,columnas_precio]\n",
    "set_pruebas = propiedades.loc[(propiedades.Year == 2017) & (propiedades.Month == 6),columnas_precio].head(20000)\n",
    "\n",
    "set_entrenamiento_datos = set_entrenamiento.loc[:,columnas]\n",
    "set_entrenamiento_resultado = set_entrenamiento.loc[:,'price_aprox_usd']\n",
    "\n",
    "res = []"
   ]
  },
  {
   "cell_type": "code",
   "execution_count": 14,
   "metadata": {
    "collapsed": true
   },
   "outputs": [
    {
     "name": "stdout",
     "output_type": "stream",
     "text": [
      "1  -  1\n",
      "1  -  2\n",
      "2  -  1\n",
      "2  -  2\n",
      "3  -  1\n",
      "3  -  2\n",
      "4  -  1\n",
      "4  -  2\n",
      "6  -  1\n",
      "6  -  2\n",
      "7  -  1\n",
      "7  -  2\n",
      "8  -  1\n",
      "8  -  2\n",
      "9  -  1\n",
      "9  -  2\n"
     ]
    }
   ],
   "source": [
    "lista_k = [1,2,3,4,6,7,8,9]\n",
    "lista_dist = [1,2]\n",
    "\n",
    "for k in lista_k:\n",
    "    for d in lista_dist:\n",
    "        knn = KNeighborsRegressor(n_neighbors = k, p = d)\n",
    "        knn.fit(set_entrenamiento_datos,set_entrenamiento_resultado)\n",
    "        set_pruebas.loc[:,'resultado'] = set_pruebas.loc[:,columnas].apply(lambda x: knn.predict(x)[0],axis = 1)\n",
    "        precision = knn.score(set_pruebas.loc[:,columnas],set_pruebas.price_aprox_usd) * 100\n",
    "        error = mean_squared_error(set_pruebas.price_aprox_usd,set_pruebas.resultado)\n",
    "        res.append((k,d,precision,error))\n",
    "        print(k,' - ',d)"
   ]
  },
  {
   "cell_type": "code",
   "execution_count": 15,
   "metadata": {},
   "outputs": [
    {
     "name": "stdout",
     "output_type": "stream",
     "text": [
      "k = 5, dist = 1, precision = 67.74 % , error = 44503444653.57036\n",
      "k = 5, dist = 2, precision = 66.47 % , error = 46257434434.250084\n",
      "k = 5, dist = 3, precision = 66.06 % , error = 46820485517.495285\n",
      "k = 5, dist = 4, precision = 66.03 % , error = 46867165037.71839\n",
      "k = 5, dist = 5, precision = 66.08 % , error = 46801194633.71839\n",
      "k = 5, dist = 10, precision = 66.06 % , error = 46821186305.59339\n",
      "k = 5, dist = 20, precision = 66.09 % , error = 46788773386.83274\n",
      "k = 5, dist = 50, precision = 66.03 % , error = 46866233647.49688\n",
      "k = 10, dist = 1, precision = 62.22 % , error = 52115549467.72854\n",
      "k = 10, dist = 2, precision = 60.77 % , error = 54118163984.20072\n",
      "k = 10, dist = 3, precision = 60.70 % , error = 54223673067.69754\n",
      "k = 10, dist = 4, precision = 60.67 % , error = 54266007937.41873\n",
      "k = 10, dist = 5, precision = 60.71 % , error = 54204845526.91873\n",
      "k = 10, dist = 10, precision = 60.70 % , error = 54219505276.91873\n",
      "k = 10, dist = 20, precision = 60.76 % , error = 54139068474.28264\n",
      "k = 10, dist = 50, precision = 60.81 % , error = 54064900121.874146\n",
      "k = 15, dist = 1, precision = 60.26 % , error = 54830463081.72175\n",
      "k = 15, dist = 2, precision = 59.15 % , error = 56350054801.518364\n",
      "k = 15, dist = 3, precision = 58.96 % , error = 56622730744.15658\n",
      "k = 15, dist = 4, precision = 58.96 % , error = 56624590819.011536\n",
      "k = 15, dist = 5, precision = 58.88 % , error = 56729568014.99695\n",
      "k = 15, dist = 10, precision = 58.72 % , error = 56950398206.77534\n",
      "k = 15, dist = 20, precision = 58.68 % , error = 57003551236.73665\n",
      "k = 15, dist = 50, precision = 59.41 % , error = 55995669275.61871\n",
      "k = 20, dist = 1, precision = 58.40 % , error = 57390496728.52445\n",
      "k = 20, dist = 2, precision = 57.11 % , error = 59167967257.95553\n",
      "k = 20, dist = 3, precision = 56.92 % , error = 59437766973.65288\n",
      "k = 20, dist = 4, precision = 56.89 % , error = 59476418485.9719\n",
      "k = 20, dist = 5, precision = 56.83 % , error = 59558307790.0197\n",
      "k = 20, dist = 10, precision = 56.92 % , error = 59428854501.89475\n",
      "k = 20, dist = 20, precision = 57.00 % , error = 59322118379.87235\n",
      "k = 20, dist = 50, precision = 57.73 % , error = 58311637807.778015\n",
      "k = 30, dist = 1, precision = 55.18 % , error = 61828407495.413635\n",
      "k = 30, dist = 2, precision = 54.29 % , error = 63060034256.89425\n",
      "k = 30, dist = 3, precision = 54.59 % , error = 62643972862.36188\n",
      "k = 30, dist = 4, precision = 54.55 % , error = 62705964117.98927\n",
      "k = 30, dist = 5, precision = 54.58 % , error = 62665085746.282776\n",
      "k = 30, dist = 10, precision = 54.71 % , error = 62480630399.495834\n",
      "k = 30, dist = 20, precision = 54.73 % , error = 62457859648.30823\n",
      "k = 30, dist = 50, precision = 54.87 % , error = 62263663311.222534\n",
      "k = 50, dist = 1, precision = 51.68 % , error = 66667319227.68705\n",
      "k = 50, dist = 2, precision = 50.81 % , error = 67865198581.24818\n",
      "k = 50, dist = 3, precision = 50.59 % , error = 68172531547.53078\n",
      "k = 50, dist = 4, precision = 50.73 % , error = 67966784020.28624\n",
      "k = 50, dist = 5, precision = 50.79 % , error = 67883317360.396286\n",
      "k = 50, dist = 10, precision = 50.85 % , error = 67811546541.45361\n",
      "k = 50, dist = 20, precision = 50.84 % , error = 67826614117.15461\n",
      "k = 50, dist = 50, precision = 50.70 % , error = 68020446326.34722\n",
      "k = 100, dist = 1, precision = 47.09 % , error = 72999938512.90819\n",
      "k = 100, dist = 2, precision = 45.52 % , error = 75164929592.92178\n",
      "k = 100, dist = 3, precision = 45.40 % , error = 75320124462.04501\n",
      "k = 100, dist = 4, precision = 45.47 % , error = 75234507071.08823\n",
      "k = 100, dist = 5, precision = 45.47 % , error = 75230330580.93706\n",
      "k = 100, dist = 10, precision = 45.70 % , error = 74919192590.90262\n",
      "k = 100, dist = 20, precision = 45.83 % , error = 74734004231.76364\n",
      "k = 100, dist = 50, precision = 45.72 % , error = 74885356792.39821\n",
      "k = 500, dist = 1, precision = 42.51 % , error = 79309003074.84215\n",
      "k = 500, dist = 2, precision = 40.58 % , error = 81970664760.43083\n",
      "k = 500, dist = 3, precision = 40.32 % , error = 82334250902.71698\n",
      "k = 500, dist = 4, precision = 40.24 % , error = 82444729375.96683\n",
      "k = 500, dist = 5, precision = 40.22 % , error = 82470623897.07622\n",
      "k = 500, dist = 10, precision = 40.23 % , error = 82456230908.5415\n",
      "k = 500, dist = 20, precision = 40.15 % , error = 82563319447.52554\n",
      "k = 500, dist = 50, precision = 40.04 % , error = 82714649827.24174\n",
      "k = 1, dist = 1, precision = 87.78 % , error = 16865005472.822279\n",
      "k = 1, dist = 2, precision = 87.78 % , error = 16858607479.777966\n",
      "k = 2, dist = 1, precision = 80.14 % , error = 27401292829.79977\n",
      "k = 2, dist = 2, precision = 79.83 % , error = 27824785871.441715\n",
      "k = 3, dist = 1, precision = 74.05 % , error = 35798360226.68778\n",
      "k = 3, dist = 2, precision = 73.43 % , error = 36660321159.79214\n",
      "k = 4, dist = 1, precision = 70.53 % , error = 40660456232.22827\n",
      "k = 4, dist = 2, precision = 69.46 % , error = 42134796488.69684\n",
      "k = 6, dist = 1, precision = 65.61 % , error = 47443729858.22121\n",
      "k = 6, dist = 2, precision = 64.11 % , error = 49508577450.341965\n",
      "k = 7, dist = 1, precision = 63.51 % , error = 50340715386.21348\n",
      "k = 7, dist = 2, precision = 61.91 % , error = 52555844333.65924\n",
      "k = 8, dist = 1, precision = 62.86 % , error = 51238207602.051414\n",
      "k = 8, dist = 2, precision = 61.07 % , error = 53714578093.288925\n",
      "k = 9, dist = 1, precision = 62.06 % , error = 52344719848.48733\n",
      "k = 9, dist = 2, precision = 60.26 % , error = 54830561013.02275\n"
     ]
    }
   ],
   "source": [
    "for r in res:\n",
    "    print (\"k = {}, dist = {}, precision = {:.2f} % , error = {}\".format(r[0],r[1],r[2],r[3]))"
   ]
  },
  {
   "cell_type": "code",
   "execution_count": 16,
   "metadata": {},
   "outputs": [
    {
     "name": "stdout",
     "output_type": "stream",
     "text": [
      "Mayor precision = k = 1, dist = 2, precision = 87.78 % , error = 16858607479.777966\n",
      "Menor error = k = 1, dist = 2, precision = 87.78 % , error = 16858607479.777966\n"
     ]
    }
   ],
   "source": [
    "min_error = float('inf')\n",
    "max_precision = 0\n",
    "tupla_min_error = ()\n",
    "tupla_max_precision = ()\n",
    "for r in res:\n",
    "    if r[3] < min_error:\n",
    "        min_error = r[3]\n",
    "        tupla_min_error = r\n",
    "    if r[2] > max_precision:\n",
    "        max_precision = r[2]\n",
    "        tupla_max_precision = r\n",
    "        \n",
    "print(\"Mayor precision = k = {}, dist = {}, precision = {:.2f} % , error = {}\".\\\n",
    "              format(tupla_max_precision[0],tupla_max_precision[1],tupla_max_precision[2],tupla_max_precision[3]))\n",
    "print(\"Menor error = k = {}, dist = {}, precision = {:.2f} % , error = {}\".\\\n",
    "              format(tupla_min_error[0],tupla_min_error[1],tupla_min_error[2],tupla_min_error[3]))"
   ]
  },
  {
   "cell_type": "markdown",
   "metadata": {},
   "source": [
    "# Elegimos k = 1  y dist = 1"
   ]
  },
  {
   "cell_type": "code",
   "execution_count": 52,
   "metadata": {
    "collapsed": true
   },
   "outputs": [],
   "source": [
    "#Probamos varias combinaciones de columnas, la de mejor resultado fue esta\n",
    "\n",
    "columnas = ['superficie','place_name_encoded','property_type_encoded','seguridad','gimnasio','aire','pileta','cochera']\n",
    "columnas_precio = columnas + ['price_aprox_usd']"
   ]
  },
  {
   "cell_type": "code",
   "execution_count": 53,
   "metadata": {
    "collapsed": true
   },
   "outputs": [],
   "source": [
    "set_entrenamiento = propiedades.loc[(propiedades.Year >= 2016) &((propiedades.Year < 2017) | (propiedades.Month < 6))\\\n",
    "                                    ,columnas_precio]\n",
    "set_pruebas = propiedades.loc[(propiedades.Year == 2017) & (propiedades.Month == 6),columnas_precio].head(20000)\n",
    "\n",
    "set_entrenamiento_datos = set_entrenamiento.loc[:,columnas]\n",
    "set_entrenamiento_resultado = set_entrenamiento.loc[:,'price_aprox_usd']"
   ]
  },
  {
   "cell_type": "code",
   "execution_count": 54,
   "metadata": {
    "collapsed": true
   },
   "outputs": [],
   "source": [
    "k = 1\n",
    "d = 1"
   ]
  },
  {
   "cell_type": "code",
   "execution_count": 55,
   "metadata": {},
   "outputs": [
    {
     "name": "stdout",
     "output_type": "stream",
     "text": [
      "Precision = 87.78 % , error = 16865005472.822279\n"
     ]
    }
   ],
   "source": [
    "knn = KNeighborsRegressor(n_neighbors = k, p = d)\n",
    "knn.fit(set_entrenamiento_datos,set_entrenamiento_resultado)\n",
    "set_pruebas.loc[:,'resultado'] = set_pruebas.loc[:,columnas].apply(lambda x: knn.predict(x)[0],axis = 1)\n",
    "precision = knn.score(set_pruebas.loc[:,columnas],set_pruebas.price_aprox_usd) * 100\n",
    "error = mean_squared_error(set_pruebas.price_aprox_usd,set_pruebas.resultado)\n",
    "print(\"Precision = {:.2f} % , error = {}\".format(precision, error))"
   ]
  },
  {
   "cell_type": "markdown",
   "metadata": {},
   "source": [
    "# Calculamos los verdaderos datos"
   ]
  },
  {
   "cell_type": "code",
   "execution_count": 56,
   "metadata": {
    "collapsed": true
   },
   "outputs": [],
   "source": [
    "analizar = pd.read_csv('/home/mati/Desktop/properati_dataset_modificado.csv')"
   ]
  },
  {
   "cell_type": "code",
   "execution_count": 57,
   "metadata": {
    "collapsed": true
   },
   "outputs": [],
   "source": [
    "analizar.loc[:,'price_usd'] = analizar.loc[:,columnas].apply(lambda x: knn.predict(x)[0],axis = 1)"
   ]
  },
  {
   "cell_type": "code",
   "execution_count": 58,
   "metadata": {
    "collapsed": true
   },
   "outputs": [],
   "source": [
    "resultado = analizar.loc[:,['id','price_usd']]"
   ]
  },
  {
   "cell_type": "code",
   "execution_count": 59,
   "metadata": {
    "collapsed": true
   },
   "outputs": [],
   "source": [
    "resultado.to_csv('KNN_resultados.csv', index = False)"
   ]
  },
  {
   "cell_type": "markdown",
   "metadata": {},
   "source": [
    "# Utilizando standard scaler"
   ]
  },
  {
   "cell_type": "code",
   "execution_count": 4,
   "metadata": {
    "collapsed": true
   },
   "outputs": [],
   "source": [
    "columnas = ['superficie','place_name_encoded','property_type_encoded','seguridad','gimnasio', 'aire', 'pileta', 'cochera']\n",
    "columnas_precio = columnas + ['price_aprox_usd']"
   ]
  },
  {
   "cell_type": "code",
   "execution_count": 5,
   "metadata": {
    "collapsed": true
   },
   "outputs": [],
   "source": [
    "set_entrenamiento = propiedades.loc[(propiedades.Year >= 2016) &((propiedades.Year < 2017) | (propiedades.Month < 6))\\\n",
    "                                    ,columnas_precio]\n",
    "set_pruebas = propiedades.loc[(propiedades.Year == 2017) & (propiedades.Month == 6),columnas_precio].head(20000)\n",
    "\n",
    "set_entrenamiento_datos = set_entrenamiento.loc[:,columnas]\n",
    "set_entrenamiento_resultado = set_entrenamiento.loc[:,'price_aprox_usd']"
   ]
  },
  {
   "cell_type": "code",
   "execution_count": 7,
   "metadata": {},
   "outputs": [
    {
     "data": {
      "text/plain": [
       "StandardScaler(copy=True, with_mean=True, with_std=True)"
      ]
     },
     "execution_count": 7,
     "metadata": {},
     "output_type": "execute_result"
    }
   ],
   "source": [
    "scaler = StandardScaler()  \n",
    "scaler.fit(set_entrenamiento_datos)"
   ]
  },
  {
   "cell_type": "code",
   "execution_count": 9,
   "metadata": {},
   "outputs": [
    {
     "name": "stdout",
     "output_type": "stream",
     "text": [
      "Precision = 87.76 % , error = 16880708784.0\n"
     ]
    }
   ],
   "source": [
    "knn = KNeighborsRegressor(n_neighbors = 1, p = 1)\n",
    "knn.fit(scaler.transform(set_entrenamiento_datos),set_entrenamiento_resultado)\n",
    "set_pruebas.loc[:,'resultado'] = set_pruebas.loc[:,columnas].apply(lambda x: knn.predict(scaler.transform([x]))[0],axis = 1)\n",
    "precision = knn.score(scaler.transform(set_pruebas.loc[:,columnas]),set_pruebas.price_aprox_usd) * 100\n",
    "error = mean_squared_error(set_pruebas.price_aprox_usd,set_pruebas.resultado)\n",
    "print(\"Precision = {:.2f} % , error = {}\".format(precision, error))"
   ]
  },
  {
   "cell_type": "code",
   "execution_count": 10,
   "metadata": {
    "collapsed": true
   },
   "outputs": [],
   "source": [
    "analizar = pd.read_csv('/home/agustin/Escritorio/escritorio/fiuba/Organizacion de datos/datos para el tp2/properati_dataset_modificado.csv')"
   ]
  },
  {
   "cell_type": "code",
   "execution_count": 11,
   "metadata": {
    "collapsed": true
   },
   "outputs": [],
   "source": [
    "analizar.loc[:,'price_usd'] = analizar.loc[:,columnas].apply(lambda x: knn.predict(scaler.transform([x]))[0],axis = 1)"
   ]
  },
  {
   "cell_type": "code",
   "execution_count": 12,
   "metadata": {},
   "outputs": [
    {
     "data": {
      "text/plain": [
       "count    1.416600e+04\n",
       "mean     2.275825e+05\n",
       "std      2.618315e+05\n",
       "min      5.005030e+03\n",
       "25%      9.652500e+04\n",
       "50%      1.459000e+05\n",
       "75%      2.600000e+05\n",
       "max      5.800000e+06\n",
       "Name: price_usd, dtype: float64"
      ]
     },
     "execution_count": 12,
     "metadata": {},
     "output_type": "execute_result"
    }
   ],
   "source": [
    "analizar.price_usd.describe()"
   ]
  },
  {
   "cell_type": "code",
   "execution_count": 13,
   "metadata": {
    "collapsed": true
   },
   "outputs": [],
   "source": [
    "resultado = analizar.loc[:,['id','price_usd']]"
   ]
  },
  {
   "cell_type": "code",
   "execution_count": 14,
   "metadata": {
    "collapsed": true
   },
   "outputs": [],
   "source": [
    "resultado.to_csv('resultados/KNN_standard_scaler_resultados.csv', index = False)"
   ]
  },
  {
   "cell_type": "markdown",
   "metadata": {},
   "source": [
    "# Ahora uso lat y lon en lugar de place name"
   ]
  },
  {
   "cell_type": "code",
   "execution_count": 2,
   "metadata": {
    "collapsed": true
   },
   "outputs": [],
   "source": [
    "propiedades = pd.read_csv('/home/mati/Desktop/set_datos_propiedades.csv')"
   ]
  },
  {
   "cell_type": "code",
   "execution_count": 3,
   "metadata": {
    "collapsed": true
   },
   "outputs": [],
   "source": [
    "propiedades = propiedades.loc[(propiedades.price_aprox_usd.notnull()) & (propiedades.superficie.notnull())\\\n",
    "                              & (propiedades.lat.notnull()) & (propiedades.lon.notnull()),\\\n",
    "                             ['lat', 'lon', 'property_type_encoded','price_aprox_usd','superficie',\\\n",
    "                             'Year','Month','seguridad','aire','gimnasio','cochera','pileta']]"
   ]
  },
  {
   "cell_type": "code",
   "execution_count": 4,
   "metadata": {
    "collapsed": true
   },
   "outputs": [],
   "source": [
    "columnas = ['superficie','lat', 'lon','property_type_encoded','seguridad','gimnasio', 'aire', 'pileta', 'cochera']\n",
    "columnas_precio = columnas + ['price_aprox_usd']"
   ]
  },
  {
   "cell_type": "code",
   "execution_count": 5,
   "metadata": {
    "collapsed": true
   },
   "outputs": [],
   "source": [
    "set_entrenamiento = propiedades.loc[(propiedades.Year >= 2016) &((propiedades.Year < 2017) | (propiedades.Month < 6))\\\n",
    "                                    ,columnas_precio]\n",
    "set_pruebas = propiedades.loc[(propiedades.Year == 2017) & (propiedades.Month == 6),columnas_precio].head(20000)\n",
    "\n",
    "set_entrenamiento_datos = set_entrenamiento.loc[:,columnas]\n",
    "set_entrenamiento_resultado = set_entrenamiento.loc[:,'price_aprox_usd']"
   ]
  },
  {
   "cell_type": "code",
   "execution_count": 6,
   "metadata": {},
   "outputs": [
    {
     "name": "stdout",
     "output_type": "stream",
     "text": [
      "Precision = 75.80 % , error = 28024909874.83337\n"
     ]
    }
   ],
   "source": [
    "knn = KNeighborsRegressor()\n",
    "knn.fit(set_entrenamiento_datos,set_entrenamiento_resultado)\n",
    "set_pruebas.loc[:,'resultado'] = set_pruebas.loc[:,columnas].apply(lambda x: knn.predict(x)[0],axis = 1)\n",
    "precision = knn.score(set_pruebas.loc[:,columnas],set_pruebas.price_aprox_usd) * 100\n",
    "error = mean_squared_error(set_pruebas.price_aprox_usd,set_pruebas.resultado)\n",
    "print(\"Precision = {:.2f} % , error = {}\".format(precision, error))"
   ]
  },
  {
   "cell_type": "code",
   "execution_count": 7,
   "metadata": {
    "collapsed": true
   },
   "outputs": [],
   "source": [
    "res = []"
   ]
  },
  {
   "cell_type": "code",
   "execution_count": 8,
   "metadata": {
    "collapsed": true
   },
   "outputs": [
    {
     "name": "stdout",
     "output_type": "stream",
     "text": [
      "1  -  1\n",
      "1  -  2\n",
      "1  -  3\n",
      "1  -  30\n",
      "2  -  1\n",
      "2  -  2\n",
      "2  -  3\n",
      "2  -  30\n",
      "3  -  1\n",
      "3  -  2\n",
      "3  -  3\n",
      "3  -  30\n",
      "4  -  1\n",
      "4  -  2\n",
      "4  -  3\n",
      "4  -  30\n",
      "6  -  1\n",
      "6  -  2\n",
      "6  -  3\n",
      "6  -  30\n",
      "7  -  1\n",
      "7  -  2\n",
      "7  -  3\n",
      "7  -  30\n",
      "8  -  1\n",
      "8  -  2\n",
      "8  -  3\n",
      "8  -  30\n",
      "9  -  1\n",
      "9  -  2\n",
      "9  -  3\n",
      "9  -  30\n",
      "10  -  1\n",
      "10  -  2\n",
      "10  -  3\n",
      "10  -  30\n",
      "20  -  1\n",
      "20  -  2\n",
      "20  -  3\n",
      "20  -  30\n",
      "30  -  1\n",
      "30  -  2\n",
      "30  -  3\n",
      "30  -  30\n",
      "50  -  1\n",
      "50  -  2\n",
      "50  -  3\n",
      "50  -  30\n",
      "100  -  1\n",
      "100  -  2\n",
      "100  -  3\n",
      "100  -  30\n"
     ]
    }
   ],
   "source": [
    "lista_k = [1,2,3,4,6,7,8,9,10,20,30,50,100]\n",
    "lista_dist = [1,2,3,30]\n",
    "\n",
    "for k in lista_k:\n",
    "    for d in lista_dist:\n",
    "        knn = KNeighborsRegressor(n_neighbors = k, p = d)\n",
    "        knn.fit(set_entrenamiento_datos,set_entrenamiento_resultado)\n",
    "        set_pruebas.loc[:,'resultado'] = set_pruebas.loc[:,columnas].apply(lambda x: knn.predict(x)[0],axis = 1)\n",
    "        precision = knn.score(set_pruebas.loc[:,columnas],set_pruebas.price_aprox_usd) * 100\n",
    "        error = mean_squared_error(set_pruebas.price_aprox_usd,set_pruebas.resultado)\n",
    "        res.append((k,d,precision,error))\n",
    "        print(k,' - ',d)"
   ]
  },
  {
   "cell_type": "code",
   "execution_count": 9,
   "metadata": {},
   "outputs": [
    {
     "name": "stdout",
     "output_type": "stream",
     "text": [
      "k = 1, dist = 1, precision = 97.46 % , error = 2941056207.548492\n",
      "k = 1, dist = 2, precision = 96.99 % , error = 3487607112.906904\n",
      "k = 1, dist = 3, precision = 96.99 % , error = 3487240629.3464584\n",
      "k = 1, dist = 30, precision = 96.57 % , error = 3969315224.422367\n",
      "k = 2, dist = 1, precision = 87.79 % , error = 14138083682.573963\n",
      "k = 2, dist = 2, precision = 87.37 % , error = 14620230850.039059\n",
      "k = 2, dist = 3, precision = 87.29 % , error = 14711338500.938713\n",
      "k = 2, dist = 30, precision = 87.03 % , error = 15020235388.52279\n",
      "k = 3, dist = 1, precision = 82.82 % , error = 19886139472.03235\n",
      "k = 3, dist = 2, precision = 82.49 % , error = 20268813210.69347\n",
      "k = 3, dist = 3, precision = 82.38 % , error = 20405921651.98053\n",
      "k = 3, dist = 30, precision = 81.86 % , error = 21000861693.281067\n",
      "k = 4, dist = 1, precision = 78.81 % , error = 24528951834.158386\n",
      "k = 4, dist = 2, precision = 78.53 % , error = 24853818722.2917\n",
      "k = 4, dist = 3, precision = 78.38 % , error = 25032399105.134636\n",
      "k = 4, dist = 30, precision = 77.80 % , error = 25698756045.521645\n",
      "k = 6, dist = 1, precision = 73.71 % , error = 30441735900.524563\n",
      "k = 6, dist = 2, precision = 73.32 % , error = 30888799345.68841\n",
      "k = 6, dist = 3, precision = 73.15 % , error = 31085253651.868546\n",
      "k = 6, dist = 30, precision = 72.69 % , error = 31620794193.91733\n",
      "k = 7, dist = 1, precision = 71.69 % , error = 32781189287.675594\n",
      "k = 7, dist = 2, precision = 71.32 % , error = 33210378271.73123\n",
      "k = 7, dist = 3, precision = 71.20 % , error = 33346564188.360912\n",
      "k = 7, dist = 30, precision = 71.07 % , error = 33494323234.80086\n",
      "k = 8, dist = 1, precision = 70.85 % , error = 33754678452.261612\n",
      "k = 8, dist = 2, precision = 70.44 % , error = 34223036978.983814\n",
      "k = 8, dist = 3, precision = 70.40 % , error = 34270173853.372414\n",
      "k = 8, dist = 30, precision = 70.10 % , error = 34620566311.108185\n",
      "k = 9, dist = 1, precision = 68.74 % , error = 36193906761.24544\n",
      "k = 9, dist = 2, precision = 68.39 % , error = 36598810466.7687\n",
      "k = 9, dist = 3, precision = 68.31 % , error = 36692375003.979454\n",
      "k = 9, dist = 30, precision = 68.18 % , error = 36842295500.52443\n",
      "k = 10, dist = 1, precision = 67.89 % , error = 37175649704.25879\n",
      "k = 10, dist = 2, precision = 67.63 % , error = 37475615307.822266\n",
      "k = 10, dist = 3, precision = 67.50 % , error = 37624869204.584274\n",
      "k = 10, dist = 30, precision = 67.49 % , error = 37642252305.76015\n",
      "k = 20, dist = 1, precision = 57.09 % , error = 49681710384.94135\n",
      "k = 20, dist = 2, precision = 57.37 % , error = 49359380928.98647\n",
      "k = 20, dist = 3, precision = 57.19 % , error = 49570118262.06563\n",
      "k = 20, dist = 30, precision = 57.15 % , error = 49612138826.314606\n",
      "k = 30, dist = 1, precision = 53.08 % , error = 54320113329.417534\n",
      "k = 30, dist = 2, precision = 53.07 % , error = 54335186332.75978\n",
      "k = 30, dist = 3, precision = 52.87 % , error = 54564110472.44506\n",
      "k = 30, dist = 30, precision = 53.12 % , error = 54285224280.46473\n",
      "k = 50, dist = 1, precision = 49.57 % , error = 58384275679.24639\n",
      "k = 50, dist = 2, precision = 49.34 % , error = 58651862498.083015\n",
      "k = 50, dist = 3, precision = 49.09 % , error = 58941884486.4445\n",
      "k = 50, dist = 30, precision = 48.49 % , error = 59634513434.08751\n",
      "k = 100, dist = 1, precision = 46.68 % , error = 61740515961.586685\n",
      "k = 100, dist = 2, precision = 45.73 % , error = 62839427859.39054\n",
      "k = 100, dist = 3, precision = 45.64 % , error = 62945412318.61323\n",
      "k = 100, dist = 30, precision = 44.52 % , error = 64238356973.32566\n"
     ]
    }
   ],
   "source": [
    "for r in res:\n",
    "    print (\"k = {}, dist = {}, precision = {:.2f} % , error = {}\".format(r[0],r[1],r[2],r[3]))"
   ]
  },
  {
   "cell_type": "code",
   "execution_count": 10,
   "metadata": {},
   "outputs": [
    {
     "name": "stdout",
     "output_type": "stream",
     "text": [
      "Mayor precision = k = 1, dist = 1, precision = 97.46 % , error = 2941056207.548492\n",
      "Menor error = k = 1, dist = 1, precision = 97.46 % , error = 2941056207.548492\n"
     ]
    }
   ],
   "source": [
    "min_error = float('inf')\n",
    "max_precision = 0\n",
    "tupla_min_error = ()\n",
    "tupla_max_precision = ()\n",
    "for r in res:\n",
    "    if r[3] < min_error:\n",
    "        min_error = r[3]\n",
    "        tupla_min_error = r\n",
    "    if r[2] > max_precision:\n",
    "        max_precision = r[2]\n",
    "        tupla_max_precision = r\n",
    "        \n",
    "print(\"Mayor precision = k = {}, dist = {}, precision = {:.2f} % , error = {}\".\\\n",
    "              format(tupla_max_precision[0],tupla_max_precision[1],tupla_max_precision[2],tupla_max_precision[3]))\n",
    "print(\"Menor error = k = {}, dist = {}, precision = {:.2f} % , error = {}\".\\\n",
    "              format(tupla_min_error[0],tupla_min_error[1],tupla_min_error[2],tupla_min_error[3]))"
   ]
  },
  {
   "cell_type": "markdown",
   "metadata": {},
   "source": [
    "# Elegimos k = 1  dist = 1"
   ]
  },
  {
   "cell_type": "code",
   "execution_count": 39,
   "metadata": {
    "collapsed": true
   },
   "outputs": [],
   "source": [
    "#Probamos distintas combinaciones de columnas, esta es la que dio mejores resultados\n",
    "\n",
    "columnas = ['superficie','lat', 'lon','property_type_encoded','gimnasio', 'aire', 'pileta', 'cochera']\n",
    "columnas_precio = columnas + ['price_aprox_usd']"
   ]
  },
  {
   "cell_type": "code",
   "execution_count": 40,
   "metadata": {
    "collapsed": true
   },
   "outputs": [],
   "source": [
    "set_entrenamiento = propiedades.loc[(propiedades.Year >= 2016) &((propiedades.Year < 2017) | (propiedades.Month < 6))\\\n",
    "                                    ,columnas_precio]\n",
    "set_pruebas = propiedades.loc[(propiedades.Year == 2017) & (propiedades.Month == 6),columnas_precio].head(20000)\n",
    "\n",
    "set_entrenamiento_datos = set_entrenamiento.loc[:,columnas]\n",
    "set_entrenamiento_resultado = set_entrenamiento.loc[:,'price_aprox_usd']"
   ]
  },
  {
   "cell_type": "code",
   "execution_count": 41,
   "metadata": {
    "collapsed": true
   },
   "outputs": [],
   "source": [
    "k = 1\n",
    "d = 1     "
   ]
  },
  {
   "cell_type": "code",
   "execution_count": 42,
   "metadata": {},
   "outputs": [
    {
     "name": "stdout",
     "output_type": "stream",
     "text": [
      "Precision = 97.54 % , error = 2853986652.665258\n"
     ]
    }
   ],
   "source": [
    "knn = KNeighborsRegressor(n_neighbors = k, p = d)\n",
    "knn.fit(set_entrenamiento_datos,set_entrenamiento_resultado)\n",
    "set_pruebas.loc[:,'resultado'] = set_pruebas.loc[:,columnas].apply(lambda x: knn.predict(x)[0],axis = 1)\n",
    "precision = knn.score(set_pruebas.loc[:,columnas],set_pruebas.price_aprox_usd) * 100\n",
    "error = mean_squared_error(set_pruebas.price_aprox_usd,set_pruebas.resultado)\n",
    "print(\"Precision = {:.2f} % , error = {}\".format(precision, error))"
   ]
  },
  {
   "cell_type": "markdown",
   "metadata": {},
   "source": [
    "# Calculamos los verdaderos datos"
   ]
  },
  {
   "cell_type": "code",
   "execution_count": 43,
   "metadata": {
    "collapsed": true
   },
   "outputs": [],
   "source": [
    "analizar = pd.read_csv('/home/mati/Desktop/properati_dataset_modificado.csv')"
   ]
  },
  {
   "cell_type": "code",
   "execution_count": 44,
   "metadata": {
    "collapsed": true
   },
   "outputs": [],
   "source": [
    "analizar.loc[:,'price_usd'] = analizar.loc[:,columnas].apply(lambda x: knn.predict(x)[0],axis = 1)"
   ]
  },
  {
   "cell_type": "code",
   "execution_count": 45,
   "metadata": {
    "collapsed": true
   },
   "outputs": [],
   "source": [
    "resultado = analizar.loc[:,['id','price_usd']]"
   ]
  },
  {
   "cell_type": "code",
   "execution_count": 46,
   "metadata": {
    "collapsed": true
   },
   "outputs": [],
   "source": [
    "resultado.to_csv('resultados/KNN_2.csv', index = False)"
   ]
  },
  {
   "cell_type": "markdown",
   "metadata": {},
   "source": [
    "# Utilizando standard scaler"
   ]
  },
  {
   "cell_type": "code",
   "execution_count": 50,
   "metadata": {},
   "outputs": [
    {
     "data": {
      "text/plain": [
       "StandardScaler(copy=True, with_mean=True, with_std=True)"
      ]
     },
     "execution_count": 50,
     "metadata": {},
     "output_type": "execute_result"
    }
   ],
   "source": [
    "scaler = StandardScaler()  \n",
    "scaler.fit(set_entrenamiento_datos)"
   ]
  },
  {
   "cell_type": "code",
   "execution_count": 51,
   "metadata": {},
   "outputs": [
    {
     "name": "stdout",
     "output_type": "stream",
     "text": [
      "Precision = 96.61 % , error = 3927713227.278155\n"
     ]
    }
   ],
   "source": [
    "knn = KNeighborsRegressor(n_neighbors = k, p = d)\n",
    "knn.fit(scaler.transform(set_entrenamiento_datos),set_entrenamiento_resultado)\n",
    "set_pruebas.loc[:,'resultado'] = set_pruebas.loc[:,columnas].apply(lambda x: knn.predict(scaler.transform([x]))[0],axis = 1)\n",
    "precision = knn.score(scaler.transform(set_pruebas.loc[:,columnas]),set_pruebas.price_aprox_usd) * 100\n",
    "error = mean_squared_error(set_pruebas.price_aprox_usd,set_pruebas.resultado)\n",
    "print(\"Precision = {:.2f} % , error = {}\".format(precision, error))"
   ]
  },
  {
   "cell_type": "code",
   "execution_count": 52,
   "metadata": {
    "collapsed": true
   },
   "outputs": [],
   "source": [
    "analizar.loc[:,'price_usd'] = analizar.loc[:,columnas].apply(lambda x: knn.predict(scaler.transform([x]))[0],axis = 1)"
   ]
  },
  {
   "cell_type": "code",
   "execution_count": 53,
   "metadata": {
    "collapsed": true
   },
   "outputs": [],
   "source": [
    "resultado = analizar.loc[:,['id','price_usd']]"
   ]
  },
  {
   "cell_type": "code",
   "execution_count": 54,
   "metadata": {
    "collapsed": true
   },
   "outputs": [],
   "source": [
    "resultado.to_csv('resultados/KNN_standard_scaler_2.csv', index = False)"
   ]
  },
  {
   "cell_type": "markdown",
   "metadata": {},
   "source": [
    "# Usando Grid Search y Cross Validation"
   ]
  },
  {
   "cell_type": "code",
   "execution_count": 2,
   "metadata": {
    "collapsed": true
   },
   "outputs": [],
   "source": [
    "propiedades = pd.read_csv('/home/mati/Desktop/set_datos_propiedades.csv')\n",
    "\n",
    "propiedades = propiedades.loc[(propiedades.price_aprox_usd.notnull()) & (propiedades.superficie.notnull())\\\n",
    "                              & (propiedades.lat.notnull()) & (propiedades.lon.notnull()) & (propiedades.Year >=2016)]\n",
    "\n",
    "columnas = ['superficie','lat', 'lon','property_type_encoded','seguridad','gimnasio', 'aire', 'pileta', 'cochera']\n",
    "columnas_precio = columnas + ['price_aprox_usd']\n",
    "\n",
    "set_entrenamiento_datos = propiedades.loc[:,columnas]\n",
    "set_entrenamiento_resultado = propiedades.loc[:,'price_aprox_usd']"
   ]
  },
  {
   "cell_type": "code",
   "execution_count": 3,
   "metadata": {
    "collapsed": true
   },
   "outputs": [],
   "source": [
    "# Parametros\n",
    "\n",
    "lista_k = [2,3,10,15,20,30,50]\n",
    "lista_dist = [1,2,5]\n",
    "\n",
    "parametros = {\"n_neighbors\" : lista_k, \"p\" : lista_dist}\n",
    "\n",
    "iteraciones_cross_validation = 10\n",
    "knn = KNeighborsRegressor()"
   ]
  },
  {
   "cell_type": "code",
   "execution_count": 4,
   "metadata": {},
   "outputs": [
    {
     "name": "stdout",
     "output_type": "stream",
     "text": [
      "Tiempo: 20:52:00 --- 07:53:16 \n",
      " Precision: 86.96 \n",
      " Parametros = {'n_neighbors': 2, 'p': 2}\n"
     ]
    }
   ],
   "source": [
    "inicio = time.strftime(\"%X\")\n",
    "\n",
    "grid = GridSearchCV( estimator = knn, param_grid = parametros, n_jobs = 2, cv = iteraciones_cross_validation)\n",
    "\n",
    "grid.fit(set_entrenamiento_datos, set_entrenamiento_resultado)\n",
    "\n",
    "score = grid.best_score_ * 100\n",
    "mejores_parametros = grid.best_params_\n",
    "fin = time.strftime(\"%X\")\n",
    "\n",
    "print(\"Tiempo: {} --- {} \\n Precision: {:.2f} \\n Parametros = {}\".format(inicio,fin,score,mejores_parametros))"
   ]
  },
  {
   "cell_type": "code",
   "execution_count": 5,
   "metadata": {
    "collapsed": true
   },
   "outputs": [],
   "source": [
    "analizar = pd.read_csv(\"/home/mati/Desktop/properati_dataset_modificado.csv\")\n",
    "\n",
    "analizar.loc[:,'price_usd'] = analizar.loc[:,columnas].apply(lambda x: grid.predict(x)[0],axis = 1)\n",
    "\n",
    "resultado = analizar.loc[:,['id','price_usd']]\n",
    "\n",
    "resultado.to_csv('resultados/KNN_GridSearch.csv', index = False)"
   ]
  },
  {
   "cell_type": "code",
   "execution_count": 6,
   "metadata": {},
   "outputs": [
    {
     "data": {
      "text/plain": [
       "['algoritmos/knn.pkl']"
      ]
     },
     "execution_count": 6,
     "metadata": {},
     "output_type": "execute_result"
    }
   ],
   "source": [
    "joblib.dump(grid, 'algoritmos/knn.pkl')"
   ]
  },
  {
   "cell_type": "markdown",
   "metadata": {},
   "source": [
    "## Haciendo Bagging"
   ]
  },
  {
   "cell_type": "code",
   "execution_count": 2,
   "metadata": {
    "collapsed": true
   },
   "outputs": [],
   "source": [
    "propiedades = pd.read_csv('/home/mati/Desktop/set_datos_propiedades.csv')\n",
    "\n",
    "propiedades = propiedades.loc[(propiedades.price_aprox_usd.notnull()) & (propiedades.superficie.notnull())\\\n",
    "                              & (propiedades.lat.notnull()) & (propiedades.lon.notnull()) & (propiedades.Year >=2016)]\n",
    "\n",
    "columnas = ['superficie','lat', 'lon','property_type_encoded','seguridad','gimnasio', 'aire', 'pileta', 'cochera']\n",
    "columnas_precio = columnas + ['price_aprox_usd']\n",
    "\n",
    "set_pruebas = analizar = pd.read_csv(\"/home/mati/Desktop/properati_dataset_modificado.csv\")\n",
    "set_pruebas.loc[:,'price_usd'] = 0.0"
   ]
  },
  {
   "cell_type": "code",
   "execution_count": 3,
   "metadata": {
    "collapsed": true
   },
   "outputs": [],
   "source": [
    "cant = 10\n",
    "\n",
    "for i in range(cant):\n",
    "    datos = propiedades.sample(frac = 0.4)\n",
    "    set_entrenamiento_datos = datos.loc[:,columnas]\n",
    "    set_entrenamiento_resultado = datos.loc[:,'price_aprox_usd']\n",
    "    \n",
    "    knn = KNeighborsRegressor(n_neighbors = 2, p = 2)\n",
    "    \n",
    "    knn.fit(set_entrenamiento_datos,set_entrenamiento_resultado)\n",
    "    set_pruebas.loc[:,'res'] = set_pruebas.loc[:,columnas].apply(lambda x: knn.predict(x)[0],axis = 1)\n",
    "    set_pruebas.loc[:,'price_usd'] = set_pruebas.loc[:,'price_usd'] + set_pruebas.loc[:,'res']"
   ]
  },
  {
   "cell_type": "code",
   "execution_count": 4,
   "metadata": {
    "collapsed": true
   },
   "outputs": [],
   "source": [
    "set_pruebas.loc[:,'price_usd'] = set_pruebas.loc[:,'price_usd'] / cant\n",
    "\n",
    "resultado = set_pruebas.loc[:,['id','price_usd']]\n",
    "\n",
    "resultado.to_csv('resultados/KNN_Cross_Validation.csv', index = False)"
   ]
  }
 ],
 "metadata": {
  "kernelspec": {
   "display_name": "Python 2",
   "language": "python",
   "name": "python2"
  },
  "language_info": {
   "codemirror_mode": {
    "name": "ipython",
    "version": 2
   },
   "file_extension": ".py",
   "mimetype": "text/x-python",
   "name": "python",
   "nbconvert_exporter": "python",
   "pygments_lexer": "ipython2",
   "version": "2.7.14"
  }
 },
 "nbformat": 4,
 "nbformat_minor": 2
}
