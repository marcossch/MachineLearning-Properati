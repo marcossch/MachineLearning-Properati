{
 "cells": [
  {
   "cell_type": "code",
   "execution_count": 1,
   "metadata": {
    "collapsed": true
   },
   "outputs": [],
   "source": [
    "import pandas as pd\n",
    "import numpy as np\n",
    "from sklearn import preprocessing\n",
    "from math import radians, sin, cos, asin, sqrt, pi, atan, atan2, fabs\n",
    "\n",
    "import geopandas as gpd\n",
    "from shapely.geometry import Polygon, MultiPolygon, Point\n",
    "from shapely import wkt"
   ]
  },
  {
   "cell_type": "code",
   "execution_count": 2,
   "metadata": {
    "collapsed": true
   },
   "outputs": [],
   "source": [
    "#propiedades = pd.read_csv('/home/mati/Desktop/propiedades_descripcion.csv')\n",
    "propiedades = pd.read_csv('/home/agustin/Escritorio/escritorio/fiuba/Organizacion de datos/datos para el tp2/set_datos_propiedades.csv')\n",
    "propiedades = propiedades.loc[propiedades.Year >= 2015,:]"
   ]
  },
  {
   "cell_type": "code",
   "execution_count": 3,
   "metadata": {
    "collapsed": true
   },
   "outputs": [],
   "source": [
    "pruebas = pd.read_csv(\"/home/mati/Desktop/properati_dataset_testing_noprice.csv\")"
   ]
  },
  {
   "cell_type": "markdown",
   "metadata": {},
   "source": [
    "#### Calculo el precio a partir del precio m2 y la superficie"
   ]
  },
  {
   "cell_type": "code",
   "execution_count": 8,
   "metadata": {
    "collapsed": true
   },
   "outputs": [],
   "source": [
    "def calcular_precio_usd(fila):\n",
    "    usd,currency,precio,sup,m2 = fila\n",
    "    if (not np.isnan(usd) and usd != 0):\n",
    "        return usd\n",
    "    if (currency == 'USD'):\n",
    "        if (not np.isnan(precio) and precio != 0 ):\n",
    "            return precio\n",
    "    if (not np.isnan(sup) and not np.isnan(m2) and sup and m2):\n",
    "        return sup * m2\n",
    "    return np.nan\n",
    "\n",
    "propiedades.loc[:,'price_aprox_usd'] = propiedades.loc[:,['price_aprox_usd','currency','price',\\\n",
    "                      'superficie','price_usd_per_m2']].apply(lambda x: calcular_precio_usd(x),axis = 1)"
   ]
  },
  {
   "cell_type": "code",
   "execution_count": 10,
   "metadata": {
    "collapsed": true
   },
   "outputs": [],
   "source": [
    "propiedades.loc[:, 'Month'] = propiedades.loc[:,'fecha_de_publicacion'].apply(lambda x: int(x.split('-')[1]))\n",
    "propiedades = propiedades.loc[propiedades.price_aprox_usd.notnull(),:].reset_index()"
   ]
  },
  {
   "cell_type": "code",
   "execution_count": 39,
   "metadata": {
    "collapsed": true
   },
   "outputs": [],
   "source": [
    "propiedades.drop(['index','price','price_aprox_local_currency','price_usd_per_m2','price_per_m2'], axis = 1, inplace = True)\n",
    "propiedades = propiedades.loc[propiedades.place_name.notnull(),:]"
   ]
  },
  {
   "cell_type": "markdown",
   "metadata": {},
   "source": [
    "### Busco datos con las descripciones (las del tp1 y algunas mas)"
   ]
  },
  {
   "cell_type": "code",
   "execution_count": 4,
   "metadata": {
    "collapsed": true
   },
   "outputs": [],
   "source": [
    "def tiene_cadena(cadena, lista):\n",
    "    cadena = str(cadena)\n",
    "    cadena = cadena.lower()\n",
    "    resultado = False\n",
    "    for x in lista:\n",
    "        resultado = resultado or (x in cadena)\n",
    "    return resultado"
   ]
  },
  {
   "cell_type": "code",
   "execution_count": 15,
   "metadata": {
    "collapsed": true
   },
   "outputs": [],
   "source": [
    "cadenas = ['vigilancia', 'seguridad', 'alarma', 'blindado', 'blindaje', 'guardia']\n",
    "propiedades.loc[:,'seguridad'] = propiedades.loc[:, 'description'].apply(lambda x: tiene_cadena(x, cadenas))\n",
    "pruebas.loc[:,'seguridad'] = pruebas.loc[:, 'description'].apply(lambda x: tiene_cadena(x, cadenas))"
   ]
  },
  {
   "cell_type": "code",
   "execution_count": 16,
   "metadata": {
    "collapsed": true
   },
   "outputs": [],
   "source": [
    "cadenas = ['gimnasio', 'gym', 'gimnacio']\n",
    "propiedades.loc[:,'gimnasio'] = propiedades.loc[:, 'description'].apply(lambda x: tiene_cadena(x, cadenas))\n",
    "pruebas.loc[:,'gimnasio'] = pruebas.loc[:, 'description'].apply(lambda x: tiene_cadena(x, cadenas))"
   ]
  },
  {
   "cell_type": "code",
   "execution_count": 17,
   "metadata": {
    "collapsed": true
   },
   "outputs": [],
   "source": [
    "cadenas = ['aire frio', 'aire acondicionado', 'split', 'aires acondicionados', 'climatizador', 'central',\\\n",
    "          'losa radiante', 'piso radiante', 'pisoradiante', 'loza radiante', 'los radiantes', 'radante',\\\n",
    "          'radiador']\n",
    "propiedades.loc[:,'aire'] = propiedades.loc[:, 'description'].apply(lambda x: tiene_cadena(x, cadenas))\n",
    "pruebas.loc[:,'aire'] = pruebas.loc[:, 'description'].apply(lambda x: tiene_cadena(x, cadenas))"
   ]
  },
  {
   "cell_type": "code",
   "execution_count": 18,
   "metadata": {
    "collapsed": true
   },
   "outputs": [],
   "source": [
    "cadenas = ['pileta', 'piscina', 'picina','pisina', 'yaccuzi', ' jacuzzi', 'jacuzi',\\\n",
    "           'yacuzi', 'yacusi', 'jacussi', 'hidromasaje']\n",
    "propiedades.loc[:,'pileta'] = propiedades.loc[:, 'description'].apply(lambda x: tiene_cadena(x, cadenas))\n",
    "pruebas.loc[:,'pileta'] = pruebas.loc[:, 'description'].apply(lambda x: tiene_cadena(x, cadenas))"
   ]
  },
  {
   "cell_type": "code",
   "execution_count": 19,
   "metadata": {
    "collapsed": true
   },
   "outputs": [],
   "source": [
    "cadenas = ['cochera', 'garage', 'estacionamiento', 'entrada de auto']\n",
    "propiedades.loc[:,'cochera'] = propiedades.loc[:, 'description'].apply(lambda x: tiene_cadena(x, cadenas))\n",
    "pruebas.loc[:,'cochera'] = pruebas.loc[:, 'description'].apply(lambda x: tiene_cadena(x, cadenas))"
   ]
  },
  {
   "cell_type": "code",
   "execution_count": 19,
   "metadata": {
    "collapsed": true
   },
   "outputs": [],
   "source": [
    "cadenas = ['tren', 'subte', 'estacion', 'estación']\n",
    "propiedades.loc[:,'transporte'] = propiedades.loc[:, 'description'].apply(lambda x: tiene_cadena(x, cadenas))\n",
    "pruebas.loc[:,'transporte'] = pruebas.loc[:, 'description'].apply(lambda x: tiene_cadena(x, cadenas))"
   ]
  },
  {
   "cell_type": "code",
   "execution_count": 18,
   "metadata": {
    "collapsed": true
   },
   "outputs": [],
   "source": [
    "cadenas = ['shoping', 'shopping', 'shoppin', 'centro comercial', 'museo', 'monumento', 'estadio', 'cancha', 'comercio']\n",
    "propiedades.loc[:,'comercio'] = propiedades.loc[:, 'description'].apply(lambda x: tiene_cadena(x, cadenas))\n",
    "pruebas.loc[:,'comercio'] = pruebas.loc[:, 'description'].apply(lambda x: tiene_cadena(x, cadenas))"
   ]
  },
  {
   "cell_type": "code",
   "execution_count": 20,
   "metadata": {
    "collapsed": true
   },
   "outputs": [],
   "source": [
    "cadenas = ['hospital', 'escuela', 'universidad', 'clínica', 'clinica', 'sanatorio']\n",
    "propiedades.loc[:,'servicios'] = propiedades.loc[:, 'description'].apply(lambda x: tiene_cadena(x, cadenas))\n",
    "pruebas.loc[:,'servicios'] = pruebas.loc[:, 'description'].apply(lambda x: tiene_cadena(x, cadenas))"
   ]
  },
  {
   "cell_type": "code",
   "execution_count": 21,
   "metadata": {
    "collapsed": true
   },
   "outputs": [],
   "source": [
    "cadenas = ['parrila', 'jardin', 'jardín', 'parrilla', 'fondo', 'parque', 'quincho', 'sum']\n",
    "propiedades.loc[:,'jardin'] = propiedades.loc[:, 'description'].apply(lambda x: tiene_cadena(x, cadenas))\n",
    "pruebas.loc[:,'jardin'] = pruebas.loc[:, 'description'].apply(lambda x: tiene_cadena(x, cadenas))"
   ]
  },
  {
   "cell_type": "code",
   "execution_count": 22,
   "metadata": {
    "collapsed": true
   },
   "outputs": [],
   "source": [
    "cadenas = ['pisos', 'plantas', 'escaleras', 'escalera', 'planta baja', 'planta alta']\n",
    "propiedades.loc[:,'doble piso'] = propiedades.loc[:, 'description'].apply(lambda x: tiene_cadena(x, cadenas))\n",
    "pruebas.loc[:,'doble piso'] = pruebas.loc[:, 'description'].apply(lambda x: tiene_cadena(x, cadenas))"
   ]
  },
  {
   "cell_type": "markdown",
   "metadata": {},
   "source": [
    "### Calculos para datos faltantes en las pruebas"
   ]
  },
  {
   "cell_type": "code",
   "execution_count": 22,
   "metadata": {
    "collapsed": true
   },
   "outputs": [],
   "source": [
    "def unificar_superficies(fila):\n",
    "    total,covered = fila\n",
    "    if (not np.isnan(total) and total != 0):\n",
    "        return total\n",
    "    if (not np.isnan(covered) and covered != 0):\n",
    "        return covered\n",
    "    return None\n",
    "\n",
    "def traducir_tipo_propiedad(x):\n",
    "    if x == 'casa':\n",
    "        return 'house'\n",
    "    if x == 'departamento':\n",
    "        return 'apartment'\n",
    "    if x == 'ph':\n",
    "        return 'PH'\n",
    "    return x\n",
    "\n",
    "def obtener_promedio_por_zona_y_tipo(x,columna, datos):\n",
    "    \"Devuelve el promedio de la columna para los datos\"\n",
    "    zona, tipo = x\n",
    "    df = datos.loc[(datos.place_name == zona) & (datos.property_type == tipo),columna]\n",
    "    return df.mean()\n",
    "\n",
    "def obtener_promedio_por_zona(zona,columna, datos):\n",
    "    \"Devuelve el promedio de la columna para los datos\"\n",
    "    df = datos.loc[(datos.place_name == zona) ,columna]\n",
    "    return df.mean()"
   ]
  },
  {
   "cell_type": "code",
   "execution_count": 28,
   "metadata": {
    "collapsed": true
   },
   "outputs": [],
   "source": [
    "#Traduzco el tipo de propiedad\n",
    "pruebas.loc[:,'property_type'] = pruebas.loc[:,'property_type'].apply(traducir_tipo_propiedad)\n",
    "\n",
    "#Unifico las superficies\n",
    "pruebas.loc[:,'superficie'] = pruebas.loc[:,['surface_total_in_m2','surface_covered_in_m2']].apply\\\n",
    "            (lambda x: unificar_superficies(x), axis = 1)\n",
    "\n",
    "#Completo superficies faltantes con promedios\n",
    "#Primero promedio de los datos\n",
    "pruebas.loc[pruebas.superficie.isnull(),'superficie'] = pruebas.loc[pruebas.superficie.isnull(),\\\n",
    "                                                    ['place_name','property_type']].apply\\\n",
    "                (lambda x: obtener_promedio_por_zona_y_tipo(x,'superficie',propiedades), axis = 1)\n",
    "#Luego promedio de las pruebas\n",
    "pruebas.loc[pruebas.superficie.isnull(),'superficie'] = pruebas.loc[pruebas.superficie.isnull(),\\\n",
    "                                                    ['place_name','property_type']].apply\\\n",
    "                (lambda x: obtener_promedio_por_zona_y_tipo(x,'superficie',pruebas), axis = 1)\n",
    "#Si alguno sigue siendo null le pongo 10\n",
    "pruebas.loc[pruebas.superficie.isnull(),'superficie'] = 10\n",
    "\n",
    "#Completo las latitudes y longitudes con promedios\n",
    "#Primero promedio de los datos\n",
    "pruebas.loc[pruebas.lat.isnull(),'lat'] = pruebas.loc[pruebas.lat.isnull(),'place_name'].apply\\\n",
    "                (lambda x: obtener_promedio_por_zona(x,'lat',propiedades))\n",
    "pruebas.loc[pruebas.lon.isnull(),'lon'] = pruebas.loc[pruebas.lon.isnull(),'place_name'].apply\\\n",
    "                (lambda x: obtener_promedio_por_zona(x,'lon',propiedades))\n",
    "#Luego promedio de las pruebas\n",
    "pruebas.loc[pruebas.lat.isnull(),'lat'] = pruebas.loc[pruebas.lat.isnull(),'place_name'].apply\\\n",
    "                (lambda x: obtener_promedio_por_zona(x,'lat',pruebas))\n",
    "pruebas.loc[pruebas.lon.isnull(),'lon'] = pruebas.loc[pruebas.lon.isnull(),'place_name'].apply\\\n",
    "                (lambda x: obtener_promedio_por_zona(x,'lon',pruebas))\n",
    "#Si alguno sigue siendo null le pongo el promedio de todos\n",
    "pruebas.loc[pruebas.lat.isnull(),'lat'] = propiedades.loc[propiedades.lat.notnull(),'lat'].mean()\n",
    "pruebas.loc[pruebas.lon.isnull(),'lon'] = propiedades.loc[propiedades.lon.notnull(),'lon'].mean()"
   ]
  },
  {
   "cell_type": "markdown",
   "metadata": {},
   "source": [
    "## Encodeo los strings"
   ]
  },
  {
   "cell_type": "code",
   "execution_count": 31,
   "metadata": {
    "collapsed": true
   },
   "outputs": [],
   "source": [
    "places = list(propiedades['place_name']) + list(pruebas['place_name'])\n",
    "types = list(propiedades['property_type'])"
   ]
  },
  {
   "cell_type": "code",
   "execution_count": 32,
   "metadata": {},
   "outputs": [
    {
     "data": {
      "text/plain": [
       "LabelEncoder()"
      ]
     },
     "execution_count": 32,
     "metadata": {},
     "output_type": "execute_result"
    }
   ],
   "source": [
    "encoder_places = preprocessing.LabelEncoder()\n",
    "encoder_places.fit(places)\n",
    "\n",
    "encoder_types = preprocessing.LabelEncoder()\n",
    "encoder_types.fit(types)"
   ]
  },
  {
   "cell_type": "code",
   "execution_count": 33,
   "metadata": {
    "collapsed": true
   },
   "outputs": [],
   "source": [
    "propiedades.loc[:,'property_type_encoded'] = propiedades.loc[:,'property_type'].apply(lambda x: encoder_types.transform([x])[0])"
   ]
  },
  {
   "cell_type": "code",
   "execution_count": 38,
   "metadata": {
    "collapsed": true
   },
   "outputs": [],
   "source": [
    "propiedades.loc[:,'place_name_encoded'] = propiedades.loc[:,'place_name'].apply(lambda x: encoder_places.transform([x])[0])"
   ]
  },
  {
   "cell_type": "code",
   "execution_count": 40,
   "metadata": {
    "collapsed": true
   },
   "outputs": [],
   "source": [
    "pruebas.loc[:,'property_type_encoded'] = pruebas.loc[:,'property_type'].apply(lambda x: encoder_types.transform([x])[0])\n",
    "pruebas.loc[:,'place_name_encoded'] = pruebas.loc[:,'place_name'].apply(lambda x: encoder_places.transform([x])[0])"
   ]
  },
  {
   "cell_type": "markdown",
   "metadata": {},
   "source": [
    "## Calculo de distancias"
   ]
  },
  {
   "cell_type": "code",
   "execution_count": 4,
   "metadata": {
    "collapsed": true
   },
   "outputs": [],
   "source": [
    "def calcular_distancia(lat1,long1,lat2,long2):\n",
    "    lon1, lat1 = (radians(coord) for coord in (long1,lat1))\n",
    "    lon2, lat2 = (radians(coord) for coord in (long2,lat2))\n",
    "    dlat = (lat2 - lat1)\n",
    "    dlon = (lon2 - lon1)\n",
    "    a = (\n",
    "        sin(dlat * 0.5)**2 +\n",
    "        cos(lat1) * cos(lat2) * sin(dlon * 0.5)**2\n",
    "    )\n",
    "    \n",
    "    radioTierra = 6371008.8\n",
    "    return 2 * radioTierra * asin(sqrt(a)) / 1000\n",
    "\n",
    "#distancia de Haversine"
   ]
  },
  {
   "cell_type": "code",
   "execution_count": 5,
   "metadata": {
    "collapsed": true
   },
   "outputs": [],
   "source": [
    "def distancia_minima(fila, dataframe):\n",
    "    lat, lon = fila\n",
    "    distancias = []\n",
    "    for i in range (len(dataframe)):\n",
    "        d = calcular_distancia(lat,lon,dataframe.lat[i], dataframe.lon[i])\n",
    "        distancias.append(d)\n",
    "    return min(distancias)"
   ]
  },
  {
   "cell_type": "code",
   "execution_count": 6,
   "metadata": {
    "collapsed": true
   },
   "outputs": [],
   "source": [
    "# Distancia de subtes\n",
    "subtes = pd.read_csv('/home/agustin/Escritorio/escritorio/fiuba/Organizacion de datos/tpDatos/tp1/datos/estaciones-de-subte.csv', sep = \",\")\n",
    "subtes.rename(columns = {'X': 'lon', 'Y': 'lat'}, inplace = True)\n",
    "pruebas.loc[:,'distancia_subtes'] = pruebas.loc[:,['lat','lon']].apply(lambda x: distancia_minima(x, subtes), axis = 1)"
   ]
  },
  {
   "cell_type": "code",
   "execution_count": 8,
   "metadata": {
    "collapsed": true
   },
   "outputs": [],
   "source": [
    "# Distancia a monumentos\n",
    "monumentos = pd.read_csv('/home/agustin/Escritorio/escritorio/fiuba/Organizacion de datos/tpDatos/tp1/datos/monumentos.csv', sep = \",\")\n",
    "pruebas.loc[:,'distancia_monumentos'] = pruebas.loc[:,['lat','lon']].apply(lambda x: distancia_minima(x, monumentos), axis = 1)"
   ]
  },
  {
   "cell_type": "code",
   "execution_count": 9,
   "metadata": {
    "collapsed": true
   },
   "outputs": [],
   "source": [
    "# Distancia a estadios\n",
    "estadios = pd.read_csv('/home/agustin/Escritorio/escritorio/fiuba/Organizacion de datos/tpDatos/tp1/datos/estadios.csv', sep = \";\")\n",
    "estadios.rename(columns = {'LAT': 'lat', 'LONG': 'lon' }, inplace = True)\n",
    "pruebas.loc[:,'distancia_estadios'] = pruebas.loc[:,['lat','lon']].apply(lambda x: distancia_minima(x, estadios), axis = 1)"
   ]
  },
  {
   "cell_type": "code",
   "execution_count": 12,
   "metadata": {
    "collapsed": true
   },
   "outputs": [],
   "source": [
    "# Distancia a Villas\n",
    "villas = gpd.read_file('/home/agustin/Escritorio/escritorio/fiuba/Organizacion de datos/tpDatos/tp1/datos/villas/villas.dbf')\n",
    "pruebas.loc[:,'distancia_villas'] = pruebas.loc[:,['lat','lon']].apply(lambda x: min(villas.distance(Point(x[1], x[0]))) * 100, axis = 1)"
   ]
  },
  {
   "cell_type": "code",
   "execution_count": 14,
   "metadata": {
    "collapsed": true
   },
   "outputs": [],
   "source": [
    "# Pertenece a una zona de inundacion\n",
    "inundaciones = gpd.read_file('/home/agustin/Escritorio/escritorio/fiuba/Organizacion de datos/tpDatos/tp1/datos/mapas/inundaciones.dbf')\n",
    "pruebas.loc[:,'Zona_inundacion'] = pruebas.loc[:,['lat','lon']].apply(lambda x: inundaciones.contains(Point(x[1], x[0])).any(), axis = 1)"
   ]
  },
  {
   "cell_type": "markdown",
   "metadata": {},
   "source": [
    "### Elimino columnas de pruebas que no sirven"
   ]
  },
  {
   "cell_type": "code",
   "execution_count": 42,
   "metadata": {
    "collapsed": true
   },
   "outputs": [],
   "source": [
    "pruebas.drop(['operation','country_name','lat-lon'], axis = 1, inplace = True)"
   ]
  },
  {
   "cell_type": "markdown",
   "metadata": {},
   "source": [
    "### Exporto a csv"
   ]
  },
  {
   "cell_type": "code",
   "execution_count": 43,
   "metadata": {
    "collapsed": true
   },
   "outputs": [],
   "source": [
    "propiedades.to_csv(\"/home/mati/Desktop/set_datos_propiedades.csv\", index = False)"
   ]
  },
  {
   "cell_type": "code",
   "execution_count": 44,
   "metadata": {
    "collapsed": true
   },
   "outputs": [],
   "source": [
    "pruebas.to_csv(\"/home/mati/Desktop/properati_dataset_modificado.csv\", index = False)"
   ]
  }
 ],
 "metadata": {
  "kernelspec": {
   "display_name": "Python 2",
   "language": "python",
   "name": "python2"
  },
  "language_info": {
   "codemirror_mode": {
    "name": "ipython",
    "version": 2
   },
   "file_extension": ".py",
   "mimetype": "text/x-python",
   "name": "python",
   "nbconvert_exporter": "python",
   "pygments_lexer": "ipython2",
   "version": "2.7.14"
  }
 },
 "nbformat": 4,
 "nbformat_minor": 2
}
