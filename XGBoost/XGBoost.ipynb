{
 "cells": [
  {
   "cell_type": "code",
   "execution_count": 1,
   "metadata": {},
   "outputs": [],
   "source": [
    "import pandas as pd\n",
    "import numpy as np\n",
    "import cPickle as pickle\n",
    "from matplotlib import pyplot"
   ]
  },
  {
   "cell_type": "code",
   "execution_count": 2,
   "metadata": {},
   "outputs": [
    {
     "name": "stderr",
     "output_type": "stream",
     "text": [
      "/usr/local/lib/python2.7/dist-packages/sklearn/cross_validation.py:41: DeprecationWarning: This module was deprecated in version 0.18 in favor of the model_selection module into which all the refactored classes and functions are moved. Also note that the interface of the new CV iterators are different from that of this module. This module will be removed in 0.20.\n",
      "  \"This module will be removed in 0.20.\", DeprecationWarning)\n"
     ]
    }
   ],
   "source": [
    "import matplotlib.pyplot as plt\n",
    "from sklearn.metrics import mean_squared_error\n",
    "from sklearn.metrics import log_loss\n",
    "from sklearn.cross_validation import train_test_split\n",
    "from xgboost import XGBRegressor\n",
    "from xgboost import plot_importance"
   ]
  },
  {
   "cell_type": "markdown",
   "metadata": {},
   "source": [
    "# Se carga el set de entrenamiento"
   ]
  },
  {
   "cell_type": "code",
   "execution_count": 3,
   "metadata": {},
   "outputs": [],
   "source": [
    "prop = pickle.load(open(\"../../Data.p\",\"rb\"))"
   ]
  },
  {
   "cell_type": "code",
   "execution_count": 4,
   "metadata": {},
   "outputs": [],
   "source": [
    "prop['surface_total_in_m2'] = prop.apply(lambda row: row[12] if(np.all(pd.isnull(row[11]))) else row[11], axis=1)\n",
    "#cortamos por precios\n",
    "propTOT = prop[(prop['price_usd_per_m2']>0)]"
   ]
  },
  {
   "cell_type": "markdown",
   "metadata": {},
   "source": [
    "## Division del set de Entrenamiento"
   ]
  },
  {
   "cell_type": "code",
   "execution_count": 5,
   "metadata": {},
   "outputs": [
    {
     "name": "stderr",
     "output_type": "stream",
     "text": [
      "/home/rodrigoderosa/.local/lib/python2.7/site-packages/ipykernel_launcher.py:4: SettingWithCopyWarning: \n",
      "A value is trying to be set on a copy of a slice from a DataFrame\n",
      "\n",
      "See the caveats in the documentation: http://pandas.pydata.org/pandas-docs/stable/indexing.html#indexing-view-versus-copy\n",
      "  after removing the cwd from sys.path.\n",
      "/home/rodrigoderosa/.local/lib/python2.7/site-packages/ipykernel_launcher.py:6: SettingWithCopyWarning: \n",
      "A value is trying to be set on a copy of a slice from a DataFrame.\n",
      "Try using .loc[row_indexer,col_indexer] = value instead\n",
      "\n",
      "See the caveats in the documentation: http://pandas.pydata.org/pandas-docs/stable/indexing.html#indexing-view-versus-copy\n",
      "  \n",
      "/home/rodrigoderosa/.local/lib/python2.7/site-packages/ipykernel_launcher.py:8: SettingWithCopyWarning: \n",
      "A value is trying to be set on a copy of a slice from a DataFrame.\n",
      "Try using .loc[row_indexer,col_indexer] = value instead\n",
      "\n",
      "See the caveats in the documentation: http://pandas.pydata.org/pandas-docs/stable/indexing.html#indexing-view-versus-copy\n",
      "  \n"
     ]
    }
   ],
   "source": [
    "#se formatea lat y lon\n",
    "p = propTOT[['property_type','place_name','surface_total_in_m2',\\\n",
    "          'price_usd_per_m2','latlon','Cant_ColeYUniv','Cant_LocalesGastronomicos',\n",
    "         'Cant_ParadasTransporte', 'price_aprox_usd']]\n",
    "p.dropna(inplace = True)\n",
    "\n",
    "p['lat'] = p.apply(lambda row: row[4][0], axis=1)\n",
    "\n",
    "p['lon'] = p.apply(lambda row: row[4][1], axis=1)\n",
    "\n",
    "p = p[['property_type','place_name','surface_total_in_m2',\\\n",
    "          'price_usd_per_m2','lat','lon','Cant_ColeYUniv','Cant_LocalesGastronomicos',\n",
    "         'Cant_ParadasTransporte', 'price_aprox_usd']]"
   ]
  },
  {
   "cell_type": "markdown",
   "metadata": {},
   "source": [
    "### Se le asigna un valor numerico al tipo de propiedad"
   ]
  },
  {
   "cell_type": "code",
   "execution_count": 6,
   "metadata": {},
   "outputs": [],
   "source": [
    "def asignarPT( p ):\n",
    "    if p == 'apartment':\n",
    "        return 3\n",
    "    if p == 'house':\n",
    "        return 2.25\n",
    "    if p == 'store':\n",
    "        return 6.5\n",
    "    return 2.5"
   ]
  },
  {
   "cell_type": "code",
   "execution_count": 7,
   "metadata": {},
   "outputs": [],
   "source": [
    "p['property_type'] = p.apply(lambda x: asignarPT(x[0]), axis = 1)"
   ]
  },
  {
   "cell_type": "markdown",
   "metadata": {},
   "source": [
    "### Se le asigna un valor a los barrios segun el analisis de grupos hecho en el tp1"
   ]
  },
  {
   "cell_type": "code",
   "execution_count": 8,
   "metadata": {},
   "outputs": [],
   "source": [
    "def asignarPV(name, dic):\n",
    "    return dic[name]   "
   ]
  },
  {
   "cell_type": "code",
   "execution_count": 9,
   "metadata": {},
   "outputs": [],
   "source": [
    "hoodGroups = p[[\"place_name\", \"price_usd_per_m2\"]]\n",
    "hoodGroups = hoodGroups.groupby(\"place_name\").agg([np.mean]).reset_index()\n",
    "hoodGroups = hoodGroups.sort_values(by=(\"price_usd_per_m2\", \"mean\"), ascending=False)"
   ]
  },
  {
   "cell_type": "code",
   "execution_count": 10,
   "metadata": {},
   "outputs": [],
   "source": [
    "HGdics = {}\n",
    "precio_ant = 0\n",
    "val_ant = 0\n",
    "for row in hoodGroups.iterrows():\n",
    "    name = row[1][0]\n",
    "    price = row[1][1]\n",
    "    val = val_ant + (precio_ant/price)\n",
    "    HGdics[name] = val\n",
    "    precio_ant = price\n",
    "    val_ant = val"
   ]
  },
  {
   "cell_type": "code",
   "execution_count": 11,
   "metadata": {},
   "outputs": [],
   "source": [
    "p[\"place_value\"] = p.apply(lambda x: asignarPV(x[1], HGdics), axis=1)"
   ]
  },
  {
   "cell_type": "code",
   "execution_count": 12,
   "metadata": {},
   "outputs": [],
   "source": [
    "pEnt = p[['property_type','surface_total_in_m2',\\\n",
    "          'lat','lon','Cant_LocalesGastronomicos', 'Cant_ColeYUniv',\n",
    "         'Cant_ParadasTransporte', 'place_value', 'price_aprox_usd']]"
   ]
  },
  {
   "cell_type": "code",
   "execution_count": 13,
   "metadata": {},
   "outputs": [
    {
     "name": "stderr",
     "output_type": "stream",
     "text": [
      "/home/rodrigoderosa/.local/lib/python2.7/site-packages/ipykernel_launcher.py:1: SettingWithCopyWarning: \n",
      "A value is trying to be set on a copy of a slice from a DataFrame\n",
      "\n",
      "See the caveats in the documentation: http://pandas.pydata.org/pandas-docs/stable/indexing.html#indexing-view-versus-copy\n",
      "  \"\"\"Entry point for launching an IPython kernel.\n"
     ]
    }
   ],
   "source": [
    "pEnt.dropna(inplace=True)"
   ]
  },
  {
   "cell_type": "markdown",
   "metadata": {},
   "source": [
    "# Se carga el set de Prueba"
   ]
  },
  {
   "cell_type": "code",
   "execution_count": 14,
   "metadata": {},
   "outputs": [
    {
     "name": "stderr",
     "output_type": "stream",
     "text": [
      "/home/rodrigoderosa/.local/lib/python2.7/site-packages/ipykernel_launcher.py:7: SettingWithCopyWarning: \n",
      "A value is trying to be set on a copy of a slice from a DataFrame.\n",
      "Try using .loc[row_indexer,col_indexer] = value instead\n",
      "\n",
      "See the caveats in the documentation: http://pandas.pydata.org/pandas-docs/stable/indexing.html#indexing-view-versus-copy\n",
      "  import sys\n",
      "/home/rodrigoderosa/.local/lib/python2.7/site-packages/ipykernel_launcher.py:9: SettingWithCopyWarning: \n",
      "A value is trying to be set on a copy of a slice from a DataFrame.\n",
      "Try using .loc[row_indexer,col_indexer] = value instead\n",
      "\n",
      "See the caveats in the documentation: http://pandas.pydata.org/pandas-docs/stable/indexing.html#indexing-view-versus-copy\n",
      "  if __name__ == '__main__':\n"
     ]
    }
   ],
   "source": [
    "proper = pickle.load(open(\"../../test_data_full.p\", \"rb\"))\n",
    "\n",
    "#se formatea lat y lon\n",
    "p = proper[['property_type','place_name','surface_total_in_m2','surface_covered_in_m2',\\\n",
    "          'latlon','Cant_ColeYUniv','Cant_LocalesGastronomicos',\n",
    "         'Cant_ParadasTransporte']]\n",
    "\n",
    "p['lat'] = p.apply(lambda row: row[4][0] if(np.all(pd.notnull(row[5]))) else row[5], axis=1)\n",
    "\n",
    "p['lon'] = p.apply(lambda row: row[4][1] if(np.all(pd.notnull(row[5]))) else row[5], axis=1)\n",
    "\n",
    "p = p[['property_type','place_name','surface_total_in_m2','surface_covered_in_m2',\\\n",
    "          'lat','lon','Cant_ColeYUniv','Cant_LocalesGastronomicos',\n",
    "         'Cant_ParadasTransporte']]\n",
    "\n",
    "p['property_type'] = p.apply(lambda x: asignarPT(x[0]), axis = 1)\n",
    "\n",
    "def asignarPVsegunEnt(name):\n",
    "    if(HGdics.has_key(name)):\n",
    "        return HGdics[name]\n",
    "    return np.nan\n",
    "\n",
    "#hay que armar los hoodGropus segun los resultados del set de Entrenamiento\n",
    "p[\"place_value\"] = p.apply(lambda x: asignarPVsegunEnt(x[1]), axis=1)\n",
    "\n",
    "#completo las superficies totales con las cubiertas\n",
    "p['surface_total_in_m2'] = p.apply(lambda row: row[3] if(np.all(pd.isnull(row[2]))) else row[2], axis=1)\n",
    "\n",
    "pPru = p[['property_type','surface_total_in_m2',\\\n",
    "        'lat','lon','Cant_ColeYUniv','Cant_LocalesGastronomicos',\n",
    "         'Cant_ParadasTransporte', 'place_value']]"
   ]
  },
  {
   "cell_type": "code",
   "execution_count": 37,
   "metadata": {},
   "outputs": [],
   "source": [
    "#split del dataset para entrenamiento y pruebas, 80% y 20% respectivamente\n",
    "Xtrn, Xtest, Ytrn, Ytest = train_test_split(pEnt[['property_type','surface_total_in_m2','lat','lon', \n",
    "                            'Cant_ColeYUniv','Cant_LocalesGastronomicos', 'Cant_ParadasTransporte', 'place_value']]\n",
    "                            ,pEnt[['price_aprox_usd']],test_size=0.1, random_state = 7)"
   ]
  },
  {
   "cell_type": "code",
   "execution_count": 38,
   "metadata": {},
   "outputs": [
    {
     "data": {
      "text/plain": [
       "XGBRegressor(base_score=0.5, booster='gbtree', colsample_bylevel=1,\n",
       "       colsample_bytree=1, gamma=0, learning_rate=0.01, max_delta_step=0,\n",
       "       max_depth=3, min_child_weight=1, missing=None, n_estimators=1000,\n",
       "       n_jobs=1, nthread=None, objective='reg:linear', random_state=0,\n",
       "       reg_alpha=0, reg_lambda=1, scale_pos_weight=1, seed=None,\n",
       "       silent=True, subsample=1)"
      ]
     },
     "execution_count": 38,
     "metadata": {},
     "output_type": "execute_result"
    }
   ],
   "source": [
    "#definir el modelo a probar\n",
    "model = XGBRegressor(learning_rate=0.01, n_estimators=1000)\n",
    "#fit model on training dataset\n",
    "model.fit(Xtrn, Ytrn['price_aprox_usd'])"
   ]
  },
  {
   "cell_type": "code",
   "execution_count": 39,
   "metadata": {},
   "outputs": [
    {
     "name": "stdout",
     "output_type": "stream",
     "text": [
      "75363438963.3\n"
     ]
    }
   ],
   "source": [
    "# evaluate predictions\n",
    "error = mean_squared_error(Ytest, model.predict(Xtest))\n",
    "print error"
   ]
  },
  {
   "cell_type": "code",
   "execution_count": 40,
   "metadata": {},
   "outputs": [],
   "source": [
    "tester = pPru[['property_type','surface_total_in_m2','lat','lon', \n",
    "               'Cant_ColeYUniv','Cant_LocalesGastronomicos', 'Cant_ParadasTransporte', 'place_value']]"
   ]
  },
  {
   "cell_type": "code",
   "execution_count": 41,
   "metadata": {},
   "outputs": [],
   "source": [
    "tester['price'] = model.predict(tester)"
   ]
  },
  {
   "cell_type": "code",
   "execution_count": 42,
   "metadata": {},
   "outputs": [
    {
     "data": {
      "text/html": [
       "<div>\n",
       "<style>\n",
       "    .dataframe thead tr:only-child th {\n",
       "        text-align: right;\n",
       "    }\n",
       "\n",
       "    .dataframe thead th {\n",
       "        text-align: left;\n",
       "    }\n",
       "\n",
       "    .dataframe tbody tr th {\n",
       "        vertical-align: top;\n",
       "    }\n",
       "</style>\n",
       "<table border=\"1\" class=\"dataframe\">\n",
       "  <thead>\n",
       "    <tr style=\"text-align: right;\">\n",
       "      <th></th>\n",
       "      <th>property_type</th>\n",
       "      <th>surface_total_in_m2</th>\n",
       "      <th>lat</th>\n",
       "      <th>lon</th>\n",
       "      <th>Cant_ColeYUniv</th>\n",
       "      <th>Cant_LocalesGastronomicos</th>\n",
       "      <th>Cant_ParadasTransporte</th>\n",
       "      <th>place_value</th>\n",
       "      <th>price</th>\n",
       "    </tr>\n",
       "  </thead>\n",
       "  <tbody>\n",
       "    <tr>\n",
       "      <th>0</th>\n",
       "      <td>2.5</td>\n",
       "      <td>NaN</td>\n",
       "      <td>-35.000000</td>\n",
       "      <td>-58.000000</td>\n",
       "      <td>0.0</td>\n",
       "      <td>0.0</td>\n",
       "      <td>0.0</td>\n",
       "      <td>145.235596</td>\n",
       "      <td>555632.062500</td>\n",
       "    </tr>\n",
       "    <tr>\n",
       "      <th>1</th>\n",
       "      <td>2.5</td>\n",
       "      <td>180.0</td>\n",
       "      <td>-34.645875</td>\n",
       "      <td>-58.517443</td>\n",
       "      <td>4.0</td>\n",
       "      <td>54.0</td>\n",
       "      <td>12.0</td>\n",
       "      <td>102.068038</td>\n",
       "      <td>75406.195312</td>\n",
       "    </tr>\n",
       "    <tr>\n",
       "      <th>2</th>\n",
       "      <td>2.5</td>\n",
       "      <td>100.0</td>\n",
       "      <td>-34.564522</td>\n",
       "      <td>-58.486977</td>\n",
       "      <td>12.0</td>\n",
       "      <td>36.0</td>\n",
       "      <td>13.0</td>\n",
       "      <td>33.722084</td>\n",
       "      <td>119577.101562</td>\n",
       "    </tr>\n",
       "    <tr>\n",
       "      <th>3</th>\n",
       "      <td>2.5</td>\n",
       "      <td>115.0</td>\n",
       "      <td>-34.583011</td>\n",
       "      <td>-58.595992</td>\n",
       "      <td>7.0</td>\n",
       "      <td>8.0</td>\n",
       "      <td>28.0</td>\n",
       "      <td>296.646002</td>\n",
       "      <td>51140.324219</td>\n",
       "    </tr>\n",
       "    <tr>\n",
       "      <th>4</th>\n",
       "      <td>2.5</td>\n",
       "      <td>90.0</td>\n",
       "      <td>-34.580038</td>\n",
       "      <td>-58.592722</td>\n",
       "      <td>1.0</td>\n",
       "      <td>9.0</td>\n",
       "      <td>16.0</td>\n",
       "      <td>296.646002</td>\n",
       "      <td>51136.078125</td>\n",
       "    </tr>\n",
       "  </tbody>\n",
       "</table>\n",
       "</div>"
      ],
      "text/plain": [
       "   property_type  surface_total_in_m2        lat        lon  Cant_ColeYUniv  \\\n",
       "0            2.5                  NaN -35.000000 -58.000000             0.0   \n",
       "1            2.5                180.0 -34.645875 -58.517443             4.0   \n",
       "2            2.5                100.0 -34.564522 -58.486977            12.0   \n",
       "3            2.5                115.0 -34.583011 -58.595992             7.0   \n",
       "4            2.5                 90.0 -34.580038 -58.592722             1.0   \n",
       "\n",
       "   Cant_LocalesGastronomicos  Cant_ParadasTransporte  place_value  \\\n",
       "0                        0.0                     0.0   145.235596   \n",
       "1                       54.0                    12.0   102.068038   \n",
       "2                       36.0                    13.0    33.722084   \n",
       "3                        8.0                    28.0   296.646002   \n",
       "4                        9.0                    16.0   296.646002   \n",
       "\n",
       "           price  \n",
       "0  555632.062500  \n",
       "1   75406.195312  \n",
       "2  119577.101562  \n",
       "3   51140.324219  \n",
       "4   51136.078125  "
      ]
     },
     "execution_count": 42,
     "metadata": {},
     "output_type": "execute_result"
    }
   ],
   "source": [
    "tester.head()"
   ]
  },
  {
   "cell_type": "code",
   "execution_count": 21,
   "metadata": {},
   "outputs": [],
   "source": [
    "result = pd.DataFrame()"
   ]
  },
  {
   "cell_type": "code",
   "execution_count": 22,
   "metadata": {},
   "outputs": [],
   "source": [
    "result['id'] = proper['id']\n",
    "result[\"price_usd\"] = tester['price']"
   ]
  },
  {
   "cell_type": "code",
   "execution_count": 23,
   "metadata": {},
   "outputs": [],
   "source": [
    "result.to_csv(index=False, path_or_buf=\"resultsGBPhiAlpha.csv\")"
   ]
  },
  {
   "cell_type": "code",
   "execution_count": 43,
   "metadata": {},
   "outputs": [
    {
     "data": {
      "image/png": "[encoded data removed]",
      "text/plain": [
       "<matplotlib.figure.Figure at 0x7f8a33c1b6d0>"
      ]
     },
     "metadata": {},
     "output_type": "display_data"
    }
   ],
   "source": [
    "plot_importance(model)\n",
    "pyplot.show()"
   ]
  },
  {
   "cell_type": "markdown",
   "metadata": {},
   "source": [
    "### Vemos que los features mas importantes son la superficie, el barrio y el tipo de propiedad. Los otros features estan muy por debajo"
   ]
  },
  {
   "cell_type": "code",
   "execution_count": 44,
   "metadata": {},
   "outputs": [],
   "source": [
    "#split del dataset para entrenamiento y pruebas, 80% y 20% respectivamente\n",
    "Xtrn, Xtest, Ytrn, Ytest = train_test_split(pEnt[['property_type','surface_total_in_m2','lat','lon', 'place_value']],\n",
    "                            pEnt[['price_aprox_usd']],test_size=0.1, random_state = 7)"
   ]
  },
  {
   "cell_type": "code",
   "execution_count": 45,
   "metadata": {},
   "outputs": [
    {
     "data": {
      "text/plain": [
       "XGBRegressor(base_score=0.5, booster='gbtree', colsample_bylevel=1,\n",
       "       colsample_bytree=1, gamma=0, learning_rate=0.01, max_delta_step=0,\n",
       "       max_depth=3, min_child_weight=1, missing=None, n_estimators=1000,\n",
       "       n_jobs=1, nthread=None, objective='reg:linear', random_state=0,\n",
       "       reg_alpha=0, reg_lambda=1, scale_pos_weight=1, seed=None,\n",
       "       silent=True, subsample=1)"
      ]
     },
     "execution_count": 45,
     "metadata": {},
     "output_type": "execute_result"
    }
   ],
   "source": [
    "#definir el modelo a probar\n",
    "model = XGBRegressor(learning_rate=0.01, n_estimators=1000)\n",
    "#fit model on training dataset\n",
    "model.fit(Xtrn, Ytrn['price_aprox_usd'])"
   ]
  },
  {
   "cell_type": "code",
   "execution_count": 46,
   "metadata": {},
   "outputs": [
    {
     "name": "stdout",
     "output_type": "stream",
     "text": [
      "71356743756.4\n"
     ]
    }
   ],
   "source": [
    "# evaluate predictions\n",
    "error = mean_squared_error(Ytest, model.predict(Xtest))\n",
    "print error"
   ]
  },
  {
   "cell_type": "code",
   "execution_count": 47,
   "metadata": {},
   "outputs": [],
   "source": [
    "tester = pPru[['property_type','surface_total_in_m2','lat','lon', 'place_value']]"
   ]
  },
  {
   "cell_type": "code",
   "execution_count": 48,
   "metadata": {},
   "outputs": [
    {
     "name": "stderr",
     "output_type": "stream",
     "text": [
      "/home/rodrigoderosa/.local/lib/python2.7/site-packages/ipykernel_launcher.py:1: SettingWithCopyWarning: \n",
      "A value is trying to be set on a copy of a slice from a DataFrame.\n",
      "Try using .loc[row_indexer,col_indexer] = value instead\n",
      "\n",
      "See the caveats in the documentation: http://pandas.pydata.org/pandas-docs/stable/indexing.html#indexing-view-versus-copy\n",
      "  \"\"\"Entry point for launching an IPython kernel.\n"
     ]
    }
   ],
   "source": [
    "tester['price'] = model.predict(tester)"
   ]
  },
  {
   "cell_type": "code",
   "execution_count": 49,
   "metadata": {},
   "outputs": [
    {
     "data": {
      "text/html": [
       "<div>\n",
       "<style>\n",
       "    .dataframe thead tr:only-child th {\n",
       "        text-align: right;\n",
       "    }\n",
       "\n",
       "    .dataframe thead th {\n",
       "        text-align: left;\n",
       "    }\n",
       "\n",
       "    .dataframe tbody tr th {\n",
       "        vertical-align: top;\n",
       "    }\n",
       "</style>\n",
       "<table border=\"1\" class=\"dataframe\">\n",
       "  <thead>\n",
       "    <tr style=\"text-align: right;\">\n",
       "      <th></th>\n",
       "      <th>property_type</th>\n",
       "      <th>surface_total_in_m2</th>\n",
       "      <th>lat</th>\n",
       "      <th>lon</th>\n",
       "      <th>place_value</th>\n",
       "      <th>price</th>\n",
       "    </tr>\n",
       "  </thead>\n",
       "  <tbody>\n",
       "    <tr>\n",
       "      <th>0</th>\n",
       "      <td>2.5</td>\n",
       "      <td>NaN</td>\n",
       "      <td>-35.000000</td>\n",
       "      <td>-58.000000</td>\n",
       "      <td>145.235596</td>\n",
       "      <td>167143.187500</td>\n",
       "    </tr>\n",
       "    <tr>\n",
       "      <th>1</th>\n",
       "      <td>2.5</td>\n",
       "      <td>180.0</td>\n",
       "      <td>-34.645875</td>\n",
       "      <td>-58.517443</td>\n",
       "      <td>102.068038</td>\n",
       "      <td>71930.484375</td>\n",
       "    </tr>\n",
       "    <tr>\n",
       "      <th>2</th>\n",
       "      <td>2.5</td>\n",
       "      <td>100.0</td>\n",
       "      <td>-34.564522</td>\n",
       "      <td>-58.486977</td>\n",
       "      <td>33.722084</td>\n",
       "      <td>112729.578125</td>\n",
       "    </tr>\n",
       "    <tr>\n",
       "      <th>3</th>\n",
       "      <td>2.5</td>\n",
       "      <td>115.0</td>\n",
       "      <td>-34.583011</td>\n",
       "      <td>-58.595992</td>\n",
       "      <td>296.646002</td>\n",
       "      <td>55587.515625</td>\n",
       "    </tr>\n",
       "    <tr>\n",
       "      <th>4</th>\n",
       "      <td>2.5</td>\n",
       "      <td>90.0</td>\n",
       "      <td>-34.580038</td>\n",
       "      <td>-58.592722</td>\n",
       "      <td>296.646002</td>\n",
       "      <td>55587.515625</td>\n",
       "    </tr>\n",
       "  </tbody>\n",
       "</table>\n",
       "</div>"
      ],
      "text/plain": [
       "   property_type  surface_total_in_m2        lat        lon  place_value  \\\n",
       "0            2.5                  NaN -35.000000 -58.000000   145.235596   \n",
       "1            2.5                180.0 -34.645875 -58.517443   102.068038   \n",
       "2            2.5                100.0 -34.564522 -58.486977    33.722084   \n",
       "3            2.5                115.0 -34.583011 -58.595992   296.646002   \n",
       "4            2.5                 90.0 -34.580038 -58.592722   296.646002   \n",
       "\n",
       "           price  \n",
       "0  167143.187500  \n",
       "1   71930.484375  \n",
       "2  112729.578125  \n",
       "3   55587.515625  \n",
       "4   55587.515625  "
      ]
     },
     "execution_count": 49,
     "metadata": {},
     "output_type": "execute_result"
    }
   ],
   "source": [
    "tester.head()"
   ]
  },
  {
   "cell_type": "code",
   "execution_count": 68,
   "metadata": {},
   "outputs": [
    {
     "data": {
      "text/html": [
       "<div>\n",
       "<style>\n",
       "    .dataframe thead tr:only-child th {\n",
       "        text-align: right;\n",
       "    }\n",
       "\n",
       "    .dataframe thead th {\n",
       "        text-align: left;\n",
       "    }\n",
       "\n",
       "    .dataframe tbody tr th {\n",
       "        vertical-align: top;\n",
       "    }\n",
       "</style>\n",
       "<table border=\"1\" class=\"dataframe\">\n",
       "  <thead>\n",
       "    <tr style=\"text-align: right;\">\n",
       "      <th></th>\n",
       "      <th>id</th>\n",
       "      <th>price_usd</th>\n",
       "    </tr>\n",
       "  </thead>\n",
       "  <tbody>\n",
       "    <tr>\n",
       "      <th>0</th>\n",
       "      <td>2316505</td>\n",
       "      <td>8157.984863</td>\n",
       "    </tr>\n",
       "    <tr>\n",
       "      <th>1</th>\n",
       "      <td>2320880</td>\n",
       "      <td>8499.918945</td>\n",
       "    </tr>\n",
       "    <tr>\n",
       "      <th>2</th>\n",
       "      <td>2321742</td>\n",
       "      <td>8499.918945</td>\n",
       "    </tr>\n",
       "    <tr>\n",
       "      <th>3</th>\n",
       "      <td>2276796</td>\n",
       "      <td>8499.918945</td>\n",
       "    </tr>\n",
       "    <tr>\n",
       "      <th>4</th>\n",
       "      <td>2330364</td>\n",
       "      <td>10378.967773</td>\n",
       "    </tr>\n",
       "  </tbody>\n",
       "</table>\n",
       "</div>"
      ],
      "text/plain": [
       "        id     price_usd\n",
       "0  2316505   8157.984863\n",
       "1  2320880   8499.918945\n",
       "2  2321742   8499.918945\n",
       "3  2276796   8499.918945\n",
       "4  2330364  10378.967773"
      ]
     },
     "execution_count": 68,
     "metadata": {},
     "output_type": "execute_result"
    }
   ],
   "source": [
    "result = pd.DataFrame()\n",
    "result['id'] = proper['id']\n",
    "result[\"price_usd\"] = tester['price']\n",
    "result.to_csv(index=False, path_or_buf=\"resultsGBPhiAlpha.csv\")"
   ]
  }
 ],
 "metadata": {
  "kernelspec": {
   "display_name": "Python 2",
   "language": "python",
   "name": "python2"
  },
  "language_info": {
   "codemirror_mode": {
    "name": "ipython",
    "version": 2
   },
   "file_extension": ".py",
   "mimetype": "text/x-python",
   "name": "python",
   "nbconvert_exporter": "python",
   "pygments_lexer": "ipython2",
   "version": "2.7.14"
  }
 },
 "nbformat": 4,
 "nbformat_minor": 2
}
