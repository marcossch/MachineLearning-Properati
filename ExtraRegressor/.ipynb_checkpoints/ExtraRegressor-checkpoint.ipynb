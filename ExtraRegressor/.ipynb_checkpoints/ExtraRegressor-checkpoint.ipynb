{
 "cells": [
  {
   "cell_type": "code",
   "execution_count": 1,
   "metadata": {
    "collapsed": true
   },
   "outputs": [],
   "source": [
    "import pandas as pd\n",
    "import numpy as np\n",
    "import cPickle as pickle"
   ]
  },
  {
   "cell_type": "code",
   "execution_count": 2,
   "metadata": {},
   "outputs": [
    {
     "name": "stderr",
     "output_type": "stream",
     "text": [
      "/usr/local/lib/python2.7/dist-packages/sklearn/cross_validation.py:41: DeprecationWarning: This module was deprecated in version 0.18 in favor of the model_selection module into which all the refactored classes and functions are moved. Also note that the interface of the new CV iterators are different from that of this module. This module will be removed in 0.20.\n",
      "  \"This module will be removed in 0.20.\", DeprecationWarning)\n"
     ]
    }
   ],
   "source": [
    "import matplotlib.pyplot as plt\n",
    "from sklearn.metrics import mean_squared_error\n",
    "from sklearn.cross_validation import train_test_split\n",
    "from sklearn.ensemble import ExtraTreesRegressor"
   ]
  },
  {
   "cell_type": "code",
   "execution_count": 3,
   "metadata": {
    "collapsed": true
   },
   "outputs": [],
   "source": [
    "prop = pickle.load(open(\"../../datos/Data.p\",\"rb\"))"
   ]
  },
  {
   "cell_type": "code",
   "execution_count": 4,
   "metadata": {
    "collapsed": true
   },
   "outputs": [],
   "source": [
    "#cortamos por precios\n",
    "prop = prop[(prop['price_usd_per_m2']>150) & (prop['price_usd_per_m2']<8000)]"
   ]
  },
  {
   "cell_type": "markdown",
   "metadata": {},
   "source": [
    "## Ordenamos el set de datos"
   ]
  },
  {
   "cell_type": "code",
   "execution_count": 5,
   "metadata": {},
   "outputs": [
    {
     "name": "stderr",
     "output_type": "stream",
     "text": [
      "/home/facundo/.local/lib/python2.7/site-packages/ipykernel_launcher.py:3: SettingWithCopyWarning: \n",
      "A value is trying to be set on a copy of a slice from a DataFrame\n",
      "\n",
      "See the caveats in the documentation: http://pandas.pydata.org/pandas-docs/stable/indexing.html#indexing-view-versus-copy\n",
      "  This is separate from the ipykernel package so we can avoid doing imports until\n"
     ]
    }
   ],
   "source": [
    "p = prop[['property_type','place_name','surface_total_in_m2',\\\n",
    "          'price_aprox_usd','latlon','Cant_ColeYUniv','Cant_LocalesGastronomicos',\n",
    "         'Cant_ParadasTransporte']]\n",
    "p.dropna(inplace = True)"
   ]
  },
  {
   "cell_type": "code",
   "execution_count": 6,
   "metadata": {},
   "outputs": [
    {
     "name": "stderr",
     "output_type": "stream",
     "text": [
      "/home/facundo/.local/lib/python2.7/site-packages/ipykernel_launcher.py:1: SettingWithCopyWarning: \n",
      "A value is trying to be set on a copy of a slice from a DataFrame.\n",
      "Try using .loc[row_indexer,col_indexer] = value instead\n",
      "\n",
      "See the caveats in the documentation: http://pandas.pydata.org/pandas-docs/stable/indexing.html#indexing-view-versus-copy\n",
      "  \"\"\"Entry point for launching an IPython kernel.\n"
     ]
    }
   ],
   "source": [
    "p['lat'] = p.apply(lambda row: row[4][0], axis=1)"
   ]
  },
  {
   "cell_type": "code",
   "execution_count": 7,
   "metadata": {},
   "outputs": [
    {
     "name": "stderr",
     "output_type": "stream",
     "text": [
      "/home/facundo/.local/lib/python2.7/site-packages/ipykernel_launcher.py:1: SettingWithCopyWarning: \n",
      "A value is trying to be set on a copy of a slice from a DataFrame.\n",
      "Try using .loc[row_indexer,col_indexer] = value instead\n",
      "\n",
      "See the caveats in the documentation: http://pandas.pydata.org/pandas-docs/stable/indexing.html#indexing-view-versus-copy\n",
      "  \"\"\"Entry point for launching an IPython kernel.\n"
     ]
    }
   ],
   "source": [
    "p['lon'] = p.apply(lambda row: row[4][1], axis=1)"
   ]
  },
  {
   "cell_type": "code",
   "execution_count": 8,
   "metadata": {
    "collapsed": true
   },
   "outputs": [],
   "source": [
    "p = p[['property_type','place_name','surface_total_in_m2',\\\n",
    "          'price_aprox_usd','lat','lon','Cant_ColeYUniv','Cant_LocalesGastronomicos',\n",
    "         'Cant_ParadasTransporte']]"
   ]
  },
  {
   "cell_type": "markdown",
   "metadata": {},
   "source": [
    "### Se le asigna un valor numerico al tipo de propiedad"
   ]
  },
  {
   "cell_type": "code",
   "execution_count": 9,
   "metadata": {
    "collapsed": true
   },
   "outputs": [],
   "source": [
    "def asignarPT( p ):\n",
    "    if p == 'apartment':\n",
    "        return 0\n",
    "    if p == 'house':\n",
    "        return 1\n",
    "    if p == 'store':\n",
    "        return 2\n",
    "    return 3"
   ]
  },
  {
   "cell_type": "code",
   "execution_count": 10,
   "metadata": {
    "collapsed": true
   },
   "outputs": [],
   "source": [
    "p['property_type'] = p.apply(lambda x: asignarPT(x[0]), axis = 1)"
   ]
  },
  {
   "cell_type": "markdown",
   "metadata": {},
   "source": [
    "### Se le asigna un valor a los barrios segun el analisis de grupos hecho en el tp1"
   ]
  },
  {
   "cell_type": "code",
   "execution_count": 11,
   "metadata": {
    "collapsed": true
   },
   "outputs": [],
   "source": [
    "def asignarPV(name, dic):\n",
    "    return dic[name]   \n"
   ]
  },
  {
   "cell_type": "code",
   "execution_count": 12,
   "metadata": {
    "collapsed": true
   },
   "outputs": [],
   "source": [
    "hoodGroups = p[[\"place_name\", \"price_aprox_usd\"]]\n",
    "hoodGroups = hoodGroups.groupby(\"place_name\").agg([np.mean]).reset_index()\n",
    "hoodGroups = hoodGroups.sort_values(by=(\"price_aprox_usd\", \"mean\"), ascending=False)"
   ]
  },
  {
   "cell_type": "code",
   "execution_count": 13,
   "metadata": {
    "collapsed": true
   },
   "outputs": [],
   "source": [
    "HGdics = {}\n",
    "precio_ant = 0\n",
    "val_ant = 0\n",
    "for row in hoodGroups.iterrows():\n",
    "    name = row[1][0]\n",
    "    price = row[1][1]\n",
    "    val = val_ant + (precio_ant/price)*10\n",
    "    HGdics[name] = val\n",
    "    precio_ant = price\n",
    "    val_ant = val"
   ]
  },
  {
   "cell_type": "code",
   "execution_count": 14,
   "metadata": {
    "collapsed": true
   },
   "outputs": [],
   "source": [
    "p[\"place_value\"] = p.apply(lambda x: asignarPV(x[1], HGdics), axis=1)"
   ]
  },
  {
   "cell_type": "code",
   "execution_count": 15,
   "metadata": {
    "collapsed": true
   },
   "outputs": [],
   "source": [
    "p = p[['property_type','surface_total_in_m2',\\\n",
    "          'price_aprox_usd','lat','lon','Cant_ColeYUniv','Cant_LocalesGastronomicos',\n",
    "         'Cant_ParadasTransporte', 'place_value']]"
   ]
  },
  {
   "cell_type": "markdown",
   "metadata": {},
   "source": [
    "# Extra Trees Regresivo"
   ]
  },
  {
   "cell_type": "code",
   "execution_count": 16,
   "metadata": {
    "collapsed": true
   },
   "outputs": [],
   "source": [
    "#split del dataset para entrenamiento y pruebas, 80% y 20% respectivamente\n",
    "Xtrn, Xtest, Ytrn, Ytest = train_test_split(p[['property_type','surface_total_in_m2',\n",
    "        'lat','lon','Cant_ColeYUniv','Cant_LocalesGastronomicos','Cant_ParadasTransporte',\n",
    "        'place_value']],p[['price_aprox_usd']],test_size=0.2)"
   ]
  },
  {
   "cell_type": "code",
   "execution_count": 18,
   "metadata": {},
   "outputs": [
    {
     "name": "stdout",
     "output_type": "stream",
     "text": [
      "(('n', 10), ('RMSE_Price', 155582785852.51965))\n"
     ]
    }
   ],
   "source": [
    "model = ExtraTreesRegressor(n_estimators=10, max_features='auto', min_samples_leaf=1, min_samples_split=4, bootstrap=True)\n",
    "n = 10\n",
    "\n",
    "#fit model on training dataset\n",
    "model.fit(Xtrn, Ytrn['price_aprox_usd'])\n",
    "# predict prices for test dataset and calculate RMSE\n",
    "print( ('n', n), ('RMSE_Price', mean_squared_error(Ytest['price_aprox_usd'], model.predict(Xtest))) )\n"
   ]
  },
  {
   "cell_type": "markdown",
   "metadata": {},
   "source": [
    "## GridSearch para busqueda de los mejores parametros"
   ]
  },
  {
   "cell_type": "code",
   "execution_count": 19,
   "metadata": {
    "collapsed": true
   },
   "outputs": [],
   "source": [
    "from sklearn.model_selection import GridSearchCV\n",
    "from sklearn.metrics import make_scorer"
   ]
  },
  {
   "cell_type": "code",
   "execution_count": 20,
   "metadata": {
    "collapsed": true
   },
   "outputs": [],
   "source": [
    "def Grid_Search_ET(Xtrn, Ytrn):\n",
    "    estimator = ExtraTreesRegressor(criterion='mse')\n",
    "\n",
    "    param_grid = { \n",
    "            \"n_estimators\"      : [100,500,1000],\n",
    "            \"max_features\"      : [\"auto\"],\n",
    "            \"min_samples_split\" : [2,3,4,5,6,7,8,9,10] ,\n",
    "            \"min_samples_leaf\" : [1,2,3,4,5,6,7,8,9,10] ,\n",
    "            \"max_leaf_nodes\" : [4,5,6,7,8],\n",
    "            \"bootstrap\": [True]\n",
    "            #\"oob_score\" : [True, False],\n",
    "            }\n",
    "\n",
    "    grid = GridSearchCV(estimator, param_grid, n_jobs=-1, cv=5)\n",
    "\n",
    "    grid.fit(Xtrn, Ytrn)\n",
    "\n",
    "    return grid.best_score_ , grid.best_params_"
   ]
  },
  {
   "cell_type": "code",
   "execution_count": 21,
   "metadata": {},
   "outputs": [
    {
     "name": "stdout",
     "output_type": "stream",
     "text": [
      "0\n",
      "1\n",
      "2\n",
      "3\n",
      "4\n",
      "5\n",
      "6\n",
      "7\n",
      "8\n",
      "9\n",
      "10\n",
      "11\n",
      "12\n",
      "13\n",
      "14\n",
      "15\n",
      "16\n",
      "17\n"
     ]
    },
    {
     "ename": "KeyboardInterrupt",
     "evalue": "",
     "output_type": "error",
     "traceback": [
      "\u001b[0;31m---------------------------------------------------------------------------\u001b[0m",
      "\u001b[0;31mKeyboardInterrupt\u001b[0m                         Traceback (most recent call last)",
      "\u001b[0;32m<ipython-input-21-92a638ad8ec4>\u001b[0m in \u001b[0;36m<module>\u001b[0;34m()\u001b[0m\n\u001b[1;32m      8\u001b[0m \u001b[0;34m\u001b[0m\u001b[0m\n\u001b[1;32m      9\u001b[0m     \u001b[0;31m#grid search\u001b[0m\u001b[0;34m\u001b[0m\u001b[0;34m\u001b[0m\u001b[0m\n\u001b[0;32m---> 10\u001b[0;31m     \u001b[0mbest_score\u001b[0m\u001b[0;34m,\u001b[0m \u001b[0mbest_params\u001b[0m \u001b[0;34m=\u001b[0m \u001b[0mGrid_Search_ET\u001b[0m\u001b[0;34m(\u001b[0m\u001b[0mXtrn\u001b[0m\u001b[0;34m,\u001b[0m \u001b[0mYtrn\u001b[0m\u001b[0;34m[\u001b[0m\u001b[0;34m'price_aprox_usd'\u001b[0m\u001b[0;34m]\u001b[0m\u001b[0;34m)\u001b[0m\u001b[0;34m\u001b[0m\u001b[0m\n\u001b[0m\u001b[1;32m     11\u001b[0m \u001b[0;34m\u001b[0m\u001b[0m\n\u001b[1;32m     12\u001b[0m     \u001b[0;31m#prueba de los mejores resultados\u001b[0m\u001b[0;34m\u001b[0m\u001b[0;34m\u001b[0m\u001b[0m\n",
      "\u001b[0;32m<ipython-input-20-d62ff18bbb2f>\u001b[0m in \u001b[0;36mGrid_Search_ET\u001b[0;34m(Xtrn, Ytrn)\u001b[0m\n\u001b[1;32m     14\u001b[0m     \u001b[0mgrid\u001b[0m \u001b[0;34m=\u001b[0m \u001b[0mGridSearchCV\u001b[0m\u001b[0;34m(\u001b[0m\u001b[0mestimator\u001b[0m\u001b[0;34m,\u001b[0m \u001b[0mparam_grid\u001b[0m\u001b[0;34m,\u001b[0m \u001b[0mn_jobs\u001b[0m\u001b[0;34m=\u001b[0m\u001b[0;34m-\u001b[0m\u001b[0;36m1\u001b[0m\u001b[0;34m,\u001b[0m \u001b[0mcv\u001b[0m\u001b[0;34m=\u001b[0m\u001b[0;36m5\u001b[0m\u001b[0;34m)\u001b[0m\u001b[0;34m\u001b[0m\u001b[0m\n\u001b[1;32m     15\u001b[0m \u001b[0;34m\u001b[0m\u001b[0m\n\u001b[0;32m---> 16\u001b[0;31m     \u001b[0mgrid\u001b[0m\u001b[0;34m.\u001b[0m\u001b[0mfit\u001b[0m\u001b[0;34m(\u001b[0m\u001b[0mXtrn\u001b[0m\u001b[0;34m,\u001b[0m \u001b[0mYtrn\u001b[0m\u001b[0;34m)\u001b[0m\u001b[0;34m\u001b[0m\u001b[0m\n\u001b[0m\u001b[1;32m     17\u001b[0m \u001b[0;34m\u001b[0m\u001b[0m\n\u001b[1;32m     18\u001b[0m     \u001b[0;32mreturn\u001b[0m \u001b[0mgrid\u001b[0m\u001b[0;34m.\u001b[0m\u001b[0mbest_score_\u001b[0m \u001b[0;34m,\u001b[0m \u001b[0mgrid\u001b[0m\u001b[0;34m.\u001b[0m\u001b[0mbest_params_\u001b[0m\u001b[0;34m\u001b[0m\u001b[0m\n",
      "\u001b[0;32m/usr/local/lib/python2.7/dist-packages/sklearn/model_selection/_search.pyc\u001b[0m in \u001b[0;36mfit\u001b[0;34m(self, X, y, groups, **fit_params)\u001b[0m\n\u001b[1;32m    637\u001b[0m                                   error_score=self.error_score)\n\u001b[1;32m    638\u001b[0m           for parameters, (train, test) in product(candidate_params,\n\u001b[0;32m--> 639\u001b[0;31m                                                    cv.split(X, y, groups)))\n\u001b[0m\u001b[1;32m    640\u001b[0m \u001b[0;34m\u001b[0m\u001b[0m\n\u001b[1;32m    641\u001b[0m         \u001b[0;31m# if one choose to see train score, \"out\" will contain train score info\u001b[0m\u001b[0;34m\u001b[0m\u001b[0;34m\u001b[0m\u001b[0m\n",
      "\u001b[0;32m/usr/local/lib/python2.7/dist-packages/sklearn/externals/joblib/parallel.pyc\u001b[0m in \u001b[0;36m__call__\u001b[0;34m(self, iterable)\u001b[0m\n\u001b[1;32m    787\u001b[0m                 \u001b[0;31m# consumption.\u001b[0m\u001b[0;34m\u001b[0m\u001b[0;34m\u001b[0m\u001b[0m\n\u001b[1;32m    788\u001b[0m                 \u001b[0mself\u001b[0m\u001b[0;34m.\u001b[0m\u001b[0m_iterating\u001b[0m \u001b[0;34m=\u001b[0m \u001b[0mFalse\u001b[0m\u001b[0;34m\u001b[0m\u001b[0m\n\u001b[0;32m--> 789\u001b[0;31m             \u001b[0mself\u001b[0m\u001b[0;34m.\u001b[0m\u001b[0mretrieve\u001b[0m\u001b[0;34m(\u001b[0m\u001b[0;34m)\u001b[0m\u001b[0;34m\u001b[0m\u001b[0m\n\u001b[0m\u001b[1;32m    790\u001b[0m             \u001b[0;31m# Make sure that we get a last message telling us we are done\u001b[0m\u001b[0;34m\u001b[0m\u001b[0;34m\u001b[0m\u001b[0m\n\u001b[1;32m    791\u001b[0m             \u001b[0melapsed_time\u001b[0m \u001b[0;34m=\u001b[0m \u001b[0mtime\u001b[0m\u001b[0;34m.\u001b[0m\u001b[0mtime\u001b[0m\u001b[0;34m(\u001b[0m\u001b[0;34m)\u001b[0m \u001b[0;34m-\u001b[0m \u001b[0mself\u001b[0m\u001b[0;34m.\u001b[0m\u001b[0m_start_time\u001b[0m\u001b[0;34m\u001b[0m\u001b[0m\n",
      "\u001b[0;32m/usr/local/lib/python2.7/dist-packages/sklearn/externals/joblib/parallel.pyc\u001b[0m in \u001b[0;36mretrieve\u001b[0;34m(self)\u001b[0m\n\u001b[1;32m    697\u001b[0m             \u001b[0;32mtry\u001b[0m\u001b[0;34m:\u001b[0m\u001b[0;34m\u001b[0m\u001b[0m\n\u001b[1;32m    698\u001b[0m                 \u001b[0;32mif\u001b[0m \u001b[0mgetattr\u001b[0m\u001b[0;34m(\u001b[0m\u001b[0mself\u001b[0m\u001b[0;34m.\u001b[0m\u001b[0m_backend\u001b[0m\u001b[0;34m,\u001b[0m \u001b[0;34m'supports_timeout'\u001b[0m\u001b[0;34m,\u001b[0m \u001b[0mFalse\u001b[0m\u001b[0;34m)\u001b[0m\u001b[0;34m:\u001b[0m\u001b[0;34m\u001b[0m\u001b[0m\n\u001b[0;32m--> 699\u001b[0;31m                     \u001b[0mself\u001b[0m\u001b[0;34m.\u001b[0m\u001b[0m_output\u001b[0m\u001b[0;34m.\u001b[0m\u001b[0mextend\u001b[0m\u001b[0;34m(\u001b[0m\u001b[0mjob\u001b[0m\u001b[0;34m.\u001b[0m\u001b[0mget\u001b[0m\u001b[0;34m(\u001b[0m\u001b[0mtimeout\u001b[0m\u001b[0;34m=\u001b[0m\u001b[0mself\u001b[0m\u001b[0;34m.\u001b[0m\u001b[0mtimeout\u001b[0m\u001b[0;34m)\u001b[0m\u001b[0;34m)\u001b[0m\u001b[0;34m\u001b[0m\u001b[0m\n\u001b[0m\u001b[1;32m    700\u001b[0m                 \u001b[0;32melse\u001b[0m\u001b[0;34m:\u001b[0m\u001b[0;34m\u001b[0m\u001b[0m\n\u001b[1;32m    701\u001b[0m                     \u001b[0mself\u001b[0m\u001b[0;34m.\u001b[0m\u001b[0m_output\u001b[0m\u001b[0;34m.\u001b[0m\u001b[0mextend\u001b[0m\u001b[0;34m(\u001b[0m\u001b[0mjob\u001b[0m\u001b[0;34m.\u001b[0m\u001b[0mget\u001b[0m\u001b[0;34m(\u001b[0m\u001b[0;34m)\u001b[0m\u001b[0;34m)\u001b[0m\u001b[0;34m\u001b[0m\u001b[0m\n",
      "\u001b[0;32m/usr/lib/python2.7/multiprocessing/pool.pyc\u001b[0m in \u001b[0;36mget\u001b[0;34m(self, timeout)\u001b[0m\n\u001b[1;32m    564\u001b[0m \u001b[0;34m\u001b[0m\u001b[0m\n\u001b[1;32m    565\u001b[0m     \u001b[0;32mdef\u001b[0m \u001b[0mget\u001b[0m\u001b[0;34m(\u001b[0m\u001b[0mself\u001b[0m\u001b[0;34m,\u001b[0m \u001b[0mtimeout\u001b[0m\u001b[0;34m=\u001b[0m\u001b[0mNone\u001b[0m\u001b[0;34m)\u001b[0m\u001b[0;34m:\u001b[0m\u001b[0;34m\u001b[0m\u001b[0m\n\u001b[0;32m--> 566\u001b[0;31m         \u001b[0mself\u001b[0m\u001b[0;34m.\u001b[0m\u001b[0mwait\u001b[0m\u001b[0;34m(\u001b[0m\u001b[0mtimeout\u001b[0m\u001b[0;34m)\u001b[0m\u001b[0;34m\u001b[0m\u001b[0m\n\u001b[0m\u001b[1;32m    567\u001b[0m         \u001b[0;32mif\u001b[0m \u001b[0;32mnot\u001b[0m \u001b[0mself\u001b[0m\u001b[0;34m.\u001b[0m\u001b[0m_ready\u001b[0m\u001b[0;34m:\u001b[0m\u001b[0;34m\u001b[0m\u001b[0m\n\u001b[1;32m    568\u001b[0m             \u001b[0;32mraise\u001b[0m \u001b[0mTimeoutError\u001b[0m\u001b[0;34m\u001b[0m\u001b[0m\n",
      "\u001b[0;32m/usr/lib/python2.7/multiprocessing/pool.pyc\u001b[0m in \u001b[0;36mwait\u001b[0;34m(self, timeout)\u001b[0m\n\u001b[1;32m    559\u001b[0m         \u001b[0;32mtry\u001b[0m\u001b[0;34m:\u001b[0m\u001b[0;34m\u001b[0m\u001b[0m\n\u001b[1;32m    560\u001b[0m             \u001b[0;32mif\u001b[0m \u001b[0;32mnot\u001b[0m \u001b[0mself\u001b[0m\u001b[0;34m.\u001b[0m\u001b[0m_ready\u001b[0m\u001b[0;34m:\u001b[0m\u001b[0;34m\u001b[0m\u001b[0m\n\u001b[0;32m--> 561\u001b[0;31m                 \u001b[0mself\u001b[0m\u001b[0;34m.\u001b[0m\u001b[0m_cond\u001b[0m\u001b[0;34m.\u001b[0m\u001b[0mwait\u001b[0m\u001b[0;34m(\u001b[0m\u001b[0mtimeout\u001b[0m\u001b[0;34m)\u001b[0m\u001b[0;34m\u001b[0m\u001b[0m\n\u001b[0m\u001b[1;32m    562\u001b[0m         \u001b[0;32mfinally\u001b[0m\u001b[0;34m:\u001b[0m\u001b[0;34m\u001b[0m\u001b[0m\n\u001b[1;32m    563\u001b[0m             \u001b[0mself\u001b[0m\u001b[0;34m.\u001b[0m\u001b[0m_cond\u001b[0m\u001b[0;34m.\u001b[0m\u001b[0mrelease\u001b[0m\u001b[0;34m(\u001b[0m\u001b[0;34m)\u001b[0m\u001b[0;34m\u001b[0m\u001b[0m\n",
      "\u001b[0;32m/usr/lib/python2.7/threading.pyc\u001b[0m in \u001b[0;36mwait\u001b[0;34m(self, timeout)\u001b[0m\n\u001b[1;32m    338\u001b[0m         \u001b[0;32mtry\u001b[0m\u001b[0;34m:\u001b[0m    \u001b[0;31m# restore state no matter what (e.g., KeyboardInterrupt)\u001b[0m\u001b[0;34m\u001b[0m\u001b[0m\n\u001b[1;32m    339\u001b[0m             \u001b[0;32mif\u001b[0m \u001b[0mtimeout\u001b[0m \u001b[0;32mis\u001b[0m \u001b[0mNone\u001b[0m\u001b[0;34m:\u001b[0m\u001b[0;34m\u001b[0m\u001b[0m\n\u001b[0;32m--> 340\u001b[0;31m                 \u001b[0mwaiter\u001b[0m\u001b[0;34m.\u001b[0m\u001b[0macquire\u001b[0m\u001b[0;34m(\u001b[0m\u001b[0;34m)\u001b[0m\u001b[0;34m\u001b[0m\u001b[0m\n\u001b[0m\u001b[1;32m    341\u001b[0m                 \u001b[0;32mif\u001b[0m \u001b[0m__debug__\u001b[0m\u001b[0;34m:\u001b[0m\u001b[0;34m\u001b[0m\u001b[0m\n\u001b[1;32m    342\u001b[0m                     \u001b[0mself\u001b[0m\u001b[0;34m.\u001b[0m\u001b[0m_note\u001b[0m\u001b[0;34m(\u001b[0m\u001b[0;34m\"%s.wait(): got it\"\u001b[0m\u001b[0;34m,\u001b[0m \u001b[0mself\u001b[0m\u001b[0;34m)\u001b[0m\u001b[0;34m\u001b[0m\u001b[0m\n",
      "\u001b[0;31mKeyboardInterrupt\u001b[0m: "
     ]
    }
   ],
   "source": [
    "res = []\n",
    "for i in range(20):\n",
    "    \n",
    "    #cross validation\n",
    "    Xtrn, Xtest, Ytrn, Ytest = train_test_split(p[['property_type','surface_total_in_m2',\n",
    "        'lat','lon','Cant_ColeYUniv','Cant_LocalesGastronomicos','Cant_ParadasTransporte',\n",
    "        'place_value']],p[['price_aprox_usd']],test_size=0.2)\n",
    "    \n",
    "    #grid search\n",
    "    best_score, best_params = Grid_Search_ET(Xtrn, Ytrn['price_aprox_usd'])\n",
    "    \n",
    "    #prueba de los mejores resultados\n",
    "    estimator =  ExtraTreesRegressor(n_jobs=-1).set_params(**best_params)\n",
    "    estimator.fit(Xtrn,Ytrn['price_aprox_usd'])\n",
    "    \n",
    "    #prediccion \n",
    "    pred = mean_squared_error(Ytest['price_aprox_usd'], estimator.predict(Xtest))\n",
    "    \n",
    "    res.append((pred, best_score, best_params))\n",
    "    print i"
   ]
  },
  {
   "cell_type": "code",
   "execution_count": 22,
   "metadata": {},
   "outputs": [
    {
     "data": {
      "text/plain": [
       "[(198587660375.29163,\n",
       "  0.44492228802802919,\n",
       "  {'bootstrap': True,\n",
       "   'max_features': 'auto',\n",
       "   'max_leaf_nodes': 8,\n",
       "   'min_samples_leaf': 1,\n",
       "   'min_samples_split': 6,\n",
       "   'n_estimators': 500}),\n",
       " (209017815925.92642,\n",
       "  0.44711916028456516,\n",
       "  {'bootstrap': True,\n",
       "   'max_features': 'auto',\n",
       "   'max_leaf_nodes': 8,\n",
       "   'min_samples_leaf': 5,\n",
       "   'min_samples_split': 6,\n",
       "   'n_estimators': 500}),\n",
       " (211801364549.93661,\n",
       "  0.44439495099238291,\n",
       "  {'bootstrap': True,\n",
       "   'max_features': 'auto',\n",
       "   'max_leaf_nodes': 8,\n",
       "   'min_samples_leaf': 2,\n",
       "   'min_samples_split': 10,\n",
       "   'n_estimators': 100}),\n",
       " (60752997465.638199,\n",
       "  0.38738255743010191,\n",
       "  {'bootstrap': True,\n",
       "   'max_features': 'auto',\n",
       "   'max_leaf_nodes': 8,\n",
       "   'min_samples_leaf': 1,\n",
       "   'min_samples_split': 2,\n",
       "   'n_estimators': 100}),\n",
       " (77207348087.752319,\n",
       "  0.40858887383040338,\n",
       "  {'bootstrap': True,\n",
       "   'max_features': 'auto',\n",
       "   'max_leaf_nodes': 8,\n",
       "   'min_samples_leaf': 1,\n",
       "   'min_samples_split': 5,\n",
       "   'n_estimators': 100}),\n",
       " (57688593293.814423,\n",
       "  0.3916076982739421,\n",
       "  {'bootstrap': True,\n",
       "   'max_features': 'auto',\n",
       "   'max_leaf_nodes': 8,\n",
       "   'min_samples_leaf': 1,\n",
       "   'min_samples_split': 6,\n",
       "   'n_estimators': 500}),\n",
       " (203760484204.8468,\n",
       "  0.44489004160485246,\n",
       "  {'bootstrap': True,\n",
       "   'max_features': 'auto',\n",
       "   'max_leaf_nodes': 8,\n",
       "   'min_samples_leaf': 7,\n",
       "   'min_samples_split': 5,\n",
       "   'n_estimators': 100}),\n",
       " (206211801630.32291,\n",
       "  0.43017532776790246,\n",
       "  {'bootstrap': True,\n",
       "   'max_features': 'auto',\n",
       "   'max_leaf_nodes': 8,\n",
       "   'min_samples_leaf': 10,\n",
       "   'min_samples_split': 4,\n",
       "   'n_estimators': 100}),\n",
       " (76749413309.158585,\n",
       "  0.39065131358749239,\n",
       "  {'bootstrap': True,\n",
       "   'max_features': 'auto',\n",
       "   'max_leaf_nodes': 8,\n",
       "   'min_samples_leaf': 1,\n",
       "   'min_samples_split': 7,\n",
       "   'n_estimators': 1000}),\n",
       " (63840079293.505692,\n",
       "  0.41340188245418302,\n",
       "  {'bootstrap': True,\n",
       "   'max_features': 'auto',\n",
       "   'max_leaf_nodes': 8,\n",
       "   'min_samples_leaf': 1,\n",
       "   'min_samples_split': 10,\n",
       "   'n_estimators': 500}),\n",
       " (200182538029.28839,\n",
       "  0.43909907690413835,\n",
       "  {'bootstrap': True,\n",
       "   'max_features': 'auto',\n",
       "   'max_leaf_nodes': 8,\n",
       "   'min_samples_leaf': 6,\n",
       "   'min_samples_split': 2,\n",
       "   'n_estimators': 100}),\n",
       " (75633472233.795364,\n",
       "  0.374726014104724,\n",
       "  {'bootstrap': True,\n",
       "   'max_features': 'auto',\n",
       "   'max_leaf_nodes': 8,\n",
       "   'min_samples_leaf': 1,\n",
       "   'min_samples_split': 3,\n",
       "   'n_estimators': 100}),\n",
       " (66699721578.190338,\n",
       "  0.38017364680562943,\n",
       "  {'bootstrap': True,\n",
       "   'max_features': 'auto',\n",
       "   'max_leaf_nodes': 8,\n",
       "   'min_samples_leaf': 1,\n",
       "   'min_samples_split': 10,\n",
       "   'n_estimators': 1000}),\n",
       " (69514900954.664459,\n",
       "  0.40026618271494141,\n",
       "  {'bootstrap': True,\n",
       "   'max_features': 'auto',\n",
       "   'max_leaf_nodes': 8,\n",
       "   'min_samples_leaf': 1,\n",
       "   'min_samples_split': 9,\n",
       "   'n_estimators': 100}),\n",
       " (57171033397.240219,\n",
       "  0.39206957426778044,\n",
       "  {'bootstrap': True,\n",
       "   'max_features': 'auto',\n",
       "   'max_leaf_nodes': 8,\n",
       "   'min_samples_leaf': 1,\n",
       "   'min_samples_split': 2,\n",
       "   'n_estimators': 100}),\n",
       " (70002335507.370453,\n",
       "  0.39038149228249447,\n",
       "  {'bootstrap': True,\n",
       "   'max_features': 'auto',\n",
       "   'max_leaf_nodes': 8,\n",
       "   'min_samples_leaf': 1,\n",
       "   'min_samples_split': 8,\n",
       "   'n_estimators': 100}),\n",
       " (65279873248.450249,\n",
       "  0.38986710994286933,\n",
       "  {'bootstrap': True,\n",
       "   'max_features': 'auto',\n",
       "   'max_leaf_nodes': 8,\n",
       "   'min_samples_leaf': 1,\n",
       "   'min_samples_split': 10,\n",
       "   'n_estimators': 1000}),\n",
       " (66487947771.142212,\n",
       "  0.39650820977736467,\n",
       "  {'bootstrap': True,\n",
       "   'max_features': 'auto',\n",
       "   'max_leaf_nodes': 8,\n",
       "   'min_samples_leaf': 1,\n",
       "   'min_samples_split': 7,\n",
       "   'n_estimators': 100})]"
      ]
     },
     "execution_count": 22,
     "metadata": {},
     "output_type": "execute_result"
    }
   ],
   "source": [
    "res"
   ]
  },
  {
   "cell_type": "code",
   "execution_count": 23,
   "metadata": {
    "collapsed": true
   },
   "outputs": [],
   "source": [
    "r =sorted(res, key=lambda x: x[0])"
   ]
  },
  {
   "cell_type": "code",
   "execution_count": 24,
   "metadata": {},
   "outputs": [
    {
     "data": {
      "text/plain": [
       "[(57171033397.240219,\n",
       "  0.39206957426778044,\n",
       "  {'bootstrap': True,\n",
       "   'max_features': 'auto',\n",
       "   'max_leaf_nodes': 8,\n",
       "   'min_samples_leaf': 1,\n",
       "   'min_samples_split': 2,\n",
       "   'n_estimators': 100}),\n",
       " (57688593293.814423,\n",
       "  0.3916076982739421,\n",
       "  {'bootstrap': True,\n",
       "   'max_features': 'auto',\n",
       "   'max_leaf_nodes': 8,\n",
       "   'min_samples_leaf': 1,\n",
       "   'min_samples_split': 6,\n",
       "   'n_estimators': 500}),\n",
       " (60752997465.638199,\n",
       "  0.38738255743010191,\n",
       "  {'bootstrap': True,\n",
       "   'max_features': 'auto',\n",
       "   'max_leaf_nodes': 8,\n",
       "   'min_samples_leaf': 1,\n",
       "   'min_samples_split': 2,\n",
       "   'n_estimators': 100}),\n",
       " (63840079293.505692,\n",
       "  0.41340188245418302,\n",
       "  {'bootstrap': True,\n",
       "   'max_features': 'auto',\n",
       "   'max_leaf_nodes': 8,\n",
       "   'min_samples_leaf': 1,\n",
       "   'min_samples_split': 10,\n",
       "   'n_estimators': 500}),\n",
       " (65279873248.450249,\n",
       "  0.38986710994286933,\n",
       "  {'bootstrap': True,\n",
       "   'max_features': 'auto',\n",
       "   'max_leaf_nodes': 8,\n",
       "   'min_samples_leaf': 1,\n",
       "   'min_samples_split': 10,\n",
       "   'n_estimators': 1000}),\n",
       " (66487947771.142212,\n",
       "  0.39650820977736467,\n",
       "  {'bootstrap': True,\n",
       "   'max_features': 'auto',\n",
       "   'max_leaf_nodes': 8,\n",
       "   'min_samples_leaf': 1,\n",
       "   'min_samples_split': 7,\n",
       "   'n_estimators': 100}),\n",
       " (66699721578.190338,\n",
       "  0.38017364680562943,\n",
       "  {'bootstrap': True,\n",
       "   'max_features': 'auto',\n",
       "   'max_leaf_nodes': 8,\n",
       "   'min_samples_leaf': 1,\n",
       "   'min_samples_split': 10,\n",
       "   'n_estimators': 1000}),\n",
       " (69514900954.664459,\n",
       "  0.40026618271494141,\n",
       "  {'bootstrap': True,\n",
       "   'max_features': 'auto',\n",
       "   'max_leaf_nodes': 8,\n",
       "   'min_samples_leaf': 1,\n",
       "   'min_samples_split': 9,\n",
       "   'n_estimators': 100}),\n",
       " (70002335507.370453,\n",
       "  0.39038149228249447,\n",
       "  {'bootstrap': True,\n",
       "   'max_features': 'auto',\n",
       "   'max_leaf_nodes': 8,\n",
       "   'min_samples_leaf': 1,\n",
       "   'min_samples_split': 8,\n",
       "   'n_estimators': 100}),\n",
       " (75633472233.795364,\n",
       "  0.374726014104724,\n",
       "  {'bootstrap': True,\n",
       "   'max_features': 'auto',\n",
       "   'max_leaf_nodes': 8,\n",
       "   'min_samples_leaf': 1,\n",
       "   'min_samples_split': 3,\n",
       "   'n_estimators': 100}),\n",
       " (76749413309.158585,\n",
       "  0.39065131358749239,\n",
       "  {'bootstrap': True,\n",
       "   'max_features': 'auto',\n",
       "   'max_leaf_nodes': 8,\n",
       "   'min_samples_leaf': 1,\n",
       "   'min_samples_split': 7,\n",
       "   'n_estimators': 1000}),\n",
       " (77207348087.752319,\n",
       "  0.40858887383040338,\n",
       "  {'bootstrap': True,\n",
       "   'max_features': 'auto',\n",
       "   'max_leaf_nodes': 8,\n",
       "   'min_samples_leaf': 1,\n",
       "   'min_samples_split': 5,\n",
       "   'n_estimators': 100}),\n",
       " (198587660375.29163,\n",
       "  0.44492228802802919,\n",
       "  {'bootstrap': True,\n",
       "   'max_features': 'auto',\n",
       "   'max_leaf_nodes': 8,\n",
       "   'min_samples_leaf': 1,\n",
       "   'min_samples_split': 6,\n",
       "   'n_estimators': 500}),\n",
       " (200182538029.28839,\n",
       "  0.43909907690413835,\n",
       "  {'bootstrap': True,\n",
       "   'max_features': 'auto',\n",
       "   'max_leaf_nodes': 8,\n",
       "   'min_samples_leaf': 6,\n",
       "   'min_samples_split': 2,\n",
       "   'n_estimators': 100}),\n",
       " (203760484204.8468,\n",
       "  0.44489004160485246,\n",
       "  {'bootstrap': True,\n",
       "   'max_features': 'auto',\n",
       "   'max_leaf_nodes': 8,\n",
       "   'min_samples_leaf': 7,\n",
       "   'min_samples_split': 5,\n",
       "   'n_estimators': 100}),\n",
       " (206211801630.32291,\n",
       "  0.43017532776790246,\n",
       "  {'bootstrap': True,\n",
       "   'max_features': 'auto',\n",
       "   'max_leaf_nodes': 8,\n",
       "   'min_samples_leaf': 10,\n",
       "   'min_samples_split': 4,\n",
       "   'n_estimators': 100}),\n",
       " (209017815925.92642,\n",
       "  0.44711916028456516,\n",
       "  {'bootstrap': True,\n",
       "   'max_features': 'auto',\n",
       "   'max_leaf_nodes': 8,\n",
       "   'min_samples_leaf': 5,\n",
       "   'min_samples_split': 6,\n",
       "   'n_estimators': 500}),\n",
       " (211801364549.93661,\n",
       "  0.44439495099238291,\n",
       "  {'bootstrap': True,\n",
       "   'max_features': 'auto',\n",
       "   'max_leaf_nodes': 8,\n",
       "   'min_samples_leaf': 2,\n",
       "   'min_samples_split': 10,\n",
       "   'n_estimators': 100})]"
      ]
     },
     "execution_count": 24,
     "metadata": {},
     "output_type": "execute_result"
    }
   ],
   "source": [
    "r"
   ]
  }
 ],
 "metadata": {
  "kernelspec": {
   "display_name": "Python 2",
   "language": "python",
   "name": "python2"
  },
  "language_info": {
   "codemirror_mode": {
    "name": "ipython",
    "version": 2
   },
   "file_extension": ".py",
   "mimetype": "text/x-python",
   "name": "python",
   "nbconvert_exporter": "python",
   "pygments_lexer": "ipython2",
   "version": "2.7.14"
  }
 },
 "nbformat": 4,
 "nbformat_minor": 2
}
